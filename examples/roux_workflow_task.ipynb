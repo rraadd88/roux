{
 "cells": [
  {
   "cell_type": "markdown",
   "id": "6feb5a0c-9045-4c97-83c6-6e221a5c0813",
   "metadata": {},
   "source": [
    "---\n",
    "\n",
    "<!-- <a href=\"https://github.com/rraadd88/roux/blob/master/examples/roux_workflow_task.ipynb\"><img align=\"right\" style=\"float:right;\" src=\"https://img.shields.io/badge/-source-cccccc?style=flat-square\"></a>\n",
    " -->\n",
    " \n",
    "## ⚙️⏩ Running multiple tasks."
   ]
  },
  {
   "cell_type": "code",
   "execution_count": 1,
   "id": "754a4917-c225-466f-a6c3-f13da04335a3",
   "metadata": {},
   "outputs": [],
   "source": [
    "# install extra requirements\n",
    "# !pip install roux[workflow]"
   ]
  },
  {
   "cell_type": "code",
   "execution_count": 2,
   "id": "ec28bb22-3c14-4fac-95bf-69335c8c32be",
   "metadata": {},
   "outputs": [],
   "source": [
    "## params\n",
    "kernel='roux'\n",
    "cpus=2\n",
    "force=True"
   ]
  },
  {
   "cell_type": "code",
   "execution_count": 32,
   "id": "2975b5c2-55ed-4139-b7b4-dd7d8bd06546",
   "metadata": {},
   "outputs": [
    {
     "data": {
      "application/vnd.jupyter.widget-view+json": {
       "model_id": "25f8d686115141b398d0673b45c6618d",
       "version_major": 2,
       "version_minor": 0
      },
      "text/plain": [
       "0it [00:00, ?it/s]"
      ]
     },
     "metadata": {},
     "output_type": "display_data"
    }
   ],
   "source": [
    "%run ../roux/workflow/task.py"
   ]
  },
  {
   "cell_type": "markdown",
   "id": "67fe1875-695d-4d79-b1e2-537961a95076",
   "metadata": {
    "jp-MarkdownHeadingCollapsed": true
   },
   "source": [
    "## Inputs"
   ]
  },
  {
   "cell_type": "code",
   "execution_count": 4,
   "id": "011f496c-803f-476a-82e9-d018c7678121",
   "metadata": {},
   "outputs": [
    {
     "name": "stdout",
     "output_type": "stream",
     "text": [
      "script.ipynb  script_pms.py  script.py\tscript.sh\n"
     ]
    }
   ],
   "source": [
    "!ls tests/input/roux_workflow_task/"
   ]
  },
  {
   "cell_type": "code",
   "execution_count": 5,
   "id": "17410647-c080-4b07-a613-c111c1ca69e0",
   "metadata": {},
   "outputs": [],
   "source": [
    "script_types={\n",
    "    'sh':{\n",
    "        # 'pre':f'source ~/.bashrc;micromamba run -n {kernel} '\n",
    "        'pre':f'source ../.venv/bin/activate;uv run ',\n",
    "    },\n",
    "    'ipynb':{\n",
    "        'pre':'uv run ',\n",
    "    },\n",
    "    'py':{\n",
    "        'pre':'uv run ',\n",
    "    },\n",
    "    }"
   ]
  },
  {
   "cell_type": "code",
   "execution_count": 6,
   "id": "f92f42b9-7dca-4aa3-9927-2314c385e88f",
   "metadata": {},
   "outputs": [
    {
     "name": "stdout",
     "output_type": "stream",
     "text": [
      "## for testing\n",
      "import os\n",
      "os.chdir('/home/rdandage/Documents/work/roux/examples')\n",
      "\n",
      "## parameters\n",
      "input_path=\"0\"\n",
      "output_path=\"tests/outputs/py0.txt\"\n"
     ]
    }
   ],
   "source": [
    "from roux.workflow.log import test_params\n",
    "for k in script_types:\n",
    "    script_types[k]['params']=[\n",
    "        dict(\n",
    "            input_path=str(i),\n",
    "            output_path=f'tests/outputs/{k}{i}.txt'\n",
    "        )\n",
    "        for i in range(cpus)\n",
    "        ]\n",
    "test_params(script_types[k]['params'])"
   ]
  },
  {
   "cell_type": "markdown",
   "id": "7c4f29eb-ec39-4baf-bd57-31ea49b4146b",
   "metadata": {
    "jp-MarkdownHeadingCollapsed": true
   },
   "source": [
    "### Pre. of the params"
   ]
  },
  {
   "cell_type": "code",
   "execution_count": 7,
   "id": "2f1a49cb-f64f-4719-868a-6ef13a8fef9f",
   "metadata": {},
   "outputs": [],
   "source": [
    "params=script_types[k]['params']"
   ]
  },
  {
   "cell_type": "code",
   "execution_count": 8,
   "id": "6da8b5dd-5214-43ff-b278-04c24c05eb27",
   "metadata": {},
   "outputs": [
    {
     "name": "stderr",
     "output_type": "stream",
     "text": [
      "\u001b[0mℹ️ Info: parameters_list_flt reduced because force=False: 1 -> 0\u001b[0m\n"
     ]
    },
    {
     "data": {
      "text/plain": [
       "{}"
      ]
     },
     "execution_count": 8,
     "metadata": {},
     "output_type": "execute_result"
    }
   ],
   "source": [
    "flt_params({'k':params[0]})"
   ]
  },
  {
   "cell_type": "code",
   "execution_count": 9,
   "id": "f24b1e9f-5b12-46c2-84cf-cefc42121f97",
   "metadata": {},
   "outputs": [
    {
     "name": "stderr",
     "output_type": "stream",
     "text": [
      "\u001b[0mℹ️ Info: parameters_list_flt reduced because force=False: 2 -> 0\u001b[0m\n"
     ]
    },
    {
     "data": {
      "text/plain": [
       "[]"
      ]
     },
     "execution_count": 9,
     "metadata": {},
     "output_type": "execute_result"
    }
   ],
   "source": [
    "flt_params(params)"
   ]
  },
  {
   "cell_type": "code",
   "execution_count": 10,
   "id": "a954f8d0-804a-4399-b5c4-8db815316c29",
   "metadata": {},
   "outputs": [
    {
     "name": "stderr",
     "output_type": "stream",
     "text": [
      "\u001b[0mℹ️ Info: parameters_list_flt reduced because force=False: 2 -> 0\u001b[0m\n"
     ]
    }
   ],
   "source": [
    "check_tasks(params)"
   ]
  },
  {
   "cell_type": "markdown",
   "id": "1925a79b-2098-46c5-9d78-3b6bd6fee6f5",
   "metadata": {},
   "source": [
    "## `run_tasks`"
   ]
  },
  {
   "cell_type": "code",
   "execution_count": 11,
   "id": "0c5401cc-f1de-4ed6-9aa7-0c7644f4b02e",
   "metadata": {},
   "outputs": [],
   "source": [
    "dfs={}"
   ]
  },
  {
   "cell_type": "markdown",
   "id": "fee3b9cc-f97b-4762-8f58-29afdad59d65",
   "metadata": {
    "jp-MarkdownHeadingCollapsed": true
   },
   "source": [
    "### `ipynb`"
   ]
  },
  {
   "cell_type": "code",
   "execution_count": 12,
   "id": "34e416a9-aa76-4b7d-8c4e-62b482b8b66f",
   "metadata": {},
   "outputs": [],
   "source": [
    "script_type='ipynb'\n",
    "params=script_types[script_type]['params']"
   ]
  },
  {
   "cell_type": "markdown",
   "id": "a19ab2aa-e160-43c2-a64c-5ff6e4e060a3",
   "metadata": {},
   "source": [
    "#### with `py`"
   ]
  },
  {
   "cell_type": "code",
   "execution_count": 13,
   "id": "3f1224ff-b2de-470c-ba34-7d8c8c802617",
   "metadata": {},
   "outputs": [
    {
     "name": "stderr",
     "output_type": "stream",
     "text": [
      "\u001b[0mℹ️ Info: running in parallel (cpus=2)..\u001b[0m\n"
     ]
    },
    {
     "data": {
      "application/vnd.jupyter.widget-view+json": {
       "model_id": "fa99942162cd4cfcb7c2e19473892936",
       "version_major": 2,
       "version_minor": 0
      },
      "text/plain": [
       "Executing:   0%|          | 0/6 [00:00<?, ?cell/s]"
      ]
     },
     "metadata": {},
     "output_type": "display_data"
    },
    {
     "data": {
      "application/vnd.jupyter.widget-view+json": {
       "model_id": "1762da564a194315b572776622ac4d2e",
       "version_major": 2,
       "version_minor": 0
      },
      "text/plain": [
       "Executing:   0%|          | 0/6 [00:00<?, ?cell/s]"
      ]
     },
     "metadata": {},
     "output_type": "display_data"
    },
    {
     "name": "stderr",
     "output_type": "stream",
     "text": [
      "\u001b[0mℹ️ Info: Time taken: 0:00:01.295403\u001b[0m\n"
     ]
    },
    {
     "data": {
      "text/html": [
       "<div>\n",
       "<style scoped>\n",
       "    .dataframe tbody tr th:only-of-type {\n",
       "        vertical-align: middle;\n",
       "    }\n",
       "\n",
       "    .dataframe tbody tr th {\n",
       "        vertical-align: top;\n",
       "    }\n",
       "\n",
       "    .dataframe thead th {\n",
       "        text-align: right;\n",
       "    }\n",
       "</style>\n",
       "<table border=\"1\" class=\"dataframe\">\n",
       "  <thead>\n",
       "    <tr style=\"text-align: right;\">\n",
       "      <th></th>\n",
       "      <th>input_path</th>\n",
       "      <th>output_path</th>\n",
       "    </tr>\n",
       "    <tr>\n",
       "      <th>nb path</th>\n",
       "      <th></th>\n",
       "      <th></th>\n",
       "    </tr>\n",
       "  </thead>\n",
       "  <tbody>\n",
       "    <tr>\n",
       "      <th>tests/outputs/ipynb0_reports/20250617T213109_script.ipynb</th>\n",
       "      <td>0</td>\n",
       "      <td>tests/outputs/ipynb0.txt</td>\n",
       "    </tr>\n",
       "    <tr>\n",
       "      <th>tests/outputs/ipynb1_reports/20250617T213109_script.ipynb</th>\n",
       "      <td>1</td>\n",
       "      <td>tests/outputs/ipynb1.txt</td>\n",
       "    </tr>\n",
       "  </tbody>\n",
       "</table>\n",
       "</div>"
      ],
      "text/plain": [
       "                                                   input_path  \\\n",
       "nb path                                                         \n",
       "tests/outputs/ipynb0_reports/20250617T213109_sc...          0   \n",
       "tests/outputs/ipynb1_reports/20250617T213109_sc...          1   \n",
       "\n",
       "                                                                 output_path  \n",
       "nb path                                                                       \n",
       "tests/outputs/ipynb0_reports/20250617T213109_sc...  tests/outputs/ipynb0.txt  \n",
       "tests/outputs/ipynb1_reports/20250617T213109_sc...  tests/outputs/ipynb1.txt  "
      ]
     },
     "execution_count": 13,
     "metadata": {},
     "output_type": "execute_result"
    }
   ],
   "source": [
    "dfs['ipynb']=run_tasks(\n",
    "    'tests/input/roux_workflow_task/script.ipynb',\n",
    "    params=params,\n",
    "    cpus=cpus,\n",
    "    kernel=kernel,\n",
    "\n",
    "    runner='py',\n",
    "    \n",
    "    force=force,\n",
    ")\n",
    "dfs['ipynb']"
   ]
  },
  {
   "cell_type": "markdown",
   "id": "1e4d79a1-d18d-4406-a010-3fe5baa1f0e7",
   "metadata": {},
   "source": [
    "#### with `bash`"
   ]
  },
  {
   "cell_type": "code",
   "execution_count": 14,
   "id": "8ccfab28-5437-44d2-a1b0-6a3884e00f12",
   "metadata": {},
   "outputs": [
    {
     "data": {
      "text/plain": [
       "[{'input_path': '0', 'output_path': 'tests/outputs/ipynb0_bash.txt'},\n",
       " {'input_path': '1', 'output_path': 'tests/outputs/ipynb1_bash.txt'}]"
      ]
     },
     "execution_count": 14,
     "metadata": {},
     "output_type": "execute_result"
    }
   ],
   "source": [
    "params=[{**pms,**{'output_path':Path(pms['output_path']).with_stem(Path(pms['output_path']).stem+'_bash').as_posix() }} for pms in params]\n",
    "params"
   ]
  },
  {
   "cell_type": "code",
   "execution_count": 15,
   "id": "a04d8acc-1206-4007-9daf-f501ba81609b",
   "metadata": {},
   "outputs": [
    {
     "name": "stderr",
     "output_type": "stream",
     "text": [
      "\u001b[94m💽 Loading: params from the input_path ..\u001b[0m\n",
      "\u001b[96m⚙️ Configuring: paths ..\u001b[0m\n",
      "\u001b[93m⏳⏳ Processing: on bash, 2 at a time ..\u001b[0m\n",
      "  0%|                                                                                | 0/2 [00:00<?, ?it/s]\u001b[38;5;208m⚠️ Warning: forcing setup (re-rewiting the sbatch scripts)..\u001b[0m\n",
      "\u001b[38;5;208m⚠️ Warning: forcing setup (re-rewiting the sbatch scripts)..\u001b[0m\n",
      "100%|███████████████████████████████████████████████████████████████████████| 2/2 [00:00<00:00, 283.98it/s]\n",
      "\u001b[94m🗂️ Saving: params_jobs_path=/home/rdandage/Documents/work/roux/examples/.roux//d867c194b529ead1e23d5e083dc794fdbbfb54d951e606912d13efa2282b9402.yaml\u001b[0m\n",
      "\u001b[92m✅ Done: processing.\u001b[0m\n"
     ]
    },
    {
     "data": {
      "text/html": [
       "<div>\n",
       "<style scoped>\n",
       "    .dataframe tbody tr th:only-of-type {\n",
       "        vertical-align: middle;\n",
       "    }\n",
       "\n",
       "    .dataframe tbody tr th {\n",
       "        vertical-align: top;\n",
       "    }\n",
       "\n",
       "    .dataframe thead th {\n",
       "        text-align: right;\n",
       "    }\n",
       "</style>\n",
       "<table border=\"1\" class=\"dataframe\">\n",
       "  <thead>\n",
       "    <tr style=\"text-align: right;\">\n",
       "      <th></th>\n",
       "      <th>input_path</th>\n",
       "      <th>output_path</th>\n",
       "    </tr>\n",
       "  </thead>\n",
       "  <tbody>\n",
       "    <tr>\n",
       "      <th>/home/rdandage/Documents/work/roux/examples/.roux//a1dc163f76e6563ce70eb26b66f69ea79e849d5c02977266b50479729cde4377.sh</th>\n",
       "      <td>0</td>\n",
       "      <td>tests/outputs/ipynb0_bash.txt</td>\n",
       "    </tr>\n",
       "    <tr>\n",
       "      <th>/home/rdandage/Documents/work/roux/examples/.roux//9b3284d96678da3f6689dc85682f00b93101db68a8eef29e93a0e9005f3b8967.sh</th>\n",
       "      <td>1</td>\n",
       "      <td>tests/outputs/ipynb1_bash.txt</td>\n",
       "    </tr>\n",
       "  </tbody>\n",
       "</table>\n",
       "</div>"
      ],
      "text/plain": [
       "                                                   input_path  \\\n",
       "/home/rdandage/Documents/work/roux/examples/.ro...          0   \n",
       "/home/rdandage/Documents/work/roux/examples/.ro...          1   \n",
       "\n",
       "                                                                      output_path  \n",
       "/home/rdandage/Documents/work/roux/examples/.ro...  tests/outputs/ipynb0_bash.txt  \n",
       "/home/rdandage/Documents/work/roux/examples/.ro...  tests/outputs/ipynb1_bash.txt  "
      ]
     },
     "execution_count": 15,
     "metadata": {},
     "output_type": "execute_result"
    }
   ],
   "source": [
    "dfs['ipynb_bash']=run_tasks(\n",
    "    f'tests/input/roux_workflow_task/script.{script_type}',\n",
    "    params=params,\n",
    "    cpus=cpus,\n",
    "    kernel=kernel,\n",
    "\n",
    "    runner='bash',\n",
    "    \n",
    "    force=force,\n",
    ")\n",
    "dfs['ipynb_bash']"
   ]
  },
  {
   "cell_type": "markdown",
   "id": "4c181258-6445-40f6-9d80-aafa54cbe80c",
   "metadata": {
    "jp-MarkdownHeadingCollapsed": true
   },
   "source": [
    "### `sh`/`py`"
   ]
  },
  {
   "cell_type": "markdown",
   "id": "6cd73b95-d564-4ac5-a546-2194fb39d4de",
   "metadata": {},
   "source": [
    "#### with `bash`"
   ]
  },
  {
   "cell_type": "code",
   "execution_count": 16,
   "id": "5f906126-6579-4f31-8a89-ea28b10aafbc",
   "metadata": {},
   "outputs": [
    {
     "name": "stderr",
     "output_type": "stream",
     "text": [
      "\u001b[94m💽 Loading: params from the input_path ..\u001b[0m\n",
      "\u001b[96m⚙️ Configuring: paths ..\u001b[0m\n",
      "\u001b[93m⏳⏳ Processing: on bash, 2 at a time ..\u001b[0m\n",
      "  0%|                                                                                | 0/2 [00:00<?, ?it/s]\u001b[38;5;208m⚠️ Warning: forcing setup (re-rewiting the sbatch scripts)..\u001b[0m\n",
      "\u001b[38;5;208m⚠️ Warning: forcing setup (re-rewiting the sbatch scripts)..\u001b[0m\n",
      "100%|███████████████████████████████████████████████████████████████████████| 2/2 [00:00<00:00, 408.22it/s]\n",
      "\u001b[94m🗂️ Saving: params_jobs_path=/home/rdandage/Documents/work/roux/examples/.roux//87e13bac9f3ee14f9eac4d775d04de8686f3c2a3db3f759bca4b9a7136915a6d.yaml\u001b[0m\n",
      "\u001b[92m✅ Done: processing.\u001b[0m\n",
      "\u001b[94m💽 Loading: params from the input_path ..\u001b[0m\n",
      "\u001b[96m⚙️ Configuring: paths ..\u001b[0m\n",
      "\u001b[93m⏳⏳ Processing: on bash, 2 at a time ..\u001b[0m\n",
      "  0%|                                                                                | 0/2 [00:00<?, ?it/s]\u001b[38;5;208m⚠️ Warning: forcing setup (re-rewiting the sbatch scripts)..\u001b[0m\n",
      "\u001b[38;5;208m⚠️ Warning: forcing setup (re-rewiting the sbatch scripts)..\u001b[0m\n",
      "100%|███████████████████████████████████████████████████████████████████████| 2/2 [00:00<00:00, 462.79it/s]\n",
      "\u001b[94m🗂️ Saving: params_jobs_path=/home/rdandage/Documents/work/roux/examples/.roux//c37f20a286be13fe2fd90fc7e95b8c2546485f009a66ad5658dd9938bdc151c5.yaml\u001b[0m\n",
      "\u001b[92m✅ Done: processing.\u001b[0m\n"
     ]
    }
   ],
   "source": [
    "for script_type in ['py','sh']:\n",
    "    dfs[script_type]=run_tasks(\n",
    "        f'tests/input/roux_workflow_task/script.{script_type}',\n",
    "        params=script_types[script_type]['params'],\n",
    "        cpus=cpus,\n",
    "        kernel=kernel,\n",
    "    \n",
    "        runner='bash',\n",
    "        \n",
    "        force=force,\n",
    "    )"
   ]
  },
  {
   "cell_type": "markdown",
   "id": "7c41a841-7b07-4900-942b-8167564b3c91",
   "metadata": {
    "jp-MarkdownHeadingCollapsed": true
   },
   "source": [
    "### Validations"
   ]
  },
  {
   "cell_type": "code",
   "execution_count": 17,
   "id": "a4e32271-fa3a-4098-9725-f333d747cf46",
   "metadata": {},
   "outputs": [],
   "source": [
    "def files_are_identical(file1: Path, file2: Path) -> bool:\n",
    "    return open(file1,'r').read() == open(file2,'r').read()\n",
    "    \n",
    "st1=list(dfs.keys())[0]\n",
    "for st2 in list(dfs.keys())[1:]:\n",
    "    assert (\n",
    "        dfs[st1].reset_index(drop=True)\n",
    "            .join(\n",
    "        dfs[st2].reset_index(drop=True).add_suffix('2')\n",
    "            )\n",
    "        .apply(\n",
    "            lambda x: files_are_identical(\n",
    "                x['output_path'],\n",
    "                x['output_path2'],\n",
    "            ),\n",
    "            axis=1\n",
    "        )\n",
    "    ).all(), (dfs[st1],dfs[st2])"
   ]
  },
  {
   "cell_type": "markdown",
   "id": "4262eb07-fad4-4139-af13-a02c29695169",
   "metadata": {
    "jp-MarkdownHeadingCollapsed": true
   },
   "source": [
    "## `slurm`"
   ]
  },
  {
   "cell_type": "markdown",
   "id": "8d951b7f-5655-41c5-bbaa-4d44da55d8c2",
   "metadata": {
    "jp-MarkdownHeadingCollapsed": true
   },
   "source": [
    "### Setup"
   ]
  },
  {
   "cell_type": "code",
   "execution_count": 18,
   "id": "51e8ed00-1de7-4cd1-87de-224483c48cf5",
   "metadata": {},
   "outputs": [
    {
     "name": "stderr",
     "output_type": "stream",
     "text": [
      "\u001b[38;5;208m⚠️ Warning: runner=bash\u001b[0m\n"
     ]
    }
   ],
   "source": [
    "runner=infer_runner(\n",
    "    runner='slurm',\n",
    "    script_type=None,\n",
    ")"
   ]
  },
  {
   "cell_type": "code",
   "execution_count": 19,
   "id": "8c470482-8004-4931-b03c-575ac8f56b05",
   "metadata": {},
   "outputs": [
    {
     "data": {
      "text/plain": [
       "datetime.timedelta(seconds=14400)"
      ]
     },
     "execution_count": 19,
     "metadata": {},
     "output_type": "execute_result"
    }
   ],
   "source": [
    "# Example Usage\n",
    "parse_time(\"4h\")  # Replace with \"30m\", \"10s\", etc."
   ]
  },
  {
   "cell_type": "code",
   "execution_count": 20,
   "id": "07f5fa79-ccf5-442c-b879-5a5f06616882",
   "metadata": {},
   "outputs": [],
   "source": [
    "if runner=='slurm':\n",
    "    print(get_sq())"
   ]
  },
  {
   "cell_type": "code",
   "execution_count": 21,
   "id": "c9dd1b06-c416-4010-9ee8-324d15a6568f",
   "metadata": {},
   "outputs": [],
   "source": [
    "# monitor_duration(\"1s\")"
   ]
  },
  {
   "cell_type": "code",
   "execution_count": 22,
   "id": "b7f02651-0144-4ce5-99db-238c18aa5b13",
   "metadata": {},
   "outputs": [],
   "source": [
    "if runner=='slurm':\n",
    "    print(get_jobsn(\n",
    "        ))"
   ]
  },
  {
   "cell_type": "code",
   "execution_count": 23,
   "id": "b484c3f0-39b7-4ae1-ae3e-f0407adbb73e",
   "metadata": {},
   "outputs": [],
   "source": [
    "if runner=='slurm':\n",
    "    print(\n",
    "        is_q_empty(\n",
    "        # user\n",
    "        # verbose=False,\n",
    "        )\n",
    "    )"
   ]
  },
  {
   "cell_type": "code",
   "execution_count": 24,
   "id": "ac0e2f29-90d5-4717-9781-6a3df5b29f5a",
   "metadata": {},
   "outputs": [],
   "source": [
    "# def get_tried_job_keys(\n",
    "#     cache_dir_path\n",
    "#     )\n",
    "#     from roux.lib.io import read_ps\n",
    "#     # cache_dir_path='.roux/'\n",
    "#     return list(set([Path(p).parent.parent.stem for p in read_ps(f'{cache_dir_path}/*/logs/*.out')]))"
   ]
  },
  {
   "cell_type": "markdown",
   "id": "954d156e-3140-4c75-854f-e4776e3b4fb9",
   "metadata": {},
   "source": [
    "### `script_types`"
   ]
  },
  {
   "cell_type": "code",
   "execution_count": 25,
   "id": "c7da6fc7-b3a8-48be-a031-32f2f12685c0",
   "metadata": {
    "scrolled": true,
    "tags": []
   },
   "outputs": [
    {
     "data": {
      "application/vnd.jupyter.widget-view+json": {
       "model_id": "cc90094c14de4cd19a7a37ff120021f6",
       "version_major": 2,
       "version_minor": 0
      },
      "text/plain": [
       "0it [00:00, ?it/s]"
      ]
     },
     "metadata": {},
     "output_type": "display_data"
    },
    {
     "name": "stderr",
     "output_type": "stream",
     "text": [
      "\u001b[0mℹ️ Info: sh\u001b[0m\n",
      "\u001b[38;5;208m⚠️ Warning: runner=bash\u001b[0m\n",
      "\u001b[38;5;208m⚠️ Warning: filtered to 1 jobs ..\u001b[0m\n",
      "\u001b[94m💽 Loading: params from the input_path ..\u001b[0m\n",
      "\u001b[96m⚙️ Configuring: paths ..\u001b[0m\n",
      "\u001b[93m⏳⏳ Processing: on bash, 2 at a time ..\u001b[0m\n",
      "\n",
      "  0%|                                                                                | 0/1 [00:00<?, ?it/s]\u001b[A\u001b[38;5;208m⚠️ Warning: forcing setup (re-rewiting the sbatch scripts)..\u001b[0m\n",
      "100%|███████████████████████████████████████████████████████████████████████| 1/1 [00:00<00:00, 256.05it/s]\n",
      "\u001b[94m🗂️ Saving: params_jobs_path=/home/rdandage/Documents/work/roux/examples/.roux//8faffbbd647c09d518e3aaaf7626e8b76d3e800a0be1492f927a1cf368712853.yaml\u001b[0m\n",
      "\u001b[92m✅ Done: processing.\u001b[0m\n",
      "\u001b[0mℹ️ Info: ipynb\u001b[0m\n",
      "\u001b[38;5;208m⚠️ Warning: runner=bash\u001b[0m\n",
      "\u001b[38;5;208m⚠️ Warning: filtered to 1 jobs ..\u001b[0m\n",
      "\u001b[94m💽 Loading: params from the input_path ..\u001b[0m\n",
      "\u001b[96m⚙️ Configuring: paths ..\u001b[0m\n",
      "\u001b[93m⏳⏳ Processing: on bash, 2 at a time ..\u001b[0m\n",
      "\n",
      "  0%|                                                                                | 0/1 [00:00<?, ?it/s]\u001b[A\u001b[38;5;208m⚠️ Warning: forcing setup (re-rewiting the sbatch scripts)..\u001b[0m\n",
      "100%|███████████████████████████████████████████████████████████████████████| 1/1 [00:00<00:00, 238.80it/s]\n",
      "\u001b[94m🗂️ Saving: params_jobs_path=/home/rdandage/Documents/work/roux/examples/.roux//60622b19ab689d823dcda33ece6644de0bd038bd2db5d251ddc7d056e045212f.yaml\u001b[0m\n",
      "\u001b[92m✅ Done: processing.\u001b[0m\n",
      "\u001b[0mℹ️ Info: py\u001b[0m\n",
      "\u001b[38;5;208m⚠️ Warning: runner=bash\u001b[0m\n",
      "\u001b[38;5;208m⚠️ Warning: filtered to 1 jobs ..\u001b[0m\n",
      "\u001b[94m💽 Loading: params from the input_path ..\u001b[0m\n",
      "\u001b[96m⚙️ Configuring: paths ..\u001b[0m\n",
      "\u001b[93m⏳⏳ Processing: on bash, 2 at a time ..\u001b[0m\n",
      "\n",
      "  0%|                                                                                | 0/1 [00:00<?, ?it/s]\u001b[A\u001b[38;5;208m⚠️ Warning: forcing setup (re-rewiting the sbatch scripts)..\u001b[0m\n",
      "100%|███████████████████████████████████████████████████████████████████████| 1/1 [00:00<00:00, 306.89it/s]\n",
      "\u001b[94m🗂️ Saving: params_jobs_path=/home/rdandage/Documents/work/roux/examples/.roux//ff205d79b5e0b4dc5097d5eaea1ac45f3b9e4bad44eebaef2b326ad7009a4308.yaml\u001b[0m\n",
      "\u001b[92m✅ Done: processing.\u001b[0m\n"
     ]
    }
   ],
   "source": [
    "%run ../roux/workflow/task.py\n",
    "# params\n",
    "for script_type in script_types:\n",
    "    logging.info(script_type)\n",
    "# script_type='sh'\n",
    "    params=script_types[script_type]['params']\n",
    "    params=[{**pms,**{'output_path':Path(pms['output_path']).with_stem(Path(pms['output_path']).stem+'_slurm').as_posix() }} for pms in params]\n",
    "    params\n",
    "    \n",
    "    script_pre=script_types[script_type]['pre']\n",
    "    \n",
    "    run_tasks(\n",
    "        f'tests/input/roux_workflow_task/script.{script_type}',\n",
    "        params=params,\n",
    "        script_pre=script_pre,\n",
    "    \n",
    "        append_header=\"\"\"\n",
    "    #SBATCH --time=00:10:00\n",
    "    #SBATCH --ntasks=1\n",
    "    #SBATCH --cpus-per-task=1\n",
    "    #SBATCH --mem=1gb   \n",
    "        \"\"\",\n",
    "    \n",
    "        cpus=cpus, ## feed at a time (feedn)\n",
    "        kernel=kernel,\n",
    "    \n",
    "        runner='slurm',    \n",
    "        force=force,\n",
    "        testn=1,\n",
    "    )"
   ]
  },
  {
   "cell_type": "markdown",
   "id": "336c55c2-848a-497b-a2a8-8d8bee0095f4",
   "metadata": {},
   "source": [
    "### Skip already submitted jobs"
   ]
  },
  {
   "cell_type": "code",
   "execution_count": 26,
   "id": "386f7b70-2788-4503-b53a-71bae5e2d253",
   "metadata": {},
   "outputs": [
    {
     "name": "stderr",
     "output_type": "stream",
     "text": [
      "\u001b[38;5;208m⚠️ Warning: runner=bash\u001b[0m\n",
      "\u001b[0mℹ️ Info: parameters_list_flt reduced because force=False: 2 -> 1\u001b[0m\n",
      "\u001b[94m💽 Loading: params from the input_path ..\u001b[0m\n",
      "\u001b[96m⚙️ Configuring: paths ..\u001b[0m\n",
      "\u001b[93m⏳⏳ Processing: on bash, 2 at a time ..\u001b[0m\n",
      "\n",
      "  0%|                                                                                | 0/1 [00:00<?, ?it/s]\u001b[A\u001b[38;5;208m⚠️ Warning: forcing setup (re-rewiting the sbatch scripts)..\u001b[0m\n",
      "100%|███████████████████████████████████████████████████████████████████████| 1/1 [00:00<00:00, 312.26it/s]\n",
      "\u001b[94m🗂️ Saving: params_jobs_path=/home/rdandage/Documents/work/roux/examples/.roux//ec362eb57dc02afeeedfd8b3930b11368c7eae10f253ea35515691ecb66e8d66.yaml\u001b[0m\n",
      "\u001b[92m✅ Done: processing.\u001b[0m\n"
     ]
    },
    {
     "data": {
      "text/html": [
       "<div>\n",
       "<style scoped>\n",
       "    .dataframe tbody tr th:only-of-type {\n",
       "        vertical-align: middle;\n",
       "    }\n",
       "\n",
       "    .dataframe tbody tr th {\n",
       "        vertical-align: top;\n",
       "    }\n",
       "\n",
       "    .dataframe thead th {\n",
       "        text-align: right;\n",
       "    }\n",
       "</style>\n",
       "<table border=\"1\" class=\"dataframe\">\n",
       "  <thead>\n",
       "    <tr style=\"text-align: right;\">\n",
       "      <th></th>\n",
       "      <th>input_path</th>\n",
       "      <th>output_path</th>\n",
       "    </tr>\n",
       "  </thead>\n",
       "  <tbody>\n",
       "    <tr>\n",
       "      <th>/home/rdandage/Documents/work/roux/examples/.roux//b50979c9a866458c007259fa9f214a8199cb0d2710e15efd867f7f5d2b8dfc69.sh</th>\n",
       "      <td>1</td>\n",
       "      <td>tests/outputs/py1_slurm.txt</td>\n",
       "    </tr>\n",
       "  </tbody>\n",
       "</table>\n",
       "</div>"
      ],
      "text/plain": [
       "                                                   input_path  \\\n",
       "/home/rdandage/Documents/work/roux/examples/.ro...          1   \n",
       "\n",
       "                                                                    output_path  \n",
       "/home/rdandage/Documents/work/roux/examples/.ro...  tests/outputs/py1_slurm.txt  "
      ]
     },
     "execution_count": 26,
     "metadata": {},
     "output_type": "execute_result"
    }
   ],
   "source": [
    "run_tasks(\n",
    "    f'tests/input/roux_workflow_task/script.{script_type}',\n",
    "    params=params,\n",
    "    script_pre=script_pre,\n",
    "\n",
    "    append_header=\"\"\"\n",
    "#SBATCH --time=00:10:00\n",
    "#SBATCH --ntasks=1\n",
    "#SBATCH --cpus-per-task=1\n",
    "#SBATCH --mem=1gb   \n",
    "    \"\"\",\n",
    "\n",
    "    cpus=cpus, ## feed at a time (feedn)\n",
    "    kernel=kernel,\n",
    "\n",
    "    runner='slurm',    \n",
    "    # force=force,\n",
    ")"
   ]
  },
  {
   "cell_type": "markdown",
   "id": "8eca5c05-b87b-48b4-a939-58aa6f5bb923",
   "metadata": {},
   "source": [
    "### Feeding"
   ]
  },
  {
   "cell_type": "code",
   "execution_count": 27,
   "id": "91c8f2bf-9dfe-4113-9765-3f2ca4d29edf",
   "metadata": {},
   "outputs": [
    {
     "data": {
      "application/vnd.jupyter.widget-view+json": {
       "model_id": "17aaf5f6e7b34e97988cd44bd127bf9c",
       "version_major": 2,
       "version_minor": 0
      },
      "text/plain": [
       "0it [00:00, ?it/s]"
      ]
     },
     "metadata": {},
     "output_type": "display_data"
    },
    {
     "name": "stderr",
     "output_type": "stream",
     "text": [
      "\u001b[38;5;208m⚠️ Warning: runner=bash\u001b[0m\n",
      "\u001b[38;5;208m⚠️ Warning: filtered to 1 jobs ..\u001b[0m\n",
      "\u001b[94m💽 Loading: params from the input_path ..\u001b[0m\n",
      "\u001b[96m⚙️ Configuring: paths ..\u001b[0m\n",
      "\u001b[93m⏳⏳ Processing: on bash, 2 at a time ..\u001b[0m\n",
      "\n",
      "\n",
      "  0%|                                                                                | 0/1 [00:00<?, ?it/s]\u001b[A\u001b[A\u001b[38;5;208m⚠️ Warning: forcing setup (re-rewiting the sbatch scripts)..\u001b[0m\n",
      "100%|███████████████████████████████████████████████████████████████████████| 1/1 [00:00<00:00, 239.67it/s]\n",
      "\u001b[94m🗂️ Saving: params_jobs_path=/home/rdandage/Documents/work/roux/examples/.roux//ff205d79b5e0b4dc5097d5eaea1ac45f3b9e4bad44eebaef2b326ad7009a4308.yaml\u001b[0m\n",
      "\u001b[92m✅ Done: processing.\u001b[0m\n"
     ]
    },
    {
     "data": {
      "text/html": [
       "<div>\n",
       "<style scoped>\n",
       "    .dataframe tbody tr th:only-of-type {\n",
       "        vertical-align: middle;\n",
       "    }\n",
       "\n",
       "    .dataframe tbody tr th {\n",
       "        vertical-align: top;\n",
       "    }\n",
       "\n",
       "    .dataframe thead th {\n",
       "        text-align: right;\n",
       "    }\n",
       "</style>\n",
       "<table border=\"1\" class=\"dataframe\">\n",
       "  <thead>\n",
       "    <tr style=\"text-align: right;\">\n",
       "      <th></th>\n",
       "      <th>input_path</th>\n",
       "      <th>output_path</th>\n",
       "    </tr>\n",
       "  </thead>\n",
       "  <tbody>\n",
       "    <tr>\n",
       "      <th>/home/rdandage/Documents/work/roux/examples/.roux//721b185553045b685b844c60d20fa63544bc9c513d6aa4a0f781454a699310cc.sh</th>\n",
       "      <td>0</td>\n",
       "      <td>tests/outputs/py0_slurm.txt</td>\n",
       "    </tr>\n",
       "  </tbody>\n",
       "</table>\n",
       "</div>"
      ],
      "text/plain": [
       "                                                   input_path  \\\n",
       "/home/rdandage/Documents/work/roux/examples/.ro...          0   \n",
       "\n",
       "                                                                    output_path  \n",
       "/home/rdandage/Documents/work/roux/examples/.ro...  tests/outputs/py0_slurm.txt  "
      ]
     },
     "execution_count": 27,
     "metadata": {},
     "output_type": "execute_result"
    }
   ],
   "source": [
    "%run ../roux/workflow/task.py\n",
    "run_tasks(\n",
    "    f'tests/input/roux_workflow_task/script.{script_type}',\n",
    "    params=params,\n",
    "    script_pre=script_pre,\n",
    "\n",
    "    append_header=\"\"\"\n",
    "#SBATCH --time=00:10:00\n",
    "#SBATCH --ntasks=1\n",
    "#SBATCH --cpus-per-task=1\n",
    "#SBATCH --mem=1gb   \n",
    "    \"\"\",\n",
    "\n",
    "    cpus=cpus, ## feed at a time (feedn)\n",
    "    kernel=kernel,\n",
    "\n",
    "    runner='slurm',    \n",
    "    force=force,\n",
    "    testn=1,\n",
    "\n",
    "    feed_interval='1s',\n",
    "    feed_duration='5s', #hr \n",
    "    feed_if_jobs_max=0.5,\n",
    ")"
   ]
  },
  {
   "cell_type": "markdown",
   "id": "fcae2eae-a113-4bcb-a14d-ebac23f0b592",
   "metadata": {
    "jp-MarkdownHeadingCollapsed": true
   },
   "source": [
    "## `run_tasks_nb`"
   ]
  },
  {
   "cell_type": "markdown",
   "id": "013c825d-d4c3-4e93-b9ee-716994716cf0",
   "metadata": {},
   "source": [
    "**Demo inputs**"
   ]
  },
  {
   "cell_type": "code",
   "execution_count": 28,
   "id": "2b0d2a12-be56-44d0-a192-c4e22dd65d13",
   "metadata": {},
   "outputs": [],
   "source": [
    "# # demo data\n",
    "# import seaborn as sns\n",
    "# data=sns.load_dataset('iris')\n",
    "# ## creating a list of inputs\n",
    "# import itertools\n",
    "# inputs=[{'kws_plot_modified':dict(zip(['x','y'],t))} for t in itertools.permutations(data.select_dtypes(float).columns.tolist(),2)]\n",
    "# inputs\n",
    "\n",
    "# # [{'kws_plot_modified': {'x': 'sepal_length', 'y': 'sepal_width'}},\n",
    "# #  {'kws_plot_modified': {'x': 'sepal_length', 'y': 'petal_length'}},\n",
    "# #  {'kws_plot_modified': {'x': 'sepal_length', 'y': 'petal_width'}},\n",
    "# #  {'kws_plot_modified': {'x': 'sepal_width', 'y': 'sepal_length'}},\n",
    "# #  {'kws_plot_modified': {'x': 'sepal_width', 'y': 'petal_length'}},\n",
    "# #  {'kws_plot_modified': {'x': 'sepal_width', 'y': 'petal_width'}},\n",
    "# #  {'kws_plot_modified': {'x': 'petal_length', 'y': 'sepal_length'}},\n",
    "# #  {'kws_plot_modified': {'x': 'petal_length', 'y': 'sepal_width'}},\n",
    "# #  {'kws_plot_modified': {'x': 'petal_length', 'y': 'petal_width'}},\n",
    "# #  {'kws_plot_modified': {'x': 'petal_width', 'y': 'sepal_length'}},\n",
    "# #  {'kws_plot_modified': {'x': 'petal_width', 'y': 'sepal_width'}},\n",
    "# #  {'kws_plot_modified': {'x': 'petal_width', 'y': 'petal_length'}}]"
   ]
  },
  {
   "cell_type": "markdown",
   "id": "b8edfc43-ae4f-4dc6-9290-d9990d17c566",
   "metadata": {},
   "source": [
    "### Running the tasks"
   ]
  },
  {
   "cell_type": "code",
   "execution_count": 29,
   "id": "894387e7-6d49-48ea-a49f-1f64ab110820",
   "metadata": {},
   "outputs": [],
   "source": [
    "# # from roux.workflow.task import run_tasks\n",
    "# parameters_list=run_tasks(\n",
    "#     '../examples/roux_viz_io.ipynb', ## parameterised jupyter notebook (papermill compatible).\n",
    "#     inputs=inputs,#[:2], ## list of inputs\n",
    "#     output_path_base='tests/output/plot/plot_modified_by_tasks/{KEY}/plot.png', ## base output path, where {KEY} is a unique placeholder for each input.\n",
    "#     kernel='roux', ## virtual environment\n",
    "#     force=True, ## rerun by overwritting the outputs\n",
    "#     # test1=True,\n",
    "#     # fast=False, ## parallel processing. set number of workers using the `fast_workers` parameter \n",
    "#     fast=True,\n",
    "# )\n",
    "# parameters_list"
   ]
  },
  {
   "cell_type": "markdown",
   "id": "3434e841-1ff1-4df4-9b05-a064267c78f8",
   "metadata": {},
   "source": [
    "### The outputs"
   ]
  },
  {
   "cell_type": "code",
   "execution_count": 30,
   "id": "ebeb3acc-1e41-4973-aba8-b69383150483",
   "metadata": {},
   "outputs": [],
   "source": [
    "# output_paths=list(parameters_list.keys())"
   ]
  },
  {
   "cell_type": "code",
   "execution_count": 31,
   "id": "2bf6fc2b-3f1e-4930-bef8-f700a5502fc8",
   "metadata": {},
   "outputs": [],
   "source": [
    "# import matplotlib.pyplot as plt\n",
    "# cols=4\n",
    "# fig,axs=plt.subplots(round(len(output_paths)/cols),cols)\n",
    "# for ax,p in zip(axs.ravel(),output_paths):\n",
    "#     ax.imshow(plt.imread(p))\n",
    "#     ax.axis('off')"
   ]
  },
  {
   "attachments": {
    "03ac30c6-abd5-49ed-81ee-0a7bc4239c5e.png": {
     "image/png": "[encoded data removed]"
    }
   },
   "cell_type": "markdown",
   "id": "bc41435a-1e7f-448f-85eb-e82d23d56e32",
   "metadata": {},
   "source": [
    "![image.png](attachment:03ac30c6-abd5-49ed-81ee-0a7bc4239c5e.png)"
   ]
  },
  {
   "cell_type": "markdown",
   "id": "0f3d0567-d563-42c1-b7d5-679e09c68744",
   "metadata": {
    "tags": []
   },
   "source": [
    "#### Documentation\n",
    "[`roux.workflow.task.run_tasks`](https://github.com/rraadd88/roux#module-rouxworkflowtaskrun_tasks)"
   ]
  }
 ],
 "metadata": {
  "kernelspec": {
   "display_name": "roux",
   "language": "python",
   "name": "roux"
  },
  "language_info": {
   "codemirror_mode": {
    "name": "ipython",
    "version": 3
   },
   "file_extension": ".py",
   "mimetype": "text/x-python",
   "name": "python",
   "nbconvert_exporter": "python",
   "pygments_lexer": "ipython3",
   "version": "3.10.17"
  }
 },
 "nbformat": 4,
 "nbformat_minor": 5
}
