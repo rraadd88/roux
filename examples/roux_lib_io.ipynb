{
 "cells": [
  {
   "cell_type": "markdown",
   "id": "b1584f44-e50c-4171-a05a-2cecd1c76660",
   "metadata": {},
   "source": [
    "---\n",
    "\n",
    "<!-- <a href=\"https://github.com/rraadd88/roux/blob/master/examples/roux_lib_io.ipynb\"><img align=\"right\" style=\"float:right;\" src=\"https://img.shields.io/badge/-source-cccccc?style=flat-square\"></a> -->\n",
    "\n",
    "## 💾 General Input/Output."
   ]
  },
  {
   "cell_type": "markdown",
   "id": "79308770-82d7-40e1-86b1-504627ab786e",
   "metadata": {},
   "source": [
    "### Saving and reading dictionaries\n",
    "\n",
    "Unifies input/output functions for `.yaml`, `.json`, `.joblib` and `.pickle` files."
   ]
  },
  {
   "cell_type": "code",
   "execution_count": 1,
   "id": "180cd266-72a1-4db0-95b8-47a09dd65fc7",
   "metadata": {},
   "outputs": [
    {
     "data": {
      "text/plain": [
       "{'a': 1, 'b': 2, 'c': 3}"
      ]
     },
     "execution_count": 1,
     "metadata": {},
     "output_type": "execute_result"
    }
   ],
   "source": [
    "d={'a':1,'b':2,'c':3}\n",
    "d"
   ]
  },
  {
   "cell_type": "code",
   "execution_count": 2,
   "id": "d7e06b66-e053-4f73-a5c4-bef55c4475d3",
   "metadata": {},
   "outputs": [
    {
     "data": {
      "text/plain": [
       "'tests/output/data/dict.json'"
      ]
     },
     "execution_count": 2,
     "metadata": {},
     "output_type": "execute_result"
    }
   ],
   "source": [
    "from roux.lib.io import to_dict\n",
    "to_dict(d,'tests/output/data/dict.json')"
   ]
  },
  {
   "cell_type": "code",
   "execution_count": 3,
   "id": "b8778414-7756-4ec0-9283-bb2d8fdc4c61",
   "metadata": {},
   "outputs": [
    {
     "data": {
      "text/plain": [
       "{'a': 1, 'b': 2, 'c': 3}"
      ]
     },
     "execution_count": 3,
     "metadata": {},
     "output_type": "execute_result"
    }
   ],
   "source": [
    "from roux.lib.io import read_dict\n",
    "read_dict('tests/output/data/dict.json')"
   ]
  },
  {
   "cell_type": "markdown",
   "id": "fb94504a-90a2-40e8-93ef-9d2b56c94fd0",
   "metadata": {},
   "source": [
    "### Saving and reading tables\n",
    "\n",
    "Unifies several of `pandas`'s input/output functions."
   ]
  },
  {
   "cell_type": "code",
   "execution_count": 4,
   "id": "b77c09cb-b8c0-4d10-be28-8feb4aa18aa6",
   "metadata": {},
   "outputs": [],
   "source": [
    "# demo data\n",
    "import seaborn as sns\n",
    "df1=sns.load_dataset('iris')"
   ]
  },
  {
   "cell_type": "code",
   "execution_count": 5,
   "id": "7402959c-f940-4fda-be78-d4883e331182",
   "metadata": {
    "tags": [
     "to_table"
    ]
   },
   "outputs": [
    {
     "data": {
      "text/plain": [
       "'tests/output/data/table.tsv'"
      ]
     },
     "execution_count": 5,
     "metadata": {},
     "output_type": "execute_result"
    }
   ],
   "source": [
    "from roux.lib.io import to_table\n",
    "to_table(df1,'tests/output/data/table.tsv')"
   ]
  },
  {
   "cell_type": "code",
   "execution_count": 6,
   "id": "a8608872-5888-4921-a3ec-162f71402b4a",
   "metadata": {},
   "outputs": [
    {
     "data": {
      "text/html": [
       "<div>\n",
       "<style scoped>\n",
       "    .dataframe tbody tr th:only-of-type {\n",
       "        vertical-align: middle;\n",
       "    }\n",
       "\n",
       "    .dataframe tbody tr th {\n",
       "        vertical-align: top;\n",
       "    }\n",
       "\n",
       "    .dataframe thead th {\n",
       "        text-align: right;\n",
       "    }\n",
       "</style>\n",
       "<table border=\"1\" class=\"dataframe\">\n",
       "  <thead>\n",
       "    <tr style=\"text-align: right;\">\n",
       "      <th></th>\n",
       "      <th>sepal_length</th>\n",
       "      <th>sepal_width</th>\n",
       "      <th>petal_length</th>\n",
       "      <th>petal_width</th>\n",
       "      <th>species</th>\n",
       "    </tr>\n",
       "  </thead>\n",
       "  <tbody>\n",
       "    <tr>\n",
       "      <th>0</th>\n",
       "      <td>5.1</td>\n",
       "      <td>3.5</td>\n",
       "      <td>1.4</td>\n",
       "      <td>0.2</td>\n",
       "      <td>setosa</td>\n",
       "    </tr>\n",
       "    <tr>\n",
       "      <th>1</th>\n",
       "      <td>4.9</td>\n",
       "      <td>3.0</td>\n",
       "      <td>1.4</td>\n",
       "      <td>0.2</td>\n",
       "      <td>setosa</td>\n",
       "    </tr>\n",
       "    <tr>\n",
       "      <th>2</th>\n",
       "      <td>4.7</td>\n",
       "      <td>3.2</td>\n",
       "      <td>1.3</td>\n",
       "      <td>0.2</td>\n",
       "      <td>setosa</td>\n",
       "    </tr>\n",
       "    <tr>\n",
       "      <th>3</th>\n",
       "      <td>4.6</td>\n",
       "      <td>3.1</td>\n",
       "      <td>1.5</td>\n",
       "      <td>0.2</td>\n",
       "      <td>setosa</td>\n",
       "    </tr>\n",
       "    <tr>\n",
       "      <th>4</th>\n",
       "      <td>5.0</td>\n",
       "      <td>3.6</td>\n",
       "      <td>1.4</td>\n",
       "      <td>0.2</td>\n",
       "      <td>setosa</td>\n",
       "    </tr>\n",
       "    <tr>\n",
       "      <th>...</th>\n",
       "      <td>...</td>\n",
       "      <td>...</td>\n",
       "      <td>...</td>\n",
       "      <td>...</td>\n",
       "      <td>...</td>\n",
       "    </tr>\n",
       "    <tr>\n",
       "      <th>145</th>\n",
       "      <td>6.7</td>\n",
       "      <td>3.0</td>\n",
       "      <td>5.2</td>\n",
       "      <td>2.3</td>\n",
       "      <td>virginica</td>\n",
       "    </tr>\n",
       "    <tr>\n",
       "      <th>146</th>\n",
       "      <td>6.3</td>\n",
       "      <td>2.5</td>\n",
       "      <td>5.0</td>\n",
       "      <td>1.9</td>\n",
       "      <td>virginica</td>\n",
       "    </tr>\n",
       "    <tr>\n",
       "      <th>147</th>\n",
       "      <td>6.5</td>\n",
       "      <td>3.0</td>\n",
       "      <td>5.2</td>\n",
       "      <td>2.0</td>\n",
       "      <td>virginica</td>\n",
       "    </tr>\n",
       "    <tr>\n",
       "      <th>148</th>\n",
       "      <td>6.2</td>\n",
       "      <td>3.4</td>\n",
       "      <td>5.4</td>\n",
       "      <td>2.3</td>\n",
       "      <td>virginica</td>\n",
       "    </tr>\n",
       "    <tr>\n",
       "      <th>149</th>\n",
       "      <td>5.9</td>\n",
       "      <td>3.0</td>\n",
       "      <td>5.1</td>\n",
       "      <td>1.8</td>\n",
       "      <td>virginica</td>\n",
       "    </tr>\n",
       "  </tbody>\n",
       "</table>\n",
       "<p>150 rows × 5 columns</p>\n",
       "</div>"
      ],
      "text/plain": [
       "     sepal_length  sepal_width  petal_length  petal_width    species\n",
       "0             5.1          3.5           1.4          0.2     setosa\n",
       "1             4.9          3.0           1.4          0.2     setosa\n",
       "2             4.7          3.2           1.3          0.2     setosa\n",
       "3             4.6          3.1           1.5          0.2     setosa\n",
       "4             5.0          3.6           1.4          0.2     setosa\n",
       "..            ...          ...           ...          ...        ...\n",
       "145           6.7          3.0           5.2          2.3  virginica\n",
       "146           6.3          2.5           5.0          1.9  virginica\n",
       "147           6.5          3.0           5.2          2.0  virginica\n",
       "148           6.2          3.4           5.4          2.3  virginica\n",
       "149           5.9          3.0           5.1          1.8  virginica\n",
       "\n",
       "[150 rows x 5 columns]"
      ]
     },
     "execution_count": 6,
     "metadata": {},
     "output_type": "execute_result"
    }
   ],
   "source": [
    "from roux.lib.io import read_table\n",
    "out=read_table('tests/output/data/table.tsv')\n",
    "out"
   ]
  },
  {
   "cell_type": "code",
   "execution_count": 7,
   "id": "e294b991-d1b4-41fd-9f03-a752c4c9fea4",
   "metadata": {},
   "outputs": [],
   "source": [
    "# for testing\n",
    "assert out.shape==(150, 5), out.shape"
   ]
  },
  {
   "cell_type": "markdown",
   "id": "00affa76-f743-4e5b-9492-ad56108c4943",
   "metadata": {},
   "source": [
    "## List files"
   ]
  },
  {
   "cell_type": "code",
   "execution_count": 9,
   "id": "232ba667-a68a-471f-91cb-08fee797beed",
   "metadata": {},
   "outputs": [],
   "source": [
    "#To show the log\n",
    "%config Application.log_level=\"INFO\""
   ]
  },
  {
   "cell_type": "code",
   "execution_count": 10,
   "id": "3d150b21-a375-4f2f-abcc-af2e1b1faaf4",
   "metadata": {
    "tags": []
   },
   "outputs": [],
   "source": [
    "## demo files\n",
    "from pathlib import Path\n",
    "ind='inputs/dir1'\n",
    "Path(ind).mkdir(parents=True, exist_ok=True)\n",
    "Path(f'{ind}/file1.txt').touch(exist_ok=True)\n",
    "Path(f'{ind}/file2.txt').touch(exist_ok=True)"
   ]
  },
  {
   "cell_type": "code",
   "execution_count": 11,
   "id": "7beba4b2-aec1-4007-af6f-02364e550bb5",
   "metadata": {},
   "outputs": [],
   "source": [
    "from roux.lib.io import read_ps"
   ]
  },
  {
   "cell_type": "code",
   "execution_count": 12,
   "id": "55330b75-053b-4ebd-8ec7-3fe7d1ce98c3",
   "metadata": {
    "tags": []
   },
   "outputs": [
    {
     "data": {
      "text/plain": [
       "['inputs/dir1']"
      ]
     },
     "execution_count": 12,
     "metadata": {},
     "output_type": "execute_result"
    }
   ],
   "source": [
    "read_ps(ind)"
   ]
  },
  {
   "cell_type": "code",
   "execution_count": 13,
   "id": "c512457d-1147-4be9-8c18-844626e2dc88",
   "metadata": {
    "tags": []
   },
   "outputs": [
    {
     "data": {
      "text/plain": [
       "['inputs/dir1/file1.txt', 'inputs/dir1/file2.txt']"
      ]
     },
     "execution_count": 13,
     "metadata": {},
     "output_type": "execute_result"
    }
   ],
   "source": [
    "read_ps(f'{ind}/file*.txt')"
   ]
  },
  {
   "cell_type": "markdown",
   "id": "dca2080d-b03e-4f6e-b16e-264037e021c1",
   "metadata": {},
   "source": [
    "## Versioned backup"
   ]
  },
  {
   "cell_type": "code",
   "execution_count": 15,
   "id": "51dbede9-3d74-4d4c-9cb8-e95336f92f39",
   "metadata": {
    "tags": []
   },
   "outputs": [
    {
     "data": {
      "text/plain": [
       "'outputs/roux_lib_io/.v20240522T100748_dir1_test'"
      ]
     },
     "execution_count": 15,
     "metadata": {},
     "output_type": "execute_result"
    }
   ],
   "source": [
    "from roux.lib.io import to_version\n",
    "outd='outputs/roux_lib_io'\n",
    "to_version(\n",
    "    ind,\n",
    "    outd=outd,\n",
    "    label='test',\n",
    ")"
   ]
  },
  {
   "cell_type": "code",
   "execution_count": 16,
   "id": "2cf98206-512a-44dc-9923-771908e56f7d",
   "metadata": {
    "tags": []
   },
   "outputs": [
    {
     "data": {
      "text/plain": [
       "['outputs/roux_lib_io']"
      ]
     },
     "execution_count": 16,
     "metadata": {},
     "output_type": "execute_result"
    }
   ],
   "source": [
    "read_ps(outd)"
   ]
  },
  {
   "cell_type": "markdown",
   "id": "dfd4aaa4-a905-4470-818a-9b07979b784b",
   "metadata": {},
   "source": [
    "#### Documentation\n",
    "[`roux.viz.io`](https://github.com/rraadd88/roux#module-rouxvizio)"
   ]
  }
 ],
 "metadata": {
  "kernelspec": {
   "display_name": "Python 3 (ipykernel)",
   "language": "python",
   "name": "python3"
  },
  "language_info": {
   "codemirror_mode": {
    "name": "ipython",
    "version": 3
   },
   "file_extension": ".py",
   "mimetype": "text/x-python",
   "name": "python",
   "nbconvert_exporter": "python",
   "pygments_lexer": "ipython3",
   "version": "3.12.4"
  }
 },
 "nbformat": 4,
 "nbformat_minor": 5
}
