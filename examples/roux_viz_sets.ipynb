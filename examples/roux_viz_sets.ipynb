{
 "cells": [
  {
   "cell_type": "markdown",
   "id": "da10a7c9-2d1c-4cba-9b7e-69aa47e2517b",
   "metadata": {},
   "source": [
    "---\n",
    "\n",
    "<!-- <a href=\"https://github.com/rraadd88/roux/blob/master/examples/roux_viz_sets.ipynb\"><img align=\"right\" style=\"float:right;\" src=\"https://img.shields.io/badge/-source-cccccc?style=flat-square\"></a>\n",
    " -->\n",
    " \n",
    "## 📈⬤⬤ Plots of sets."
   ]
  },
  {
   "cell_type": "code",
   "execution_count": 1,
   "id": "d4f708d0-2362-4f7b-aeed-3c8300fe6480",
   "metadata": {},
   "outputs": [],
   "source": [
    "# installing the required roux subpackage\n",
    "# !pip install roux[viz]\n",
    "# loading requirements\n",
    "import pandas as pd\n",
    "import matplotlib.pyplot as plt"
   ]
  },
  {
   "cell_type": "markdown",
   "id": "3109b89e-01b1-4a75-96f6-926567014e64",
   "metadata": {},
   "source": [
    "### Crosstab\n",
    "**Demo data**"
   ]
  },
  {
   "cell_type": "code",
   "execution_count": 2,
   "id": "9b079b16-7d07-409a-94a5-551f9288a1c4",
   "metadata": {},
   "outputs": [
    {
     "data": {
      "text/html": [
       "<div>\n",
       "<style scoped>\n",
       "    .dataframe tbody tr th:only-of-type {\n",
       "        vertical-align: middle;\n",
       "    }\n",
       "\n",
       "    .dataframe tbody tr th {\n",
       "        vertical-align: top;\n",
       "    }\n",
       "\n",
       "    .dataframe thead th {\n",
       "        text-align: right;\n",
       "    }\n",
       "</style>\n",
       "<table border=\"1\" class=\"dataframe\">\n",
       "  <thead>\n",
       "    <tr style=\"text-align: right;\">\n",
       "      <th></th>\n",
       "      <th>c1</th>\n",
       "      <th>c2</th>\n",
       "    </tr>\n",
       "  </thead>\n",
       "  <tbody>\n",
       "    <tr>\n",
       "      <th>0</th>\n",
       "      <td>False</td>\n",
       "      <td>False</td>\n",
       "    </tr>\n",
       "  </tbody>\n",
       "</table>\n",
       "</div>"
      ],
      "text/plain": [
       "      c1     c2\n",
       "0  False  False"
      ]
     },
     "execution_count": 2,
     "metadata": {},
     "output_type": "execute_result"
    }
   ],
   "source": [
    "## for linear dfs\n",
    "def get_demo_data(\n",
    "    n=100,\n",
    "    ) -> pd.DataFrame:\n",
    "    \"\"\"Demo data to test the differences.\"\"\"\n",
    "    import numpy as np\n",
    "    d={}\n",
    "    for i in [1,2]:\n",
    "        np.random.seed(i)\n",
    "        d[f'c{i}']=np.random.choice(a=[False, True], size=n,p=[0.5,0.5])\n",
    "    return pd.DataFrame(d)\n",
    "data=get_demo_data(n=100)\n",
    "data.head(1)"
   ]
  },
  {
   "cell_type": "markdown",
   "id": "042e9989-c653-4884-bae2-28557d0ffda1",
   "metadata": {},
   "source": [
    "### As a table"
   ]
  },
  {
   "cell_type": "code",
   "execution_count": 3,
   "id": "6d6dfb89-28c9-47cd-9e5b-6c120d571bfb",
   "metadata": {},
   "outputs": [
    {
     "data": {
      "image/png": "[encoded data removed]",
      "text/plain": [
       "<Figure size 86.4x72 with 1 Axes>"
      ]
     },
     "metadata": {
      "needs_background": "light"
     },
     "output_type": "display_data"
    }
   ],
   "source": [
    "from roux.viz.sets import plot_intersection_counts\n",
    "ax=plot_intersection_counts(data,['c1','c2'])"
   ]
  },
  {
   "cell_type": "markdown",
   "id": "9b592de4-5163-41e0-bc03-3ce3dec8643d",
   "metadata": {},
   "source": [
    "### As a bar plot"
   ]
  },
  {
   "cell_type": "code",
   "execution_count": 4,
   "id": "250ae476-8147-4eba-9f95-32485342d6de",
   "metadata": {},
   "outputs": [
    {
     "data": {
      "image/png": "[encoded data removed]",
      "text/plain": [
       "<Figure size 432x288 with 1 Axes>"
      ]
     },
     "metadata": {
      "needs_background": "light"
     },
     "output_type": "display_data"
    }
   ],
   "source": [
    "from roux.viz.sets import plot_intersection_counts\n",
    "ax=plot_intersection_counts(data,['c1','c2'],kind='bar')"
   ]
  },
  {
   "cell_type": "markdown",
   "id": "cb319ee9-ed26-40f1-bf1b-db773cc220a8",
   "metadata": {
    "tags": []
   },
   "source": [
    "### Documentation\n",
    "[`roux.viz.sets`](https://github.com/rraadd88/roux#module-rouxvizsets)"
   ]
  }
 ],
 "metadata": {
  "kernelspec": {
   "display_name": "roux",
   "language": "python",
   "name": "roux"
  },
  "language_info": {
   "codemirror_mode": {
    "name": "ipython",
    "version": 3
   },
   "file_extension": ".py",
   "mimetype": "text/x-python",
   "name": "python",
   "nbconvert_exporter": "python",
   "pygments_lexer": "ipython3",
   "version": "3.7.12"
  }
 },
 "nbformat": 4,
 "nbformat_minor": 5
}
