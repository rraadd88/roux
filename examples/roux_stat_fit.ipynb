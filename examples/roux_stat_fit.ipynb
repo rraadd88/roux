{
 "cells": [
  {
   "cell_type": "markdown",
   "id": "68803c02-8d28-4e0c-a1bd-4a228a64f618",
   "metadata": {},
   "source": [
    "---\n",
    "\n",
    "<!-- <a href=\"https://github.com/rraadd88/roux/blob/master/examples/roux_stat_fit.ipynb\"><img align=\"right\" style=\"float:right;\" src=\"https://img.shields.io/badge/-source-cccccc?style=flat-square\"></a>\n",
    " -->\n",
    " \n",
    "## 📈 Data fitting."
   ]
  },
  {
   "cell_type": "code",
   "execution_count": 1,
   "id": "df3054e2-adc5-4a66-bb17-92706b67d386",
   "metadata": {},
   "outputs": [],
   "source": [
    "# install extra requirements\n",
    "# !pip install roux[stat]\n",
    "# loading non-roux requirements\n",
    "import matplotlib.pyplot as plt\n",
    "# import numpy as np"
   ]
  },
  {
   "cell_type": "markdown",
   "id": "fcc3debc-f2ec-434d-acbd-56d5b5fd935a",
   "metadata": {},
   "source": [
    "**Demo data**"
   ]
  },
  {
   "cell_type": "code",
   "execution_count": 2,
   "id": "4b057249-d1ed-4159-a2dd-4dbc0366cf4c",
   "metadata": {},
   "outputs": [
    {
     "data": {
      "text/html": [
       "<div>\n",
       "<style scoped>\n",
       "    .dataframe tbody tr th:only-of-type {\n",
       "        vertical-align: middle;\n",
       "    }\n",
       "\n",
       "    .dataframe tbody tr th {\n",
       "        vertical-align: top;\n",
       "    }\n",
       "\n",
       "    .dataframe thead th {\n",
       "        text-align: right;\n",
       "    }\n",
       "</style>\n",
       "<table border=\"1\" class=\"dataframe\">\n",
       "  <thead>\n",
       "    <tr style=\"text-align: right;\">\n",
       "      <th></th>\n",
       "      <th>sepal_length</th>\n",
       "      <th>sepal_width</th>\n",
       "      <th>petal_length</th>\n",
       "      <th>petal_width</th>\n",
       "      <th>species</th>\n",
       "    </tr>\n",
       "  </thead>\n",
       "  <tbody>\n",
       "    <tr>\n",
       "      <th>0</th>\n",
       "      <td>5.1</td>\n",
       "      <td>3.5</td>\n",
       "      <td>1.4</td>\n",
       "      <td>0.2</td>\n",
       "      <td>setosa</td>\n",
       "    </tr>\n",
       "  </tbody>\n",
       "</table>\n",
       "</div>"
      ],
      "text/plain": [
       "   sepal_length  sepal_width  petal_length  petal_width species\n",
       "0           5.1          3.5           1.4          0.2  setosa"
      ]
     },
     "execution_count": 2,
     "metadata": {},
     "output_type": "execute_result"
    }
   ],
   "source": [
    "import seaborn as sns\n",
    "data=sns.load_dataset('iris')\n",
    "data.head(1)"
   ]
  },
  {
   "cell_type": "markdown",
   "id": "9bf7e063-68dd-44c0-bebc-695fb6c5f762",
   "metadata": {},
   "source": [
    "### Interpolation"
   ]
  },
  {
   "cell_type": "code",
   "execution_count": 3,
   "id": "e4554cc1-6270-4ef8-8e60-d636ccc681b4",
   "metadata": {},
   "outputs": [],
   "source": [
    "x='sepal_length'\n",
    "y='sepal_width'\n",
    "z='petal_length'"
   ]
  },
  {
   "cell_type": "code",
   "execution_count": 4,
   "id": "037cf5cb-147d-42ac-9c78-2f44023f0a78",
   "metadata": {},
   "outputs": [],
   "source": [
    "from roux.stat.fit import get_grid\n",
    "X,Y,Z=get_grid(\n",
    "    x=data[x].values,\n",
    "    y=data[y].values,\n",
    "    z=data[z].values,\n",
    "    off=0,\n",
    "    grids=100,\n",
    "    method='linear',\n",
    "    test=False,\n",
    "    # **kws\n",
    "    )"
   ]
  },
  {
   "cell_type": "code",
   "execution_count": null,
   "id": "00f17570-9efc-4fed-8369-1a34c8fc4b3f",
   "metadata": {},
   "outputs": [],
   "source": [
    "levels=10\n",
    "fig,ax=plt.subplots(figsize=[2.25,2])\n",
    "import matplotlib.cm as cm\n",
    "cs = ax.contourf(\n",
    "    X,Y,Z,\n",
    "    levels,\n",
    "    cmap=cm.Reds,\n",
    ")\n",
    "cbar = plt.colorbar(\n",
    "    cs,\n",
    "    label=z,\n",
    ")\n",
    "_=ax.set(\n",
    "    xlabel=x,\n",
    "    ylabel=y,\n",
    ")"
   ]
  },
  {
   "cell_type": "code",
   "execution_count": null,
   "id": "bf572f8e-e772-49c3-b5ac-f7fac501e9a3",
   "metadata": {},
   "outputs": [],
   "source": [
    "# alt:\n",
    "# contour = ax.tricontourf(df[x], df[y], df[hue], levels=5, cmap='viridis')\n",
    "# plt.gcf().colorbar(contour, ax=ax, label=hue)"
   ]
  },
  {
   "cell_type": "markdown",
   "id": "b50332c7-89b0-4be5-a8e4-f3d12a169aba",
   "metadata": {
    "tags": []
   },
   "source": [
    "## Documentation\n",
    "[`roux.stat.fit`](https://github.com/rraadd88/roux#module-rouxstatfit)"
   ]
  }
 ],
 "metadata": {
  "kernelspec": {
   "display_name": "datasets",
   "language": "python",
   "name": "datasets"
  },
  "language_info": {
   "codemirror_mode": {
    "name": "ipython",
    "version": 3
   },
   "file_extension": ".py",
   "mimetype": "text/x-python",
   "name": "python",
   "nbconvert_exporter": "python",
   "pygments_lexer": "ipython3",
   "version": "3.12.3"
  }
 },
 "nbformat": 4,
 "nbformat_minor": 5
}
