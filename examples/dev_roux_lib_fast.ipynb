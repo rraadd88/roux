{
 "cells": [
  {
   "cell_type": "markdown",
   "id": "ec2c46be-0cab-43ef-a76a-8be7847259e4",
   "metadata": {},
   "source": [
    "---\n",
    "\n",
    "<!-- <a href=\"https://github.com/rraadd88/roux/blob/master/examples/roux_lib_df.ipynb\"><img align=\"right\" style=\"float:right;\" src=\"https://img.shields.io/badge/-source-cccccc?style=flat-square\"></a>\n",
    " -->\n",
    " \n",
    "## Fast processing."
   ]
  },
  {
   "cell_type": "markdown",
   "id": "38d29a12-57d8-421b-a427-37fbc57b7a40",
   "metadata": {},
   "source": [
    "## Tables"
   ]
  },
  {
   "cell_type": "markdown",
   "id": "38d29d4b-0a0d-434d-ba3d-8e06365a9268",
   "metadata": {},
   "source": [
    "### Test data"
   ]
  },
  {
   "cell_type": "code",
   "execution_count": null,
   "id": "b22b251b-8620-43f4-8ba2-f6fb3052ae81",
   "metadata": {
    "colab": {
     "base_uri": "https://localhost:8080/"
    },
    "id": "5EoQqNwsTqeP",
    "outputId": "18012ec1-49ca-4732-a656-2e91f8dde265",
    "tags": []
   },
   "outputs": [],
   "source": [
    "!wget https://data.rapids.ai/datasets/nyc_parking/nyc_parking_violations_2022.parquet -O /tmp/nyc_parking_violations_2022.parquet"
   ]
  },
  {
   "cell_type": "markdown",
   "id": "0e3d0dd1-5c76-462e-bdd7-3844039bf174",
   "metadata": {
    "id": "JKBQcT64XlMr"
   },
   "source": [
    "#### CPU"
   ]
  },
  {
   "cell_type": "code",
   "execution_count": 1,
   "id": "f3023af3-41c8-4af4-893f-e3b49e8e229b",
   "metadata": {},
   "outputs": [],
   "source": [
    "import pandas as pd"
   ]
  },
  {
   "cell_type": "code",
   "execution_count": 2,
   "id": "a84e817f-7d60-4923-a539-656d0501ba31",
   "metadata": {
    "colab": {
     "base_uri": "https://localhost:8080/",
     "height": 459
    },
    "id": "mDpQhus-Xnfs",
    "outputId": "08cd4668-1d06-43b5-f00c-845e9460fc63"
   },
   "outputs": [
    {
     "name": "stdout",
     "output_type": "stream",
     "text": [
      "CPU times: user 7.54 s, sys: 1.51 s, total: 9.05 s\n",
      "Wall time: 5 s\n"
     ]
    },
    {
     "data": {
      "text/html": [
       "<div>\n",
       "<style scoped>\n",
       "    .dataframe tbody tr th:only-of-type {\n",
       "        vertical-align: middle;\n",
       "    }\n",
       "\n",
       "    .dataframe tbody tr th {\n",
       "        vertical-align: top;\n",
       "    }\n",
       "\n",
       "    .dataframe thead th {\n",
       "        text-align: right;\n",
       "    }\n",
       "</style>\n",
       "<table border=\"1\" class=\"dataframe\">\n",
       "  <thead>\n",
       "    <tr style=\"text-align: right;\">\n",
       "      <th></th>\n",
       "      <th>Registration State</th>\n",
       "      <th>Violation Description</th>\n",
       "      <th>count</th>\n",
       "    </tr>\n",
       "  </thead>\n",
       "  <tbody>\n",
       "    <tr>\n",
       "      <th>0</th>\n",
       "      <td>99</td>\n",
       "      <td>&lt;NA&gt;</td>\n",
       "      <td>17550</td>\n",
       "    </tr>\n",
       "    <tr>\n",
       "      <th>1</th>\n",
       "      <td>AB</td>\n",
       "      <td>14-No Standing</td>\n",
       "      <td>22</td>\n",
       "    </tr>\n",
       "    <tr>\n",
       "      <th>2</th>\n",
       "      <td>AK</td>\n",
       "      <td>PHTO SCHOOL ZN SPEED VIOLATION</td>\n",
       "      <td>125</td>\n",
       "    </tr>\n",
       "    <tr>\n",
       "      <th>3</th>\n",
       "      <td>AL</td>\n",
       "      <td>PHTO SCHOOL ZN SPEED VIOLATION</td>\n",
       "      <td>3668</td>\n",
       "    </tr>\n",
       "    <tr>\n",
       "      <th>4</th>\n",
       "      <td>AR</td>\n",
       "      <td>PHTO SCHOOL ZN SPEED VIOLATION</td>\n",
       "      <td>537</td>\n",
       "    </tr>\n",
       "    <tr>\n",
       "      <th>...</th>\n",
       "      <td>...</td>\n",
       "      <td>...</td>\n",
       "      <td>...</td>\n",
       "    </tr>\n",
       "    <tr>\n",
       "      <th>62</th>\n",
       "      <td>VT</td>\n",
       "      <td>PHTO SCHOOL ZN SPEED VIOLATION</td>\n",
       "      <td>3024</td>\n",
       "    </tr>\n",
       "    <tr>\n",
       "      <th>63</th>\n",
       "      <td>WA</td>\n",
       "      <td>21-No Parking (street clean)</td>\n",
       "      <td>3732</td>\n",
       "    </tr>\n",
       "    <tr>\n",
       "      <th>64</th>\n",
       "      <td>WI</td>\n",
       "      <td>14-No Standing</td>\n",
       "      <td>1639</td>\n",
       "    </tr>\n",
       "    <tr>\n",
       "      <th>65</th>\n",
       "      <td>WV</td>\n",
       "      <td>PHTO SCHOOL ZN SPEED VIOLATION</td>\n",
       "      <td>1185</td>\n",
       "    </tr>\n",
       "    <tr>\n",
       "      <th>66</th>\n",
       "      <td>WY</td>\n",
       "      <td>21-No Parking (street clean)</td>\n",
       "      <td>138</td>\n",
       "    </tr>\n",
       "  </tbody>\n",
       "</table>\n",
       "<p>67 rows × 3 columns</p>\n",
       "</div>"
      ],
      "text/plain": [
       "   Registration State           Violation Description  count\n",
       "0                  99                            <NA>  17550\n",
       "1                  AB                  14-No Standing     22\n",
       "2                  AK  PHTO SCHOOL ZN SPEED VIOLATION    125\n",
       "3                  AL  PHTO SCHOOL ZN SPEED VIOLATION   3668\n",
       "4                  AR  PHTO SCHOOL ZN SPEED VIOLATION    537\n",
       "..                ...                             ...    ...\n",
       "62                 VT  PHTO SCHOOL ZN SPEED VIOLATION   3024\n",
       "63                 WA    21-No Parking (street clean)   3732\n",
       "64                 WI                  14-No Standing   1639\n",
       "65                 WV  PHTO SCHOOL ZN SPEED VIOLATION   1185\n",
       "66                 WY    21-No Parking (street clean)    138\n",
       "\n",
       "[67 rows x 3 columns]"
      ]
     },
     "execution_count": 2,
     "metadata": {},
     "output_type": "execute_result"
    }
   ],
   "source": [
    "%%time\n",
    "\n",
    "df = pd.read_parquet(\n",
    "    \"/tmp/nyc_parking_violations_2022.parquet\",\n",
    "    columns=[\"Registration State\", \"Violation Description\", \"Vehicle Body Type\", \"Issue Date\", \"Summons Number\"]\n",
    ")\n",
    "\n",
    "(df[[\"Registration State\", \"Violation Description\"]]\n",
    " .value_counts()\n",
    " .groupby(\"Registration State\")\n",
    " .head(1)\n",
    " .sort_index()\n",
    " .reset_index()\n",
    ")"
   ]
  },
  {
   "cell_type": "code",
   "execution_count": null,
   "id": "ec1c7611-988b-4224-9433-1a556e0c2b8e",
   "metadata": {
    "colab": {
     "base_uri": "https://localhost:8080/",
     "height": 490
    },
    "id": "9Gw5TWH2Xqgv",
    "outputId": "1789b873-045f-464f-f10b-26859e3ed5c8"
   },
   "outputs": [],
   "source": [
    "%%time\n",
    "\n",
    "(df\n",
    " .groupby([\"Vehicle Body Type\"])\n",
    " .agg({\"Summons Number\": \"count\"})\n",
    " .rename(columns={\"Summons Number\": \"Count\"})\n",
    " .sort_values([\"Count\"], ascending=False)\n",
    ")"
   ]
  },
  {
   "cell_type": "code",
   "execution_count": null,
   "id": "9d6d0861-b599-4815-a552-4ce753450b76",
   "metadata": {
    "colab": {
     "base_uri": "https://localhost:8080/"
    },
    "id": "BovQgNrpXr2l",
    "outputId": "534a9602-c9b9-45b3-8da3-995066f9b692"
   },
   "outputs": [],
   "source": [
    "%%time\n",
    "\n",
    "weekday_names = {\n",
    "    0: \"Monday\",\n",
    "    1: \"Tuesday\",\n",
    "    2: \"Wednesday\",\n",
    "    3: \"Thursday\",\n",
    "    4: \"Friday\",\n",
    "    5: \"Saturday\",\n",
    "    6: \"Sunday\",\n",
    "}\n",
    "\n",
    "df[\"Issue Date\"] = df[\"Issue Date\"].astype(\"datetime64[ms]\")\n",
    "df[\"issue_weekday\"] = df[\"Issue Date\"].dt.weekday.map(weekday_names)\n",
    "\n",
    "df.groupby([\"issue_weekday\"])[\"Summons Number\"].count().sort_values()"
   ]
  },
  {
   "cell_type": "markdown",
   "id": "912d2cda-33d5-4819-9888-9c3c344d0e5c",
   "metadata": {
    "id": "VgAWS0yXXtGj"
   },
   "source": [
    "#### GPU"
   ]
  },
  {
   "cell_type": "code",
   "execution_count": 3,
   "id": "48863d3d-45bf-4337-8163-50101b25e9e3",
   "metadata": {
    "colab": {
     "base_uri": "https://localhost:8080/"
    },
    "id": "hW5rUr2tXzUW",
    "outputId": "22066842-4cd7-48de-a49d-a08a56fdc823"
   },
   "outputs": [
    {
     "data": {
      "text/plain": [
       "{'status': 'ok', 'restart': True}"
      ]
     },
     "execution_count": 3,
     "metadata": {},
     "output_type": "execute_result"
    }
   ],
   "source": [
    "get_ipython().kernel.do_shutdown(restart=True)"
   ]
  },
  {
   "cell_type": "code",
   "execution_count": 2,
   "id": "875d796b-16ae-49fc-9b73-ac0863d89a6e",
   "metadata": {
    "id": "NjvPsTlGZrW7"
   },
   "outputs": [
    {
     "name": "stdout",
     "output_type": "stream",
     "text": [
      "The cudf.pandas extension is already loaded. To reload it, use:\n",
      "  %reload_ext cudf.pandas\n"
     ]
    }
   ],
   "source": [
    "%load_ext cudf.pandas"
   ]
  },
  {
   "cell_type": "code",
   "execution_count": 3,
   "id": "b2eef71c-0fcd-440b-afce-9438e424642d",
   "metadata": {
    "id": "XL_u4l5gZJte"
   },
   "outputs": [
    {
     "name": "stdout",
     "output_type": "stream",
     "text": [
      "CPU times: user 842 ms, sys: 871 ms, total: 1.71 s\n",
      "Wall time: 1.75 s\n"
     ]
    },
    {
     "data": {
      "text/html": [
       "<div>\n",
       "<style scoped>\n",
       "    .dataframe tbody tr th:only-of-type {\n",
       "        vertical-align: middle;\n",
       "    }\n",
       "\n",
       "    .dataframe tbody tr th {\n",
       "        vertical-align: top;\n",
       "    }\n",
       "\n",
       "    .dataframe thead th {\n",
       "        text-align: right;\n",
       "    }\n",
       "</style>\n",
       "<table border=\"1\" class=\"dataframe\">\n",
       "  <thead>\n",
       "    <tr style=\"text-align: right;\">\n",
       "      <th></th>\n",
       "      <th>Registration State</th>\n",
       "      <th>Violation Description</th>\n",
       "      <th>count</th>\n",
       "    </tr>\n",
       "  </thead>\n",
       "  <tbody>\n",
       "    <tr>\n",
       "      <th>0</th>\n",
       "      <td>99</td>\n",
       "      <td>&lt;NA&gt;</td>\n",
       "      <td>17550</td>\n",
       "    </tr>\n",
       "    <tr>\n",
       "      <th>1</th>\n",
       "      <td>AB</td>\n",
       "      <td>14-No Standing</td>\n",
       "      <td>22</td>\n",
       "    </tr>\n",
       "    <tr>\n",
       "      <th>2</th>\n",
       "      <td>AK</td>\n",
       "      <td>PHTO SCHOOL ZN SPEED VIOLATION</td>\n",
       "      <td>125</td>\n",
       "    </tr>\n",
       "    <tr>\n",
       "      <th>3</th>\n",
       "      <td>AL</td>\n",
       "      <td>PHTO SCHOOL ZN SPEED VIOLATION</td>\n",
       "      <td>3668</td>\n",
       "    </tr>\n",
       "    <tr>\n",
       "      <th>4</th>\n",
       "      <td>AR</td>\n",
       "      <td>PHTO SCHOOL ZN SPEED VIOLATION</td>\n",
       "      <td>537</td>\n",
       "    </tr>\n",
       "    <tr>\n",
       "      <th>...</th>\n",
       "      <td>...</td>\n",
       "      <td>...</td>\n",
       "      <td>...</td>\n",
       "    </tr>\n",
       "    <tr>\n",
       "      <th>62</th>\n",
       "      <td>VT</td>\n",
       "      <td>PHTO SCHOOL ZN SPEED VIOLATION</td>\n",
       "      <td>3024</td>\n",
       "    </tr>\n",
       "    <tr>\n",
       "      <th>63</th>\n",
       "      <td>WA</td>\n",
       "      <td>21-No Parking (street clean)</td>\n",
       "      <td>3732</td>\n",
       "    </tr>\n",
       "    <tr>\n",
       "      <th>64</th>\n",
       "      <td>WI</td>\n",
       "      <td>14-No Standing</td>\n",
       "      <td>1639</td>\n",
       "    </tr>\n",
       "    <tr>\n",
       "      <th>65</th>\n",
       "      <td>WV</td>\n",
       "      <td>PHTO SCHOOL ZN SPEED VIOLATION</td>\n",
       "      <td>1185</td>\n",
       "    </tr>\n",
       "    <tr>\n",
       "      <th>66</th>\n",
       "      <td>WY</td>\n",
       "      <td>21-No Parking (street clean)</td>\n",
       "      <td>138</td>\n",
       "    </tr>\n",
       "  </tbody>\n",
       "</table>\n",
       "<p>67 rows × 3 columns</p>\n",
       "</div>"
      ],
      "text/plain": [
       "   Registration State           Violation Description  count\n",
       "0                  99                            <NA>  17550\n",
       "1                  AB                  14-No Standing     22\n",
       "2                  AK  PHTO SCHOOL ZN SPEED VIOLATION    125\n",
       "3                  AL  PHTO SCHOOL ZN SPEED VIOLATION   3668\n",
       "4                  AR  PHTO SCHOOL ZN SPEED VIOLATION    537\n",
       "..                ...                             ...    ...\n",
       "62                 VT  PHTO SCHOOL ZN SPEED VIOLATION   3024\n",
       "63                 WA    21-No Parking (street clean)   3732\n",
       "64                 WI                  14-No Standing   1639\n",
       "65                 WV  PHTO SCHOOL ZN SPEED VIOLATION   1185\n",
       "66                 WY    21-No Parking (street clean)    138\n",
       "\n",
       "[67 rows x 3 columns]"
      ]
     },
     "execution_count": 3,
     "metadata": {},
     "output_type": "execute_result"
    }
   ],
   "source": [
    "%%time\n",
    "\n",
    "import pandas as pd\n",
    "\n",
    "df = pd.read_parquet(\n",
    "    \"/tmp/nyc_parking_violations_2022.parquet\",\n",
    "    columns=[\"Registration State\", \"Violation Description\", \"Vehicle Body Type\", \"Issue Date\", \"Summons Number\"]\n",
    ")\n",
    "\n",
    "(df[[\"Registration State\", \"Violation Description\"]]\n",
    " .value_counts()\n",
    " .groupby(\"Registration State\")\n",
    " .head(1)\n",
    " .sort_index()\n",
    " .reset_index()\n",
    ")"
   ]
  },
  {
   "cell_type": "code",
   "execution_count": null,
   "id": "4492f182-7420-4d7f-92c5-7917a08d8cfd",
   "metadata": {
    "id": "BLWa8ed6d-pD"
   },
   "outputs": [],
   "source": [
    "%%time\n",
    "\n",
    "(df\n",
    " .groupby([\"Vehicle Body Type\"])\n",
    " .agg({\"Summons Number\": \"count\"})\n",
    " .rename(columns={\"Summons Number\": \"Count\"})\n",
    " .sort_values([\"Count\"], ascending=False)\n",
    ")"
   ]
  },
  {
   "cell_type": "code",
   "execution_count": null,
   "id": "ee77870f-1908-4e12-910d-6f5af0d0f82f",
   "metadata": {
    "id": "X6ASy4mPd_-c"
   },
   "outputs": [],
   "source": [
    "%%time\n",
    "\n",
    "weekday_names = {\n",
    "    0: \"Monday\",\n",
    "    1: \"Tuesday\",\n",
    "    2: \"Wednesday\",\n",
    "    3: \"Thursday\",\n",
    "    4: \"Friday\",\n",
    "    5: \"Saturday\",\n",
    "    6: \"Sunday\",\n",
    "}\n",
    "\n",
    "df[\"Issue Date\"] = df[\"Issue Date\"].astype(\"datetime64[ms]\")\n",
    "df[\"issue_weekday\"] = df[\"Issue Date\"].dt.weekday.map(weekday_names)\n",
    "\n",
    "df.groupby([\"issue_weekday\"])[\"Summons Number\"].count().sort_values()"
   ]
  },
  {
   "cell_type": "code",
   "execution_count": null,
   "id": "31b970b6-d321-46a6-9bd4-b9602e898fd9",
   "metadata": {},
   "outputs": [],
   "source": [
    "import sys\n",
    "sys.exit(0)"
   ]
  },
  {
   "cell_type": "markdown",
   "id": "b84af234-d2ab-40d9-9987-dbb2a1f78c6c",
   "metadata": {
    "jp-MarkdownHeadingCollapsed": true
   },
   "source": [
    "### Test data"
   ]
  },
  {
   "cell_type": "code",
   "execution_count": null,
   "id": "01dac5b4-efaa-445b-aebf-f269d81ccf59",
   "metadata": {},
   "outputs": [],
   "source": [
    "import pandas as pd\n",
    "import numpy as np\n",
    "import random\n",
    "import string\n",
    "import time\n",
    "\n",
    "def generate_synthetic_pandas_data(num_rows, num_cols, include_strings=True, include_datetimes=True):\n",
    "    \"\"\"\n",
    "    Generates a synthetic pandas DataFrame for performance testing.\n",
    "\n",
    "    Args:\n",
    "        num_rows (int): The number of rows for the DataFrame.\n",
    "        num_cols (int): The base number of numerical columns.\n",
    "        include_strings (bool): Whether to include a string column.\n",
    "        include_datetimes (bool): Whether to include a datetime column.\n",
    "\n",
    "    Returns:\n",
    "        pd.DataFrame: A synthetic pandas DataFrame.\n",
    "    \"\"\"\n",
    "    print(f\"Generating a pandas DataFrame with {num_rows} rows...\")\n",
    "    start_time = time.time()\n",
    "\n",
    "    data = {}\n",
    "\n",
    "    # Numerical columns (integers and floats)\n",
    "    for i in range(num_cols):\n",
    "        if i % 2 == 0:\n",
    "            data[f'int_col_{i}'] = np.random.randint(0, 100000, size=num_rows)\n",
    "        else:\n",
    "            data[f'float_col_{i}'] = np.random.rand(num_rows) * 1000\n",
    "\n",
    "    # Categorical/Low-cardinality integer column\n",
    "    data['category_id'] = np.random.randint(0, 50, size=num_rows) # 50 unique categories\n",
    "\n",
    "    # Boolean column\n",
    "    data['is_active'] = np.random.choice([True, False], size=num_rows)\n",
    "\n",
    "    if include_strings:\n",
    "        # String column (e.g., product codes, names)\n",
    "        # Generate random strings of a fixed length\n",
    "        string_length = 10\n",
    "        random_strings = [''.join(random.choices(string.ascii_letters + string.digits, k=string_length))\n",
    "                          for _ in range(num_rows)]\n",
    "        data['string_col'] = random_strings\n",
    "\n",
    "    if include_datetimes:\n",
    "        # Datetime column\n",
    "        start_date = pd.to_datetime('2020-01-01')\n",
    "        end_date = pd.to_datetime('2025-12-31')\n",
    "        time_diff = (end_date - start_date).total_seconds()\n",
    "        random_seconds = np.random.rand(num_rows) * time_diff\n",
    "        data['datetime_col'] = pd.to_datetime(start_date.timestamp() + random_seconds, unit='s')\n",
    "\n",
    "\n",
    "    df = pd.DataFrame(data)\n",
    "    end_time = time.time()\n",
    "    print(f\"Pandas DataFrame generation completed in {end_time - start_time:.2f} seconds.\")\n",
    "    print(f\"DataFrame memory usage: {df.memory_usage(deep=True).sum() / (1024**2):.2f} MB\")\n",
    "    print(\"\\nSample DataFrame Head:\")\n",
    "    # print(df.head(1))\n",
    "    return df\n",
    "\n",
    "df.head(1)"
   ]
  },
  {
   "cell_type": "code",
   "execution_count": null,
   "id": "0105db46-3bf2-4544-8ab2-2e30a117958b",
   "metadata": {},
   "outputs": [],
   "source": [
    "p='tests/input/roux_lib_df/large.pqt'"
   ]
  },
  {
   "cell_type": "code",
   "execution_count": null,
   "id": "88036f00-865b-45d6-b007-92bc9dfd3ee7",
   "metadata": {},
   "outputs": [],
   "source": [
    "from pathlib import Path\n",
    "if not Path(p).exists():\n",
    "    df = generate_synthetic_pandas_data(\n",
    "       num_rows=1000_000,\n",
    "        num_cols=1,\n",
    "       include_strings=True,\n",
    "       include_datetimes=True,\n",
    "    )\n",
    "    \n",
    "    from roux.lib.io import to_table\n",
    "    to_table(\n",
    "        df,\n",
    "        p,    \n",
    "    )\n",
    "df.head(1)"
   ]
  },
  {
   "cell_type": "markdown",
   "id": "2c4b9aed-1783-4880-9deb-97b59367cd58",
   "metadata": {},
   "source": [
    "#### CPU"
   ]
  },
  {
   "cell_type": "code",
   "execution_count": null,
   "id": "05d19715-759e-4ef3-87e1-6a320dc4cc07",
   "metadata": {},
   "outputs": [],
   "source": [
    "get_ipython().kernel.do_shutdown(restart=True)"
   ]
  },
  {
   "cell_type": "code",
   "execution_count": null,
   "id": "913807f2-3732-4068-9d79-37fbe0d2688b",
   "metadata": {},
   "outputs": [],
   "source": [
    "p='tests/input/roux_lib_df/large.pqt'\n",
    "from roux.lib.io import read_table\n",
    "df=read_table(p)\n",
    "df.head(1)"
   ]
  },
  {
   "cell_type": "code",
   "execution_count": null,
   "id": "a0b783f0-b3f7-4b04-9033-6553bc8eda89",
   "metadata": {},
   "outputs": [],
   "source": [
    "from roux.lib.log import Logger\n",
    "logging=Logger()\n",
    "\n",
    "_time_start=logging.info('start',time=True)\n",
    "\n",
    "print(\n",
    "    df\n",
    "    .groupby('category_id')\n",
    "    .filter(lambda df: df['int_col_0'].sum()>0)\n",
    "    ['is_active'].value_counts()\n",
    "    .head()\n",
    ")\n",
    "\n",
    "logging.info('end',time=_time_start)"
   ]
  },
  {
   "cell_type": "markdown",
   "id": "129d9b2a-075b-4406-93c2-ea6f9dcaf1aa",
   "metadata": {},
   "source": [
    "#### GPU"
   ]
  },
  {
   "cell_type": "code",
   "execution_count": null,
   "id": "d9ed8616-810a-4a52-99fc-f20d61d637bc",
   "metadata": {},
   "outputs": [],
   "source": [
    "get_ipython().kernel.do_shutdown(restart=True)"
   ]
  },
  {
   "cell_type": "code",
   "execution_count": null,
   "id": "3922527a-9f48-4f3f-b419-a5d7b5724fd9",
   "metadata": {},
   "outputs": [],
   "source": [
    "import cudf.pandas\n",
    "cudf.pandas.install()\n",
    "\n",
    "import pandas as pd\n",
    "print(pd)"
   ]
  },
  {
   "cell_type": "code",
   "execution_count": null,
   "id": "4a7cc0c7-203a-4e0a-b6c6-f8f246be1cee",
   "metadata": {},
   "outputs": [],
   "source": [
    "p='tests/input/roux_lib_df/large.pqt'\n",
    "if 'fast=cudf' in str(pd):\n",
    "    import cudf\n",
    "    df=cudf.read_parquet(p, engine=\"pyarrow\")\n",
    "df.head(1)"
   ]
  },
  {
   "cell_type": "code",
   "execution_count": null,
   "id": "c88d42c8-92ad-4eaf-bc44-b90bc94eb8a3",
   "metadata": {
    "scrolled": true
   },
   "outputs": [],
   "source": [
    "from roux.lib.log import Logger\n",
    "logging=Logger()\n",
    "\n",
    "_time_start=logging.info('start',time=True)\n",
    "\n",
    "print(\n",
    "    df\n",
    "    .groupby('category_id')\n",
    "    .apply(lambda df: df['int_col_0'].sum()>0)\n",
    "    # ['is_active'].value_counts()\n",
    "    .head()\n",
    ")\n",
    "\n",
    "logging.info('end',time=_time_start)"
   ]
  },
  {
   "cell_type": "markdown",
   "id": "7ff84451-31c2-4285-a35a-b2d4d9af14ec",
   "metadata": {},
   "source": [
    "## Documentation\n",
    "[`roux.lib.fast`](https://github.com/rraadd88/roux#module-rouxlibfast)"
   ]
  },
  {
   "cell_type": "code",
   "execution_count": null,
   "id": "ba99bede-62b7-4587-a69e-425624d44f7e",
   "metadata": {},
   "outputs": [],
   "source": []
  }
 ],
 "metadata": {
  "kernelspec": {
   "display_name": "roux",
   "language": "python",
   "name": "roux"
  },
  "language_info": {
   "codemirror_mode": {
    "name": "ipython",
    "version": 3
   },
   "file_extension": ".py",
   "mimetype": "text/x-python",
   "name": "python",
   "nbconvert_exporter": "python",
   "pygments_lexer": "ipython3",
   "version": "3.10.17"
  }
 },
 "nbformat": 4,
 "nbformat_minor": 5
}
