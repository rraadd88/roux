{
 "cells": [
  {
   "cell_type": "markdown",
   "id": "da10a7c9-2d1c-4cba-9b7e-69aa47e2517b",
   "metadata": {},
   "source": [
    "---\n",
    "\n",
    "<!-- <a href=\"https://github.com/rraadd88/roux/blob/master/examples/roux_viz_df.ipynb\"><img align=\"right\" style=\"float:right;\" src=\"https://img.shields.io/badge/-source-cccccc?style=flat-square\"></a>\n",
    " -->\n",
    " \n",
    "## 📈 Wrapper around Series plotting functions."
   ]
  },
  {
   "cell_type": "markdown",
   "id": "3109b89e-01b1-4a75-96f6-926567014e64",
   "metadata": {},
   "source": [
    "**Demo data**"
   ]
  },
  {
   "cell_type": "code",
   "execution_count": 1,
   "id": "9b079b16-7d07-409a-94a5-551f9288a1c4",
   "metadata": {},
   "outputs": [
    {
     "data": {
      "text/html": [
       "<div>\n",
       "<style scoped>\n",
       "    .dataframe tbody tr th:only-of-type {\n",
       "        vertical-align: middle;\n",
       "    }\n",
       "\n",
       "    .dataframe tbody tr th {\n",
       "        vertical-align: top;\n",
       "    }\n",
       "\n",
       "    .dataframe thead th {\n",
       "        text-align: right;\n",
       "    }\n",
       "</style>\n",
       "<table border=\"1\" class=\"dataframe\">\n",
       "  <thead>\n",
       "    <tr style=\"text-align: right;\">\n",
       "      <th></th>\n",
       "      <th>sepal_length</th>\n",
       "      <th>sepal_width</th>\n",
       "      <th>petal_length</th>\n",
       "      <th>petal_width</th>\n",
       "      <th>species</th>\n",
       "      <th>id</th>\n",
       "    </tr>\n",
       "  </thead>\n",
       "  <tbody>\n",
       "    <tr>\n",
       "      <th>0</th>\n",
       "      <td>5.1</td>\n",
       "      <td>3.5</td>\n",
       "      <td>1.4</td>\n",
       "      <td>0.2</td>\n",
       "      <td>setosa</td>\n",
       "      <td>0</td>\n",
       "    </tr>\n",
       "  </tbody>\n",
       "</table>\n",
       "</div>"
      ],
      "text/plain": [
       "   sepal_length  sepal_width  petal_length  petal_width species  id\n",
       "0           5.1          3.5           1.4          0.2  setosa   0"
      ]
     },
     "execution_count": 1,
     "metadata": {},
     "output_type": "execute_result"
    }
   ],
   "source": [
    "import seaborn as sns\n",
    "df1=sns.load_dataset('iris')\n",
    "# df1=df1.loc[df1['species'].isin(['setosa','virginica']),:]\n",
    "df1['id']=range(len(df1))\n",
    "df1.head(1)"
   ]
  },
  {
   "cell_type": "code",
   "execution_count": 2,
   "id": "12b3c71d-9e76-452d-87e5-f1091302b865",
   "metadata": {},
   "outputs": [],
   "source": [
    "## loading roux-series attributes\n",
    "import roux.viz.ds as rs #noqa"
   ]
  },
  {
   "cell_type": "markdown",
   "id": "7600e38b-1b38-4c15-be63-f005f9c4496f",
   "metadata": {},
   "source": [
    "## `.hist`"
   ]
  },
  {
   "cell_type": "code",
   "execution_count": 5,
   "id": "96ca4212-60a3-4def-b3ad-abf7998a4b4e",
   "metadata": {},
   "outputs": [
    {
     "data": {
      "image/png": "[encoded data removed]",
      "text/plain": [
       "<Figure size 640x480 with 1 Axes>"
      ]
     },
     "metadata": {},
     "output_type": "display_data"
    }
   ],
   "source": [
    "_=df1['sepal_length'].rs.hist()"
   ]
  },
  {
   "cell_type": "markdown",
   "id": "0e275000-d142-4143-8d6b-22d97502fe9d",
   "metadata": {},
   "source": [
    "## Documentation\n",
    "[`roux.viz.ds`](https://github.com/rraadd88/roux#module-rouxvizds)"
   ]
  }
 ],
 "metadata": {
  "kernelspec": {
   "display_name": "parcan",
   "language": "python",
   "name": "parcan"
  },
  "language_info": {
   "codemirror_mode": {
    "name": "ipython",
    "version": 3
   },
   "file_extension": ".py",
   "mimetype": "text/x-python",
   "name": "python",
   "nbconvert_exporter": "python",
   "pygments_lexer": "ipython3",
   "version": "3.10.14"
  }
 },
 "nbformat": 4,
 "nbformat_minor": 5
}
