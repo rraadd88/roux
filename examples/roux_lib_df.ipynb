{
 "cells": [
  {
   "cell_type": "markdown",
   "id": "7e9248c4-351f-4f36-a4ae-5bc5a7439af4",
   "metadata": {},
   "source": [
    "---\n",
    "\n",
    "<a href=\"https://github.com/rraadd88/roux/blob/master/examples/roux_lib_df.ipynb\"><img align=\"right\" style=\"float:right;\" src=\"https://img.shields.io/badge/-source-cccccc?style=flat-square\"></a>\n",
    "\n",
    "## ⌗ Tables/Dataframes."
   ]
  },
  {
   "cell_type": "code",
   "execution_count": 1,
   "id": "101b49f9-ff08-4f1b-8411-3d79d8996ba3",
   "metadata": {},
   "outputs": [
    {
     "data": {
      "application/vnd.jupyter.widget-view+json": {
       "model_id": "b4d8c82ef6b34a918458ec7ba6befbab",
       "version_major": 2,
       "version_minor": 0
      },
      "text/plain": [
       "0it [00:00, ?it/s]"
      ]
     },
     "metadata": {},
     "output_type": "display_data"
    },
    {
     "name": "stderr",
     "output_type": "stream",
     "text": [
      "INFO:root:Python implementation: CPython\n",
      "Python version       : 3.7.13\n",
      "IPython version      : 7.31.1\n",
      "scipy     : 1.7.3\n",
      "matplotlib: 3.5.1\n",
      "logging   : 0.5.1.2\n",
      "pandas    : 1.3.5\n",
      "sys       : 3.7.13 (default, Mar 29 2022, 02:18:16) \n",
      "[GCC 7.5.0]\n",
      "numpy     : 1.18.1\n",
      "seaborn   : 0.11.2\n",
      "tqdm      : 4.64.1\n",
      "re        : 2.2.1\n",
      "\n"
     ]
    },
    {
     "name": "stdout",
     "output_type": "stream",
     "text": [
      "INFO: Pandarallel will run on 6 workers.\n",
      "INFO: Pandarallel will use standard multiprocessing data transfer (pipe) to transfer data between the main process and workers.\n"
     ]
    }
   ],
   "source": [
    "# import helper functions\n",
    "from roux.global_imports import *"
   ]
  },
  {
   "cell_type": "markdown",
   "id": "6d7ce6de-963e-4301-810d-a4099908060d",
   "metadata": {},
   "source": [
    "### Helper functions for basic data validations "
   ]
  },
  {
   "cell_type": "code",
   "execution_count": 2,
   "id": "227c06e5-e100-43c1-affc-6f4f06b57b34",
   "metadata": {
    "tags": [
     "False"
    ]
   },
   "outputs": [],
   "source": [
    "## demo data\n",
    "import seaborn as sns\n",
    "df1=sns.load_dataset('iris')"
   ]
  },
  {
   "cell_type": "code",
   "execution_count": 3,
   "id": "a98fed3e-42ea-44f6-8f8f-b607505685e0",
   "metadata": {
    "tags": [
     "validate_no_dups"
    ]
   },
   "outputs": [
    {
     "name": "stderr",
     "output_type": "stream",
     "text": [
      "WARNING:root:duplicate rows found\n"
     ]
    },
    {
     "data": {
      "text/plain": [
       "False"
      ]
     },
     "execution_count": 3,
     "metadata": {},
     "output_type": "execute_result"
    }
   ],
   "source": [
    "# .rd (roux data) attributes\n",
    "## validate no missing values in the table\n",
    "assert df1.rd.validate_no_na()\n",
    "## validate no duplicates in the table\n",
    "df1.rd.validate_no_dups()"
   ]
  },
  {
   "cell_type": "markdown",
   "id": "83baed8a-ff64-4f26-bb4e-2a96f6bde36c",
   "metadata": {},
   "source": [
    "### Helper functions for checking duplicates in a table"
   ]
  },
  {
   "cell_type": "code",
   "execution_count": 4,
   "id": "f9682079-62d9-4f98-9a0c-4aae659bc3fc",
   "metadata": {},
   "outputs": [
    {
     "name": "stderr",
     "output_type": "stream",
     "text": [
      "INFO:root:duplicate rows: 1.3% (2/150)\n"
     ]
    },
    {
     "data": {
      "text/html": [
       "<div>\n",
       "<style scoped>\n",
       "    .dataframe tbody tr th:only-of-type {\n",
       "        vertical-align: middle;\n",
       "    }\n",
       "\n",
       "    .dataframe tbody tr th {\n",
       "        vertical-align: top;\n",
       "    }\n",
       "\n",
       "    .dataframe thead th {\n",
       "        text-align: right;\n",
       "    }\n",
       "</style>\n",
       "<table border=\"1\" class=\"dataframe\">\n",
       "  <thead>\n",
       "    <tr style=\"text-align: right;\">\n",
       "      <th></th>\n",
       "      <th>sepal_length</th>\n",
       "      <th>sepal_width</th>\n",
       "      <th>petal_length</th>\n",
       "      <th>petal_width</th>\n",
       "      <th>species</th>\n",
       "    </tr>\n",
       "  </thead>\n",
       "  <tbody>\n",
       "    <tr>\n",
       "      <th>101</th>\n",
       "      <td>5.8</td>\n",
       "      <td>2.7</td>\n",
       "      <td>5.1</td>\n",
       "      <td>1.9</td>\n",
       "      <td>virginica</td>\n",
       "    </tr>\n",
       "    <tr>\n",
       "      <th>142</th>\n",
       "      <td>5.8</td>\n",
       "      <td>2.7</td>\n",
       "      <td>5.1</td>\n",
       "      <td>1.9</td>\n",
       "      <td>virginica</td>\n",
       "    </tr>\n",
       "  </tbody>\n",
       "</table>\n",
       "</div>"
      ],
      "text/plain": [
       "     sepal_length  sepal_width  petal_length  petal_width    species\n",
       "101           5.8          2.7           5.1          1.9  virginica\n",
       "142           5.8          2.7           5.1          1.9  virginica"
      ]
     },
     "execution_count": 4,
     "metadata": {},
     "output_type": "execute_result"
    }
   ],
   "source": [
    "df1.rd.check_dups()"
   ]
  },
  {
   "cell_type": "markdown",
   "id": "d719cd12-3fdc-42db-a2a1-fb9a722b58ab",
   "metadata": {},
   "source": [
    "### Helper functions for logging changes in the dataframe shapes"
   ]
  },
  {
   "cell_type": "code",
   "execution_count": 5,
   "id": "ab950a40-6a8a-47e1-b214-c607ca4fb10e",
   "metadata": {},
   "outputs": [
    {
     "name": "stderr",
     "output_type": "stream",
     "text": [
      "INFO:root:drop_duplicates: shape changed: (150, 5)->(149, 5), width constant\n"
     ]
    }
   ],
   "source": [
    "_=df1.log.drop_duplicates()"
   ]
  },
  {
   "cell_type": "code",
   "execution_count": 6,
   "id": "d1f38196-1363-489e-b330-eca4ad5fc3da",
   "metadata": {},
   "outputs": [
    {
     "name": "stderr",
     "output_type": "stream",
     "text": [
      "INFO:root:drop_duplicates: shape changed: (150, 5)->(149, 5), width constant\n",
      "INFO:root:shape = (149, 5) nunique: sepal_length = 35\n",
      "INFO:root:shape = (149, 5) by \"species\", nunique \"sepal_length\": setosa = 15; versicolor = 21; virginica = 21\n"
     ]
    }
   ],
   "source": [
    "## within pipes\n",
    "_=(df1\n",
    "   .log.drop_duplicates()\n",
    "   .log('sepal_length')\n",
    "   .log('sepal_length',groupby='species')\n",
    "  )"
   ]
  },
  {
   "cell_type": "markdown",
   "id": "f1041327-080c-40b7-856a-5f032bced1c3",
   "metadata": {},
   "source": [
    "### Helper functions to filter dataframe using a dictionary"
   ]
  },
  {
   "cell_type": "code",
   "execution_count": 7,
   "id": "e58f67cb-d0e4-48dc-8e84-6333463ebfbd",
   "metadata": {},
   "outputs": [
    {
     "name": "stderr",
     "output_type": "stream",
     "text": [
      "INFO:root:(150, 5)\n",
      "INFO:root:(50, 5)\n"
     ]
    }
   ],
   "source": [
    "_=df1.rd.filter_rows({'species':'setosa'})"
   ]
  },
  {
   "cell_type": "markdown",
   "id": "157ee620-75cc-4cef-a60c-057eb4ce6686",
   "metadata": {},
   "source": [
    "### Helper functions to merge tables while validating the changes in shapes  "
   ]
  },
  {
   "cell_type": "code",
   "execution_count": 8,
   "id": "f43617b5-67fa-4960-8929-103089a5379c",
   "metadata": {},
   "outputs": [],
   "source": [
    "df2=df1.groupby('species').head(1)"
   ]
  },
  {
   "cell_type": "code",
   "execution_count": 9,
   "id": "5d37292f-faff-4d86-b635-5e9fff62a457",
   "metadata": {
    "tags": [
     "merge"
    ]
   },
   "outputs": [
    {
     "name": "stderr",
     "output_type": "stream",
     "text": [
      "INFO:root:merge: shape changed: (150, 5)->(150, 9), length constant\n"
     ]
    },
    {
     "data": {
      "text/html": [
       "<div>\n",
       "<style scoped>\n",
       "    .dataframe tbody tr th:only-of-type {\n",
       "        vertical-align: middle;\n",
       "    }\n",
       "\n",
       "    .dataframe tbody tr th {\n",
       "        vertical-align: top;\n",
       "    }\n",
       "\n",
       "    .dataframe thead th {\n",
       "        text-align: right;\n",
       "    }\n",
       "</style>\n",
       "<table border=\"1\" class=\"dataframe\">\n",
       "  <thead>\n",
       "    <tr style=\"text-align: right;\">\n",
       "      <th></th>\n",
       "      <th>sepal_length_x</th>\n",
       "      <th>sepal_width_x</th>\n",
       "      <th>petal_length_x</th>\n",
       "      <th>petal_width_x</th>\n",
       "      <th>species</th>\n",
       "      <th>sepal_length_y</th>\n",
       "      <th>sepal_width_y</th>\n",
       "      <th>petal_length_y</th>\n",
       "      <th>petal_width_y</th>\n",
       "    </tr>\n",
       "  </thead>\n",
       "  <tbody>\n",
       "    <tr>\n",
       "      <th>0</th>\n",
       "      <td>5.1</td>\n",
       "      <td>3.5</td>\n",
       "      <td>1.4</td>\n",
       "      <td>0.2</td>\n",
       "      <td>setosa</td>\n",
       "      <td>5.1</td>\n",
       "      <td>3.5</td>\n",
       "      <td>1.4</td>\n",
       "      <td>0.2</td>\n",
       "    </tr>\n",
       "  </tbody>\n",
       "</table>\n",
       "</div>"
      ],
      "text/plain": [
       "   sepal_length_x  sepal_width_x  petal_length_x  petal_width_x species  \\\n",
       "0             5.1            3.5             1.4            0.2  setosa   \n",
       "\n",
       "   sepal_length_y  sepal_width_y  petal_length_y  petal_width_y  \n",
       "0             5.1            3.5             1.4            0.2  "
      ]
     },
     "execution_count": 9,
     "metadata": {},
     "output_type": "execute_result"
    }
   ],
   "source": [
    "df1.log.merge(right=df2,\n",
    "              how='inner',\n",
    "              on='species',\n",
    "              validate='m:1',\n",
    "             validate_equal_length=True,\n",
    "             # validate_no_decrease_length=True,\n",
    "             ).head(1)"
   ]
  },
  {
   "cell_type": "markdown",
   "id": "d36c595a-ab8c-413e-b6d7-e6fc08ccd0f9",
   "metadata": {},
   "source": [
    "#### Documentation\n",
    "[`roux.lib.df`](https://github.com/rraadd88/roux#module-roux.lib.df)\n",
    "[`roux.lib.dfs`](https://github.com/rraadd88/roux#module-roux.lib.dfs)"
   ]
  }
 ],
 "metadata": {
  "kernelspec": {
   "display_name": "yeast",
   "language": "python",
   "name": "yeast"
  },
  "language_info": {
   "codemirror_mode": {
    "name": "ipython",
    "version": 3
   },
   "file_extension": ".py",
   "mimetype": "text/x-python",
   "name": "python",
   "nbconvert_exporter": "python",
   "pygments_lexer": "ipython3",
   "version": "3.7.13"
  }
 },
 "nbformat": 4,
 "nbformat_minor": 5
}
