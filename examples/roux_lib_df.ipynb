{
 "cells": [
  {
   "cell_type": "markdown",
   "id": "7e9248c4-351f-4f36-a4ae-5bc5a7439af4",
   "metadata": {},
   "source": [
    "---\n",
    "\n",
    "<a href=\"https://github.com/rraadd88/roux/blob/master/examples/roux_lib_df.ipynb\"><img align=\"right\" style=\"float:right;\" src=\"https://img.shields.io/badge/-source-cccccc?style=flat-square\"></a>\n",
    "\n",
    "## ⌗ Tables/Dataframes."
   ]
  },
  {
   "cell_type": "markdown",
   "id": "1eea9136-b74a-4696-bbf0-a6f7cbc31fe5",
   "metadata": {},
   "source": [
    "**Optional requirements**"
   ]
  },
  {
   "cell_type": "code",
   "execution_count": 1,
   "id": "a0bf2146-8e18-400a-b425-41bc84db99ec",
   "metadata": {},
   "outputs": [],
   "source": [
    "# to show logging messages\n",
    "import logging\n",
    "logging.getLogger().setLevel(logging.INFO)"
   ]
  },
  {
   "cell_type": "markdown",
   "id": "724df139-64e7-4089-b796-2faa9d8893d1",
   "metadata": {},
   "source": [
    "## Import `r`oux-`d`ataframe attributes"
   ]
  },
  {
   "cell_type": "code",
   "execution_count": 2,
   "id": "101b49f9-ff08-4f1b-8411-3d79d8996ba3",
   "metadata": {},
   "outputs": [],
   "source": [
    "import roux.lib.dfs as rd"
   ]
  },
  {
   "cell_type": "markdown",
   "id": "6d7ce6de-963e-4301-810d-a4099908060d",
   "metadata": {},
   "source": [
    "## Basic data checks "
   ]
  },
  {
   "cell_type": "markdown",
   "id": "f5574071-03f7-4f5e-8fb7-70a4ba1cdf5a",
   "metadata": {},
   "source": [
    "**Demo data**"
   ]
  },
  {
   "cell_type": "code",
   "execution_count": 3,
   "id": "227c06e5-e100-43c1-affc-6f4f06b57b34",
   "metadata": {
    "tags": [
     "False"
    ]
   },
   "outputs": [
    {
     "data": {
      "text/html": [
       "<div>\n",
       "<style scoped>\n",
       "    .dataframe tbody tr th:only-of-type {\n",
       "        vertical-align: middle;\n",
       "    }\n",
       "\n",
       "    .dataframe tbody tr th {\n",
       "        vertical-align: top;\n",
       "    }\n",
       "\n",
       "    .dataframe thead th {\n",
       "        text-align: right;\n",
       "    }\n",
       "</style>\n",
       "<table border=\"1\" class=\"dataframe\">\n",
       "  <thead>\n",
       "    <tr style=\"text-align: right;\">\n",
       "      <th></th>\n",
       "      <th>sepal_length</th>\n",
       "      <th>sepal_width</th>\n",
       "      <th>petal_length</th>\n",
       "      <th>petal_width</th>\n",
       "      <th>species</th>\n",
       "      <th>sepal_length with missing values</th>\n",
       "    </tr>\n",
       "  </thead>\n",
       "  <tbody>\n",
       "    <tr>\n",
       "      <th>0</th>\n",
       "      <td>5.1</td>\n",
       "      <td>3.5</td>\n",
       "      <td>1.4</td>\n",
       "      <td>0.2</td>\n",
       "      <td>setosa</td>\n",
       "      <td>NaN</td>\n",
       "    </tr>\n",
       "  </tbody>\n",
       "</table>\n",
       "</div>"
      ],
      "text/plain": [
       "   sepal_length  sepal_width  petal_length  petal_width species  \\\n",
       "0           5.1          3.5           1.4          0.2  setosa   \n",
       "\n",
       "   sepal_length with missing values  \n",
       "0                               NaN  "
      ]
     },
     "execution_count": 3,
     "metadata": {},
     "output_type": "execute_result"
    }
   ],
   "source": [
    "import seaborn as sns\n",
    "import numpy as np\n",
    "data=sns.load_dataset('iris')\n",
    "data=(\n",
    "    data\n",
    "    .assign(\n",
    "    **{\n",
    "        ## insert missing values \n",
    "        \"sepal_length with missing values\":lambda df: df['sepal_length'].apply(lambda x: np.nan if x>5 else x),\n",
    "    }\n",
    "    )\n",
    ")\n",
    "data.head(1)"
   ]
  },
  {
   "cell_type": "markdown",
   "id": "4dbe11d3-48c3-4e8f-b3b5-86d1f897d4fd",
   "metadata": {},
   "source": [
    "### Missing values "
   ]
  },
  {
   "cell_type": "code",
   "execution_count": 4,
   "id": "b3e8e07a-618c-4473-a316-9cc48a93cf0e",
   "metadata": {
    "tags": [
     "check_na"
    ]
   },
   "outputs": [
    {
     "data": {
      "text/plain": [
       "sepal_length with missing values    78.666667\n",
       "dtype: float64"
      ]
     },
     "execution_count": 4,
     "metadata": {},
     "output_type": "execute_result"
    }
   ],
   "source": [
    "## check\n",
    "data.rd.check_na(subset=['sepal_length with missing values'],perc=True)"
   ]
  },
  {
   "cell_type": "code",
   "execution_count": 7,
   "id": "6bfce007-d9b6-472e-9e0d-ac06a069899f",
   "metadata": {},
   "outputs": [
    {
     "name": "stderr",
     "output_type": "stream",
     "text": [
      "INFO:root:sepal_length with missing values = 118\n"
     ]
    },
    {
     "data": {
      "text/html": [
       "<div>\n",
       "<style scoped>\n",
       "    .dataframe tbody tr th:only-of-type {\n",
       "        vertical-align: middle;\n",
       "    }\n",
       "\n",
       "    .dataframe tbody tr th {\n",
       "        vertical-align: top;\n",
       "    }\n",
       "\n",
       "    .dataframe thead th {\n",
       "        text-align: right;\n",
       "    }\n",
       "</style>\n",
       "<table border=\"1\" class=\"dataframe\">\n",
       "  <thead>\n",
       "    <tr style=\"text-align: right;\">\n",
       "      <th></th>\n",
       "      <th>sepal_length</th>\n",
       "      <th>sepal_width</th>\n",
       "      <th>petal_length</th>\n",
       "      <th>petal_width</th>\n",
       "      <th>species</th>\n",
       "      <th>sepal_length with missing values</th>\n",
       "    </tr>\n",
       "  </thead>\n",
       "  <tbody>\n",
       "    <tr>\n",
       "      <th>0</th>\n",
       "      <td>5.1</td>\n",
       "      <td>3.5</td>\n",
       "      <td>1.4</td>\n",
       "      <td>0.2</td>\n",
       "      <td>setosa</td>\n",
       "      <td>NaN</td>\n",
       "    </tr>\n",
       "  </tbody>\n",
       "</table>\n",
       "</div>"
      ],
      "text/plain": [
       "   sepal_length  sepal_width  petal_length  petal_width species  \\\n",
       "0           5.1          3.5           1.4          0.2  setosa   \n",
       "\n",
       "   sepal_length with missing values  \n",
       "0                               NaN  "
      ]
     },
     "execution_count": 7,
     "metadata": {},
     "output_type": "execute_result"
    }
   ],
   "source": [
    "## check and return. for usage in chained openrations\n",
    "data.rd.check_na(subset=['sepal_length with missing values'],out=False).head(1)"
   ]
  },
  {
   "cell_type": "markdown",
   "id": "a5da8b4f-f21e-4aad-a1a3-66d1f9d20226",
   "metadata": {},
   "source": [
    "### Duplicates"
   ]
  },
  {
   "cell_type": "code",
   "execution_count": 9,
   "id": "c0d79ebc-320c-4b5d-ab17-9436159681f0",
   "metadata": {
    "tags": [
     "check_dups"
    ]
   },
   "outputs": [
    {
     "name": "stderr",
     "output_type": "stream",
     "text": [
      "INFO:root:duplicate rows: 94.0% (141/150)\n"
     ]
    },
    {
     "data": {
      "text/html": [
       "<div>\n",
       "<style scoped>\n",
       "    .dataframe tbody tr th:only-of-type {\n",
       "        vertical-align: middle;\n",
       "    }\n",
       "\n",
       "    .dataframe tbody tr th {\n",
       "        vertical-align: top;\n",
       "    }\n",
       "\n",
       "    .dataframe thead th {\n",
       "        text-align: right;\n",
       "    }\n",
       "</style>\n",
       "<table border=\"1\" class=\"dataframe\">\n",
       "  <thead>\n",
       "    <tr style=\"text-align: right;\">\n",
       "      <th></th>\n",
       "      <th>sepal_length</th>\n",
       "      <th>sepal_width</th>\n",
       "      <th>petal_length</th>\n",
       "      <th>petal_width</th>\n",
       "      <th>species</th>\n",
       "      <th>sepal_length with missing values</th>\n",
       "    </tr>\n",
       "  </thead>\n",
       "  <tbody>\n",
       "    <tr>\n",
       "      <th>38</th>\n",
       "      <td>4.4</td>\n",
       "      <td>3.0</td>\n",
       "      <td>1.3</td>\n",
       "      <td>0.2</td>\n",
       "      <td>setosa</td>\n",
       "      <td>4.4</td>\n",
       "    </tr>\n",
       "    <tr>\n",
       "      <th>42</th>\n",
       "      <td>4.4</td>\n",
       "      <td>3.2</td>\n",
       "      <td>1.3</td>\n",
       "      <td>0.2</td>\n",
       "      <td>setosa</td>\n",
       "      <td>4.4</td>\n",
       "    </tr>\n",
       "    <tr>\n",
       "      <th>8</th>\n",
       "      <td>4.4</td>\n",
       "      <td>2.9</td>\n",
       "      <td>1.4</td>\n",
       "      <td>0.2</td>\n",
       "      <td>setosa</td>\n",
       "      <td>4.4</td>\n",
       "    </tr>\n",
       "    <tr>\n",
       "      <th>3</th>\n",
       "      <td>4.6</td>\n",
       "      <td>3.1</td>\n",
       "      <td>1.5</td>\n",
       "      <td>0.2</td>\n",
       "      <td>setosa</td>\n",
       "      <td>4.6</td>\n",
       "    </tr>\n",
       "    <tr>\n",
       "      <th>47</th>\n",
       "      <td>4.6</td>\n",
       "      <td>3.2</td>\n",
       "      <td>1.4</td>\n",
       "      <td>0.2</td>\n",
       "      <td>setosa</td>\n",
       "      <td>4.6</td>\n",
       "    </tr>\n",
       "  </tbody>\n",
       "</table>\n",
       "</div>"
      ],
      "text/plain": [
       "    sepal_length  sepal_width  petal_length  petal_width species  \\\n",
       "38           4.4          3.0           1.3          0.2  setosa   \n",
       "42           4.4          3.2           1.3          0.2  setosa   \n",
       "8            4.4          2.9           1.4          0.2  setosa   \n",
       "3            4.6          3.1           1.5          0.2  setosa   \n",
       "47           4.6          3.2           1.4          0.2  setosa   \n",
       "\n",
       "    sepal_length with missing values  \n",
       "38                               4.4  \n",
       "42                               4.4  \n",
       "8                                4.4  \n",
       "3                                4.6  \n",
       "47                               4.6  "
      ]
     },
     "execution_count": 9,
     "metadata": {},
     "output_type": "execute_result"
    }
   ],
   "source": [
    "data.rd.check_dups(subset='sepal_length').head()"
   ]
  },
  {
   "cell_type": "markdown",
   "id": "a35c6295-2075-4ea8-b4d6-0954bd6a0722",
   "metadata": {},
   "source": [
    "### Unique values"
   ]
  },
  {
   "cell_type": "code",
   "execution_count": 10,
   "id": "4b37af5f-82da-462c-8f97-2cf9ef6f68d3",
   "metadata": {
    "tags": [
     "check_nunique"
    ]
   },
   "outputs": [
    {
     "data": {
      "text/plain": [
       "species    3\n",
       "dtype: int64"
      ]
     },
     "execution_count": 10,
     "metadata": {},
     "output_type": "execute_result"
    }
   ],
   "source": [
    "data.rd.check_nunique(subset=['species'])"
   ]
  },
  {
   "cell_type": "code",
   "execution_count": 12,
   "id": "3f0d1712-3460-4113-b368-80bffd6f3a43",
   "metadata": {},
   "outputs": [
    {
     "name": "stderr",
     "output_type": "stream",
     "text": [
      "INFO:root:nunique: species = 3\n"
     ]
    },
    {
     "data": {
      "text/html": [
       "<div>\n",
       "<style scoped>\n",
       "    .dataframe tbody tr th:only-of-type {\n",
       "        vertical-align: middle;\n",
       "    }\n",
       "\n",
       "    .dataframe tbody tr th {\n",
       "        vertical-align: top;\n",
       "    }\n",
       "\n",
       "    .dataframe thead th {\n",
       "        text-align: right;\n",
       "    }\n",
       "</style>\n",
       "<table border=\"1\" class=\"dataframe\">\n",
       "  <thead>\n",
       "    <tr style=\"text-align: right;\">\n",
       "      <th></th>\n",
       "      <th>sepal_length</th>\n",
       "      <th>sepal_width</th>\n",
       "      <th>petal_length</th>\n",
       "      <th>petal_width</th>\n",
       "      <th>species</th>\n",
       "      <th>sepal_length with missing values</th>\n",
       "    </tr>\n",
       "  </thead>\n",
       "  <tbody>\n",
       "    <tr>\n",
       "      <th>0</th>\n",
       "      <td>5.1</td>\n",
       "      <td>3.5</td>\n",
       "      <td>1.4</td>\n",
       "      <td>0.2</td>\n",
       "      <td>setosa</td>\n",
       "      <td>NaN</td>\n",
       "    </tr>\n",
       "  </tbody>\n",
       "</table>\n",
       "</div>"
      ],
      "text/plain": [
       "   sepal_length  sepal_width  petal_length  petal_width species  \\\n",
       "0           5.1          3.5           1.4          0.2  setosa   \n",
       "\n",
       "   sepal_length with missing values  \n",
       "0                               NaN  "
      ]
     },
     "execution_count": 12,
     "metadata": {},
     "output_type": "execute_result"
    }
   ],
   "source": [
    "## check and return. for usage in chained openrations\n",
    "data.rd.check_nunique(subset=['species'],out=False).head(1)"
   ]
  },
  {
   "cell_type": "markdown",
   "id": "7e3542c4-d5f4-4781-ac3a-2f463be8a607",
   "metadata": {},
   "source": [
    "## Validate"
   ]
  },
  {
   "cell_type": "markdown",
   "id": "e9ee59aa-73ab-4f95-930d-82ff2264306e",
   "metadata": {},
   "source": [
    "### Declarative data validations"
   ]
  },
  {
   "cell_type": "code",
   "execution_count": null,
   "id": "5e0f2e20-4e1c-44ef-9e47-e8ca8263668c",
   "metadata": {},
   "outputs": [],
   "source": [
    "## validate no missing values and duplicates `assert_*` attributes\n",
    "_=(data\n",
    "   .drop_duplicates()\n",
    "   \n",
    "   ## validate no missing values\n",
    "   .rd.assert_no_na(subset=['sepal_length'])\n",
    "   ## validate no duplicates\n",
    "   .rd.assert_no_dups()\n",
    "  )"
   ]
  },
  {
   "cell_type": "code",
   "execution_count": null,
   "id": "a98fed3e-42ea-44f6-8f8f-b607505685e0",
   "metadata": {
    "tags": [
     "validate_no_dups"
    ]
   },
   "outputs": [],
   "source": [
    "## validate no missing values and no duplicates 'together' using `assert_dense` attribute\n",
    "_=(data\n",
    "   .drop_duplicates()\n",
    "   .drop(['sepal_length with missing values'],axis=1)\n",
    "   \n",
    "   .rd.assert_dense()\n",
    "  )"
   ]
  },
  {
   "cell_type": "markdown",
   "id": "d719cd12-3fdc-42db-a2a1-fb9a722b58ab",
   "metadata": {},
   "source": [
    "## Logging\n",
    "### Changes in the dataframe shapes"
   ]
  },
  {
   "cell_type": "code",
   "execution_count": null,
   "id": "ab950a40-6a8a-47e1-b214-c607ca4fb10e",
   "metadata": {},
   "outputs": [],
   "source": [
    "_=data.log.drop_duplicates()"
   ]
  },
  {
   "cell_type": "code",
   "execution_count": null,
   "id": "d1f38196-1363-489e-b330-eca4ad5fc3da",
   "metadata": {},
   "outputs": [],
   "source": [
    "## within pipes\n",
    "_=(data\n",
    "   .log.drop_duplicates()\n",
    "   .log('sepal_length')\n",
    "   .log('sepal_length',groupby='species')\n",
    "  )"
   ]
  },
  {
   "cell_type": "markdown",
   "id": "f1041327-080c-40b7-856a-5f032bced1c3",
   "metadata": {},
   "source": [
    "## Filter \n",
    "### Using a dictionary"
   ]
  },
  {
   "cell_type": "code",
   "execution_count": null,
   "id": "e58f67cb-d0e4-48dc-8e84-6333463ebfbd",
   "metadata": {},
   "outputs": [],
   "source": [
    "_=data.rd.filter_rows({'species':'setosa'})"
   ]
  },
  {
   "cell_type": "markdown",
   "id": "157ee620-75cc-4cef-a60c-057eb4ce6686",
   "metadata": {},
   "source": [
    "## Merge"
   ]
  },
  {
   "cell_type": "markdown",
   "id": "21e57b97-a214-4232-bbc5-192d4df59b22",
   "metadata": {},
   "source": [
    "**Demo data**"
   ]
  },
  {
   "cell_type": "code",
   "execution_count": null,
   "id": "f43617b5-67fa-4960-8929-103089a5379c",
   "metadata": {},
   "outputs": [],
   "source": [
    "data2=data.groupby('species').head(1)"
   ]
  },
  {
   "cell_type": "markdown",
   "id": "39d7af63-ed1f-445d-9a7e-bcfc91ef54f6",
   "metadata": {},
   "source": [
    "### Validation of changes in table shapes"
   ]
  },
  {
   "cell_type": "code",
   "execution_count": null,
   "id": "5d37292f-faff-4d86-b635-5e9fff62a457",
   "metadata": {
    "tags": [
     "merge"
    ]
   },
   "outputs": [],
   "source": [
    "data.log.merge(\n",
    "    right=data2,\n",
    "    how='inner',\n",
    "    on='species',\n",
    "    validate='m:1',\n",
    "    validate_equal_length=True,\n",
    "    # validate_no_decrease_length=True,\n",
    "    )\n",
    "data.head(1)"
   ]
  },
  {
   "cell_type": "markdown",
   "id": "6fe608dc-7377-450f-8aea-00093a71e068",
   "metadata": {},
   "source": [
    "## Melt"
   ]
  },
  {
   "cell_type": "markdown",
   "id": "7cdd4c2e-d6ad-45b9-8326-76270a76728c",
   "metadata": {},
   "source": [
    "**Demo data with paired IDs and values**"
   ]
  },
  {
   "cell_type": "code",
   "execution_count": null,
   "id": "5091f06d-cb67-4b5f-a75d-f6139e352e51",
   "metadata": {},
   "outputs": [],
   "source": [
    "data=(\n",
    "    data\n",
    "    .assign(\n",
    "    **{\n",
    "        ## create paired ids\n",
    "        \"id 1\":lambda df: range(len(df)),\n",
    "        \"id 2\":lambda df: range(len(df))[::-1],\n",
    "    }\n",
    "    )\n",
    "    .rename(\n",
    "        columns={\n",
    "            \"sepal_length\": \"value 1\",\n",
    "            \"sepal_width\": \"value 2\",\n",
    "            \n",
    "        },\n",
    "        errors='raise',\n",
    "    )\n",
    "    .loc[:,['id 1','id 2','value 1','value 2']]\n",
    ").sample(5).reset_index(drop=True)\n",
    "## example order\n",
    "order=list(set(data['id 1'].tolist()+data['id 2'].tolist()))\n",
    "order=list(np.random.choice(order,len(order),replace=False))\n",
    "data"
   ]
  },
  {
   "cell_type": "markdown",
   "id": "277ee731-27c3-4b30-a137-648e4947ce97",
   "metadata": {},
   "source": [
    "### Tables with paired IDs"
   ]
  },
  {
   "cell_type": "code",
   "execution_count": null,
   "id": "a9df2d62-b717-4ef7-af3e-9d631b598eef",
   "metadata": {},
   "outputs": [],
   "source": [
    "data.rd.melt_paired(suffixes=['1','2'])"
   ]
  },
  {
   "cell_type": "markdown",
   "id": "cce9d730-e7da-4933-8a64-695ccd9a7328",
   "metadata": {},
   "source": [
    "## Sort "
   ]
  },
  {
   "cell_type": "markdown",
   "id": "7e844f71-40b9-449b-ac75-f077624e15f8",
   "metadata": {},
   "source": [
    "### Paired columns by values"
   ]
  },
  {
   "cell_type": "code",
   "execution_count": null,
   "id": "abc3ba52-7b0a-4d99-9bf2-36770f2d2da8",
   "metadata": {},
   "outputs": [],
   "source": [
    "data.rd.sort_columns_by_values(['id 1','id 2'])"
   ]
  },
  {
   "cell_type": "markdown",
   "id": "18550b2d-9f8f-4272-9174-58ad68bb2714",
   "metadata": {},
   "source": [
    "### Paired columns by order"
   ]
  },
  {
   "cell_type": "code",
   "execution_count": null,
   "id": "f17b3173-0b91-4372-8d28-77627605442e",
   "metadata": {},
   "outputs": [],
   "source": [
    "order"
   ]
  },
  {
   "cell_type": "code",
   "execution_count": null,
   "id": "a4a5535a-a80b-4d55-a603-aaf1f8f79cb5",
   "metadata": {},
   "outputs": [],
   "source": [
    "data.rd.sort_columns_by_values(\n",
    "    ['id 1','id 2'],\n",
    "    order=order, # order of the ids\n",
    "    clean=True,\n",
    ")"
   ]
  },
  {
   "cell_type": "markdown",
   "id": "c255b12b-ea41-4807-8c87-b61e2ecfb2d4",
   "metadata": {},
   "source": [
    "## Mapping between columns"
   ]
  },
  {
   "cell_type": "markdown",
   "id": "cc6d75d2-e513-42c2-87d3-e9dc455b2e01",
   "metadata": {},
   "source": [
    "**Demo data**"
   ]
  },
  {
   "cell_type": "code",
   "execution_count": null,
   "id": "79e7667e-3378-4961-afe1-987ee1544ee6",
   "metadata": {},
   "outputs": [],
   "source": [
    "np.random.seed(0)\n",
    "data=(\n",
    "    data\n",
    "    .loc[:,['id 1']].head(10)\n",
    "    .assign(\n",
    "    **{\n",
    "        ## create shuffled ids\n",
    "        \"id 2\":lambda df: np.random.choice(df['id 1'],len(df)),\n",
    "    }\n",
    "    )\n",
    ")\n",
    "data"
   ]
  },
  {
   "cell_type": "markdown",
   "id": "29b3c995-ea4e-49cc-bb4d-827910c8e67b",
   "metadata": {},
   "source": [
    "### Check counts"
   ]
  },
  {
   "cell_type": "code",
   "execution_count": null,
   "id": "2a1604c7-7dbb-4f0e-9f5a-d724ccf89aa6",
   "metadata": {},
   "outputs": [],
   "source": [
    "data.rd.check_mappings(subset=['id 1','id 2'])"
   ]
  },
  {
   "cell_type": "markdown",
   "id": "45b0aab8-27ad-49a3-a898-ca0853d6dfab",
   "metadata": {},
   "source": [
    "### Classify"
   ]
  },
  {
   "cell_type": "code",
   "execution_count": null,
   "id": "ea0cf67a-9a7a-493b-94bc-e2388e6a24a9",
   "metadata": {},
   "outputs": [],
   "source": [
    "data.rd.classify_mappings(subset=['id 1','id 2'])"
   ]
  },
  {
   "cell_type": "markdown",
   "id": "2adafe5d-7dfa-480d-a549-cbef94a2ec26",
   "metadata": {},
   "source": [
    "### Filter"
   ]
  },
  {
   "cell_type": "code",
   "execution_count": null,
   "id": "e4edb3f3-2148-4022-a5b1-333ea5dee256",
   "metadata": {},
   "outputs": [],
   "source": [
    "data.rd.get_mappings(\n",
    "    subset=['id 1','id 2'],\n",
    "    keep=\"3:1\", # keep 3:1 mappings\n",
    "    clean=False,\n",
    ")"
   ]
  },
  {
   "cell_type": "code",
   "execution_count": null,
   "id": "e7d14384-51a1-43a7-939c-3949929d01aa",
   "metadata": {},
   "outputs": [],
   "source": [
    "data=data.rd.get_mappings(\n",
    "    subset=['id 1','id 2'],\n",
    "    keep='1:1', ## keep 1:1 mappings\n",
    "    clean=True,\n",
    "    )\n",
    "data"
   ]
  },
  {
   "cell_type": "markdown",
   "id": "33e8413f-7e60-418a-a49b-6a57d38e4f4c",
   "metadata": {},
   "source": [
    "### Validate"
   ]
  },
  {
   "cell_type": "code",
   "execution_count": null,
   "id": "7acaab5b-b03e-4b4b-b166-70f4e8fecc8f",
   "metadata": {},
   "outputs": [],
   "source": [
    "data.rd.assert_1_1_mappings(subset=['id 1','id 2'])"
   ]
  },
  {
   "cell_type": "markdown",
   "id": "d36c595a-ab8c-413e-b6d7-e6fc08ccd0f9",
   "metadata": {},
   "source": [
    "## Documentation\n",
    "[`roux.lib.df`](https://github.com/rraadd88/roux#module-rouxlibdf)"
   ]
  }
 ],
 "metadata": {
  "kernelspec": {
   "display_name": "yeast",
   "language": "python",
   "name": "yeast"
  },
  "language_info": {
   "codemirror_mode": {
    "name": "ipython",
    "version": 3
   },
   "file_extension": ".py",
   "mimetype": "text/x-python",
   "name": "python",
   "nbconvert_exporter": "python",
   "pygments_lexer": "ipython3",
   "version": "3.7.13"
  }
 },
 "nbformat": 4,
 "nbformat_minor": 5
}
