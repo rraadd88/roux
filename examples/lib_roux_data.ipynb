{
 "cells": [
  {
   "cell_type": "code",
   "execution_count": 1,
   "id": "101b49f9-ff08-4f1b-8411-3d79d8996ba3",
   "metadata": {},
   "outputs": [
    {
     "data": {
      "application/vnd.jupyter.widget-view+json": {
       "model_id": "22989e99fe3f42f59b0bac182fb1f7b0",
       "version_major": 2,
       "version_minor": 0
      },
      "text/plain": [
       "0it [00:00, ?it/s]"
      ]
     },
     "metadata": {},
     "output_type": "display_data"
    },
    {
     "name": "stderr",
     "output_type": "stream",
     "text": [
      "INFO:root:pandarallel.initialize(nb_workers=4,progress_bar=True)\n",
      "WARNING:root:not found: metadata\n"
     ]
    },
    {
     "name": "stdout",
     "output_type": "stream",
     "text": [
      "INFO: Pandarallel will run on 6 workers.\n",
      "INFO: Pandarallel will use Memory file system to transfer data between the main process and workers.\n"
     ]
    }
   ],
   "source": [
    "# import helper functions\n",
    "from roux.global_imports import *"
   ]
  },
  {
   "cell_type": "code",
   "execution_count": 2,
   "id": "227c06e5-e100-43c1-affc-6f4f06b57b34",
   "metadata": {},
   "outputs": [],
   "source": [
    "## demo data\n",
    "import seaborn as sns\n",
    "df1=sns.load_dataset('iris')"
   ]
  },
  {
   "cell_type": "markdown",
   "id": "6d7ce6de-963e-4301-810d-a4099908060d",
   "metadata": {},
   "source": [
    "## Validations "
   ]
  },
  {
   "cell_type": "code",
   "execution_count": 3,
   "id": "a98fed3e-42ea-44f6-8f8f-b607505685e0",
   "metadata": {},
   "outputs": [
    {
     "data": {
      "text/plain": [
       "False"
      ]
     },
     "execution_count": 3,
     "metadata": {},
     "output_type": "execute_result"
    }
   ],
   "source": [
    "assert df1.rd.validate_no_na()\n",
    "df1.rd.validate_no_dups()"
   ]
  },
  {
   "cell_type": "markdown",
   "id": "83baed8a-ff64-4f26-bb4e-2a96f6bde36c",
   "metadata": {},
   "source": [
    "## Checking duplicates"
   ]
  },
  {
   "cell_type": "code",
   "execution_count": 4,
   "id": "f9682079-62d9-4f98-9a0c-4aae659bc3fc",
   "metadata": {},
   "outputs": [
    {
     "name": "stderr",
     "output_type": "stream",
     "text": [
      "INFO:root:duplicate rows: 1% (2/150)\n"
     ]
    },
    {
     "data": {
      "text/html": [
       "<div>\n",
       "<style scoped>\n",
       "    .dataframe tbody tr th:only-of-type {\n",
       "        vertical-align: middle;\n",
       "    }\n",
       "\n",
       "    .dataframe tbody tr th {\n",
       "        vertical-align: top;\n",
       "    }\n",
       "\n",
       "    .dataframe thead th {\n",
       "        text-align: right;\n",
       "    }\n",
       "</style>\n",
       "<table border=\"1\" class=\"dataframe\">\n",
       "  <thead>\n",
       "    <tr style=\"text-align: right;\">\n",
       "      <th></th>\n",
       "      <th>sepal_length</th>\n",
       "      <th>sepal_width</th>\n",
       "      <th>petal_length</th>\n",
       "      <th>petal_width</th>\n",
       "      <th>species</th>\n",
       "    </tr>\n",
       "  </thead>\n",
       "  <tbody>\n",
       "    <tr>\n",
       "      <th>101</th>\n",
       "      <td>5.8</td>\n",
       "      <td>2.7</td>\n",
       "      <td>5.1</td>\n",
       "      <td>1.9</td>\n",
       "      <td>virginica</td>\n",
       "    </tr>\n",
       "    <tr>\n",
       "      <th>142</th>\n",
       "      <td>5.8</td>\n",
       "      <td>2.7</td>\n",
       "      <td>5.1</td>\n",
       "      <td>1.9</td>\n",
       "      <td>virginica</td>\n",
       "    </tr>\n",
       "  </tbody>\n",
       "</table>\n",
       "</div>"
      ],
      "text/plain": [
       "     sepal_length  sepal_width  petal_length  petal_width    species\n",
       "101           5.8          2.7           5.1          1.9  virginica\n",
       "142           5.8          2.7           5.1          1.9  virginica"
      ]
     },
     "execution_count": 4,
     "metadata": {},
     "output_type": "execute_result"
    }
   ],
   "source": [
    "df1.rd.check_dups()"
   ]
  },
  {
   "cell_type": "markdown",
   "id": "d719cd12-3fdc-42db-a2a1-fb9a722b58ab",
   "metadata": {},
   "source": [
    "## Logging the changes in dataframe shapes"
   ]
  },
  {
   "cell_type": "code",
   "execution_count": 5,
   "id": "ab950a40-6a8a-47e1-b214-c607ca4fb10e",
   "metadata": {},
   "outputs": [
    {
     "name": "stderr",
     "output_type": "stream",
     "text": [
      "INFO:root:drop_duplicates: shape changed: (150, 5)->(149, 5), width constant\n"
     ]
    }
   ],
   "source": [
    "_=df1.log.drop_duplicates()"
   ]
  },
  {
   "cell_type": "markdown",
   "id": "f1041327-080c-40b7-856a-5f032bced1c3",
   "metadata": {},
   "source": [
    "## Filter dataframe by using a dictionary"
   ]
  },
  {
   "cell_type": "code",
   "execution_count": 6,
   "id": "e58f67cb-d0e4-48dc-8e84-6333463ebfbd",
   "metadata": {},
   "outputs": [
    {
     "name": "stderr",
     "output_type": "stream",
     "text": [
      "INFO:root:(150, 5)\n",
      "INFO:root:(50, 5)\n"
     ]
    }
   ],
   "source": [
    "_=df1.rd.filter_rows({'species':'setosa'})"
   ]
  }
 ],
 "metadata": {
  "kernelspec": {
   "display_name": "test",
   "language": "python",
   "name": "test"
  },
  "language_info": {
   "codemirror_mode": {
    "name": "ipython",
    "version": 3
   },
   "file_extension": ".py",
   "mimetype": "text/x-python",
   "name": "python",
   "nbconvert_exporter": "python",
   "pygments_lexer": "ipython3",
   "version": "3.7.10"
  }
 },
 "nbformat": 4,
 "nbformat_minor": 5
}
