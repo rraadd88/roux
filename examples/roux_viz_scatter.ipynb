{
 "cells": [
  {
   "cell_type": "markdown",
   "id": "da10a7c9-2d1c-4cba-9b7e-69aa47e2517b",
   "metadata": {},
   "source": [
    "---\n",
    "\n",
    "<!-- <a href=\"https://github.com/rraadd88/roux/blob/master/examples/roux_viz_line.ipynb\"><img align=\"right\" style=\"float:right;\" src=\"https://img.shields.io/badge/-source-cccccc?style=flat-square\"></a>\n",
    " -->\n",
    " \n",
    "## 📈 Scatter plots."
   ]
  },
  {
   "cell_type": "code",
   "execution_count": 1,
   "id": "d4f708d0-2362-4f7b-aeed-3c8300fe6480",
   "metadata": {
    "tags": []
   },
   "outputs": [],
   "source": [
    "# installing the required roux subpackage\n",
    "# !pip install roux[viz]\n",
    "# loading requirements\n",
    "import matplotlib.pyplot as plt\n",
    "## for saving plots\n",
    "from roux.viz.io import to_plot"
   ]
  },
  {
   "cell_type": "markdown",
   "id": "3109b89e-01b1-4a75-96f6-926567014e64",
   "metadata": {},
   "source": [
    "### Correlation plot\n",
    "#### Demo data"
   ]
  },
  {
   "cell_type": "code",
   "execution_count": 2,
   "id": "9b079b16-7d07-409a-94a5-551f9288a1c4",
   "metadata": {},
   "outputs": [
    {
     "data": {
      "text/html": [
       "<div>\n",
       "<style scoped>\n",
       "    .dataframe tbody tr th:only-of-type {\n",
       "        vertical-align: middle;\n",
       "    }\n",
       "\n",
       "    .dataframe tbody tr th {\n",
       "        vertical-align: top;\n",
       "    }\n",
       "\n",
       "    .dataframe thead th {\n",
       "        text-align: right;\n",
       "    }\n",
       "</style>\n",
       "<table border=\"1\" class=\"dataframe\">\n",
       "  <thead>\n",
       "    <tr style=\"text-align: right;\">\n",
       "      <th></th>\n",
       "      <th>sepal_length</th>\n",
       "      <th>sepal_width</th>\n",
       "      <th>petal_length</th>\n",
       "      <th>petal_width</th>\n",
       "      <th>species</th>\n",
       "    </tr>\n",
       "  </thead>\n",
       "  <tbody>\n",
       "    <tr>\n",
       "      <th>0</th>\n",
       "      <td>5.1</td>\n",
       "      <td>3.5</td>\n",
       "      <td>1.4</td>\n",
       "      <td>0.2</td>\n",
       "      <td>setosa</td>\n",
       "    </tr>\n",
       "  </tbody>\n",
       "</table>\n",
       "</div>"
      ],
      "text/plain": [
       "   sepal_length  sepal_width  petal_length  petal_width species\n",
       "0           5.1          3.5           1.4          0.2  setosa"
      ]
     },
     "execution_count": 2,
     "metadata": {},
     "output_type": "execute_result"
    }
   ],
   "source": [
    "import seaborn as sns\n",
    "df1=sns.load_dataset('iris')\n",
    "df1.head(1)"
   ]
  },
  {
   "cell_type": "code",
   "execution_count": 3,
   "id": "976bc2a6-e414-42f0-9439-20626c0279ef",
   "metadata": {},
   "outputs": [
    {
     "data": {
      "image/png": "[encoded data removed]",
      "text/plain": [
       "<Figure size 216x216 with 1 Axes>"
      ]
     },
     "metadata": {
      "needs_background": "light"
     },
     "output_type": "display_data"
    }
   ],
   "source": [
    "# plot\n",
    "_,ax=plt.subplots(figsize=[3,3])\n",
    "from roux.viz.scatter import plot_scatter\n",
    "ax=plot_scatter(\n",
    "    df1.sort_values('sepal_length'),\n",
    "    x='sepal_length',\n",
    "    y='petal_width',\n",
    "    hollow=False,\n",
    "    stat_kws=dict(resample=True,),\n",
    "    ax=ax,\n",
    "    )\n",
    "to_plot('./outputs/roux_viz_scatter/plot_scatter.png')"
   ]
  },
  {
   "cell_type": "markdown",
   "id": "400c687a-f56d-484c-bd97-f22e997359bd",
   "metadata": {},
   "source": [
    "### Volcano plot\n",
    "#### Demo data"
   ]
  },
  {
   "cell_type": "code",
   "execution_count": 4,
   "id": "a375bb95",
   "metadata": {},
   "outputs": [],
   "source": [
    "import pandas as pd"
   ]
  },
  {
   "cell_type": "code",
   "execution_count": 5,
   "id": "b410c569",
   "metadata": {},
   "outputs": [
    {
     "data": {
      "text/html": [
       "<div>\n",
       "<style scoped>\n",
       "    .dataframe tbody tr th:only-of-type {\n",
       "        vertical-align: middle;\n",
       "    }\n",
       "\n",
       "    .dataframe tbody tr th {\n",
       "        vertical-align: top;\n",
       "    }\n",
       "\n",
       "    .dataframe thead th {\n",
       "        text-align: right;\n",
       "    }\n",
       "</style>\n",
       "<table border=\"1\" class=\"dataframe\">\n",
       "  <thead>\n",
       "    <tr style=\"text-align: right;\">\n",
       "      <th></th>\n",
       "      <th>log fold change</th>\n",
       "      <th>p-value</th>\n",
       "      <th>id</th>\n",
       "      <th>category</th>\n",
       "    </tr>\n",
       "  </thead>\n",
       "  <tbody>\n",
       "    <tr>\n",
       "      <th>0</th>\n",
       "      <td>-2.142859</td>\n",
       "      <td>0.000146</td>\n",
       "      <td>0</td>\n",
       "      <td>high</td>\n",
       "    </tr>\n",
       "  </tbody>\n",
       "</table>\n",
       "</div>"
      ],
      "text/plain": [
       "   log fold change   p-value  id category\n",
       "0        -2.142859  0.000146   0     high"
      ]
     },
     "execution_count": 5,
     "metadata": {},
     "output_type": "execute_result"
    }
   ],
   "source": [
    "data=(\n",
    "    pd.DataFrame({'log fold change': {0: -2.1428593257362047, 1: -4.075630647192074, 2: 3.697479762024543, 3: -2.5210113863001484, 4: -2.5210113863001484, 5: -1.47059134663757, 6: -6.848738705615859, 7: 2.3529367514487878, 8: 8.361337544700318, 9: 5.168066407076445, 10: 6.470584294259078, 11: 3.613440093806034, 12: 2.016802761899473, 13: -3.865547344497412, 14: -5.168068757869282, 15: -1.0924392860736265, 16: -0.9663885992189803, 17: -0.7563052965243058, 18: -0.6722726806842889, 19: -0.0420192464110478, 20: 0.7983174905568617, 21: 0.7562994195422261, 22: 0.8823501063968786, 23: 0.8823501063968786, 24: 1.092433409091547, 25: 1.3865528538154743, 26: 1.6386507013355305, 27: 2.058820832914109, 28: 2.7310888120127377, 29: -2.0588267098961817}, 'p-value': {0: 0.00014633671163253806, 1: 8.001414601426181e-07, 2: 1.3221014234209027e-05, 3: 7.076272236596726e-24, 4: 4.2370618618950076e-08, 5: 6.258044397342256e-16, 6: 0, 7: 1.7454782620698482e-22, 8: 1.6546718649790746e-12, 9: 3.4401489493288306e-14, 10: 6.744072443972276e-10, 11: 7.707724763254205e-10, 12: 0.0007267847628064542, 13: 4.35178371686176e-13, 14: 4.9471037429473035e-17, 15: 2.3167972202723306e-10, 16: 9.442694382650812e-08, 17: 3.848609469311497e-05, 18: 0.009193765785564318, 19: 0.08903653442013382, 20: 0.013724855578607713, 21: 0.00012803892481889009, 22: 9.442694382650812e-08, 23: 3.9527915103845236e-10, 24: 4.35178371686176e-13, 25: 4.791049937389934e-16, 26: 1.5354411075099387e-18, 27: 0, 28: 4.2370618618950076e-08, 29: 2.6620257419958746e-06}})\n",
    "    .assign(\n",
    "        id=lambda df: range(len(df)),\n",
    "        category=lambda df: pd.qcut(df['p-value'],3, labels=['low','med','high']),\n",
    "        )\n",
    ")\n",
    "data.head(1)"
   ]
  },
  {
   "cell_type": "markdown",
   "id": "48a98a03-630a-48a6-8970-f598432e4b60",
   "metadata": {},
   "source": [
    "#### Plot"
   ]
  },
  {
   "cell_type": "code",
   "execution_count": 6,
   "id": "bb80568f",
   "metadata": {},
   "outputs": [
    {
     "data": {
      "image/png": "[encoded data removed]",
      "text/plain": [
       "<Figure size 288x216 with 1 Axes>"
      ]
     },
     "metadata": {
      "needs_background": "light"
     },
     "output_type": "display_data"
    }
   ],
   "source": [
    "from roux.viz.scatter import plot_volcano\n",
    "ax=plot_volcano(\n",
    "    data,\n",
    "    colx='log fold change',\n",
    "    coly='p-value',\n",
    "    colindex='id',\n",
    "    collabel='id',\n",
    "    show_labels=3, # show top n \n",
    "    text_increase='n',\n",
    "    text_decrease='n',\n",
    "    line_pvalue=0.01,\n",
    "    palette=['salmon','lightblue','lightgray',], # increase, decrease, ns\n",
    "    )\n",
    "# to_plot('./outputs/roux_viz_scatter/plot_volcano.png')"
   ]
  },
  {
   "cell_type": "markdown",
   "id": "3d5ae3da-4a35-4ba2-a015-f2192a897277",
   "metadata": {},
   "source": [
    "#### With highlighted points"
   ]
  },
  {
   "cell_type": "code",
   "execution_count": 7,
   "id": "81ee3ec8",
   "metadata": {},
   "outputs": [
    {
     "data": {
      "image/png": "[encoded data removed]",
      "text/plain": [
       "<Figure size 288x216 with 1 Axes>"
      ]
     },
     "metadata": {
      "needs_background": "light"
     },
     "output_type": "display_data"
    }
   ],
   "source": [
    "ax=plot_volcano(\n",
    "    data=data,\n",
    "    colx='log fold change',\n",
    "    coly='p-value',\n",
    "    colindex='id',\n",
    "    collabel='id',\n",
    "    show_outlines='category',\n",
    "    outline_colors=sns.color_palette()[:3],\n",
    "    text_increase='n',\n",
    "    text_decrease='n',\n",
    "    palette=['salmon','lightblue','lightgray',], # increase, decrease, ns\n",
    "    legend=True,\n",
    "    )\n",
    "to_plot('./outputs/roux_viz_scatter/plot_volcano_marked.png')"
   ]
  },
  {
   "cell_type": "markdown",
   "id": "ecce7243-9155-44ce-96af-1ea066a13f3b",
   "metadata": {},
   "source": [
    "### Rank plot"
   ]
  },
  {
   "cell_type": "code",
   "execution_count": 20,
   "id": "1ec4206c-af2a-4352-bd6f-9a3ab7dcd9a2",
   "metadata": {
    "tags": []
   },
   "outputs": [
    {
     "data": {
      "text/html": [
       "<div>\n",
       "<style scoped>\n",
       "    .dataframe tbody tr th:only-of-type {\n",
       "        vertical-align: middle;\n",
       "    }\n",
       "\n",
       "    .dataframe tbody tr th {\n",
       "        vertical-align: top;\n",
       "    }\n",
       "\n",
       "    .dataframe thead th {\n",
       "        text-align: right;\n",
       "    }\n",
       "</style>\n",
       "<table border=\"1\" class=\"dataframe\">\n",
       "  <thead>\n",
       "    <tr style=\"text-align: right;\">\n",
       "      <th></th>\n",
       "      <th>value</th>\n",
       "      <th>id</th>\n",
       "    </tr>\n",
       "  </thead>\n",
       "  <tbody>\n",
       "    <tr>\n",
       "      <th>0</th>\n",
       "      <td>91</td>\n",
       "      <td>0</td>\n",
       "    </tr>\n",
       "  </tbody>\n",
       "</table>\n",
       "</div>"
      ],
      "text/plain": [
       "   value  id\n",
       "0     91   0"
      ]
     },
     "execution_count": 20,
     "metadata": {},
     "output_type": "execute_result"
    }
   ],
   "source": [
    "## demo data\n",
    "import numpy as np\n",
    "import pandas as pd\n",
    "df = (\n",
    "    pd.DataFrame(np.random.randint(0,100,size=(301, 1)), columns=['value'])\n",
    "    .assign(id=lambda df: range(len(df)))\n",
    ")\n",
    "df.head(1)"
   ]
  },
  {
   "cell_type": "code",
   "execution_count": 23,
   "id": "8f87aa1a-15cb-4dbd-a15e-4380fbb51274",
   "metadata": {
    "tags": []
   },
   "outputs": [
    {
     "name": "stderr",
     "output_type": "stream",
     "text": [
      "/home/rdandage/anaconda3/envs/parcan/lib/python3.7/site-packages/pandas/plotting/_matplotlib/core.py:633: UserWarning: The handle <matplotlib.lines.Line2D object at 0x7f911b96b850> has a label of '_nolegend_' which cannot be automatically added to the legend.\n",
      "  ax.legend(handles, labels, loc=\"best\", title=title)\n"
     ]
    },
    {
     "data": {
      "text/plain": [
       "<AxesSubplot:xlabel='rank', ylabel='value'>"
      ]
     },
     "execution_count": 23,
     "metadata": {},
     "output_type": "execute_result"
    },
    {
     "data": {
      "image/png": "[encoded data removed]",
      "text/plain": [
       "<Figure size 200x200 with 1 Axes>"
      ]
     },
     "metadata": {},
     "output_type": "display_data"
    }
   ],
   "source": [
    "# %run ../roux/viz/scatter.py\n",
    "from roux.viz.scatter import plot_ranks\n",
    "plot_ranks(\n",
    "    df,\n",
    "    col='value',\n",
    "    colid='id',\n",
    "    ranks_on='x',\n",
    "    ascending=False,\n",
    "    line=True,\n",
    "    show_topn=5,\n",
    ")"
   ]
  },
  {
   "cell_type": "markdown",
   "id": "cb319ee9-ed26-40f1-bf1b-db773cc220a8",
   "metadata": {
    "jp-MarkdownHeadingCollapsed": true,
    "tags": []
   },
   "source": [
    "### Documentation\n",
    "[`roux.viz.scatter`](https://github.com/rraadd88/roux#module-rouxvizscatter)"
   ]
  }
 ],
 "metadata": {
  "kernelspec": {
   "display_name": "parcan",
   "language": "python",
   "name": "parcan"
  },
  "language_info": {
   "codemirror_mode": {
    "name": "ipython",
    "version": 3
   },
   "file_extension": ".py",
   "mimetype": "text/x-python",
   "name": "python",
   "nbconvert_exporter": "python",
   "pygments_lexer": "ipython3",
   "version": "3.7.12"
  }
 },
 "nbformat": 4,
 "nbformat_minor": 5
}
