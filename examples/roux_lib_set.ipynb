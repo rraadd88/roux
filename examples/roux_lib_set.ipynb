{
 "cells": [
  {
   "cell_type": "markdown",
   "id": "7e9248c4-351f-4f36-a4ae-5bc5a7439af4",
   "metadata": {},
   "source": [
    "---\n",
    "\n",
    "<!-- <a href=\"https://github.com/rraadd88/roux/blob/master/examples/roux_lib_set.ipynb\"><img align=\"right\" style=\"float:right;\" src=\"https://img.shields.io/badge/-source-cccccc?style=flat-square\"></a>\n",
    " -->\n",
    "## ⬤⬤ Sets."
   ]
  },
  {
   "cell_type": "markdown",
   "id": "94eec2fa-8c56-44cf-88e8-718e6434e486",
   "metadata": {},
   "source": [
    "## Demo data"
   ]
  },
  {
   "cell_type": "code",
   "execution_count": 1,
   "id": "101b49f9-ff08-4f1b-8411-3d79d8996ba3",
   "metadata": {},
   "outputs": [
    {
     "data": {
      "text/plain": [
       "(['a', 'b', 'c'], ['a', 'b'])"
      ]
     },
     "execution_count": 1,
     "metadata": {},
     "output_type": "execute_result"
    }
   ],
   "source": [
    "import string\n",
    "l1=list(string.ascii_lowercase)[:3]\n",
    "l2=list(string.ascii_lowercase)[:2]\n",
    "l1,l2"
   ]
  },
  {
   "cell_type": "markdown",
   "id": "f4bb44a8-e924-4a8e-a3af-43438ee101bf",
   "metadata": {},
   "source": [
    "## Validate overlap"
   ]
  },
  {
   "cell_type": "code",
   "execution_count": 2,
   "id": "6d1683e8-b670-460b-bcd7-48bc84f93cd5",
   "metadata": {},
   "outputs": [],
   "source": [
    "from roux.lib.set import assert_overlaps_with\n",
    "assert_overlaps_with(l1,l1)"
   ]
  },
  {
   "cell_type": "markdown",
   "id": "458ed5eb-e26f-4052-954c-ad5af405d8ae",
   "metadata": {},
   "source": [
    "## Check non-overlapping items"
   ]
  },
  {
   "cell_type": "code",
   "execution_count": 3,
   "id": "76996c73-e81e-4a98-adb6-b873866b0bcb",
   "metadata": {},
   "outputs": [
    {
     "data": {
      "text/plain": [
       "{'c'}"
      ]
     },
     "execution_count": 3,
     "metadata": {},
     "output_type": "execute_result"
    }
   ],
   "source": [
    "from roux.lib.set import check_non_overlaps_with\n",
    "check_non_overlaps_with(l1,l2)"
   ]
  },
  {
   "cell_type": "markdown",
   "id": "8dc8c7e1-c883-43b6-a4bc-743061d84384",
   "metadata": {},
   "source": [
    "## Get pairs among items"
   ]
  },
  {
   "cell_type": "code",
   "execution_count": 4,
   "id": "40b411b1-415f-44cc-a0a7-20b702ea841d",
   "metadata": {},
   "outputs": [],
   "source": [
    "from roux.lib.set import get_pairs"
   ]
  },
  {
   "cell_type": "markdown",
   "id": "62e37edf-2e29-4de1-9cef-5d66d348edd4",
   "metadata": {},
   "source": [
    "### Within a set"
   ]
  },
  {
   "cell_type": "code",
   "execution_count": 5,
   "id": "085cb3d9-4f6e-43cb-b82f-a77d593d18ed",
   "metadata": {},
   "outputs": [
    {
     "data": {
      "text/html": [
       "<div>\n",
       "<style scoped>\n",
       "    .dataframe tbody tr th:only-of-type {\n",
       "        vertical-align: middle;\n",
       "    }\n",
       "\n",
       "    .dataframe tbody tr th {\n",
       "        vertical-align: top;\n",
       "    }\n",
       "\n",
       "    .dataframe thead th {\n",
       "        text-align: right;\n",
       "    }\n",
       "</style>\n",
       "<table border=\"1\" class=\"dataframe\">\n",
       "  <thead>\n",
       "    <tr style=\"text-align: right;\">\n",
       "      <th></th>\n",
       "      <th>1</th>\n",
       "      <th>2</th>\n",
       "    </tr>\n",
       "  </thead>\n",
       "  <tbody>\n",
       "    <tr>\n",
       "      <th>0</th>\n",
       "      <td>c</td>\n",
       "      <td>b</td>\n",
       "    </tr>\n",
       "    <tr>\n",
       "      <th>1</th>\n",
       "      <td>c</td>\n",
       "      <td>a</td>\n",
       "    </tr>\n",
       "    <tr>\n",
       "      <th>2</th>\n",
       "      <td>b</td>\n",
       "      <td>a</td>\n",
       "    </tr>\n",
       "  </tbody>\n",
       "</table>\n",
       "</div>"
      ],
      "text/plain": [
       "   1  2\n",
       "0  c  b\n",
       "1  c  a\n",
       "2  b  a"
      ]
     },
     "execution_count": 5,
     "metadata": {},
     "output_type": "execute_result"
    }
   ],
   "source": [
    "get_pairs(l1)"
   ]
  },
  {
   "cell_type": "markdown",
   "id": "acad2924-5a53-45aa-9b06-6c893cc7ad77",
   "metadata": {},
   "source": [
    "### Between sets"
   ]
  },
  {
   "cell_type": "code",
   "execution_count": 6,
   "id": "6f586475-a0c9-4e90-b56a-d8c035ed9b62",
   "metadata": {},
   "outputs": [
    {
     "data": {
      "text/html": [
       "<div>\n",
       "<style scoped>\n",
       "    .dataframe tbody tr th:only-of-type {\n",
       "        vertical-align: middle;\n",
       "    }\n",
       "\n",
       "    .dataframe tbody tr th {\n",
       "        vertical-align: top;\n",
       "    }\n",
       "\n",
       "    .dataframe thead th {\n",
       "        text-align: right;\n",
       "    }\n",
       "</style>\n",
       "<table border=\"1\" class=\"dataframe\">\n",
       "  <thead>\n",
       "    <tr style=\"text-align: right;\">\n",
       "      <th></th>\n",
       "      <th>1</th>\n",
       "      <th>2</th>\n",
       "    </tr>\n",
       "  </thead>\n",
       "  <tbody>\n",
       "    <tr>\n",
       "      <th>0</th>\n",
       "      <td>c</td>\n",
       "      <td>b</td>\n",
       "    </tr>\n",
       "    <tr>\n",
       "      <th>1</th>\n",
       "      <td>c</td>\n",
       "      <td>a</td>\n",
       "    </tr>\n",
       "    <tr>\n",
       "      <th>2</th>\n",
       "      <td>b</td>\n",
       "      <td>a</td>\n",
       "    </tr>\n",
       "    <tr>\n",
       "      <th>3</th>\n",
       "      <td>a</td>\n",
       "      <td>b</td>\n",
       "    </tr>\n",
       "  </tbody>\n",
       "</table>\n",
       "</div>"
      ],
      "text/plain": [
       "   1  2\n",
       "0  c  b\n",
       "1  c  a\n",
       "2  b  a\n",
       "3  a  b"
      ]
     },
     "execution_count": 6,
     "metadata": {},
     "output_type": "execute_result"
    }
   ],
   "source": [
    "get_pairs(l1,l2)"
   ]
  },
  {
   "cell_type": "markdown",
   "id": "c0582c6c-ab19-4966-89c6-57b14310ce4e",
   "metadata": {},
   "source": [
    "#### Unique pairs"
   ]
  },
  {
   "cell_type": "code",
   "execution_count": 7,
   "id": "2920dab2-6e10-4b04-82e3-7cdae99339e9",
   "metadata": {},
   "outputs": [
    {
     "data": {
      "text/html": [
       "<div>\n",
       "<style scoped>\n",
       "    .dataframe tbody tr th:only-of-type {\n",
       "        vertical-align: middle;\n",
       "    }\n",
       "\n",
       "    .dataframe tbody tr th {\n",
       "        vertical-align: top;\n",
       "    }\n",
       "\n",
       "    .dataframe thead th {\n",
       "        text-align: right;\n",
       "    }\n",
       "</style>\n",
       "<table border=\"1\" class=\"dataframe\">\n",
       "  <thead>\n",
       "    <tr style=\"text-align: right;\">\n",
       "      <th></th>\n",
       "      <th>1</th>\n",
       "      <th>2</th>\n",
       "    </tr>\n",
       "  </thead>\n",
       "  <tbody>\n",
       "    <tr>\n",
       "      <th>0</th>\n",
       "      <td>a</td>\n",
       "      <td>b</td>\n",
       "    </tr>\n",
       "    <tr>\n",
       "      <th>1</th>\n",
       "      <td>c</td>\n",
       "      <td>a</td>\n",
       "    </tr>\n",
       "    <tr>\n",
       "      <th>2</th>\n",
       "      <td>c</td>\n",
       "      <td>b</td>\n",
       "    </tr>\n",
       "  </tbody>\n",
       "</table>\n",
       "</div>"
      ],
      "text/plain": [
       "   1  2\n",
       "0  a  b\n",
       "1  c  a\n",
       "2  c  b"
      ]
     },
     "execution_count": 7,
     "metadata": {},
     "output_type": "execute_result"
    }
   ],
   "source": [
    "get_pairs(l1,l2,unique=True)"
   ]
  },
  {
   "cell_type": "markdown",
   "id": "d36c595a-ab8c-413e-b6d7-e6fc08ccd0f9",
   "metadata": {
    "tags": []
   },
   "source": [
    "## Documentation\n",
    "[`roux.lib.set`](https://github.com/rraadd88/roux#module-rouxlibset)"
   ]
  }
 ],
 "metadata": {
  "kernelspec": {
   "display_name": "roux",
   "language": "python",
   "name": "roux"
  },
  "language_info": {
   "codemirror_mode": {
    "name": "ipython",
    "version": 3
   },
   "file_extension": ".py",
   "mimetype": "text/x-python",
   "name": "python",
   "nbconvert_exporter": "python",
   "pygments_lexer": "ipython3",
   "version": "3.7.12"
  }
 },
 "nbformat": 4,
 "nbformat_minor": 5
}
