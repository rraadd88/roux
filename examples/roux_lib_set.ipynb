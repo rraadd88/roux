{
 "cells": [
  {
   "cell_type": "markdown",
   "id": "7e9248c4-351f-4f36-a4ae-5bc5a7439af4",
   "metadata": {},
   "source": [
    "---\n",
    "\n",
    "<!-- <a href=\"https://github.com/rraadd88/roux/blob/master/examples/roux_lib_set.ipynb\"><img align=\"right\" style=\"float:right;\" src=\"https://img.shields.io/badge/-source-cccccc?style=flat-square\"></a>\n",
    " -->\n",
    "## ⬤⬤ Sets."
   ]
  },
  {
   "cell_type": "markdown",
   "id": "94eec2fa-8c56-44cf-88e8-718e6434e486",
   "metadata": {},
   "source": [
    "## Demo data"
   ]
  },
  {
   "cell_type": "code",
   "execution_count": 1,
   "id": "101b49f9-ff08-4f1b-8411-3d79d8996ba3",
   "metadata": {},
   "outputs": [
    {
     "data": {
      "text/plain": [
       "(['a', 'b', 'c', 'd', 'e', 'f'], ['a', 'b', 'c', 'd', 'e'])"
      ]
     },
     "execution_count": 1,
     "metadata": {},
     "output_type": "execute_result"
    }
   ],
   "source": [
    "import string\n",
    "l1=list(string.ascii_lowercase)[:6]\n",
    "l2=list(string.ascii_lowercase)[:5]\n",
    "l1,l2"
   ]
  },
  {
   "cell_type": "markdown",
   "id": "458ed5eb-e26f-4052-954c-ad5af405d8ae",
   "metadata": {},
   "source": [
    "## Check the overlap"
   ]
  },
  {
   "cell_type": "code",
   "execution_count": 2,
   "id": "76996c73-e81e-4a98-adb6-b873866b0bcb",
   "metadata": {},
   "outputs": [
    {
     "data": {
      "text/plain": [
       "{'f'}"
      ]
     },
     "execution_count": 2,
     "metadata": {},
     "output_type": "execute_result"
    }
   ],
   "source": [
    "from roux.lib.set import check_non_overlapwith\n",
    "check_non_overlapwith(l1,l2)"
   ]
  },
  {
   "cell_type": "code",
   "execution_count": 3,
   "id": "6d1683e8-b670-460b-bcd7-48bc84f93cd5",
   "metadata": {},
   "outputs": [],
   "source": [
    "from roux.lib.set import assert_overlapwith\n",
    "assert_overlapwith(l1,l1)"
   ]
  },
  {
   "cell_type": "code",
   "execution_count": 4,
   "id": "297348f8-221e-4f88-979d-c06335f606bf",
   "metadata": {},
   "outputs": [
    {
     "ename": "AssertionError",
     "evalue": "Non-ovelapping item/s: {'f'}",
     "output_type": "error",
     "traceback": [
      "\u001b[0;31m---------------------------------------------------------------------------\u001b[0m",
      "\u001b[0;31mAssertionError\u001b[0m                            Traceback (most recent call last)",
      "\u001b[0;32m/tmp/ipykernel_27901/4193317912.py\u001b[0m in \u001b[0;36m<module>\u001b[0;34m\u001b[0m\n\u001b[0;32m----> 1\u001b[0;31m \u001b[0massert_overlapwith\u001b[0m\u001b[0;34m(\u001b[0m\u001b[0ml1\u001b[0m\u001b[0;34m,\u001b[0m\u001b[0ml2\u001b[0m\u001b[0;34m)\u001b[0m\u001b[0;34m\u001b[0m\u001b[0;34m\u001b[0m\u001b[0m\n\u001b[0m",
      "\u001b[0;32m/mnt/d/Documents/code/roux/roux/lib/set.py\u001b[0m in \u001b[0;36massert_overlapwith\u001b[0;34m(l1, l2)\u001b[0m\n\u001b[1;32m     62\u001b[0m \u001b[0;34m\u001b[0m\u001b[0m\n\u001b[1;32m     63\u001b[0m \u001b[0;32mdef\u001b[0m \u001b[0massert_overlapwith\u001b[0m\u001b[0;34m(\u001b[0m\u001b[0ml1\u001b[0m\u001b[0;34m,\u001b[0m\u001b[0ml2\u001b[0m\u001b[0;34m)\u001b[0m\u001b[0;34m:\u001b[0m\u001b[0;34m\u001b[0m\u001b[0;34m\u001b[0m\u001b[0m\n\u001b[0;32m---> 64\u001b[0;31m     \u001b[0;32massert\u001b[0m \u001b[0mvalidate_overlapwith\u001b[0m\u001b[0;34m(\u001b[0m\u001b[0ml1\u001b[0m\u001b[0;34m,\u001b[0m\u001b[0ml2\u001b[0m\u001b[0;34m)\u001b[0m\u001b[0;34m,\u001b[0m \u001b[0;34mf'Non-ovelapping item/s: {check_non_overlapwith(l1,l2)}'\u001b[0m\u001b[0;34m\u001b[0m\u001b[0;34m\u001b[0m\u001b[0m\n\u001b[0m\u001b[1;32m     65\u001b[0m \u001b[0;34m\u001b[0m\u001b[0m\n\u001b[1;32m     66\u001b[0m \u001b[0;32mdef\u001b[0m \u001b[0mjaccard_index\u001b[0m\u001b[0;34m(\u001b[0m\u001b[0ml1\u001b[0m\u001b[0;34m,\u001b[0m\u001b[0ml2\u001b[0m\u001b[0;34m)\u001b[0m\u001b[0;34m:\u001b[0m\u001b[0;34m\u001b[0m\u001b[0;34m\u001b[0m\u001b[0m\n",
      "\u001b[0;31mAssertionError\u001b[0m: Non-ovelapping item/s: {'f'}"
     ]
    }
   ],
   "source": [
    "assert_overlapwith(l1,l2)"
   ]
  },
  {
   "cell_type": "markdown",
   "id": "d36c595a-ab8c-413e-b6d7-e6fc08ccd0f9",
   "metadata": {
    "tags": []
   },
   "source": [
    "## Documentation\n",
    "[`roux.lib.set`](https://github.com/rraadd88/roux#module-rouxlibset)"
   ]
  }
 ],
 "metadata": {
  "kernelspec": {
   "display_name": "human",
   "language": "python",
   "name": "human"
  },
  "language_info": {
   "codemirror_mode": {
    "name": "ipython",
    "version": 3
   },
   "file_extension": ".py",
   "mimetype": "text/x-python",
   "name": "python",
   "nbconvert_exporter": "python",
   "pygments_lexer": "ipython3",
   "version": "3.7.12"
  }
 },
 "nbformat": 4,
 "nbformat_minor": 5
}
