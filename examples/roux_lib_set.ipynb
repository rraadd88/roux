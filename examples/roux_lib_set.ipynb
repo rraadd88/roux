{
 "cells": [
  {
   "cell_type": "markdown",
   "id": "7e9248c4-351f-4f36-a4ae-5bc5a7439af4",
   "metadata": {},
   "source": [
    "---\n",
    "\n",
    "<!-- <a href=\"https://github.com/rraadd88/roux/blob/master/examples/roux_lib_set.ipynb\"><img align=\"right\" style=\"float:right;\" src=\"https://img.shields.io/badge/-source-cccccc?style=flat-square\"></a>\n",
    " -->\n",
    "## ⬤⬤ Sets."
   ]
  },
  {
   "cell_type": "markdown",
   "id": "94eec2fa-8c56-44cf-88e8-718e6434e486",
   "metadata": {},
   "source": [
    "## Demo data"
   ]
  },
  {
   "cell_type": "code",
   "execution_count": 1,
   "id": "101b49f9-ff08-4f1b-8411-3d79d8996ba3",
   "metadata": {},
   "outputs": [
    {
     "data": {
      "text/plain": [
       "(['a', 'b', 'c', 'd', 'e', 'f'], ['a', 'b', 'c', 'd', 'e'])"
      ]
     },
     "execution_count": 1,
     "metadata": {},
     "output_type": "execute_result"
    }
   ],
   "source": [
    "import string\n",
    "l1=list(string.ascii_lowercase)[:6]\n",
    "l2=list(string.ascii_lowercase)[:5]\n",
    "l1,l2"
   ]
  },
  {
   "cell_type": "markdown",
   "id": "458ed5eb-e26f-4052-954c-ad5af405d8ae",
   "metadata": {},
   "source": [
    "## Check the overlap"
   ]
  },
  {
   "cell_type": "code",
   "execution_count": 2,
   "id": "76996c73-e81e-4a98-adb6-b873866b0bcb",
   "metadata": {},
   "outputs": [
    {
     "data": {
      "text/plain": [
       "{'f'}"
      ]
     },
     "execution_count": 2,
     "metadata": {},
     "output_type": "execute_result"
    }
   ],
   "source": [
    "from roux.lib.set import check_non_overlaps_with\n",
    "check_non_overlaps_with(l1,l2)"
   ]
  },
  {
   "cell_type": "code",
   "execution_count": 3,
   "id": "6d1683e8-b670-460b-bcd7-48bc84f93cd5",
   "metadata": {},
   "outputs": [],
   "source": [
    "from roux.lib.set import assert_overlaps_with\n",
    "assert_overlaps_with(l1,l1)"
   ]
  },
  {
   "cell_type": "markdown",
   "id": "d36c595a-ab8c-413e-b6d7-e6fc08ccd0f9",
   "metadata": {
    "tags": []
   },
   "source": [
    "## Documentation\n",
    "[`roux.lib.set`](https://github.com/rraadd88/roux#module-rouxlibset)"
   ]
  }
 ],
 "metadata": {
  "kernelspec": {
   "display_name": "human",
   "language": "python",
   "name": "human"
  },
  "language_info": {
   "codemirror_mode": {
    "name": "ipython",
    "version": 3
   },
   "file_extension": ".py",
   "mimetype": "text/x-python",
   "name": "python",
   "nbconvert_exporter": "python",
   "pygments_lexer": "ipython3",
   "version": "3.7.12"
  }
 },
 "nbformat": 4,
 "nbformat_minor": 5
}
