{
 "cells": [
  {
   "cell_type": "markdown",
   "id": "7664d8c0-a420-4791-b3d1-fddb93b8b0ef",
   "metadata": {},
   "source": [
    "---\n",
    "\n",
    "<!-- <a href=\"https://github.com/rraadd88/roux/blob/master/examples/roux_viz_ax.ipynb\"><img align=\"right\" style=\"float:right;\" src=\"https://img.shields.io/badge/-source-cccccc?style=flat-square\"></a>\n",
    " -->\n",
    " \n",
    "## 🔧 Subplot-level adjustments."
   ]
  },
  {
   "cell_type": "code",
   "execution_count": 1,
   "id": "76b1a6f0-715d-479e-99a4-b7af7e12c6dc",
   "metadata": {},
   "outputs": [
    {
     "name": "stdout",
     "output_type": "stream",
     "text": [
      "The history saving thread hit an unexpected error (DatabaseError('database disk image is malformed')).History will not be written to the database.\n"
     ]
    }
   ],
   "source": [
    "# installing the required roux subpackage\n",
    "# !pip install roux[stat]\n",
    "# loading non-roux requirements\n",
    "import pandas as pd\n",
    "import matplotlib.pyplot as plt\n",
    "import seaborn as sns"
   ]
  },
  {
   "cell_type": "markdown",
   "id": "8ea40eac-c0fe-4e1d-af66-abf5532fb9e3",
   "metadata": {},
   "source": [
    "## Demo data"
   ]
  },
  {
   "cell_type": "code",
   "execution_count": 2,
   "id": "7f879ece-1f39-40c7-aab1-ed6b0460d407",
   "metadata": {},
   "outputs": [
    {
     "data": {
      "text/html": [
       "<div>\n",
       "<style scoped>\n",
       "    .dataframe tbody tr th:only-of-type {\n",
       "        vertical-align: middle;\n",
       "    }\n",
       "\n",
       "    .dataframe tbody tr th {\n",
       "        vertical-align: top;\n",
       "    }\n",
       "\n",
       "    .dataframe thead th {\n",
       "        text-align: right;\n",
       "    }\n",
       "</style>\n",
       "<table border=\"1\" class=\"dataframe\">\n",
       "  <thead>\n",
       "    <tr style=\"text-align: right;\">\n",
       "      <th></th>\n",
       "      <th>A</th>\n",
       "      <th>B</th>\n",
       "      <th>C</th>\n",
       "      <th>D</th>\n",
       "      <th>label</th>\n",
       "    </tr>\n",
       "  </thead>\n",
       "  <tbody>\n",
       "    <tr>\n",
       "      <th>LRmijlfpaq</th>\n",
       "      <td>-0.650355</td>\n",
       "      <td>-0.541145</td>\n",
       "      <td>-0.089155</td>\n",
       "      <td>0.415311</td>\n",
       "      <td>group3 item2</td>\n",
       "    </tr>\n",
       "  </tbody>\n",
       "</table>\n",
       "</div>"
      ],
      "text/plain": [
       "                   A         B         C         D         label\n",
       "LRmijlfpaq -0.650355 -0.541145 -0.089155  0.415311  group3 item2"
      ]
     },
     "execution_count": 2,
     "metadata": {},
     "output_type": "execute_result"
    }
   ],
   "source": [
    "## random state\n",
    "import numpy as np\n",
    "np.random.seed(1)\n",
    "## demo dataframe\n",
    "data=pd._testing.makeDataFrame()\n",
    "data=(data\n",
    "    .assign(\n",
    "        **{\n",
    "            'label':[' '.join(t) for t in zip( \n",
    "                        np.random.choice(['group1','group2','group3'], size=len(data), replace=True),\n",
    "                        np.random.choice(['item1','item2'], size=len(data), replace=True),\n",
    "                                         )],\n",
    "        }\n",
    "    )\n",
    ")\n",
    "data.head(1)"
   ]
  },
  {
   "cell_type": "markdown",
   "id": "d3fee17a-31b7-4a37-92a9-2af0e42c318b",
   "metadata": {},
   "source": [
    "## Split `ticklabels`"
   ]
  },
  {
   "cell_type": "markdown",
   "id": "52b2cc09-f821-4a0e-adec-2d12f1a2d966",
   "metadata": {},
   "source": [
    "### Group-wise"
   ]
  },
  {
   "cell_type": "markdown",
   "id": "3e2b8cc3-74ac-4c4e-bd7f-637bf82a17c8",
   "metadata": {},
   "source": [
    "#### x-axis"
   ]
  },
  {
   "cell_type": "code",
   "execution_count": 3,
   "id": "5587aa53-aa4f-4b23-9e5b-11cc316ca27f",
   "metadata": {},
   "outputs": [
    {
     "data": {
      "text/plain": [
       "<AxesSubplot:ylabel='A'>"
      ]
     },
     "execution_count": 3,
     "metadata": {},
     "output_type": "execute_result"
    },
    {
     "data": {
      "image/png": "[encoded data removed]",
      "text/plain": [
       "<Figure size 350x250 with 1 Axes>"
      ]
     },
     "metadata": {},
     "output_type": "display_data"
    }
   ],
   "source": [
    "fig,ax=plt.subplots(figsize=[3.5,2.5])\n",
    "sns.boxplot(\n",
    "    data=data.sort_values('label'),\n",
    "    y='A',\n",
    "    x='label',\n",
    "    ax=ax,\n",
    "    )\n",
    "from roux.viz.ax_ import split_ticklabels\n",
    "split_ticklabels(\n",
    "    ax=ax,\n",
    "    axis='x',\n",
    "    fmt='group',\n",
    "    sep=' ',\n",
    ")"
   ]
  },
  {
   "cell_type": "markdown",
   "id": "f784960f-6c41-4165-86fb-bbd9de63d53a",
   "metadata": {},
   "source": [
    "#### y-axis"
   ]
  },
  {
   "cell_type": "code",
   "execution_count": 4,
   "id": "61b20a61-561b-43e1-a024-60e9865b7d93",
   "metadata": {},
   "outputs": [
    {
     "data": {
      "text/plain": [
       "<AxesSubplot:xlabel='A'>"
      ]
     },
     "execution_count": 4,
     "metadata": {},
     "output_type": "execute_result"
    },
    {
     "data": {
      "image/png": "[encoded data removed]",
      "text/plain": [
       "<Figure size 250x250 with 1 Axes>"
      ]
     },
     "metadata": {},
     "output_type": "display_data"
    }
   ],
   "source": [
    "fig,ax=plt.subplots(figsize=[2.5,2.5])\n",
    "sns.boxplot(\n",
    "    data=data.sort_values('label'),\n",
    "    x='A',\n",
    "    y='label',\n",
    "    ax=ax,\n",
    "    )\n",
    "from roux.viz.ax_ import split_ticklabels\n",
    "split_ticklabels(\n",
    "    ax=ax,\n",
    "    axis='y',\n",
    "    fmt='group',\n",
    "    sep=' ',\n",
    ")"
   ]
  },
  {
   "cell_type": "markdown",
   "id": "da620caf-7502-44be-8d69-da2a771179a2",
   "metadata": {
    "tags": []
   },
   "source": [
    "## Documentation\n",
    "[`roux.viz.ax_`](https://github.com/rraadd88/roux#module-rouxvizax_)"
   ]
  }
 ],
 "metadata": {
  "kernelspec": {
   "display_name": "giscal",
   "language": "python",
   "name": "giscal"
  },
  "language_info": {
   "codemirror_mode": {
    "name": "ipython",
    "version": 3
   },
   "file_extension": ".py",
   "mimetype": "text/x-python",
   "name": "python",
   "nbconvert_exporter": "python",
   "pygments_lexer": "ipython3",
   "version": "3.7.12"
  }
 },
 "nbformat": 4,
 "nbformat_minor": 5
}
