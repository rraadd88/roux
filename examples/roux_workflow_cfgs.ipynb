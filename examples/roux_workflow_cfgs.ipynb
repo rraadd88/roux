{
 "cells": [
  {
   "cell_type": "markdown",
   "id": "a1da707e-ca1e-413d-80e6-9160800fe00b",
   "metadata": {},
   "source": [
    "---\n",
    "\n",
    "<!-- <a href=\"https://github.com/rraadd88/roux/blob/master/examples/roux_workflow_cfgs.ipynb\"><img align=\"right\" style=\"float:right;\" src=\"https://img.shields.io/badge/-source-cccccc?style=flat-square\"></a>\n",
    " -->\n",
    " \n",
    "## ⚙️🗺️ Reading multiple configs."
   ]
  },
  {
   "cell_type": "code",
   "execution_count": 1,
   "id": "78adcdce-1d47-4b0f-a8da-4f737bd661ac",
   "metadata": {},
   "outputs": [],
   "source": [
    "# install extra requirements\n",
    "# !pip install roux[workflow]\n",
    "\n",
    "import logging\n",
    "logging.basicConfig(level='INFO',force=True)"
   ]
  },
  {
   "cell_type": "markdown",
   "id": "d83750e3-bf65-4b06-9fdc-5a40485a0667",
   "metadata": {},
   "source": [
    "### Demo inputs"
   ]
  },
  {
   "cell_type": "code",
   "execution_count": 2,
   "id": "ce0a51e7-4dec-40bb-a291-7f22cd78e359",
   "metadata": {},
   "outputs": [],
   "source": [
    "input_dir_path='tests/input/roux_workflow_cfgs/'"
   ]
  },
  {
   "cell_type": "code",
   "execution_count": 3,
   "id": "25584a53-6624-44eb-a172-3c9c0ed58d94",
   "metadata": {},
   "outputs": [
    {
     "name": "stdout",
     "output_type": "stream",
     "text": [
      "{'meta_config': {'key1': 'value1',\n",
      "                 'key2': 'value2',\n",
      "                 'key3': 'interpolated from metaconfig = ${key2}',\n",
      "                 'sub_config1': {'config_path': 'tests/input/roux_workflow_cfgs/sub_config1.yaml',\n",
      "                                 'description': 'sample1.',\n",
      "                                 'path': 'path/to/file1'},\n",
      "                 'sub_config2': {'config_path': 'tests/input/roux_workflow_cfgs/sub_config2.yaml',\n",
      "                                 'description': 'sample2.',\n",
      "                                 'path': 'path/to/file2'},\n",
      "                 'sub_config3': {'config_base_path': 'tests/input/roux_workflow_cfgs/sub_config_base.yaml',\n",
      "                                 'input_path': '${..sub_config2.path}'}},\n",
      " 'sub_config1': {'c1key1': 'value from metaconfig = ${key1}',\n",
      "                 'c1key2': 'value2',\n",
      "                 'c1key3': 'value3'},\n",
      " 'sub_config2': {'c2key1': 'value from metaconfig = ${key1}',\n",
      "                 'c2key2': 'value interpolated in config1 = '\n",
      "                           '${sub_config1.c1key1}',\n",
      "                 'c2key3': 'value3'},\n",
      " 'sub_config_base': {'input_path': 'input path', 'output_path': 'output path'}}\n"
     ]
    }
   ],
   "source": [
    "## creating the demo configs\n",
    "configs=dict(\n",
    "    ## meta-config that contains other configs\n",
    "    meta_config=\"\"\"\n",
    "    key1: value1\n",
    "    key2: value2\n",
    "    key3: interpolated from metaconfig = ${key2}\n",
    "    \n",
    "    ## append other configs\n",
    "    sub_config1:\n",
    "        config_path: '\"\"\"+input_dir_path+\"\"\"sub_config1.yaml' # should be one key\n",
    "        path: path/to/file1\n",
    "        description: sample1. \n",
    "    sub_config2:\n",
    "        config_path: '\"\"\"+input_dir_path+\"\"\"sub_config2.yaml' # path should exist\n",
    "        path: path/to/file2\n",
    "        description: sample2. \n",
    "        \n",
    "    sub_config3:\n",
    "        config_base_path: '\"\"\"+input_dir_path+\"\"\"sub_config_base.yaml' # path should exist    \n",
    "        input_path: ${..sub_config2.path}        \n",
    "    \"\"\",\n",
    "    ## individual configs to be appended\n",
    "    sub_config1=\"\"\"\n",
    "    c1key1: value from metaconfig = ${key1} # interpolated from c0\n",
    "    c1key2: value2\n",
    "    c1key3: value3\n",
    "    \"\"\",\n",
    "\n",
    "    sub_config2=\"\"\"\n",
    "    c2key1: value from metaconfig = ${key1} # interpolated from c0\n",
    "    c2key2: value interpolated in config1 = ${sub_config1.c1key1} # interpolated from c1\n",
    "    c2key3: value3\n",
    "    \"\"\",\n",
    "    \n",
    "    sub_config_base=\"\"\"\n",
    "    input_path: input path\n",
    "    output_path: output path\n",
    "    \"\"\"\n",
    "    )\n",
    "import yaml\n",
    "configs={k:yaml.safe_load(configs[k]) for k in configs}\n",
    "from pprint import pprint\n",
    "pprint({k:d for k,d in configs.items()})"
   ]
  },
  {
   "cell_type": "code",
   "execution_count": 4,
   "id": "180288cc-a284-45c2-af3c-832c0f7740e0",
   "metadata": {},
   "outputs": [
    {
     "data": {
      "text/plain": [
       "['tests/input/roux_workflow_cfgs/meta_config.yaml',\n",
       " 'tests/input/roux_workflow_cfgs/sub_config1.yaml',\n",
       " 'tests/input/roux_workflow_cfgs/sub_config2.yaml',\n",
       " 'tests/input/roux_workflow_cfgs/sub_config_base.yaml']"
      ]
     },
     "execution_count": 4,
     "metadata": {},
     "output_type": "execute_result"
    }
   ],
   "source": [
    "## save the demo configs\n",
    "from roux.lib.io import to_dict\n",
    "[to_dict(configs[k],f'tests/input/roux_workflow_cfgs/{k}.yaml') for k in configs]"
   ]
  },
  {
   "cell_type": "markdown",
   "id": "91105df7-696f-42ad-baa1-0008bf4b3a82",
   "metadata": {
    "jp-MarkdownHeadingCollapsed": true
   },
   "source": [
    "## Subs"
   ]
  },
  {
   "cell_type": "code",
   "execution_count": 5,
   "id": "d9b717d6-e07b-4c0f-8ff1-5eab26576aac",
   "metadata": {},
   "outputs": [
    {
     "name": "stderr",
     "output_type": "stream",
     "text": [
      "info:root:Appending config to sub_config1\n",
      "info:root:base config used.\n",
      "info:root:Appending config to sub_config2\n",
      "info:root:base config used.\n",
      "info:root:Appending config to base from sub_config3\n"
     ]
    },
    {
     "data": {
      "text/plain": [
       "{'key1': 'value1',\n",
       " 'key2': 'value2',\n",
       " 'key3': 'interpolated from metaconfig = value2',\n",
       " 'sub_config1': {'config_path': 'tests/input/roux_workflow_cfgs/sub_config1.yaml',\n",
       "  'path': 'path/to/file1',\n",
       "  'description': 'sample1.',\n",
       "  'c1key1': 'value from metaconfig = value1',\n",
       "  'c1key2': 'value2',\n",
       "  'c1key3': 'value3'},\n",
       " 'sub_config2': {'config_path': 'tests/input/roux_workflow_cfgs/sub_config2.yaml',\n",
       "  'path': 'path/to/file2',\n",
       "  'description': 'sample2.',\n",
       "  'c2key1': 'value from metaconfig = value1',\n",
       "  'c2key2': 'value interpolated in config1 = value from metaconfig = value1',\n",
       "  'c2key3': 'value3'},\n",
       " 'sub_config3': {'input_path': 'path/to/file2', 'output_path': 'output path'}}"
      ]
     },
     "execution_count": 5,
     "metadata": {},
     "output_type": "execute_result"
    }
   ],
   "source": [
    "%run ../roux/workflow/cfgs.py\n",
    "# from roux.workflow.cfgs import read_sub_configs\n",
    "read_sub_configs(\n",
    "    configs['meta_config'],\n",
    "    # config_path_key: str = \"config_path\",\n",
    "    # config_base_path_key: str = \"config_base_path\",    \n",
    "    verbose=True,\n",
    "    )"
   ]
  },
  {
   "cell_type": "markdown",
   "id": "364528da-4126-49c8-99af-a13b6ca79722",
   "metadata": {},
   "source": [
    "## Mta-config"
   ]
  },
  {
   "cell_type": "code",
   "execution_count": 6,
   "id": "9ec65565-0c3a-49d6-952b-abbaf0fe4651",
   "metadata": {},
   "outputs": [
    {
     "name": "stderr",
     "output_type": "stream",
     "text": [
      "info:root:Appending config to sub_config1\n",
      "info:root:base config used.\n",
      "info:root:Appending config to sub_config2\n",
      "info:root:base config used.\n",
      "info:root:Appending config to base from sub_config3\n"
     ]
    },
    {
     "data": {
      "text/plain": [
       "{'key1': 'value1',\n",
       " 'key2': 'value2',\n",
       " 'key3': 'interpolated from metaconfig = value2',\n",
       " 'sub_config1': {'config_path': 'tests/input/roux_workflow_cfgs/sub_config1.yaml',\n",
       "  'path': 'path/to/file1',\n",
       "  'description': 'sample1.',\n",
       "  'c1key1': 'value from metaconfig = value1',\n",
       "  'c1key2': 'value2',\n",
       "  'c1key3': 'value3'},\n",
       " 'sub_config2': {'config_path': 'tests/input/roux_workflow_cfgs/sub_config2.yaml',\n",
       "  'path': 'path/to/file2',\n",
       "  'description': 'sample2.',\n",
       "  'c2key1': 'value from metaconfig = value1',\n",
       "  'c2key2': 'value interpolated in config1 = value from metaconfig = value1',\n",
       "  'c2key3': 'value3'},\n",
       " 'sub_config3': {'input_path': 'path/to/file2', 'output_path': 'output path'}}"
      ]
     },
     "execution_count": 6,
     "metadata": {},
     "output_type": "execute_result"
    }
   ],
   "source": [
    "%run ../roux/workflow/cfgs.py\n",
    "# from roux.workflow.cfgs import read_metadata \n",
    "config=read_metadata(\n",
    "    f'{input_dir_path}/meta_config.yaml', # path to the meta-config\n",
    "    verbose=True, # verbose\n",
    "    )\n",
    "config"
   ]
  },
  {
   "cell_type": "code",
   "execution_count": 7,
   "id": "6f6ca8f6-ad47-4d20-b6f3-27cbc55b0ab5",
   "metadata": {
    "tags": [
     "read_configs"
    ]
   },
   "outputs": [
    {
     "name": "stdout",
     "output_type": "stream",
     "text": [
      "value interpolated in config1 = value from metaconfig = value1\n"
     ]
    }
   ],
   "source": [
    "## test for testbook\n",
    "assert config['sub_config2']['c2key2']=='value interpolated in config1 = value from metaconfig = value1', config['sub_config2']['c2key2']\n",
    "assert len(config)==6, len(config)\n",
    "assert len(config['sub_config2'])==6, config['sub_config2']\n",
    "print(config['sub_config2']['c2key2'])"
   ]
  },
  {
   "cell_type": "markdown",
   "id": "e58b71f1-0908-4488-83e7-48a75dd585ce",
   "metadata": {},
   "source": [
    "### Modifying config using `inputs` parameter\n",
    "\n",
    "Order of merging:\n",
    "\n",
    "    config -> inputs"
   ]
  },
  {
   "cell_type": "code",
   "execution_count": 8,
   "id": "fd92856b-88e7-41ad-961f-c698176ae315",
   "metadata": {},
   "outputs": [
    {
     "data": {
      "text/plain": [
       "{'key1': 'modified',\n",
       " 'key2': 'value2',\n",
       " 'key3': 'interpolated from metaconfig = value2',\n",
       " 'sub_config1': {'config_path': 'tests/input/roux_workflow_cfgs/sub_config1.yaml',\n",
       "  'path': 'path/to/file1',\n",
       "  'description': 'sample1.',\n",
       "  'c1key1': 'value from metaconfig = modified',\n",
       "  'c1key2': 'value2',\n",
       "  'c1key3': 'value3'},\n",
       " 'sub_config2': {'config_path': 'tests/input/roux_workflow_cfgs/sub_config2.yaml',\n",
       "  'path': 'path/to/file2',\n",
       "  'description': 'sample2.',\n",
       "  'c2key1': 'value from metaconfig = modified',\n",
       "  'c2key2': 'value interpolated in config1 = value from metaconfig = modified',\n",
       "  'c2key3': 'value3'},\n",
       " 'sub_config3': {'input_path': 'path/to/file2', 'output_path': 'output path'}}"
      ]
     },
     "execution_count": 8,
     "metadata": {},
     "output_type": "execute_result"
    }
   ],
   "source": [
    "from roux.workflow.cfgs import read_metadata \n",
    "config=read_metadata(\n",
    "    f'{input_dir_path}/meta_config.yaml', # path to the meta-config\n",
    "    inputs=dict(key1='modified'),\n",
    "    # verbose=True, # verbose\n",
    "    )\n",
    "config"
   ]
  },
  {
   "cell_type": "code",
   "execution_count": 9,
   "id": "76582907-42fd-4929-8639-214a7b7551ab",
   "metadata": {
    "tags": [
     "read_configs_with_inputs"
    ]
   },
   "outputs": [
    {
     "name": "stdout",
     "output_type": "stream",
     "text": [
      "value interpolated in config1 = value from metaconfig = modified\n"
     ]
    }
   ],
   "source": [
    "## test for testbook\n",
    "assert config['sub_config2']['c2key2']=='value interpolated in config1 = value from metaconfig = modified', config['sub_config2']['c2key2']\n",
    "assert len(config)==6, len(config)\n",
    "assert len(config['sub_config2'])==6, config['sub_config2']\n",
    "print(config['sub_config2']['c2key2'])"
   ]
  },
  {
   "cell_type": "markdown",
   "id": "a905b5a6-d3a1-4b11-a82d-846fb695b251",
   "metadata": {},
   "source": [
    "### Using base config and modifying config using `inputs` parameter\n",
    "\n",
    "Order of merging:  \n",
    "\n",
    "    base -> config -> inputs"
   ]
  },
  {
   "cell_type": "code",
   "execution_count": 10,
   "id": "78aa0f65-b67c-42ec-b2dc-c6522fa391ea",
   "metadata": {
    "tags": []
   },
   "outputs": [
    {
     "data": {
      "text/plain": [
       "{'key0': 'base',\n",
       " 'key1': 'modified',\n",
       " 'key2': 'value2',\n",
       " 'key3': 'interpolated from metaconfig = value2',\n",
       " 'sub_config1': {'config_path': 'tests/input/roux_workflow_cfgs/sub_config1.yaml',\n",
       "  'path': 'path/to/file1',\n",
       "  'description': 'sample1.',\n",
       "  'c1key1': 'value from metaconfig = modified',\n",
       "  'c1key2': 'value2',\n",
       "  'c1key3': 'value3'},\n",
       " 'sub_config2': {'config_path': 'tests/input/roux_workflow_cfgs/sub_config2.yaml',\n",
       "  'path': 'path/to/file2',\n",
       "  'description': 'sample2.',\n",
       "  'c2key1': 'value from metaconfig = modified',\n",
       "  'c2key2': 'value interpolated in config1 = value from metaconfig = modified',\n",
       "  'c2key3': 'value3'},\n",
       " 'sub_config3': {'input_path': 'path/to/file2', 'output_path': 'output path'}}"
      ]
     },
     "execution_count": 10,
     "metadata": {},
     "output_type": "execute_result"
    }
   ],
   "source": [
    "from roux.workflow.cfgs import read_metadata \n",
    "config=read_metadata(\n",
    "    f'{input_dir_path}/meta_config.yaml', # path to the meta-config\n",
    "    inputs=dict(key1='modified'),\n",
    "    config_base={'key0': 'base'}\n",
    "    # verbose=True, # verbose\n",
    "    )\n",
    "config"
   ]
  },
  {
   "cell_type": "markdown",
   "id": "b9b3685c-349f-45de-a3c3-2895d2321e55",
   "metadata": {},
   "source": [
    "## `cfg_run`"
   ]
  },
  {
   "cell_type": "code",
   "execution_count": 11,
   "id": "bfa47cb7-b702-4515-9fd8-1246263917de",
   "metadata": {},
   "outputs": [
    {
     "name": "stderr",
     "output_type": "stream",
     "text": [
      "info:root:\n",
      "step2:\n",
      "  pre:\n",
      "    pms_run:\n",
      "      input_path: null\n",
      "      output_path: null\n",
      "    kws_run:\n",
      "      script_path: null\n",
      "      kernel: null\n",
      "      cpus: null\n",
      "  pms_run:\n",
      "    input_path: null\n",
      "    output_path: null\n",
      "  kws_run:\n",
      "    script_path: null\n",
      "    kernel: null\n",
      "  post:\n",
      "    pms_run:\n",
      "      input_path: null\n",
      "      output_path: null\n",
      "    kws_run:\n",
      "      script_path: null\n",
      "      kernel: null\n",
      "step1:\n",
      "  tmp:\n",
      "    pms_run:\n",
      "      input_path: null\n",
      "      output_path: null\n",
      "    kws_run:\n",
      "      script_path: null\n",
      "      kernel: null\n",
      "\n"
     ]
    }
   ],
   "source": [
    "from roux.lib.log import log_dict\n",
    "from roux.workflow.io import read_config\n",
    "cfg=read_config(\n",
    "\"\"\"\n",
    "step2:\n",
    "    pre:\n",
    "        pms_run:\n",
    "            input_path:\n",
    "            output_path:\n",
    "        kws_run:\n",
    "            script_path:\n",
    "            kernel: \n",
    "            cpus:\n",
    "\n",
    "    pms_run:\n",
    "        input_path:\n",
    "        output_path:\n",
    "    kws_run:\n",
    "        script_path:\n",
    "        kernel: \n",
    "        \n",
    "    post:\n",
    "        pms_run:\n",
    "            input_path:\n",
    "            output_path:\n",
    "        kws_run:\n",
    "            script_path:\n",
    "            kernel: \n",
    "step1:\n",
    "    tmp:\n",
    "        pms_run:\n",
    "            input_path:\n",
    "            output_path:\n",
    "        kws_run:\n",
    "            script_path:\n",
    "            kernel:     \n",
    "\"\"\",\n",
    ")\n",
    "log_dict(cfg)"
   ]
  },
  {
   "cell_type": "code",
   "execution_count": 12,
   "id": "793bcdcf-4178-4dc1-86ed-4f581a79b25e",
   "metadata": {},
   "outputs": [
    {
     "name": "stderr",
     "output_type": "stream",
     "text": [
      "info:root:\n",
      "!!python/object/apply:collections.OrderedDict\n",
      "- - - step2-pre\n",
      "    - pms_run:\n",
      "        input_path: null\n",
      "        output_path: null\n",
      "      kws_run:\n",
      "        script_path: null\n",
      "        kernel: null\n",
      "        cpus: null\n",
      "  - - step2\n",
      "    - pms_run:\n",
      "        input_path: null\n",
      "        output_path: null\n",
      "      kws_run:\n",
      "        script_path: null\n",
      "        kernel: null\n",
      "  - - step2-post\n",
      "    - pms_run:\n",
      "        input_path: null\n",
      "        output_path: null\n",
      "      kws_run:\n",
      "        script_path: null\n",
      "        kernel: null\n",
      "  - - step1-tmp\n",
      "    - pms_run:\n",
      "        input_path: null\n",
      "        output_path: null\n",
      "      kws_run:\n",
      "        script_path: null\n",
      "        kernel: null\n",
      "\n"
     ]
    }
   ],
   "source": [
    "from roux.workflow.cfgs import get_cfg_run\n",
    "cfg_run=get_cfg_run(cfg)\n",
    "log_dict(cfg_run)"
   ]
  },
  {
   "cell_type": "code",
   "execution_count": 13,
   "id": "b1c4cad9-77f2-494b-be91-5e54401dccdb",
   "metadata": {},
   "outputs": [],
   "source": [
    "assert cfg_run==get_cfg_run(cfg_run)"
   ]
  },
  {
   "cell_type": "code",
   "execution_count": 14,
   "id": "7df89ff7-bba3-4ae6-b502-8e788c651cec",
   "metadata": {},
   "outputs": [],
   "source": [
    "assert list(cfg_run.keys())==['step2-pre','step2','step2-post','step1-tmp'], list(cfg_run.keys())"
   ]
  }
 ],
 "metadata": {
  "kernelspec": {
   "display_name": "ile",
   "language": "python",
   "name": "ile"
  },
  "language_info": {
   "codemirror_mode": {
    "name": "ipython",
    "version": 3
   },
   "file_extension": ".py",
   "mimetype": "text/x-python",
   "name": "python",
   "nbconvert_exporter": "python",
   "pygments_lexer": "ipython3",
   "version": "3.12.3"
  }
 },
 "nbformat": 4,
 "nbformat_minor": 5
}
