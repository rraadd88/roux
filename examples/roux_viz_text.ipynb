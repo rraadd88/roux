{
 "cells": [
  {
   "cell_type": "markdown",
   "id": "ec2c46be-0cab-43ef-a76a-8be7847259e4",
   "metadata": {
    "editable": true,
    "slideshow": {
     "slide_type": ""
    },
    "tags": []
   },
   "source": [
    "---\n",
    "\n",
    "<!-- <a href=\"https://github.com/rraadd88/roux/blob/master/examples/roux_viz_text.ipynb\"><img align=\"right\" style=\"float:right;\" src=\"https://img.shields.io/badge/-source-cccccc?style=flat-square\"></a>\n",
    " -->\n",
    " \n",
    "## 📈 Text."
   ]
  },
  {
   "cell_type": "code",
   "execution_count": 1,
   "id": "b266c366-7fbd-4e6e-aeb0-67ff691d7f3f",
   "metadata": {},
   "outputs": [],
   "source": [
    "# | default_exp text"
   ]
  },
  {
   "cell_type": "code",
   "execution_count": 2,
   "id": "aaf868be-89d4-4814-9302-9153286aface",
   "metadata": {},
   "outputs": [],
   "source": [
    "# | export\n",
    "\"\"\"text of plotting functions.\"\"\"\n",
    "\n",
    "import matplotlib.pyplot as plt\n",
    "import numpy as np\n",
    "from matplotlib.colors import to_rgba\n",
    "from matplotlib.text import Text\n",
    "def set_text_multicolored(\n",
    "    x: float = None,\n",
    "    y: float = None,\n",
    "    s: str = None,\n",
    "    sep: str = None,\n",
    "\n",
    "    color: any = None,\n",
    "    color2_alpha=0.5,\n",
    "    \n",
    "    ha='center',\n",
    "    ax=None,\n",
    "    **kwargs\n",
    "):\n",
    "    \"\"\"\n",
    "    Plots a string split into two parts with different color.\n",
    "\n",
    "    The string is split by the separator `sep`. If `color` is a single\n",
    "    color string, the second part of the text is drawn with 50% alpha.\n",
    "\n",
    "    Args:\n",
    "        x (float): The horizontal coordinate for the text.\n",
    "        y (float): The vertical coordinate for the text anchor point.\n",
    "        s (str): The string to plot, containing the separator.\n",
    "        sep (str): The separator to split the string by (e.g., '\\\\n').\n",
    "        color (any, optional): A list/tuple of two color, or a single\n",
    "                                color string. Defaults to ['black', 'gray'].\n",
    "        ax (plt.Axes, optional): The axes to plot on. If None, uses plt.gca().\n",
    "        **kwargs: Additional keyword arguments passed to both ax.text calls\n",
    "                  (e.g., ha, fontsize).\n",
    "    \"\"\"\n",
    "    if isinstance(s,Text):\n",
    "        text_obj=s\n",
    "        del s\n",
    "        # 1. Extract properties from the existing text object\n",
    "        ax = text_obj.axes\n",
    "        s = text_obj.get_text()\n",
    "        x, y = text_obj.get_position()\n",
    "        \n",
    "        # Extract original text properties to pass them along\n",
    "        text_props = {\n",
    "            'color' : text_obj.get_color(),\n",
    "            'ha': text_obj.get_ha(),\n",
    "            'fontsize': text_obj.get_fontsize(),\n",
    "            'fontweight': text_obj.get_fontweight(),\n",
    "        }\n",
    "        # Update with any new kwargs the user provides\n",
    "        text_props.update(kwargs)\n",
    "    \n",
    "        # 2. Remove the original text object from the axes\n",
    "        text_obj.remove()\n",
    "    \n",
    "        # 3. Call the drawing function to replace it\n",
    "        return set_text_multicolored(\n",
    "            x=x, y=y, s=s,\n",
    "            ax=ax,\n",
    "            **text_props\n",
    "        )\n",
    "        \n",
    "    if ax is None:\n",
    "        ax = plt.gca()\n",
    "\n",
    "    # --- Modification: Handle the color argument dynamically ---\n",
    "    if color is None:\n",
    "        color = 'black'\n",
    "    if isinstance(color, str):\n",
    "        # If a single color string is given, use it for the first part\n",
    "        # and a semi-transparent version for the second.\n",
    "        color1 = color\n",
    "        rgba = to_rgba(color)\n",
    "        color2 = (rgba[0], rgba[1], rgba[2], color2_alpha) # Set alpha to 0.5\n",
    "    else:\n",
    "        # Assume color is a list or tuple of two color\n",
    "        color1, color2 = color[0], color[1]\n",
    "    # --- End Modification ---\n",
    "\n",
    "    # Split the input text into two parts\n",
    "    if sep is None:\n",
    "        if '\\n' in s:\n",
    "            sep='\\n'\n",
    "            \n",
    "    parts = s.split(sep, 1)\n",
    "    string_part1 = parts[0]\n",
    "    string_part2 = parts[1] if len(parts) > 1 else \"\"\n",
    "\n",
    "    # Set default horizontal alignment if not provided\n",
    "    # kwargs.setdefault('ha', 'center')\n",
    "\n",
    "    # 1. Plot the first part, aligned by its bottom edge\n",
    "    ax.text(\n",
    "        x,\n",
    "        y,\n",
    "        string_part1,\n",
    "        **{\n",
    "            **dict(\n",
    "                va='bottom' if sep =='\\n' else 'center',\n",
    "                ha=ha if sep =='\\n' else 'right',\n",
    "                color=color1,\n",
    "            ),\n",
    "            **kwargs,\n",
    "        }\n",
    "       )\n",
    "\n",
    "    # 2. Plot the second part, aligned by its top edge\n",
    "    ax.text(\n",
    "        x,\n",
    "        y,\n",
    "        string_part2,\n",
    "        **{\n",
    "            **dict(\n",
    "                va='top' if sep =='\\n' else 'center',\n",
    "                ha=ha if sep =='\\n' else 'left',\n",
    "                color=color2,\n",
    "            ),\n",
    "            **kwargs,\n",
    "        }\n",
    "        )\n",
    "\n",
    "    return ax"
   ]
  },
  {
   "cell_type": "code",
   "execution_count": 3,
   "id": "0cb411f0-b297-4f26-8279-00f246ef5504",
   "metadata": {
    "editable": true,
    "slideshow": {
     "slide_type": ""
    },
    "tags": []
   },
   "outputs": [
    {
     "data": {
      "image/png": "[encoded data removed]",
      "text/plain": [
       "<Figure size 640x480 with 1 Axes>"
      ]
     },
     "metadata": {},
     "output_type": "display_data"
    }
   ],
   "source": [
    "fig, ax = plt.subplots()\n",
    "\n",
    "for x,ha in enumerate(['left','center','right',]):\n",
    "    _=set_text_multicolored(\n",
    "        x=(x+0.5)/3,\n",
    "        y=0.9,\n",
    "        s=\"text1\\n(text2)\",\n",
    "        color='k',\n",
    "        ha=ha,\n",
    "        ax=ax,\n",
    "    )\n",
    "\n",
    "    set_text_multicolored(\n",
    "        s=ax.text(\n",
    "            x=(x+0.5)/3,\n",
    "            y=0.8,\n",
    "            s=\"text1\\n(text2)\",\n",
    "            ha=ha,\n",
    "            color = 'g',\n",
    "        ),\n",
    "    )\n",
    "    ## TODO\n",
    "    _=set_text_multicolored(\n",
    "        x=(x+0.5)/3,\n",
    "        y=0.5,\n",
    "        s=\"text1 (text2)\",\n",
    "        color='k',\n",
    "        ax=ax,\n",
    "        ha=ha,\n",
    "    )"
   ]
  },
  {
   "cell_type": "code",
   "execution_count": 4,
   "id": "04a9abad-8e29-44b1-a07c-f55c0ca4f709",
   "metadata": {},
   "outputs": [],
   "source": [
    "# # --- Test Snippet ---\n",
    "# def _plot(ax):\n",
    "    \n",
    "#     # 1. Create a sample plot\n",
    "#     y_positions = [0, 1, 2]\n",
    "#     y_labels = [\n",
    "#         \"Group A\\n(n=10)\",\n",
    "#         \"Group B\\n(n=25)\",\n",
    "#         \"Group C\\n(n=15)\"\n",
    "#     ]\n",
    "#     ax.barh(y_positions, [10, 15, 12])\n",
    "#     ax.set_yticks(y_positions, labels=y_labels)\n",
    "#     return ax\n",
    "# fig, axs = plt.subplots(1,2,figsize=(6, 5))\n",
    "# _plot(axs[0])\n",
    "\n",
    "# ax=_plot(axs[1])\n",
    "# # 2. Apply the function to the y-axis tick labels\n",
    "# set_ticklabels_multicolored(\n",
    "#     ax=ax,\n",
    "#     axis='y',\n",
    "#     sep='\\n',\n",
    "# )\n",
    "# ax.tick_params(axis='y', length=0) # Hide the tick marks for a cleaner look"
   ]
  },
  {
   "cell_type": "markdown",
   "id": "60b125fe-69b3-46f5-b62d-f6c1714a9d67",
   "metadata": {},
   "source": [
    "## Outputs"
   ]
  },
  {
   "cell_type": "code",
   "execution_count": 5,
   "id": "86e17ea5-fe1e-4269-8cd8-908d360c3cb8",
   "metadata": {},
   "outputs": [],
   "source": [
    "import nbdev\n",
    "nbdev.export.nb_export(\n",
    "    'roux_viz_text.ipynb',\n",
    "    lib_path='../roux/viz/'\n",
    ")"
   ]
  },
  {
   "cell_type": "markdown",
   "id": "7ff84451-31c2-4285-a35a-b2d4d9af14ec",
   "metadata": {},
   "source": [
    "### Documentation\n",
    "[`roux.viz.text`](https://github.com/rraadd88/roux#module-rouxvizline)"
   ]
  }
 ],
 "metadata": {
  "kernelspec": {
   "display_name": "roux",
   "language": "python",
   "name": "roux"
  },
  "language_info": {
   "codemirror_mode": {
    "name": "ipython",
    "version": 3
   },
   "file_extension": ".py",
   "mimetype": "text/x-python",
   "name": "python",
   "nbconvert_exporter": "python",
   "pygments_lexer": "ipython3",
   "version": "3.10.17"
  }
 },
 "nbformat": 4,
 "nbformat_minor": 5
}
