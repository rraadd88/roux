{
 "cells": [
  {
   "cell_type": "code",
   "execution_count": 2,
   "id": "a3ed4e0d-87a9-4d87-9551-d7ff46088181",
   "metadata": {},
   "outputs": [],
   "source": [
    "from roux.lib.log import Logger\n",
    "logging = Logger(\n",
    "    # level='INFO'\n",
    ")"
   ]
  },
  {
   "cell_type": "code",
   "execution_count": 3,
   "id": "e7d13b5d-8c40-45d4-a1bc-a6af8adffa88",
   "metadata": {},
   "outputs": [
    {
     "name": "stderr",
     "output_type": "stream",
     "text": [
      "\u001b[0mℹ️Info: log\u001b[0m\n",
      "\u001b[91m⚠️Warning: log\u001b[0m\n",
      "\u001b[91m❌Error: log\u001b[0m\n"
     ]
    }
   ],
   "source": [
    "for k in ['info','warning','error']:\n",
    "    getattr(logging,k)('log')"
   ]
  },
  {
   "cell_type": "code",
   "execution_count": 4,
   "id": "971e9a63-3265-4d4f-82af-a30fd7f83f71",
   "metadata": {},
   "outputs": [],
   "source": [
    "from datetime import datetime\n",
    "start = datetime.now()"
   ]
  },
  {
   "cell_type": "code",
   "execution_count": 5,
   "id": "35870a51-0aeb-4b48-ac9d-9af09c43a011",
   "metadata": {},
   "outputs": [
    {
     "name": "stderr",
     "output_type": "stream",
     "text": [
      "\u001b[0mℹ️Info: log\u001b[0m (⏱️0:00:00)\n",
      "\u001b[97m💬Commenting: log\u001b[0m (⏱️0:00:00)\n",
      "\u001b[94m🔎Testing: log\u001b[0m (⏱️0:00:00)\n",
      "\u001b[96m🚀Launching: log\u001b[0m (⏱️0:00:00)\n",
      "\u001b[94m📥Loading: log\u001b[0m (⏱️0:00:00)\n",
      "\u001b[96m⚙️Configuring: log\u001b[0m (⏱️0:00:00)\n",
      "\u001b[93m⏳Processing: log\u001b[0m (⏱️0:00:00)\n",
      "\u001b[96m📊Plotting: log\u001b[0m (⏱️0:00:00)\n",
      "\u001b[94m🗂️Saving: log\u001b[0m (⏱️0:00:00)\n",
      "\u001b[92m✅Done: log\u001b[0m (⏱️0:00:00)\n",
      "\u001b[91m⚠️Warning: log\u001b[0m (⏱️0:00:00)\n",
      "\u001b[91m🚫Skipping: log\u001b[0m (⏱️0:00:00)\n",
      "\u001b[91m❌Error: log\u001b[0m (⏱️0:00:00)\n",
      "\u001b[91m🛑Fatal: log\u001b[0m (⏱️0:00:00)\n"
     ]
    }
   ],
   "source": [
    "from roux.lib.log import log_types\n",
    "for k in log_types.keys():\n",
    "    getattr(logging,k)(\"log\", time=start)"
   ]
  }
 ],
 "metadata": {
  "kernelspec": {
   "display_name": "datasets",
   "language": "python",
   "name": "datasets"
  },
  "language_info": {
   "codemirror_mode": {
    "name": "ipython",
    "version": 3
   },
   "file_extension": ".py",
   "mimetype": "text/x-python",
   "name": "python",
   "nbconvert_exporter": "python",
   "pygments_lexer": "ipython3",
   "version": "3.10.8"
  }
 },
 "nbformat": 4,
 "nbformat_minor": 5
}
