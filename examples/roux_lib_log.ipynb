{
 "cells": [
  {
   "cell_type": "code",
   "execution_count": 1,
   "id": "a3ed4e0d-87a9-4d87-9551-d7ff46088181",
   "metadata": {},
   "outputs": [],
   "source": [
    "from roux.lib.log import Logger\n",
    "logging = Logger(\n",
    "    # level='INFO'\n",
    ")"
   ]
  },
  {
   "cell_type": "code",
   "execution_count": 2,
   "id": "d8463b63-95ed-44de-b7fb-b6bc1164034f",
   "metadata": {},
   "outputs": [
    {
     "data": {
      "text/plain": [
       "20"
      ]
     },
     "execution_count": 2,
     "metadata": {},
     "output_type": "execute_result"
    }
   ],
   "source": [
    "logging.getEffectiveLevel()"
   ]
  },
  {
   "cell_type": "code",
   "execution_count": 3,
   "id": "e7d13b5d-8c40-45d4-a1bc-a6af8adffa88",
   "metadata": {},
   "outputs": [
    {
     "name": "stderr",
     "output_type": "stream",
     "text": [
      "\u001b[0mℹ️ Info: log\u001b[0m\n",
      "\u001b[38;5;208m⚠️ Warning: log\u001b[0m\n",
      "\u001b[91m❌ Error: log\u001b[0m\n"
     ]
    }
   ],
   "source": [
    "## defaults\n",
    "for k in ['debug','info','warning','error']:\n",
    "    getattr(logging,k)('log')"
   ]
  },
  {
   "cell_type": "code",
   "execution_count": 4,
   "id": "b2af8d6f-3efa-4155-9ce0-dd50f33c1c47",
   "metadata": {},
   "outputs": [
    {
     "name": "stderr",
     "output_type": "stream",
     "text": [
      "\u001b[0mℹ️ Info: start\u001b[0m\n"
     ]
    }
   ],
   "source": [
    "_time_start=logging.info('start',time=True)"
   ]
  },
  {
   "cell_type": "code",
   "execution_count": 5,
   "id": "971e9a63-3265-4d4f-82af-a30fd7f83f71",
   "metadata": {},
   "outputs": [],
   "source": [
    "# from datetime import datetime\n",
    "# start = datetime.now()"
   ]
  },
  {
   "cell_type": "code",
   "execution_count": 6,
   "id": "35870a51-0aeb-4b48-ac9d-9af09c43a011",
   "metadata": {},
   "outputs": [
    {
     "name": "stderr",
     "output_type": "stream",
     "text": [
      "\u001b[91m❌ Error: DEBUG 10\u001b[0m\n",
      "\u001b[0mℹ️ Info: log\u001b[0m (⏱️ 0:00:00)\n",
      "\u001b[97m💬 Status: log\u001b[0m (⏱️ 0:00:00)\n",
      "\u001b[94m🔬 Testing: log\u001b[0m (⏱️ 0:00:00)\n",
      "\u001b[96m🚀 Launching: log\u001b[0m (⏱️ 0:00:00)\n",
      "\u001b[94m💽 Loading: log\u001b[0m (⏱️ 0:00:00)\n",
      "\u001b[96m⚙️ Configuring: log\u001b[0m (⏱️ 0:00:00)\n",
      "\u001b[93m⏳ Processing: log\u001b[0m (⏱️ 0:00:00)\n",
      "\u001b[96m📊 Plotting: log\u001b[0m (⏱️ 0:00:00)\n",
      "\u001b[94m🗂️ Saving: log\u001b[0m (⏱️ 0:00:00)\n",
      "\u001b[92m✅ Done: log\u001b[0m (⏱️ 0:00:00)\n",
      "\u001b[38;5;208m⚠️ Warning: log\u001b[0m (⏱️ 0:00:00)\n",
      "\u001b[91m🚫 Skipping: log\u001b[0m (⏱️ 0:00:00)\n",
      "\u001b[91m❌ Error: log\u001b[0m (⏱️ 0:00:00)\n",
      "\u001b[91m🛑 Fatal: log\u001b[0m (⏱️ 0:00:00)\n",
      "\u001b[91m❌ Error: INFO 20\u001b[0m\n",
      "\u001b[0mℹ️ Info: log\u001b[0m (⏱️ 0:00:00)\n",
      "\u001b[97m💬 Status: log\u001b[0m (⏱️ 0:00:00)\n",
      "\u001b[94m🔬 Testing: log\u001b[0m (⏱️ 0:00:00)\n",
      "\u001b[96m🚀 Launching: log\u001b[0m (⏱️ 0:00:00)\n",
      "\u001b[94m💽 Loading: log\u001b[0m (⏱️ 0:00:00)\n",
      "\u001b[96m⚙️ Configuring: log\u001b[0m (⏱️ 0:00:00)\n",
      "\u001b[93m⏳ Processing: log\u001b[0m (⏱️ 0:00:00)\n",
      "\u001b[96m📊 Plotting: log\u001b[0m (⏱️ 0:00:00)\n",
      "\u001b[94m🗂️ Saving: log\u001b[0m (⏱️ 0:00:00)\n",
      "\u001b[92m✅ Done: log\u001b[0m (⏱️ 0:00:00)\n",
      "\u001b[38;5;208m⚠️ Warning: log\u001b[0m (⏱️ 0:00:00)\n",
      "\u001b[91m🚫 Skipping: log\u001b[0m (⏱️ 0:00:00)\n",
      "\u001b[91m❌ Error: log\u001b[0m (⏱️ 0:00:00)\n",
      "\u001b[91m🛑 Fatal: log\u001b[0m (⏱️ 0:00:00)\n",
      "\u001b[91m❌ Error: WARNING 30\u001b[0m\n",
      "\u001b[38;5;208m⚠️ Warning: log\u001b[0m (⏱️ 0:00:00)\n",
      "\u001b[91m🚫 Skipping: log\u001b[0m (⏱️ 0:00:00)\n",
      "\u001b[91m❌ Error: log\u001b[0m (⏱️ 0:00:00)\n",
      "\u001b[91m🛑 Fatal: log\u001b[0m (⏱️ 0:00:00)\n",
      "\u001b[91m❌ Error: ERROR 40\u001b[0m\n",
      "\u001b[91m❌ Error: log\u001b[0m (⏱️ 0:00:00)\n",
      "\u001b[91m🛑 Fatal: log\u001b[0m (⏱️ 0:00:00)\n"
     ]
    }
   ],
   "source": [
    "from roux.lib.log import log_types\n",
    "for level in ['DEBUG','INFO','WARNING','ERROR']:\n",
    "    logging.setLevel(\n",
    "        level=level,\n",
    "    )\n",
    "    logging.error(f\"{level} {logging.getEffectiveLevel()}\")\n",
    "    for k in log_types.keys():\n",
    "        getattr(logging,k)(\"log\", time=_time_start)\n",
    "    # break"
   ]
  },
  {
   "cell_type": "code",
   "execution_count": null,
   "id": "a677191a-6a4a-4d80-9f25-dd2f72899adc",
   "metadata": {},
   "outputs": [],
   "source": []
  }
 ],
 "metadata": {
  "kernelspec": {
   "display_name": "roux",
   "language": "python",
   "name": "roux"
  },
  "language_info": {
   "codemirror_mode": {
    "name": "ipython",
    "version": 3
   },
   "file_extension": ".py",
   "mimetype": "text/x-python",
   "name": "python",
   "nbconvert_exporter": "python",
   "pygments_lexer": "ipython3",
   "version": "3.10.17"
  }
 },
 "nbformat": 4,
 "nbformat_minor": 5
}
