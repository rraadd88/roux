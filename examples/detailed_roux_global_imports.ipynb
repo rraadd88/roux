{
 "cells": [
  {
   "cell_type": "markdown",
   "id": "85660d82-f7b8-4c4f-a4e3-56f1f49208c6",
   "metadata": {},
   "source": [
    "---\n",
    "\n",
    "<a href=\"https://github.com/rraadd88/roux/blob/master/examples/roux_global_imports.ipynb\"><img align=\"right\" style=\"float:right;\" src=\"https://img.shields.io/badge/-source-cccccc?style=flat-square\"></a>\n",
    "\n",
    "## 🧰 Importing commonly used helper functions detailed.\n",
    "For use in jupyter notebooks, for example."
   ]
  },
  {
   "cell_type": "markdown",
   "id": "36508627-795e-4294-a728-85a9401eab51",
   "metadata": {},
   "source": [
    "### Usage"
   ]
  },
  {
   "cell_type": "code",
   "execution_count": null,
   "id": "77e028a7-5851-42da-9756-1b054ffc81ca",
   "metadata": {},
   "outputs": [],
   "source": [
    "# import helper functions\n",
    "from roux.global_imports import *"
   ]
  },
  {
   "cell_type": "markdown",
   "id": "e9bf5f7b-bbcb-4ffe-ae03-3e9a9703af1a",
   "metadata": {},
   "source": [
    "### Which helper functions are imported?"
   ]
  },
  {
   "cell_type": "code",
   "execution_count": 2,
   "id": "f018645b-9a21-4a10-9207-0fc6fb5e05e8",
   "metadata": {},
   "outputs": [],
   "source": [
    "## code to obtain the list of functions imported by roux.global_imports\n",
    "%reset -f\n",
    "## objects present in globals before import \n",
    "before = globals().copy()\n",
    "from roux.global_imports import *\n",
    "## objects present in globals after import \n",
    "after = globals().copy()\n",
    "## objects imported \n",
    "imported = {}\n",
    "for key in after.keys():\n",
    "    if key not in before.keys() and key != \"before\":\n",
    "        imported[key] = after[key]"
   ]
  },
  {
   "cell_type": "markdown",
   "id": "47843c65-9c9f-4d12-9e25-7dfaf8b68dfe",
   "metadata": {},
   "source": [
    "#### The names of the packages and the counts of imported helper functions"
   ]
  },
  {
   "cell_type": "code",
   "execution_count": 3,
   "id": "f11e2681-9a8f-45bc-ad61-8ea9983d5728",
   "metadata": {},
   "outputs": [
    {
     "data": {
      "text/plain": [
       "roux           221\n",
       "posixpath        5\n",
       "matplotlib       3\n",
       "logging          2\n",
       "tqdm             2\n",
       "genericpath      2\n",
       "shutil           1\n",
       "watermark        1\n",
       "IPython          1\n",
       "re               1\n",
       "cycler           1\n",
       "seaborn          1\n",
       "scipy            1\n",
       "subprocess       1\n",
       "sys              1\n",
       "glob             1\n",
       "pathlib          1\n",
       "icecream         1\n",
       "_functools       1\n",
       "pandas           1\n",
       "numpy            1\n",
       "itertools        1\n",
       "pandarallel      1\n",
       "dtype: int64"
      ]
     },
     "execution_count": 3,
     "metadata": {},
     "output_type": "execute_result"
    }
   ],
   "source": [
    "import inspect\n",
    "ds1=pd.Series({k:inspect.getmodule(v).__name__.split('.')[0] for k,v in imported.items()})\n",
    "ds1.value_counts()"
   ]
  },
  {
   "cell_type": "markdown",
   "id": "6693fb01-5259-4c13-8ea0-3bae2e99e25c",
   "metadata": {},
   "source": [
    "#### The counts of helper functions imported from `roux` "
   ]
  },
  {
   "cell_type": "code",
   "execution_count": 4,
   "id": "9d40916e-2769-46ea-9f2d-683fb6eac764",
   "metadata": {},
   "outputs": [
    {
     "data": {
      "text/plain": [
       "roux.lib.df         62\n",
       "roux.lib.io         33\n",
       "roux.viz.ax_        26\n",
       "roux.lib.str        22\n",
       "roux.lib.sys        22\n",
       "roux.lib.set        20\n",
       "roux.viz.annot      10\n",
       "roux.lib.dfs         5\n",
       "roux.lib.dict        5\n",
       "roux.viz.io          4\n",
       "roux.workflow.io     3\n",
       "roux.stat.io         2\n",
       "roux.viz.figure      2\n",
       "roux.lib.text        1\n",
       "roux.lib             1\n",
       "roux.workflow.df     1\n",
       "roux.stat.binary     1\n",
       "roux.viz.colors      1\n",
       "dtype: int64"
      ]
     },
     "execution_count": 4,
     "metadata": {},
     "output_type": "execute_result"
    }
   ],
   "source": [
    "import inspect\n",
    "ds2=pd.Series({k:'roux.'+inspect.getmodule(imported[k]).__name__.split('.',1)[1] for k in ds1[(ds1=='roux')].index})\n",
    "ds2.value_counts()"
   ]
  },
  {
   "cell_type": "code",
   "execution_count": 5,
   "id": "702ae8c9-0099-49f9-90f6-5aa5b03d4423",
   "metadata": {
    "tags": [
     "functions_from_roux"
    ]
   },
   "outputs": [
    {
     "data": {
      "text/markdown": [
       "Total functions imported from `roux`=221."
      ],
      "text/plain": [
       "<IPython.core.display.Markdown object>"
      ]
     },
     "execution_count": 5,
     "metadata": {},
     "output_type": "execute_result"
    }
   ],
   "source": [
    "info_nb(f\"Total functions imported from `roux`={len(ds2)}.\")"
   ]
  },
  {
   "cell_type": "markdown",
   "id": "3adb09b0-25c2-4d7b-bf78-3cc8cff077d3",
   "metadata": {
    "tags": []
   },
   "source": [
    "### Documentation\n",
    "[`roux.global_imports`](https://github.com/rraadd88/roux#module-roux.global_imports)"
   ]
  },
  {
   "cell_type": "markdown",
   "id": "fe74798d-0905-4f1f-bc16-8b172e30be38",
   "metadata": {},
   "source": [
    "#### Documentation of the helper functions imported from some of the main modules of `roux`"
   ]
  },
  {
   "cell_type": "code",
   "execution_count": 6,
   "id": "7901cc51-28db-46ee-8e84-c2d36152972f",
   "metadata": {},
   "outputs": [
    {
     "data": {
      "text/markdown": [
       "Helper functions imported from <kbd>module</kbd>[`roux.lib.df`](https://github.com/rraadd88/roux#module-roux.lib.df):\n",
       "\n",
       "<kbd>function</kbd> [`agg_bools`](https://github.com/rraadd88/roux#function-agg_bools) <kbd>function</kbd> [`agg_by_order`](https://github.com/rraadd88/roux#function-agg_by_order) <kbd>function</kbd> [`agg_by_order_counts`](https://github.com/rraadd88/roux#function-agg_by_order_counts) <kbd>function</kbd> [`assert_dense`](https://github.com/rraadd88/roux#function-assert_dense) <kbd>function</kbd> [`assert_no_dups`](https://github.com/rraadd88/roux#function-assert_no_dups) <kbd>function</kbd> [`assert_no_na`](https://github.com/rraadd88/roux#function-assert_no_na) <kbd>function</kbd> [`check_duplicated`](https://github.com/rraadd88/roux#function-check_duplicated) <kbd>function</kbd> [`check_dups`](https://github.com/rraadd88/roux#function-check_dups) <kbd>function</kbd> [`check_inflation`](https://github.com/rraadd88/roux#function-check_inflation) <kbd>function</kbd> [`check_intersections`](https://github.com/rraadd88/roux#function-check_intersections) <kbd>function</kbd> [`check_mappings`](https://github.com/rraadd88/roux#function-check_mappings) <kbd>function</kbd> [`check_na`](https://github.com/rraadd88/roux#function-check_na) <kbd>function</kbd> [`check_nunique`](https://github.com/rraadd88/roux#function-check_nunique) <kbd>function</kbd> [`classify_mappings`](https://github.com/rraadd88/roux#function-classify_mappings) <kbd>function</kbd> [`clean`](https://github.com/rraadd88/roux#function-clean) <kbd>function</kbd> [`clean_columns`](https://github.com/rraadd88/roux#function-clean_columns) <kbd>function</kbd> [`clean_compress`](https://github.com/rraadd88/roux#function-clean_compress) <kbd>function</kbd> [`compress`](https://github.com/rraadd88/roux#function-compress) <kbd>function</kbd> [`delunnamedcol`](https://github.com/rraadd88/roux#function-delunnamedcol) <kbd>function</kbd> [`dict2df`](https://github.com/rraadd88/roux#function-dict2df) <kbd>function</kbd> [`drop_constants`](https://github.com/rraadd88/roux#function-drop_constants) <kbd>function</kbd> [`drop_inflates`](https://github.com/rraadd88/roux#function-drop_inflates) <kbd>function</kbd> [`drop_levelcol`](https://github.com/rraadd88/roux#function-drop_levelcol) <kbd>function</kbd> [`drop_unnamedcol`](https://github.com/rraadd88/roux#function-drop_unnamedcol) <kbd>function</kbd> [`dropby_patterns`](https://github.com/rraadd88/roux#function-dropby_patterns) <kbd>function</kbd> [`filter_rows`](https://github.com/rraadd88/roux#function-filter_rows) <kbd>function</kbd> [`flatten_columns`](https://github.com/rraadd88/roux#function-flatten_columns) <kbd>function</kbd> [`get_alt_id`](https://github.com/rraadd88/roux#function-get_alt_id) <kbd>function</kbd> [`get_bools`](https://github.com/rraadd88/roux#function-get_bools) <kbd>function</kbd> [`get_chunks`](https://github.com/rraadd88/roux#function-get_chunks) <kbd>function</kbd> [`get_constants`](https://github.com/rraadd88/roux#function-get_constants) <kbd>function</kbd> [`get_group`](https://github.com/rraadd88/roux#function-get_group) <kbd>function</kbd> [`get_groupby_columns`](https://github.com/rraadd88/roux#function-get_groupby_columns) <kbd>function</kbd> [`get_mappings`](https://github.com/rraadd88/roux#function-get_mappings) <kbd>function</kbd> [`get_name`](https://github.com/rraadd88/roux#function-get_name) <kbd>function</kbd> [`get_totals`](https://github.com/rraadd88/roux#function-get_totals) <kbd>function</kbd> [`groupby_filter_fast`](https://github.com/rraadd88/roux#function-groupby_filter_fast) <kbd>function</kbd> [`groupby_sort_values`](https://github.com/rraadd88/roux#function-groupby_sort_values) <kbd>function</kbd> [`infer_index`](https://github.com/rraadd88/roux#function-infer_index) <kbd>function</kbd> [`log`](https://github.com/rraadd88/roux#function-log) <kbd>function</kbd> [`log_apply`](https://github.com/rraadd88/roux#function-log_apply) <kbd>function</kbd> [`log_shape_change`](https://github.com/rraadd88/roux#function-log_shape_change) <kbd>function</kbd> [`lower_columns`](https://github.com/rraadd88/roux#function-lower_columns) <kbd>function</kbd> [`make_ids`](https://github.com/rraadd88/roux#function-make_ids) <kbd>function</kbd> [`make_ids_sorted`](https://github.com/rraadd88/roux#function-make_ids_sorted) <kbd>function</kbd> [`melt_paired`](https://github.com/rraadd88/roux#function-melt_paired) <kbd>function</kbd> [`renameby_replace`](https://github.com/rraadd88/roux#function-renameby_replace) <kbd>function</kbd> [`sort_columns_by_values`](https://github.com/rraadd88/roux#function-sort_columns_by_values) <kbd>function</kbd> [`sort_values_groupby`](https://github.com/rraadd88/roux#function-sort_values_groupby) <kbd>function</kbd> [`sort_valuesby_list`](https://github.com/rraadd88/roux#function-sort_valuesby_list) <kbd>function</kbd> [`split_ids`](https://github.com/rraadd88/roux#function-split_ids) <kbd>function</kbd> [`swap_paired_cols`](https://github.com/rraadd88/roux#function-swap_paired_cols) <kbd>function</kbd> [`to_boolean`](https://github.com/rraadd88/roux#function-to_boolean) <kbd>function</kbd> [`to_cat`](https://github.com/rraadd88/roux#function-to_cat) <kbd>function</kbd> [`to_map_binary`](https://github.com/rraadd88/roux#function-to_map_binary) <kbd>function</kbd> [`to_multiindex_columns`](https://github.com/rraadd88/roux#function-to_multiindex_columns) <kbd>function</kbd> [`to_ranges`](https://github.com/rraadd88/roux#function-to_ranges) <kbd>function</kbd> [`validate_1_1_mappings`](https://github.com/rraadd88/roux#function-validate_1_1_mappings) <kbd>function</kbd> [`validate_dense`](https://github.com/rraadd88/roux#function-validate_dense) <kbd>function</kbd> [`validate_no_duplicates`](https://github.com/rraadd88/roux#function-validate_no_duplicates) <kbd>function</kbd> [`validate_no_dups`](https://github.com/rraadd88/roux#function-validate_no_dups) <kbd>function</kbd> [`validate_no_na`](https://github.com/rraadd88/roux#function-validate_no_na)"
      ],
      "text/plain": [
       "<IPython.core.display.Markdown object>"
      ]
     },
     "execution_count": 6,
     "metadata": {},
     "output_type": "execute_result"
    }
   ],
   "source": [
    "module_name='roux.lib.df'\n",
    "info_nb(f\"Helper functions imported from <kbd>module</kbd>[`{module_name}`](https://github.com/rraadd88/roux#module-{module_name}):\\n\\n\"+' '.join(list(map(lambda x: f\"<kbd>function</kbd> [`{x}`](https://github.com/rraadd88/roux#function-{x})\" , ds2[(ds2==module_name)].sort_index().index.tolist()))))"
   ]
  },
  {
   "cell_type": "code",
   "execution_count": 8,
   "id": "fbc7e7ab-42d5-4d88-972f-e3debae2a527",
   "metadata": {},
   "outputs": [
    {
     "data": {
      "text/markdown": [
       "Helper functions imported from <kbd>module</kbd>[`roux.lib.io`](https://github.com/rraadd88/roux#module-roux.lib.io):\n",
       "\n",
       "<kbd>function</kbd> [`apply_on_paths`](https://github.com/rraadd88/roux#function-apply_on_paths) <kbd>function</kbd> [`backup`](https://github.com/rraadd88/roux#function-backup) <kbd>function</kbd> [`check_chunks`](https://github.com/rraadd88/roux#function-check_chunks) <kbd>function</kbd> [`download`](https://github.com/rraadd88/roux#function-download) <kbd>function</kbd> [`get_logp`](https://github.com/rraadd88/roux#function-get_logp) <kbd>function</kbd> [`get_version`](https://github.com/rraadd88/roux#function-get_version) <kbd>function</kbd> [`is_dict`](https://github.com/rraadd88/roux#function-is_dict) <kbd>function</kbd> [`post_read_table`](https://github.com/rraadd88/roux#function-post_read_table) <kbd>function</kbd> [`pqt2tsv`](https://github.com/rraadd88/roux#function-pqt2tsv) <kbd>function</kbd> [`read_dict`](https://github.com/rraadd88/roux#function-read_dict) <kbd>function</kbd> [`read_excel`](https://github.com/rraadd88/roux#function-read_excel) <kbd>function</kbd> [`read_json`](https://github.com/rraadd88/roux#function-read_json) <kbd>function</kbd> [`read_lines`](https://github.com/rraadd88/roux#function-read_lines) <kbd>function</kbd> [`read_list`](https://github.com/rraadd88/roux#function-read_list) <kbd>function</kbd> [`read_pickle`](https://github.com/rraadd88/roux#function-read_pickle) <kbd>function</kbd> [`read_table`](https://github.com/rraadd88/roux#function-read_table) <kbd>function</kbd> [`read_tables`](https://github.com/rraadd88/roux#function-read_tables) <kbd>function</kbd> [`read_text`](https://github.com/rraadd88/roux#function-read_text) <kbd>function</kbd> [`read_url`](https://github.com/rraadd88/roux#function-read_url) <kbd>function</kbd> [`read_yaml`](https://github.com/rraadd88/roux#function-read_yaml) <kbd>function</kbd> [`read_zip`](https://github.com/rraadd88/roux#function-read_zip) <kbd>function</kbd> [`to_dict`](https://github.com/rraadd88/roux#function-to_dict) <kbd>function</kbd> [`to_excel`](https://github.com/rraadd88/roux#function-to_excel) <kbd>function</kbd> [`to_excel_commented`](https://github.com/rraadd88/roux#function-to_excel_commented) <kbd>function</kbd> [`to_json`](https://github.com/rraadd88/roux#function-to_json) <kbd>function</kbd> [`to_list`](https://github.com/rraadd88/roux#function-to_list) <kbd>function</kbd> [`to_manytables`](https://github.com/rraadd88/roux#function-to_manytables) <kbd>function</kbd> [`to_table`](https://github.com/rraadd88/roux#function-to_table) <kbd>function</kbd> [`to_table_pqt`](https://github.com/rraadd88/roux#function-to_table_pqt) <kbd>function</kbd> [`to_yaml`](https://github.com/rraadd88/roux#function-to_yaml) <kbd>function</kbd> [`to_zip`](https://github.com/rraadd88/roux#function-to_zip) <kbd>function</kbd> [`tsv2pqt`](https://github.com/rraadd88/roux#function-tsv2pqt) <kbd>function</kbd> [`version`](https://github.com/rraadd88/roux#function-version)"
      ],
      "text/plain": [
       "<IPython.core.display.Markdown object>"
      ]
     },
     "execution_count": 8,
     "metadata": {},
     "output_type": "execute_result"
    }
   ],
   "source": [
    "module_name='roux.lib.io'\n",
    "info_nb(f\"Helper functions imported from <kbd>module</kbd>[`{module_name}`](https://github.com/rraadd88/roux#module-{module_name}):\\n\\n\"+' '.join(list(map(lambda x: f\"<kbd>function</kbd> [`{x}`](https://github.com/rraadd88/roux#function-{x})\" , ds2[(ds2==module_name)].sort_index().index.tolist()))))"
   ]
  },
  {
   "cell_type": "code",
   "execution_count": 9,
   "id": "cc3162ca-17f7-4432-a3ae-4bd1d1d4bf3f",
   "metadata": {},
   "outputs": [
    {
     "data": {
      "text/markdown": [
       "Helper functions imported from <kbd>module</kbd>[`roux.viz.ax_`](https://github.com/rraadd88/roux#module-roux.viz.ax_):\n",
       "\n",
       "<kbd>function</kbd> [`append_legends`](https://github.com/rraadd88/roux#function-append_legends) <kbd>function</kbd> [`color_ticklabels`](https://github.com/rraadd88/roux#function-color_ticklabels) <kbd>function</kbd> [`drop_duplicate_legend`](https://github.com/rraadd88/roux#function-drop_duplicate_legend) <kbd>function</kbd> [`format_ticklabels`](https://github.com/rraadd88/roux#function-format_ticklabels) <kbd>function</kbd> [`get_axlims`](https://github.com/rraadd88/roux#function-get_axlims) <kbd>function</kbd> [`get_axlimsby_data`](https://github.com/rraadd88/roux#function-get_axlimsby_data) <kbd>function</kbd> [`get_line_cap_length`](https://github.com/rraadd88/roux#function-get_line_cap_length) <kbd>function</kbd> [`get_subplot_dimentions`](https://github.com/rraadd88/roux#function-get_subplot_dimentions) <kbd>function</kbd> [`get_ticklabel2position`](https://github.com/rraadd88/roux#function-get_ticklabel2position) <kbd>function</kbd> [`get_ticklabel_position`](https://github.com/rraadd88/roux#function-get_ticklabel_position) <kbd>function</kbd> [`rename_labels`](https://github.com/rraadd88/roux#function-rename_labels) <kbd>function</kbd> [`rename_legends`](https://github.com/rraadd88/roux#function-rename_legends) <kbd>function</kbd> [`rename_ticklabels`](https://github.com/rraadd88/roux#function-rename_ticklabels) <kbd>function</kbd> [`reset_legend_colors`](https://github.com/rraadd88/roux#function-reset_legend_colors) <kbd>function</kbd> [`set_`](https://github.com/rraadd88/roux#function-set_) <kbd>function</kbd> [`set_axlims`](https://github.com/rraadd88/roux#function-set_axlims) <kbd>function</kbd> [`set_colorbar`](https://github.com/rraadd88/roux#function-set_colorbar) <kbd>function</kbd> [`set_colorbar_label`](https://github.com/rraadd88/roux#function-set_colorbar_label) <kbd>function</kbd> [`set_equallim`](https://github.com/rraadd88/roux#function-set_equallim) <kbd>function</kbd> [`set_grids`](https://github.com/rraadd88/roux#function-set_grids) <kbd>function</kbd> [`set_legend_custom`](https://github.com/rraadd88/roux#function-set_legend_custom) <kbd>function</kbd> [`set_legends_merged`](https://github.com/rraadd88/roux#function-set_legends_merged) <kbd>function</kbd> [`set_ticklabels_color`](https://github.com/rraadd88/roux#function-set_ticklabels_color) <kbd>function</kbd> [`set_ylabel`](https://github.com/rraadd88/roux#function-set_ylabel) <kbd>function</kbd> [`sort_legends`](https://github.com/rraadd88/roux#function-sort_legends) <kbd>function</kbd> [`split_ticklabels`](https://github.com/rraadd88/roux#function-split_ticklabels)"
      ],
      "text/plain": [
       "<IPython.core.display.Markdown object>"
      ]
     },
     "execution_count": 9,
     "metadata": {},
     "output_type": "execute_result"
    }
   ],
   "source": [
    "module_name='roux.viz.ax_'\n",
    "info_nb(f\"Helper functions imported from <kbd>module</kbd>[`{module_name}`](https://github.com/rraadd88/roux#module-{module_name}):\\n\\n\"+' '.join(list(map(lambda x: f\"<kbd>function</kbd> [`{x}`](https://github.com/rraadd88/roux#function-{x})\" , ds2[(ds2==module_name)].sort_index().index.tolist()))))"
   ]
  }
 ],
 "metadata": {
  "kernelspec": {
   "display_name": "test",
   "language": "python",
   "name": "test"
  },
  "language_info": {
   "codemirror_mode": {
    "name": "ipython",
    "version": 3
   },
   "file_extension": ".py",
   "mimetype": "text/x-python",
   "name": "python",
   "nbconvert_exporter": "python",
   "pygments_lexer": "ipython3",
   "version": "3.7.13"
  },
  "toc-showtags": true
 },
 "nbformat": 4,
 "nbformat_minor": 5
}
