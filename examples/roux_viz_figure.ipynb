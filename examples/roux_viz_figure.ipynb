{
 "cells": [
  {
   "cell_type": "markdown",
   "id": "cef81f91-5d4c-4030-833b-ca0975296f03",
   "metadata": {},
   "source": [
    "---\n",
    "\n",
    "<!-- <a href=\"https://github.com/rraadd88/roux/blob/master/examples/roux_viz_figure.ipynb\"><img align=\"right\" style=\"float:right;\" src=\"https://img.shields.io/badge/-source-cccccc?style=flat-square\"></a> -->\n",
    "\n",
    "## 📈📈Annotating figure."
   ]
  },
  {
   "cell_type": "code",
   "execution_count": 1,
   "id": "d24ce524-d249-4b55-a539-4b479ef0eb1f",
   "metadata": {},
   "outputs": [],
   "source": [
    "# requirements\n",
    "import matplotlib.pyplot as plt"
   ]
  },
  {
   "cell_type": "markdown",
   "id": "f5b44294-5ce7-4770-bcc1-94d2cc603fd8",
   "metadata": {},
   "source": [
    "**Demo figure**"
   ]
  },
  {
   "cell_type": "code",
   "execution_count": 2,
   "id": "27d7ffc6-38a2-4e12-acde-7ca343887044",
   "metadata": {},
   "outputs": [
    {
     "data": {
      "image/png": "[encoded data removed]",
      "text/plain": [
       "<Figure size 432x288 with 4 Axes>"
      ]
     },
     "metadata": {
      "needs_background": "light"
     },
     "output_type": "display_data"
    }
   ],
   "source": [
    "def demo_figure():\n",
    "    def identify_axes(ax_dict, fontsize=None):\n",
    "        \"\"\"\n",
    "        Reference: https://matplotlib.org/stable/gallery/subplots_axes_and_figures/mosaic.html#complex-and-semantic-figure-composition-subplot-mosaic\n",
    "        \"\"\"\n",
    "        kw = dict(ha=\"center\", va=\"center\", fontsize=fontsize, color=None)\n",
    "        for k, ax in ax_dict.items():\n",
    "            ax.text(0.5, 0.5, k, transform=ax.transAxes, **kw)\n",
    "    fig=plt.figure(layout=\"constrained\")\n",
    "    axd = fig.subplot_mosaic(\n",
    "        \"\"\"\n",
    "        ABD\n",
    "        CCD\n",
    "        \"\"\"\n",
    "    )\n",
    "    identify_axes(axd)\n",
    "    return fig\n",
    "_=demo_figure()"
   ]
  },
  {
   "cell_type": "markdown",
   "id": "a15a0a0f-1c47-4c5f-9b38-df7f9d1e4f30",
   "metadata": {},
   "source": [
    "### Align texts in different subplots "
   ]
  },
  {
   "cell_type": "code",
   "execution_count": 3,
   "id": "680a3edf-1e3f-4e4b-8891-bdae2df1fc59",
   "metadata": {},
   "outputs": [],
   "source": [
    "# import the function from roux\n",
    "from roux.viz.figure import align_texts"
   ]
  },
  {
   "cell_type": "code",
   "execution_count": 5,
   "id": "894ef255-036b-4f8e-9d79-187128c5b395",
   "metadata": {},
   "outputs": [
    {
     "name": "stderr",
     "output_type": "stream",
     "text": [
      "100%|██████████| 5/5 [00:00<00:00, 39869.81it/s]\n",
      "100%|██████████| 45/45 [00:00<00:00, 731564.65it/s]\n",
      "100%|██████████| 5/5 [00:00<00:00, 53498.78it/s]\n",
      "100%|██████████| 45/45 [00:00<00:00, 706905.17it/s]\n"
     ]
    },
    {
     "data": {
      "image/png": "[encoded data removed]",
      "text/plain": [
       "<Figure size 432x288 with 4 Axes>"
      ]
     },
     "metadata": {
      "needs_background": "light"
     },
     "output_type": "display_data"
    }
   ],
   "source": [
    "fig=demo_figure()\n",
    "\n",
    "## align A, B and D vertically\n",
    "align_texts(\n",
    "    fig=fig,\n",
    "    texts=['A','B','D'],  \n",
    "    align='v',\n",
    "    test=False,\n",
    "    )          \n",
    "\n",
    "## align A and C horizontally\n",
    "align_texts(\n",
    "    fig=fig,\n",
    "    texts=['A','C'],\n",
    "    align='h',\n",
    "    test=False,\n",
    "    )           "
   ]
  },
  {
   "cell_type": "markdown",
   "id": "dcfbf198-63e1-4d0f-b035-3e4c9af9d82c",
   "metadata": {},
   "source": [
    "#### Documentation\n",
    "[`roux.viz.figure`](https://github.com/rraadd88/roux#module-rouxvizfigure)"
   ]
  }
 ],
 "metadata": {
  "kernelspec": {
   "display_name": "roux",
   "language": "python",
   "name": "roux"
  },
  "language_info": {
   "codemirror_mode": {
    "name": "ipython",
    "version": 3
   },
   "file_extension": ".py",
   "mimetype": "text/x-python",
   "name": "python",
   "nbconvert_exporter": "python",
   "pygments_lexer": "ipython3",
   "version": "3.7.12"
  }
 },
 "nbformat": 4,
 "nbformat_minor": 5
}
