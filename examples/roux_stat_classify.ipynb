{
 "cells": [
  {
   "cell_type": "markdown",
   "id": "68803c02-8d28-4e0c-a1bd-4a228a64f618",
   "metadata": {},
   "source": [
    "---\n",
    "\n",
    "<!-- <a href=\"https://github.com/rraadd88/roux/blob/master/examples/roux_stat_classify.ipynb\"><img align=\"right\" style=\"float:right;\" src=\"https://img.shields.io/badge/-source-cccccc?style=flat-square\"></a>\n",
    " -->\n",
    " \n",
    "## 🏷 Classification."
   ]
  },
  {
   "cell_type": "code",
   "execution_count": 1,
   "id": "df3054e2-adc5-4a66-bb17-92706b67d386",
   "metadata": {},
   "outputs": [],
   "source": [
    "# install extra requirements\n",
    "# !pip install roux[stat]\n",
    "# loading non-roux requirements\n",
    "import pandas as pd"
   ]
  },
  {
   "cell_type": "markdown",
   "id": "fcc3debc-f2ec-434d-acbd-56d5b5fd935a",
   "metadata": {},
   "source": [
    "## Demo data"
   ]
  },
  {
   "cell_type": "code",
   "execution_count": 2,
   "id": "4f9bba68-640b-49e5-bc25-baedb5fd9a09",
   "metadata": {},
   "outputs": [
    {
     "data": {
      "text/html": [
       "<div>\n",
       "<style scoped>\n",
       "    .dataframe tbody tr th:only-of-type {\n",
       "        vertical-align: middle;\n",
       "    }\n",
       "\n",
       "    .dataframe tbody tr th {\n",
       "        vertical-align: top;\n",
       "    }\n",
       "\n",
       "    .dataframe thead th {\n",
       "        text-align: right;\n",
       "    }\n",
       "</style>\n",
       "<table border=\"1\" class=\"dataframe\">\n",
       "  <thead>\n",
       "    <tr style=\"text-align: right;\">\n",
       "      <th></th>\n",
       "      <th>A</th>\n",
       "      <th>B</th>\n",
       "      <th>C</th>\n",
       "      <th>D</th>\n",
       "    </tr>\n",
       "  </thead>\n",
       "  <tbody>\n",
       "    <tr>\n",
       "      <th>LRmijlfpaq</th>\n",
       "      <td>-0.650355</td>\n",
       "      <td>-0.541145</td>\n",
       "      <td>-0.089155</td>\n",
       "      <td>0.415311</td>\n",
       "    </tr>\n",
       "  </tbody>\n",
       "</table>\n",
       "</div>"
      ],
      "text/plain": [
       "                   A         B         C         D\n",
       "LRmijlfpaq -0.650355 -0.541145 -0.089155  0.415311"
      ]
     },
     "execution_count": 2,
     "metadata": {},
     "output_type": "execute_result"
    }
   ],
   "source": [
    "## random state\n",
    "import numpy as np\n",
    "np.random.seed(1)\n",
    "## demo dataframe\n",
    "data=pd._testing.makeDataFrame()\n",
    "data.head(1)"
   ]
  },
  {
   "cell_type": "markdown",
   "id": "6a06ccf2-a0a0-43ad-b6b3-36d3019207d6",
   "metadata": {},
   "source": [
    "## Split table into overlapping subsets/splits\n",
    "Uses [`sklearn.model_selection.KFold`](https://scikit-learn.org/stable/modules/generated/sklearn.model_selection.KFold.html)"
   ]
  },
  {
   "cell_type": "code",
   "execution_count": 3,
   "id": "f861f4fa-8329-4f97-9c69-de0cced904a3",
   "metadata": {},
   "outputs": [
    {
     "name": "stdout",
     "output_type": "stream",
     "text": [
      "CPU times: user 0 ns, sys: 0 ns, total: 0 ns\n",
      "Wall time: 4.53 µs\n"
     ]
    }
   ],
   "source": [
    "%time\n",
    "## import the convenience function from roux\n",
    "from roux.stat.classify import get_cvsplits\n",
    "cvs=get_cvsplits(\n",
    "    X=data.loc[:,['A','B']],\n",
    "    y=data['C'],\n",
    "    cv=5,\n",
    "    random_state=1,\n",
    "    outtest=False,\n",
    "    )"
   ]
  },
  {
   "cell_type": "code",
   "execution_count": 4,
   "id": "b4df6cdc-8dfa-4099-b690-24155b17c247",
   "metadata": {},
   "outputs": [
    {
     "data": {
      "text/html": [
       "<div>\n",
       "<style scoped>\n",
       "    .dataframe tbody tr th:only-of-type {\n",
       "        vertical-align: middle;\n",
       "    }\n",
       "\n",
       "    .dataframe tbody tr th {\n",
       "        vertical-align: top;\n",
       "    }\n",
       "\n",
       "    .dataframe thead th {\n",
       "        text-align: right;\n",
       "    }\n",
       "</style>\n",
       "<table border=\"1\" class=\"dataframe\">\n",
       "  <thead>\n",
       "    <tr style=\"text-align: right;\">\n",
       "      <th></th>\n",
       "      <th>A</th>\n",
       "      <th>B</th>\n",
       "    </tr>\n",
       "  </thead>\n",
       "  <tbody>\n",
       "    <tr>\n",
       "      <th>0</th>\n",
       "      <td>-0.650355</td>\n",
       "      <td>-0.541145</td>\n",
       "    </tr>\n",
       "  </tbody>\n",
       "</table>\n",
       "</div>"
      ],
      "text/plain": [
       "          A         B\n",
       "0 -0.650355 -0.541145"
      ]
     },
     "execution_count": 4,
     "metadata": {},
     "output_type": "execute_result"
    }
   ],
   "source": [
    "## Example splits\n",
    "cvs[0]['X'].head(1)"
   ]
  },
  {
   "cell_type": "code",
   "execution_count": 5,
   "id": "cf3c0fe7-fca4-4443-8a1d-2572cc178bcd",
   "metadata": {},
   "outputs": [
    {
     "data": {
      "text/plain": [
       "0   -0.089155\n",
       "Name: C, dtype: float64"
      ]
     },
     "execution_count": 5,
     "metadata": {},
     "output_type": "execute_result"
    }
   ],
   "source": [
    "cvs[0]['y'].head(1)"
   ]
  },
  {
   "cell_type": "code",
   "execution_count": 6,
   "id": "bad0e67f-bcae-4514-812d-c032374f778d",
   "metadata": {},
   "outputs": [
    {
     "name": "stdout",
     "output_type": "stream",
     "text": [
      "CV#0: {'subset': 0.8, 'left out': 0.2}\n",
      "CV#1: {'subset': 0.8, 'left out': 0.2}\n",
      "CV#2: {'subset': 0.8, 'left out': 0.2}\n",
      "CV#3: {'subset': 0.8, 'left out': 0.2}\n",
      "CV#4: {'subset': 0.8, 'left out': 0.2}\n"
     ]
    }
   ],
   "source": [
    "## testing the fraction of the data per fold \n",
    "for i in cvs:\n",
    "    data_mapped=data.copy()\n",
    "    for k in ['X','y']:\n",
    "        df_=cvs[i][k].to_frame() if isinstance(cvs[i][k],pd.Series) else cvs[i][k]\n",
    "        data_mapped=(data_mapped\n",
    "        .merge(\n",
    "            right=df_,\n",
    "            on=df_.columns.tolist(),\n",
    "            how='left',\n",
    "            validate=\"1:1\",\n",
    "            indicator=True,\n",
    "        )\n",
    "        .rename(columns={'_merge':k},errors='raise')\n",
    "        )\n",
    "    assert (data_mapped['X']==data_mapped['y']).all()\n",
    "    print(f'CV#{i}:',data_mapped['X'].map({'both':'subset','left_only':'left out'}).value_counts(normalize=True).to_dict())\n",
    "        # break"
   ]
  },
  {
   "cell_type": "code",
   "execution_count": 7,
   "id": "475831c0-43aa-4c6b-a0ea-9a9e141a9b86",
   "metadata": {},
   "outputs": [],
   "source": [
    "## validate that all the data is covered by the folds\n",
    "assert len(set(np.array([cvs[i]['X']['A'].tolist() for i in cvs]).ravel()) - set(data['A'].tolist())) ==0"
   ]
  },
  {
   "cell_type": "markdown",
   "id": "2e930036-5cfd-4826-b976-a287f57d0dfe",
   "metadata": {
    "tags": []
   },
   "source": [
    "#### Documentation\n",
    "[`roux.stat.classify`](https://github.com/rraadd88/roux#module-rouxstatclassify)"
   ]
  }
 ],
 "metadata": {
  "kernelspec": {
   "display_name": "datasets",
   "language": "python",
   "name": "datasets"
  },
  "language_info": {
   "codemirror_mode": {
    "name": "ipython",
    "version": 3
   },
   "file_extension": ".py",
   "mimetype": "text/x-python",
   "name": "python",
   "nbconvert_exporter": "python",
   "pygments_lexer": "ipython3",
   "version": "3.7.13"
  }
 },
 "nbformat": 4,
 "nbformat_minor": 5
}
