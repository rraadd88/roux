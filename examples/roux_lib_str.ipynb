{
 "cells": [
  {
   "cell_type": "markdown",
   "id": "7e9248c4-351f-4f36-a4ae-5bc5a7439af4",
   "metadata": {},
   "source": [
    "---\n",
    "\n",
    "<!-- <a href=\"https://github.com/rraadd88/roux/blob/master/examples/roux_lib_str.ipynb\"><img align=\"right\" style=\"float:right;\" src=\"https://img.shields.io/badge/-source-cccccc?style=flat-square\"></a>\n",
    " -->\n",
    "## 🔤 Strings encoding/decoding."
   ]
  },
  {
   "cell_type": "code",
   "execution_count": 1,
   "id": "101b49f9-ff08-4f1b-8411-3d79d8996ba3",
   "metadata": {},
   "outputs": [],
   "source": [
    "# import helper functions\n",
    "from roux.lib.str import encode,decode"
   ]
  },
  {
   "cell_type": "markdown",
   "id": "6d7ce6de-963e-4301-810d-a4099908060d",
   "metadata": {},
   "source": [
    "### Encoding and decoding data"
   ]
  },
  {
   "cell_type": "markdown",
   "id": "4a890c6e-a2b4-4e21-bd77-b35ad528072c",
   "metadata": {},
   "source": [
    "#### Reversible"
   ]
  },
  {
   "cell_type": "code",
   "execution_count": 2,
   "id": "3efad590-8ea2-4420-af51-fbbab2f05de2",
   "metadata": {},
   "outputs": [],
   "source": [
    "# example data\n",
    "parameters=dict(\n",
    "    colindex='drug id',\n",
    "    colsample='sample id',\n",
    "    coly='auc',\n",
    "    formulas={\n",
    "            f\"auc ~ C(sample_subset, Treatment(reference='ref')) + primary_or_metastasis\": 'mixedlm',\n",
    "        },\n",
    "    kws_get_stats_regression=dict(\n",
    "            groups='screen_id',\n",
    "        ),\n",
    "    colsubset='sample subset',\n",
    "    variable=\"C(sample_subset, Treatment(reference='ref'))[T.test]\",\n",
    ")"
   ]
  },
  {
   "cell_type": "code",
   "execution_count": 3,
   "id": "e0097745-e462-42b2-9d5d-03e1f84a8fe1",
   "metadata": {
    "tags": [
     "encoded_long"
    ]
   },
   "outputs": [
    {
     "name": "stdout",
     "output_type": "stream",
     "text": [
      "eNqVj00KwjAQRq8Ssqli8QCCK6_gTiSk7WcJNkmZSbRF9OwmjYtuhSwm7_HNz0u2fjCuwyQPQnYUe2E6WYuMWdtxQOalWpnYMMLK_ECxcxY6tvl782TjoDmhV2biI06bElIlVIszQQcLFzaEGwiuxbFKZbXdip0YyVhNs_KkLILm9ExuJ62Z0A1WvtOY-5NVj6CSDawIPYHZeLeM7cnHcYlwS4BT6Y4cemgyuikX_rPU5bwP4HCV7y_fP20r\n"
     ]
    }
   ],
   "source": [
    "## encoding\n",
    "encoded=encode(parameters)\n",
    "print(encoded)"
   ]
  },
  {
   "cell_type": "code",
   "execution_count": 4,
   "id": "c4173579-37f1-4559-8f5b-a96ca6ccc04e",
   "metadata": {},
   "outputs": [
    {
     "name": "stdout",
     "output_type": "stream",
     "text": [
      "{'colindex': 'drug id', 'colsample': 'sample id', 'colsubset': 'sample subset', 'coly': 'auc', 'formulas': {\"auc ~ C(sample_subset, Treatment(reference='ref')) + primary_or_metastasis\": 'mixedlm'}, 'kws_get_stats_regression': {'groups': 'screen_id'}, 'variable': \"C(sample_subset, Treatment(reference='ref'))[T.test]\"}\n"
     ]
    }
   ],
   "source": [
    "## decoding\n",
    "decoded=decode(encoded,out='dict')\n",
    "print(decoded)"
   ]
  },
  {
   "cell_type": "code",
   "execution_count": 5,
   "id": "57075a3f-2005-4a50-b2f8-b55e60bf6be7",
   "metadata": {},
   "outputs": [],
   "source": [
    "## test reversibility\n",
    "assert parameters==decoded"
   ]
  },
  {
   "cell_type": "markdown",
   "id": "448693ef-0874-4cb0-ac00-6752e14301c3",
   "metadata": {},
   "source": [
    "#### Non-reversible"
   ]
  },
  {
   "cell_type": "code",
   "execution_count": 6,
   "id": "3cbcdf52-f80e-431c-b42d-e4feff4a44d2",
   "metadata": {},
   "outputs": [],
   "source": [
    "## clear variables\n",
    "%reset_selective -f \"encoded.*\""
   ]
  },
  {
   "cell_type": "code",
   "execution_count": 7,
   "id": "f8ecab5f-69d9-49a8-8e90-4ef2ec7cc7fe",
   "metadata": {
    "tags": [
     "encoded_short"
    ]
   },
   "outputs": [
    {
     "name": "stdout",
     "output_type": "stream",
     "text": [
      "e11fafe6bf21d3db843f8a0e4cea21bc600832b3ed738d2b09ee644ce8008e44\n"
     ]
    }
   ],
   "source": [
    "## encoding\n",
    "encoded=encode(parameters,short=True)\n",
    "print(encoded)"
   ]
  },
  {
   "cell_type": "code",
   "execution_count": 8,
   "id": "8e4af62c-32f4-41bf-98f1-b56c7c6ccc1d",
   "metadata": {},
   "outputs": [],
   "source": [
    "## dictionary shuffled\n",
    "from random import sample\n",
    "parameters_shuffled={k:parameters[k] for k in sample(parameters.keys(), len(parameters))}"
   ]
  },
  {
   "cell_type": "code",
   "execution_count": 9,
   "id": "ca0d07ef-39e2-40aa-a0a1-8a0ef763a2e4",
   "metadata": {},
   "outputs": [
    {
     "name": "stdout",
     "output_type": "stream",
     "text": [
      "e11fafe6bf21d3db843f8a0e4cea21bc600832b3ed738d2b09ee644ce8008e44\n"
     ]
    }
   ],
   "source": [
    "## encoding dictionary shuffled\n",
    "encoded_shuffled=encode(parameters_shuffled,short=True)\n",
    "print(encoded_shuffled)"
   ]
  },
  {
   "cell_type": "code",
   "execution_count": 10,
   "id": "f9c82cc0-8736-46e9-a36c-54eeb2fd1905",
   "metadata": {},
   "outputs": [],
   "source": [
    "## test equality\n",
    "assert encoded==encoded_shuffled"
   ]
  },
  {
   "cell_type": "markdown",
   "id": "d36c595a-ab8c-413e-b6d7-e6fc08ccd0f9",
   "metadata": {
    "jp-MarkdownHeadingCollapsed": true,
    "tags": []
   },
   "source": [
    "#### Documentation\n",
    "[`roux.lib.str`](https://github.com/rraadd88/roux#module-roux.lib.str)"
   ]
  }
 ],
 "metadata": {
  "kernelspec": {
   "display_name": "human",
   "language": "python",
   "name": "human"
  },
  "language_info": {
   "codemirror_mode": {
    "name": "ipython",
    "version": 3
   },
   "file_extension": ".py",
   "mimetype": "text/x-python",
   "name": "python",
   "nbconvert_exporter": "python",
   "pygments_lexer": "ipython3",
   "version": "3.7.12"
  }
 },
 "nbformat": 4,
 "nbformat_minor": 5
}
