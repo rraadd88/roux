{
 "cells": [
  {
   "cell_type": "markdown",
   "id": "7e9248c4-351f-4f36-a4ae-5bc5a7439af4",
   "metadata": {},
   "source": [
    "---\n",
    "\n",
    "<!-- <a href=\"https://github.com/rraadd88/roux/blob/master/examples/roux_lib_str.ipynb\"><img align=\"right\" style=\"float:right;\" src=\"https://img.shields.io/badge/-source-cccccc?style=flat-square\"></a>\n",
    " -->\n",
    "## 🔤 Strings encoding/decoding."
   ]
  },
  {
   "cell_type": "code",
   "execution_count": 1,
   "id": "101b49f9-ff08-4f1b-8411-3d79d8996ba3",
   "metadata": {},
   "outputs": [],
   "source": [
    "# import helper functions\n",
    "from roux.lib.str import encode,decode"
   ]
  },
  {
   "cell_type": "markdown",
   "id": "e3076bc1-c28d-4a53-848f-d7fa814c0ba6",
   "metadata": {},
   "source": [
    "## Substring"
   ]
  },
  {
   "cell_type": "code",
   "execution_count": 4,
   "id": "4c7bb59a-05b8-46a4-b619-73938c185f83",
   "metadata": {},
   "outputs": [
    {
     "data": {
      "text/plain": [
       "'col'"
      ]
     },
     "execution_count": 4,
     "metadata": {},
     "output_type": "execute_result"
    }
   ],
   "source": [
    "from roux.lib.str import get_bracket\n",
    "get_bracket(\"(col)` => 4\",)"
   ]
  },
  {
   "cell_type": "code",
   "execution_count": 5,
   "id": "a01513b8-a9b1-4b4b-b542-12d32953b2d3",
   "metadata": {},
   "outputs": [
    {
     "data": {
      "text/plain": [
       "'col'"
      ]
     },
     "execution_count": 5,
     "metadata": {},
     "output_type": "execute_result"
    }
   ],
   "source": [
    "get_bracket(\n",
    "    \"`col` => 4\",\n",
    "    '`',\n",
    "    '`',    \n",
    ")"
   ]
  },
  {
   "cell_type": "markdown",
   "id": "6d7ce6de-963e-4301-810d-a4099908060d",
   "metadata": {},
   "source": [
    "### Encoding and decoding data"
   ]
  },
  {
   "cell_type": "markdown",
   "id": "4a890c6e-a2b4-4e21-bd77-b35ad528072c",
   "metadata": {},
   "source": [
    "#### Reversible"
   ]
  },
  {
   "cell_type": "code",
   "execution_count": 2,
   "id": "3efad590-8ea2-4420-af51-fbbab2f05de2",
   "metadata": {},
   "outputs": [],
   "source": [
    "# example data\n",
    "parameters=dict(\n",
    "    colindex='drug id',\n",
    "    colsample='sample id',\n",
    "    coly='auc',\n",
    "    formulas={\n",
    "            f\"auc ~ C(sample_subset, Treatment(reference='ref')) + primary_or_metastasis\": 'mixedlm',\n",
    "        },\n",
    "    kws_get_stats_regression=dict(\n",
    "            groups='screen_id',\n",
    "        ),\n",
    "    colsubset='sample subset',\n",
    "    variable=\"C(sample_subset, Treatment(reference='ref'))[T.test]\",\n",
    ")"
   ]
  },
  {
   "cell_type": "code",
   "execution_count": 3,
   "id": "e0097745-e462-42b2-9d5d-03e1f84a8fe1",
   "metadata": {
    "tags": [
     "encoded_long"
    ]
   },
   "outputs": [
    {
     "name": "stdout",
     "output_type": "stream",
     "text": [
      "eNqVj00KwjAQRq8Ssqli8QCCK6_gTiSk7WcJNkmZSbRF9OwmjYtuhSwm7_HNz0u2fjCuwyQPQnYUe2E6WYuMWdtxQOalWpnYMMLK_ECxcxY6tvl782TjoDmhV2biI06bElIlVIszQQcLFzaEGwiuxbFKZbXdip0YyVhNs_KkLILm9ExuJ62Z0A1WvtOY-5NVj6CSDawIPYHZeLeM7cnHcYlwS4BT6Y4cemgyuikX_rPU5bwP4HCV7y_fP20r\n"
     ]
    }
   ],
   "source": [
    "## encoding\n",
    "encoded=encode(parameters)\n",
    "print(encoded)"
   ]
  },
  {
   "cell_type": "code",
   "execution_count": 4,
   "id": "c4173579-37f1-4559-8f5b-a96ca6ccc04e",
   "metadata": {},
   "outputs": [
    {
     "name": "stdout",
     "output_type": "stream",
     "text": [
      "{'colindex': 'drug id', 'colsample': 'sample id', 'colsubset': 'sample subset', 'coly': 'auc', 'formulas': {\"auc ~ C(sample_subset, Treatment(reference='ref')) + primary_or_metastasis\": 'mixedlm'}, 'kws_get_stats_regression': {'groups': 'screen_id'}, 'variable': \"C(sample_subset, Treatment(reference='ref'))[T.test]\"}\n"
     ]
    }
   ],
   "source": [
    "## decoding\n",
    "decoded=decode(encoded,out='dict')\n",
    "print(decoded)"
   ]
  },
  {
   "cell_type": "code",
   "execution_count": 5,
   "id": "57075a3f-2005-4a50-b2f8-b55e60bf6be7",
   "metadata": {},
   "outputs": [],
   "source": [
    "## test reversibility\n",
    "assert parameters==decoded"
   ]
  },
  {
   "cell_type": "markdown",
   "id": "448693ef-0874-4cb0-ac00-6752e14301c3",
   "metadata": {},
   "source": [
    "#### Non-reversible"
   ]
  },
  {
   "cell_type": "code",
   "execution_count": 6,
   "id": "3cbcdf52-f80e-431c-b42d-e4feff4a44d2",
   "metadata": {},
   "outputs": [],
   "source": [
    "## clear variables\n",
    "%reset_selective -f \"encoded.*\""
   ]
  },
  {
   "cell_type": "code",
   "execution_count": 7,
   "id": "f8ecab5f-69d9-49a8-8e90-4ef2ec7cc7fe",
   "metadata": {
    "tags": [
     "encoded_short"
    ]
   },
   "outputs": [
    {
     "name": "stdout",
     "output_type": "stream",
     "text": [
      "e11fafe6bf21d3db843f8a0e4cea21bc600832b3ed738d2b09ee644ce8008e44\n"
     ]
    }
   ],
   "source": [
    "## encoding\n",
    "encoded=encode(parameters,short=True)\n",
    "print(encoded)"
   ]
  },
  {
   "cell_type": "code",
   "execution_count": 8,
   "id": "8e4af62c-32f4-41bf-98f1-b56c7c6ccc1d",
   "metadata": {},
   "outputs": [],
   "source": [
    "## dictionary shuffled\n",
    "from random import sample\n",
    "parameters_shuffled={k:parameters[k] for k in sample(list(parameters.keys()), len(parameters))}"
   ]
  },
  {
   "cell_type": "code",
   "execution_count": 9,
   "id": "ca0d07ef-39e2-40aa-a0a1-8a0ef763a2e4",
   "metadata": {},
   "outputs": [
    {
     "name": "stdout",
     "output_type": "stream",
     "text": [
      "e11fafe6bf21d3db843f8a0e4cea21bc600832b3ed738d2b09ee644ce8008e44\n"
     ]
    }
   ],
   "source": [
    "## encoding dictionary shuffled\n",
    "encoded_shuffled=encode(parameters_shuffled,short=True)\n",
    "print(encoded_shuffled)"
   ]
  },
  {
   "cell_type": "code",
   "execution_count": 10,
   "id": "f9c82cc0-8736-46e9-a36c-54eeb2fd1905",
   "metadata": {},
   "outputs": [],
   "source": [
    "## test equality\n",
    "assert encoded==encoded_shuffled"
   ]
  },
  {
   "cell_type": "markdown",
   "id": "a58ee744-cb5a-4286-8346-7cf4cf4644cf",
   "metadata": {},
   "source": [
    "### Encoding and decoding strings to be compatible with formulas"
   ]
  },
  {
   "cell_type": "code",
   "execution_count": 11,
   "id": "0645ea8d-e6f4-468c-840f-1ca70ece7cb0",
   "metadata": {},
   "outputs": [
    {
     "data": {
      "text/plain": [
       "'_PERCENT__SPACE_similarity_INVCOMMA_s_SPACE_mean_SPACE__LEFTBRACKET_cosine_COMMA__SPACE_Author_SPACE_et_SPACE_al_DOT__COMMA__SPACE_2022_RIGHTTBRACKET_'"
      ]
     },
     "execution_count": 11,
     "metadata": {},
     "output_type": "execute_result"
    }
   ],
   "source": [
    "s=\"% similarity's mean (cosine, Author et al., 2022)\"\n",
    "from roux.lib.str import replace_many,to_formula\n",
    "s_=replace_many(s,to_formula())\n",
    "s_"
   ]
  },
  {
   "cell_type": "code",
   "execution_count": 12,
   "id": "fa5c6a4c-67eb-49b0-8a7b-86ba929668b6",
   "metadata": {},
   "outputs": [],
   "source": [
    "## reversability\n",
    "assert s==replace_many(s_,to_formula(reverse=True)), s"
   ]
  },
  {
   "cell_type": "markdown",
   "id": "a9014812-1349-4a31-83ca-38b558241fcb",
   "metadata": {},
   "source": [
    "## `replace_many`"
   ]
  },
  {
   "cell_type": "code",
   "execution_count": 16,
   "id": "64193506-6d05-4ace-90e8-6728f72ac458",
   "metadata": {},
   "outputs": [
    {
     "data": {
      "text/plain": [
       "'s'"
      ]
     },
     "execution_count": 16,
     "metadata": {},
     "output_type": "execute_result"
    }
   ],
   "source": [
    "s_=replace_many(\n",
    "    \"${fill}\",\n",
    "    fill='s',\n",
    ")\n",
    "s_"
   ]
  },
  {
   "cell_type": "code",
   "execution_count": 17,
   "id": "d731802e-4bfc-4b18-8532-e8f1b638a013",
   "metadata": {},
   "outputs": [],
   "source": [
    "assert s_=='s'"
   ]
  },
  {
   "cell_type": "code",
   "execution_count": 20,
   "id": "adbf6e12-206b-4544-b383-e420ee53cab0",
   "metadata": {},
   "outputs": [
    {
     "data": {
      "text/plain": [
       "'${fill}'"
      ]
     },
     "execution_count": 20,
     "metadata": {},
     "output_type": "execute_result"
    }
   ],
   "source": [
    "s_=replace_many(\n",
    "    \"${fill}\",\n",
    "    # fill='s',\n",
    "    errors=None,\n",
    ")\n",
    "s_"
   ]
  },
  {
   "cell_type": "code",
   "execution_count": 21,
   "id": "c17b6b7c-efd0-4c7e-ac3a-097382bb0ea5",
   "metadata": {},
   "outputs": [],
   "source": [
    "assert s_=='${fill}'"
   ]
  },
  {
   "cell_type": "markdown",
   "id": "d36c595a-ab8c-413e-b6d7-e6fc08ccd0f9",
   "metadata": {
    "tags": []
   },
   "source": [
    "### Documentation\n",
    "[`roux.lib.str`](https://github.com/rraadd88/roux#module-rouxlibstr)"
   ]
  }
 ],
 "metadata": {
  "kernelspec": {
   "display_name": "datasets",
   "language": "python",
   "name": "datasets"
  },
  "language_info": {
   "codemirror_mode": {
    "name": "ipython",
    "version": 3
   },
   "file_extension": ".py",
   "mimetype": "text/x-python",
   "name": "python",
   "nbconvert_exporter": "python",
   "pygments_lexer": "ipython3",
   "version": "3.10.8"
  }
 },
 "nbformat": 4,
 "nbformat_minor": 5
}
