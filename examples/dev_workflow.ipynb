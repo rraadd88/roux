{
 "cells": [
  {
   "cell_type": "markdown",
   "id": "3925a0d6-6444-4b68-94ec-f526d9c40f94",
   "metadata": {},
   "source": [
    "## ⚙️⏩ Workflow using notebooks"
   ]
  },
  {
   "cell_type": "markdown",
   "id": "501f1a55-ab66-41d9-a375-8f24eb260bef",
   "metadata": {},
   "source": [
    "A `snakemake` workflow is created in the current directory.  \n",
    "\n",
    "    ./\n",
    "    ├── workflow.py : the workflow (i.e. snake) file.  \n",
    "    ├── lib/*.py    : the scripts corresponding to individual tasks (i.e. rules) in the workflow.    \n",
    "    ├── .lib/*.py   : the `.py` files corresponding to individual notebooks.  \n",
    "    └── .workflow/  : directory contains the metadata of the workflow."
   ]
  },
  {
   "cell_type": "markdown",
   "id": "8d512f1e-946a-4b7a-a7ad-dc2cc9027185",
   "metadata": {},
   "source": [
    "## Installing requirements"
   ]
  },
  {
   "cell_type": "code",
   "execution_count": 1,
   "id": "dca43803-3e70-4927-a60b-9be5b34e5732",
   "metadata": {},
   "outputs": [],
   "source": [
    "# installing the required roux subpackage\n",
    "!pip install roux[workflow]"
   ]
  },
  {
   "cell_type": "code",
   "execution_count": null,
   "id": "b266ae43-1f24-4afc-8562-dcec4681be45",
   "metadata": {},
   "outputs": [],
   "source": [
    "from roux.workflow.workflow import to_scripts\n",
    "df2=to_scripts(\n",
    "               packagep=\"../\", # root directory of the repository\n",
    "               notebooksdp='./', # preferably current directory\n",
    "               notebook_prefix= 'roux_', # prefix to select the notebooks to create the workflow \n",
    "               notebook_suffix= '', # suffix to select the notebooks to create the workflow\n",
    "               sep_step='## Example', ## a phrase in a markdown cell that marks the starting point of a task (i.e. a snakemake rule)\n",
    "               sep_step_end='# ## Documentation',  ## a phrase in a markdown cell that marks the ending point of a task (i.e. a snakemake rule)\n",
    "               workflow=True, # create workflow\n",
    "               validate=False, # create and test the workflow\n",
    "               git=False, # git commit the changes if the directory is inside a git respository\n",
    "               test=True, # verbose\n",
    "               fast=True, # faster parallel processing\n",
    "              )"
   ]
  },
  {
   "cell_type": "markdown",
   "id": "cb1b8959-360d-4fb5-9b11-0dc726356c80",
   "metadata": {},
   "source": [
    "## Executing the workflow\n",
    "\n",
    "Refer to the documentation of `snakemake` for [other execution commands](https://snakemake.readthedocs.io/en/stable/executing/cli.html#EXECUTION)."
   ]
  },
  {
   "cell_type": "code",
   "execution_count": 3,
   "id": "87e0d7de-9769-451e-b90a-8db240f9f803",
   "metadata": {},
   "outputs": [
    {
     "data": {
      "text/plain": [
       "0"
      ]
     },
     "execution_count": 3,
     "metadata": {},
     "output_type": "execute_result"
    }
   ],
   "source": [
    "from roux.lib.sys import runbash\n",
    "runbash(f\"snakemake --snakefile workflow.py -c1\",\n",
    "        env='test',# virtual environment\n",
    "       )"
   ]
  },
  {
   "cell_type": "markdown",
   "id": "d27414b0-a565-454d-bf28-8bafb1aac05e",
   "metadata": {},
   "source": [
    "## Generating the visual layout of the workflow and reports of workflow executions\n",
    "\n",
    "`workflow/` directory contains \n",
    "\n",
    "    workflow/\n",
    "    ├── workflow.png : layout of the workflow.\n",
    "    └── report.html  : report of the workflow executions.\n"
   ]
  },
  {
   "cell_type": "code",
   "execution_count": 2,
   "id": "f4036691-e486-4e56-a418-7007087d29b1",
   "metadata": {},
   "outputs": [],
   "source": [
    "from roux.workflow.io import create_workflow_report\n",
    "create_workflow_report('workflow.py',env='test')"
   ]
  },
  {
   "cell_type": "markdown",
   "id": "9b868853-b073-4ffe-a108-37be3f551050",
   "metadata": {},
   "source": [
    "**[Visual layout of the workflow](./workflow/workflow.png)**:\n",
    "![](./workflow/workflow.png)\n",
    "**[Report of the workflow excecution](./workflow/report.html)**:"
   ]
  },
  {
   "cell_type": "markdown",
   "id": "f8e272ef-82c0-4fdf-9b2e-3d3180a914d2",
   "metadata": {
    "tags": []
   },
   "source": [
    "## Documentation\n",
    "[`roux.workflow.workflow.to_scripts`](https://github.com/rraadd88/roux#function-to_scripts)"
   ]
  }
 ],
 "metadata": {
  "kernelspec": {
   "display_name": "test",
   "language": "python",
   "name": "test"
  },
  "language_info": {
   "codemirror_mode": {
    "name": "ipython",
    "version": 3
   },
   "file_extension": ".py",
   "mimetype": "text/x-python",
   "name": "python",
   "nbconvert_exporter": "python",
   "pygments_lexer": "ipython3",
   "version": "3.7.12"
  }
 },
 "nbformat": 4,
 "nbformat_minor": 5
}
