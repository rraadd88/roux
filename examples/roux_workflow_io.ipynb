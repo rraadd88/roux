{
 "cells": [
  {
   "cell_type": "markdown",
   "id": "a1da707e-ca1e-413d-80e6-9160800fe00b",
   "metadata": {},
   "source": [
    "---\n",
    "\n",
    "<!-- <a href=\"https://github.com/rraadd88/roux/blob/master/examples/roux_workflow_io.ipynb\"><img align=\"right\" style=\"float:right;\" src=\"https://img.shields.io/badge/-source-cccccc?style=flat-square\"></a>\n",
    " -->\n",
    " \n",
    "## ⚙️🗺️ Reading multiple configs."
   ]
  },
  {
   "cell_type": "code",
   "execution_count": null,
   "id": "78adcdce-1d47-4b0f-a8da-4f737bd661ac",
   "metadata": {},
   "outputs": [],
   "source": [
    "# install extra requirements\n",
    "# !pip install roux[workflow]"
   ]
  },
  {
   "cell_type": "markdown",
   "id": "d83750e3-bf65-4b06-9fdc-5a40485a0667",
   "metadata": {},
   "source": [
    "### Demo inputs"
   ]
  },
  {
   "cell_type": "code",
   "execution_count": 1,
   "id": "ce0a51e7-4dec-40bb-a291-7f22cd78e359",
   "metadata": {},
   "outputs": [],
   "source": [
    "input_dir_path='tests/input/roux_workflow_io/'"
   ]
  },
  {
   "cell_type": "code",
   "execution_count": 2,
   "id": "25584a53-6624-44eb-a172-3c9c0ed58d94",
   "metadata": {},
   "outputs": [
    {
     "name": "stdout",
     "output_type": "stream",
     "text": [
      "{'meta_config': {'key1': 'value1',\n",
      "                 'key2': 'value2',\n",
      "                 'key3': 'interpolated from metaconfig = ${key2}',\n",
      "                 'sub_config1': {'config_path': 'tests/input/roux_workflow_io/sub_config1.yaml',\n",
      "                                 'description': 'sample1.',\n",
      "                                 'path': 'path/to/file1'},\n",
      "                 'sub_config2': {'config_path': 'tests/input/roux_workflow_io/sub_config2.yaml',\n",
      "                                 'description': 'sample2.',\n",
      "                                 'path': 'path/to/file2'}},\n",
      " 'sub_config1': {'c1key1': 'value from metaconfig = ${key1}',\n",
      "                 'c1key2': 'value2',\n",
      "                 'c1key3': 'value3'},\n",
      " 'sub_config2': {'c2key1': 'value from metaconfig = ${key1}',\n",
      "                 'c2key2': 'value interpolated in config1 = '\n",
      "                           '${sub_config1.c1key1}',\n",
      "                 'c2key3': 'value3'}}\n"
     ]
    }
   ],
   "source": [
    "## creating the demo configs\n",
    "configs=dict(\n",
    "    ## meta-config that contains other configs\n",
    "    meta_config=\"\"\"\n",
    "    key1: value1\n",
    "    key2: value2\n",
    "    key3: interpolated from metaconfig = ${key2}\n",
    "    \n",
    "    ## append other configs\n",
    "    sub_config1:\n",
    "        config_path: '\"\"\"+input_dir_path+\"\"\"sub_config1.yaml' # should be one key\n",
    "        path: path/to/file1\n",
    "        description: sample1. \n",
    "    sub_config2:\n",
    "        config_path: '\"\"\"+input_dir_path+\"\"\"sub_config2.yaml' # path should exist\n",
    "        path: path/to/file2\n",
    "        description: sample2. \n",
    "    \"\"\",\n",
    "    ## individual configs to be appended\n",
    "    sub_config1=\"\"\"\n",
    "    c1key1: value from metaconfig = ${key1} # interpolated from c0\n",
    "    c1key2: value2\n",
    "    c1key3: value3\n",
    "    \"\"\",\n",
    "\n",
    "    sub_config2=\"\"\"\n",
    "    c2key1: value from metaconfig = ${key1} # interpolated from c0\n",
    "    c2key2: value interpolated in config1 = ${sub_config1.c1key1} # interpolated from c1\n",
    "    c2key3: value3\n",
    "    \"\"\",\n",
    "    )\n",
    "import yaml\n",
    "configs={k:yaml.safe_load(configs[k]) for k in configs}\n",
    "from pprint import pprint\n",
    "pprint({k:d for k,d in configs.items()})"
   ]
  },
  {
   "cell_type": "code",
   "execution_count": 3,
   "id": "180288cc-a284-45c2-af3c-832c0f7740e0",
   "metadata": {},
   "outputs": [
    {
     "data": {
      "text/plain": [
       "['tests/input/roux_workflow_io/meta_config.yaml',\n",
       " 'tests/input/roux_workflow_io/sub_config1.yaml',\n",
       " 'tests/input/roux_workflow_io/sub_config2.yaml']"
      ]
     },
     "execution_count": 3,
     "metadata": {},
     "output_type": "execute_result"
    }
   ],
   "source": [
    "## save the demo configs\n",
    "from roux.lib.io import to_dict\n",
    "[to_dict(configs[k],f'tests/input/roux_workflow_io/{k}.yaml') for k in configs]"
   ]
  },
  {
   "cell_type": "markdown",
   "id": "364528da-4126-49c8-99af-a13b6ca79722",
   "metadata": {},
   "source": [
    "### Reading the meta-config"
   ]
  },
  {
   "cell_type": "code",
   "execution_count": 4,
   "id": "9ec65565-0c3a-49d6-952b-abbaf0fe4651",
   "metadata": {},
   "outputs": [],
   "source": [
    "from roux.workflow.io import read_metadata \n",
    "config_base=read_metadata(\n",
    "    f'{input_dir_path}/meta_config.yaml', # path to the meta-config\n",
    "    verbose=True, # verbose\n",
    "    )"
   ]
  },
  {
   "cell_type": "markdown",
   "id": "12cdd58e-f05d-4a86-a304-950ed7d537c5",
   "metadata": {},
   "source": [
    "### Output"
   ]
  },
  {
   "cell_type": "code",
   "execution_count": 5,
   "id": "f4fd8644-0da0-4797-b61c-5ec12f15c0d1",
   "metadata": {},
   "outputs": [
    {
     "data": {
      "text/plain": [
       "{'key1': 'value1',\n",
       " 'key2': 'value2',\n",
       " 'key3': 'interpolated from metaconfig = value2',\n",
       " 'sub_config1': {'config_path': 'tests/input/roux_workflow_io/sub_config1.yaml',\n",
       "  'description': 'sample1.',\n",
       "  'path': 'path/to/file1',\n",
       "  'c1key1': 'value from metaconfig = value1',\n",
       "  'c1key2': 'value2',\n",
       "  'c1key3': 'value3'},\n",
       " 'sub_config2': {'config_path': 'tests/input/roux_workflow_io/sub_config2.yaml',\n",
       "  'description': 'sample2.',\n",
       "  'path': 'path/to/file2',\n",
       "  'c2key1': 'value from metaconfig = value1',\n",
       "  'c2key2': 'value interpolated in config1 = value from metaconfig = value1',\n",
       "  'c2key3': 'value3'}}"
      ]
     },
     "execution_count": 5,
     "metadata": {},
     "output_type": "execute_result"
    }
   ],
   "source": [
    "config_base"
   ]
  },
  {
   "cell_type": "code",
   "execution_count": 6,
   "id": "6f6ca8f6-ad47-4d20-b6f3-27cbc55b0ab5",
   "metadata": {
    "tags": [
     "read_configs"
    ]
   },
   "outputs": [
    {
     "name": "stdout",
     "output_type": "stream",
     "text": [
      "value interpolated in config1 = value from metaconfig = value1\n"
     ]
    }
   ],
   "source": [
    "## test for testbook\n",
    "assert config_base['sub_config2']['c2key2']=='value interpolated in config1 = value from metaconfig = value1', config_base['sub_config2']['c2key2']\n",
    "assert len(config_base)==5, len(config_base)\n",
    "assert len(config_base['sub_config2'])==6, config_base['sub_config2']\n",
    "print(config_base['sub_config2']['c2key2'])"
   ]
  },
  {
   "cell_type": "markdown",
   "id": "e58b71f1-0908-4488-83e7-48a75dd585ce",
   "metadata": {},
   "source": [
    "### Modifying config using `inputs` parameter"
   ]
  },
  {
   "cell_type": "code",
   "execution_count": 7,
   "id": "fd92856b-88e7-41ad-961f-c698176ae315",
   "metadata": {},
   "outputs": [],
   "source": [
    "from roux.workflow.io import read_metadata \n",
    "config_base=read_metadata(\n",
    "    f'{input_dir_path}/meta_config.yaml', # path to the meta-config\n",
    "    inputs=dict(key1='modified'),\n",
    "    verbose=True, # verbose\n",
    "    )"
   ]
  },
  {
   "cell_type": "code",
   "execution_count": 8,
   "id": "76582907-42fd-4929-8639-214a7b7551ab",
   "metadata": {
    "tags": [
     "read_configs_with_inputs"
    ]
   },
   "outputs": [
    {
     "name": "stdout",
     "output_type": "stream",
     "text": [
      "value interpolated in config1 = value from metaconfig = modified\n"
     ]
    }
   ],
   "source": [
    "## test for testbook\n",
    "assert config_base['sub_config2']['c2key2']=='value interpolated in config1 = value from metaconfig = modified', config_base['sub_config2']['c2key2']\n",
    "assert len(config_base)==5, len(config_base)\n",
    "assert len(config_base['sub_config2'])==6, config_base['sub_config2']\n",
    "print(config_base['sub_config2']['c2key2'])"
   ]
  }
 ],
 "metadata": {
  "kernelspec": {
   "display_name": "datasets",
   "language": "python",
   "name": "datasets"
  },
  "language_info": {
   "codemirror_mode": {
    "name": "ipython",
    "version": 3
   },
   "file_extension": ".py",
   "mimetype": "text/x-python",
   "name": "python",
   "nbconvert_exporter": "python",
   "pygments_lexer": "ipython3",
   "version": "3.7.13"
  }
 },
 "nbformat": 4,
 "nbformat_minor": 5
}
