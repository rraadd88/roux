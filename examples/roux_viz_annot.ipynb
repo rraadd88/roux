{
 "cells": [
  {
   "cell_type": "markdown",
   "id": "5f3b02f7-3bea-47ec-bbc9-217a8386930c",
   "metadata": {},
   "source": [
    "---\n",
    "\n",
    "<!-- <a href=\"https://github.com/rraadd88/roux/blob/master/examples/roux_viz_annot.ipynb\"><img align=\"right\" style=\"float:right;\" src=\"https://img.shields.io/badge/-source-cccccc?style=flat-square\"></a> -->\n",
    "\n",
    "## 📈🔖Annotating visualisations."
   ]
  },
  {
   "cell_type": "code",
   "execution_count": 1,
   "id": "8d8246ef-49cd-4bf4-bdd6-b63180178ce6",
   "metadata": {
    "tags": []
   },
   "outputs": [],
   "source": [
    "# installing the required roux subpackage\n",
    "# !pip install roux[viz]\n",
    "# loading requirements\n",
    "import matplotlib.pyplot as plt\n",
    "## for saving plots\n",
    "from roux.viz.io import to_plot"
   ]
  },
  {
   "cell_type": "markdown",
   "id": "75c72cd0-0ec0-4281-a86a-918a7b0fcef4",
   "metadata": {
    "tags": []
   },
   "source": [
    "### Example of annotated scatter plot"
   ]
  },
  {
   "cell_type": "code",
   "execution_count": 2,
   "id": "a63d7575-b73f-43f1-88ed-ce6bbfc640b6",
   "metadata": {
    "tags": []
   },
   "outputs": [
    {
     "data": {
      "text/html": [
       "<div>\n",
       "<style scoped>\n",
       "    .dataframe tbody tr th:only-of-type {\n",
       "        vertical-align: middle;\n",
       "    }\n",
       "\n",
       "    .dataframe tbody tr th {\n",
       "        vertical-align: top;\n",
       "    }\n",
       "\n",
       "    .dataframe thead th {\n",
       "        text-align: right;\n",
       "    }\n",
       "</style>\n",
       "<table border=\"1\" class=\"dataframe\">\n",
       "  <thead>\n",
       "    <tr style=\"text-align: right;\">\n",
       "      <th></th>\n",
       "      <th>sepal_length</th>\n",
       "      <th>sepal_width</th>\n",
       "      <th>petal_length</th>\n",
       "      <th>petal_width</th>\n",
       "      <th>species</th>\n",
       "    </tr>\n",
       "  </thead>\n",
       "  <tbody>\n",
       "    <tr>\n",
       "      <th>0</th>\n",
       "      <td>5.1</td>\n",
       "      <td>3.5</td>\n",
       "      <td>1.4</td>\n",
       "      <td>0.2</td>\n",
       "      <td>setosa</td>\n",
       "    </tr>\n",
       "  </tbody>\n",
       "</table>\n",
       "</div>"
      ],
      "text/plain": [
       "   sepal_length  sepal_width  petal_length  petal_width species\n",
       "0           5.1          3.5           1.4          0.2  setosa"
      ]
     },
     "execution_count": 2,
     "metadata": {},
     "output_type": "execute_result"
    }
   ],
   "source": [
    "# demo data\n",
    "import seaborn as sns\n",
    "df1=sns.load_dataset('iris')\n",
    "df1.head(1)"
   ]
  },
  {
   "cell_type": "code",
   "execution_count": 3,
   "id": "39f22957-07b6-4263-a339-842461b883b5",
   "metadata": {
    "tags": []
   },
   "outputs": [
    {
     "name": "stderr",
     "output_type": "stream",
     "text": [
      "WARNING:root:overwritting: outputs/roux_viz_annot/annot_side.png\n"
     ]
    },
    {
     "data": {
      "text/plain": [
       "'/mnt/d/Documents/code/roux/examples/outputs/roux_viz_annot/annot_side.png'"
      ]
     },
     "execution_count": 3,
     "metadata": {},
     "output_type": "execute_result"
    },
    {
     "data": {
      "image/png": "[encoded data removed]",
      "text/plain": [
       "<Figure size 216x216 with 1 Axes>"
      ]
     },
     "metadata": {
      "needs_background": "light"
     },
     "output_type": "display_data"
    }
   ],
   "source": [
    "# plot\n",
    "_,ax=plt.subplots(figsize=[3,3])\n",
    "ax=sns.scatterplot(data=df1,x='sepal_length',y='petal_width',ax=ax)\n",
    "from roux.viz.annot import annot_side\n",
    "## left\n",
    "ax=annot_side(ax=ax,\n",
    "           df1=df1.sample(5),\n",
    "           colx='sepal_length',coly='petal_width',cols='species',length_axhline=1.3)\n",
    "## top\n",
    "ax=annot_side(ax=ax,\n",
    "           df1=df1.sort_values('petal_width',ascending=False).head(5),\n",
    "           colx='sepal_length',coly='petal_width',cols='species',length_axhline=1,\n",
    "           loc='top',)\n",
    "to_plot('outputs/roux_viz_annot/annot_side.png')"
   ]
  },
  {
   "cell_type": "markdown",
   "id": "79973785-ac2a-4151-b9a5-affbccf57886",
   "metadata": {},
   "source": [
    "#### Documentation\n",
    "[`roux.viz.annot`](https://github.com/rraadd88/roux#module-rouxvizannot)"
   ]
  },
  {
   "cell_type": "markdown",
   "id": "1020e83f-864a-4564-aef8-839fe6fa8726",
   "metadata": {},
   "source": [
    "### Example of annotated histogram"
   ]
  },
  {
   "cell_type": "code",
   "execution_count": 4,
   "id": "71128846-2d60-4424-a780-cd6648c12350",
   "metadata": {},
   "outputs": [
    {
     "data": {
      "image/png": "[encoded data removed]",
      "text/plain": [
       "<Figure size 216x216 with 1 Axes>"
      ]
     },
     "metadata": {
      "needs_background": "light"
     },
     "output_type": "display_data"
    }
   ],
   "source": [
    "# demo data\n",
    "import seaborn as sns\n",
    "df1=sns.load_dataset('iris')\n",
    "\n",
    "# plot\n",
    "_,ax=plt.subplots(figsize=[3,3])\n",
    "from roux.viz.dist import hist_annot\n",
    "ax=hist_annot(\n",
    "    df1,colx='sepal_length',colssubsets=['species'],bins=10,\n",
    "    params_scatter=dict(marker='|',alpha=1),\n",
    "    ax=ax)\n",
    "# to_plot('outputs/roux_viz_annot/hist_annot.png')"
   ]
  },
  {
   "cell_type": "markdown",
   "id": "aa97dd3c-ff6d-48d0-9097-64d4a1414704",
   "metadata": {},
   "source": [
    "#### Documentation\n",
    "[`roux.viz.dist`](https://github.com/rraadd88/roux#module-rouxvizdist)"
   ]
  },
  {
   "cell_type": "markdown",
   "id": "7db8187b-e1f2-4055-bf6d-b4ed6e684f5f",
   "metadata": {},
   "source": [
    "### Example of annotated heatmap"
   ]
  },
  {
   "cell_type": "code",
   "execution_count": 5,
   "id": "5628c411-d460-416b-8baf-b4b17a90478a",
   "metadata": {},
   "outputs": [
    {
     "data": {
      "image/png": "[encoded data removed]",
      "text/plain": [
       "<Figure size 216x216 with 2 Axes>"
      ]
     },
     "metadata": {
      "needs_background": "light"
     },
     "output_type": "display_data"
    }
   ],
   "source": [
    "# demo data\n",
    "import seaborn as sns\n",
    "df1=sns.load_dataset('iris')\n",
    "data=(df1\n",
    "    .set_index('species')\n",
    "    .melt(ignore_index=False)\n",
    "    .reset_index()\n",
    "    .pivot_table(index='variable',columns='species',values='value',aggfunc='mean'))\n",
    "\n",
    "# plot\n",
    "_,ax=plt.subplots(figsize=[3,3])\n",
    "ax=sns.heatmap(data,\n",
    "    cmap='Blues',\n",
    "    cbar_kws=dict(label='mean value'),\n",
    "    ax=ax,)\n",
    "from roux.viz.annot import show_box\n",
    "ax=show_box(ax=ax,xy=[1,2],width=2,height=1,ec='red',lw=2)\n",
    "# to_plot('outputs/roux_viz_annot/show_box.png')"
   ]
  },
  {
   "cell_type": "markdown",
   "id": "64f9c468-7dcf-4588-9cc1-3ed1b01ae83e",
   "metadata": {},
   "source": [
    "#### Documentation\n",
    "[`roux.viz.heatmap`](https://github.com/rraadd88/roux#module-rouxvizheatmap)"
   ]
  },
  {
   "cell_type": "markdown",
   "id": "7c2ccf50-9832-4b6f-bfda-d91fdd5e7397",
   "metadata": {},
   "source": [
    "### Example of annotated distributions"
   ]
  },
  {
   "cell_type": "markdown",
   "id": "d22e7431-2cf7-4060-9334-84e9b46f700d",
   "metadata": {},
   "source": [
    "#### Annotated points within distributions"
   ]
  },
  {
   "cell_type": "code",
   "execution_count": 6,
   "id": "cd02411d-2ae0-4521-afb5-ac74be2cdd53",
   "metadata": {},
   "outputs": [
    {
     "data": {
      "text/html": [
       "<div>\n",
       "<style scoped>\n",
       "    .dataframe tbody tr th:only-of-type {\n",
       "        vertical-align: middle;\n",
       "    }\n",
       "\n",
       "    .dataframe tbody tr th {\n",
       "        vertical-align: top;\n",
       "    }\n",
       "\n",
       "    .dataframe thead th {\n",
       "        text-align: right;\n",
       "    }\n",
       "</style>\n",
       "<table border=\"1\" class=\"dataframe\">\n",
       "  <thead>\n",
       "    <tr style=\"text-align: right;\">\n",
       "      <th></th>\n",
       "      <th>sepal_length</th>\n",
       "      <th>sepal_width</th>\n",
       "      <th>petal_length</th>\n",
       "      <th>petal_width</th>\n",
       "      <th>species</th>\n",
       "      <th>annotations</th>\n",
       "      <th>id</th>\n",
       "    </tr>\n",
       "  </thead>\n",
       "  <tbody>\n",
       "    <tr>\n",
       "      <th>0</th>\n",
       "      <td>5.1</td>\n",
       "      <td>3.5</td>\n",
       "      <td>1.4</td>\n",
       "      <td>0.2</td>\n",
       "      <td>setosa</td>\n",
       "      <td>None</td>\n",
       "      <td>0</td>\n",
       "    </tr>\n",
       "  </tbody>\n",
       "</table>\n",
       "</div>"
      ],
      "text/plain": [
       "   sepal_length  sepal_width  petal_length  petal_width species annotations  \\\n",
       "0           5.1          3.5           1.4          0.2  setosa        None   \n",
       "\n",
       "   id  \n",
       "0   0  "
      ]
     },
     "execution_count": 6,
     "metadata": {},
     "output_type": "execute_result"
    }
   ],
   "source": [
    "# demo data\n",
    "data=df1.assign(**{\n",
    "    'annotations':lambda df: df.apply(lambda x: 'a' if (x['sepal_length']>5.75 and x['sepal_length']<6) else 'b' if (x['sepal_length']>5.5 and x['sepal_length']<5.75) else None,axis=1),\n",
    "    'id':range(len(df1)),\n",
    "})\n",
    "print(data['annotations'].value_counts())\n",
    "data.head(1)"
   ]
  },
  {
   "cell_type": "code",
   "execution_count": 7,
   "id": "7a43828e-7d70-45a0-9fb4-3bb3469cfc68",
   "metadata": {},
   "outputs": [
    {
     "data": {
      "text/plain": [
       "'/mnt/d/Documents/code/roux/examples/outputs/roux_viz_annot/plot_dists.png'"
      ]
     },
     "execution_count": 7,
     "metadata": {},
     "output_type": "execute_result"
    },
    {
     "data": {
      "image/png": "[encoded data removed]",
      "text/plain": [
       "<Figure size 432x288 with 1 Axes>"
      ]
     },
     "metadata": {
      "needs_background": "light"
     },
     "output_type": "display_data"
    }
   ],
   "source": [
    "## plot\n",
    "from roux.viz.dist import plot_dists\n",
    "ax=plot_dists(\n",
    "    data,x='species',y='sepal_length',colindex='id',kind=['box','strip'],\n",
    "    show_outlines='annotations',\n",
    "    kws_outlines=dict(\n",
    "        outline_colors={'a':'k','b':'r'},\n",
    "        legend=True,\n",
    "        kws_legend=dict(bbox_to_anchor=[1,1]),\n",
    "    ),              \n",
    ")\n",
    "to_plot('outputs/roux_viz_annot/plot_dists.png')"
   ]
  },
  {
   "cell_type": "markdown",
   "id": "04efdcb7-8c5c-4fce-8382-5305dc0dc70a",
   "metadata": {},
   "source": [
    "#### Documentation\n",
    "[`roux.viz.dist`](https://github.com/rraadd88/roux#module-rouxvizdist)"
   ]
  },
  {
   "cell_type": "markdown",
   "id": "8601f586-829f-412d-b277-021aac1d7fc2",
   "metadata": {
    "tags": []
   },
   "source": [
    "### Example of annotated barplot"
   ]
  },
  {
   "cell_type": "code",
   "execution_count": 8,
   "id": "88f57f4d-1e18-47d8-8fbf-8e7b1a4268d4",
   "metadata": {},
   "outputs": [
    {
     "data": {
      "image/png": "[encoded data removed]",
      "text/plain": [
       "<Figure size 320.4x118.8 with 1 Axes>"
      ]
     },
     "metadata": {
      "needs_background": "light"
     },
     "output_type": "display_data"
    }
   ],
   "source": [
    "# plot\n",
    "from roux.viz.bar import plot_barh\n",
    "ax=plot_barh(df1.sort_values('sepal_length',ascending=False).head(5),\n",
    "          colx='sepal_length',coly='species',colannnotside='sepal_length')\n",
    "# to_plot('outputs/roux_viz_annot/plot_barh.png')"
   ]
  },
  {
   "cell_type": "markdown",
   "id": "c3702bad-b390-4e2c-a19d-b2728b7e25af",
   "metadata": {},
   "source": [
    "#### Documentation\n",
    "[`roux.viz.annot`](https://github.com/rraadd88/roux#module-rouxvizannot)"
   ]
  }
 ],
 "metadata": {
  "kernelspec": {
   "display_name": "roux",
   "language": "python",
   "name": "roux"
  },
  "language_info": {
   "codemirror_mode": {
    "name": "ipython",
    "version": 3
   },
   "file_extension": ".py",
   "mimetype": "text/x-python",
   "name": "python",
   "nbconvert_exporter": "python",
   "pygments_lexer": "ipython3",
   "version": "3.7.12"
  }
 },
 "nbformat": 4,
 "nbformat_minor": 5
}
