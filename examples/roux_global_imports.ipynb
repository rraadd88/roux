{
 "cells": [
  {
   "cell_type": "markdown",
   "id": "85660d82-f7b8-4c4f-a4e3-56f1f49208c6",
   "metadata": {},
   "source": [
    "---\n",
    "\n",
    "<!-- <a href=\"https://github.com/rraadd88/roux/blob/master/examples/roux_global_imports.ipynb\"><img align=\"right\" style=\"float:right;\" src=\"https://img.shields.io/badge/-source-cccccc?style=flat-square\"></a>\n",
    " -->\n",
    "## 🧰 Importing commonly used functions.\n",
    "\n",
    "Usage: in interactive sessions (e.g. in jupyter notebooks) to facilitate faster code development."
   ]
  },
  {
   "cell_type": "markdown",
   "id": "36508627-795e-4294-a728-85a9401eab51",
   "metadata": {},
   "source": [
    "### Usage"
   ]
  },
  {
   "cell_type": "code",
   "execution_count": 1,
   "id": "77e028a7-5851-42da-9756-1b054ffc81ca",
   "metadata": {},
   "outputs": [
    {
     "data": {
      "application/vnd.jupyter.widget-view+json": {
       "model_id": "ee827d5bb6b648f88c6c96e126ef5c42",
       "version_major": 2,
       "version_minor": 0
      },
      "text/plain": [
       "0it [00:00, ?it/s]"
      ]
     },
     "metadata": {},
     "output_type": "display_data"
    }
   ],
   "source": [
    "# import helper functions\n",
    "from roux.global_imports import *"
   ]
  },
  {
   "cell_type": "markdown",
   "id": "76054d7f-cd5a-42be-b063-6dea3734fcce",
   "metadata": {},
   "source": [
    "### Example"
   ]
  },
  {
   "cell_type": "code",
   "execution_count": 2,
   "id": "8806aa46-31f3-4b1f-9712-17764fae0386",
   "metadata": {},
   "outputs": [
    {
     "data": {
      "text/markdown": [
       "Convenient functions such as <kbd>function</kbd>[`perc_label`](https://github.com/rraadd88/roux#function-perc_label) are imported: perc_label([True,False,True])=66.7% (2/3)"
      ],
      "text/plain": [
       "<IPython.core.display.Markdown object>"
      ]
     },
     "execution_count": 2,
     "metadata": {},
     "output_type": "execute_result"
    }
   ],
   "source": [
    "function_name='perc_label'\n",
    "info_nb(f\"Convenient functions such as <kbd>function</kbd>[`{function_name}`](https://github.com/rraadd88/roux#function-{function_name}) are imported: perc_label([True,False,True])={perc_label([True,False,True])}\")"
   ]
  },
  {
   "cell_type": "markdown",
   "id": "65f6ddca-dd52-4983-a057-e109c748652b",
   "metadata": {},
   "source": [
    "### Which functions are imported?"
   ]
  },
  {
   "cell_type": "code",
   "execution_count": 3,
   "id": "817356ae-b109-4ee4-8bba-6770786794a6",
   "metadata": {},
   "outputs": [],
   "source": [
    "## function to obtain the metadata\n",
    "from roux.workflow.function import get_global_imports\n",
    "df1=get_global_imports()"
   ]
  },
  {
   "cell_type": "code",
   "execution_count": 4,
   "id": "82e4ccbf-209b-41f3-9245-70c97eb12119",
   "metadata": {},
   "outputs": [
    {
     "data": {
      "text/html": [
       "<div>\n",
       "<style scoped>\n",
       "    .dataframe tbody tr th:only-of-type {\n",
       "        vertical-align: middle;\n",
       "    }\n",
       "\n",
       "    .dataframe tbody tr th {\n",
       "        vertical-align: top;\n",
       "    }\n",
       "\n",
       "    .dataframe thead th {\n",
       "        text-align: right;\n",
       "    }\n",
       "</style>\n",
       "<table border=\"1\" class=\"dataframe\">\n",
       "  <thead>\n",
       "    <tr style=\"text-align: right;\">\n",
       "      <th></th>\n",
       "      <th></th>\n",
       "      <th>list</th>\n",
       "      <th>nunique</th>\n",
       "    </tr>\n",
       "    <tr>\n",
       "      <th>function type</th>\n",
       "      <th>internal</th>\n",
       "      <th></th>\n",
       "      <th></th>\n",
       "    </tr>\n",
       "  </thead>\n",
       "  <tbody>\n",
       "    <tr>\n",
       "      <th rowspan=\"2\" valign=\"top\">data</th>\n",
       "      <th>False</th>\n",
       "      <td>[itertools, np, pd]</td>\n",
       "      <td>3</td>\n",
       "    </tr>\n",
       "    <tr>\n",
       "      <th>True</th>\n",
       "      <td>[assert_overlaps_with, dropna, flatten, get_br...</td>\n",
       "      <td>10</td>\n",
       "    </tr>\n",
       "    <tr>\n",
       "      <th>logging</th>\n",
       "      <th>False</th>\n",
       "      <td>[info, logging, tqdm, watermark]</td>\n",
       "      <td>4</td>\n",
       "    </tr>\n",
       "    <tr>\n",
       "      <th>parallel-pocessing</th>\n",
       "      <th>False</th>\n",
       "      <td>[pandarallel]</td>\n",
       "      <td>1</td>\n",
       "    </tr>\n",
       "    <tr>\n",
       "      <th rowspan=\"2\" valign=\"top\">stats</th>\n",
       "      <th>False</th>\n",
       "      <td>[sc]</td>\n",
       "      <td>1</td>\n",
       "    </tr>\n",
       "    <tr>\n",
       "      <th>True</th>\n",
       "      <td>[perc, perc_label]</td>\n",
       "      <td>2</td>\n",
       "    </tr>\n",
       "    <tr>\n",
       "      <th rowspan=\"2\" valign=\"top\">system</th>\n",
       "      <th>False</th>\n",
       "      <td>[Path, abspath, basename, dirname, exists, glo...</td>\n",
       "      <td>9</td>\n",
       "    </tr>\n",
       "    <tr>\n",
       "      <th>True</th>\n",
       "      <td>[backup, basenamenoext, get_datetime, info_nb,...</td>\n",
       "      <td>13</td>\n",
       "    </tr>\n",
       "    <tr>\n",
       "      <th rowspan=\"2\" valign=\"top\">visualization</th>\n",
       "      <th>False</th>\n",
       "      <td>[cycler, plt, sns]</td>\n",
       "      <td>3</td>\n",
       "    </tr>\n",
       "    <tr>\n",
       "      <th>True</th>\n",
       "      <td>[begin_plot, get_colors_default, get_plot_inpu...</td>\n",
       "      <td>5</td>\n",
       "    </tr>\n",
       "    <tr>\n",
       "      <th>workflow</th>\n",
       "      <th>True</th>\n",
       "      <td>[read_metadata]</td>\n",
       "      <td>1</td>\n",
       "    </tr>\n",
       "  </tbody>\n",
       "</table>\n",
       "</div>"
      ],
      "text/plain": [
       "                                                                          list  \\\n",
       "function type      internal                                                      \n",
       "data               False                                   [itertools, np, pd]   \n",
       "                   True      [assert_overlaps_with, dropna, flatten, get_br...   \n",
       "logging            False                      [info, logging, tqdm, watermark]   \n",
       "parallel-pocessing False                                         [pandarallel]   \n",
       "stats              False                                                  [sc]   \n",
       "                   True                                     [perc, perc_label]   \n",
       "system             False     [Path, abspath, basename, dirname, exists, glo...   \n",
       "                   True      [backup, basenamenoext, get_datetime, info_nb,...   \n",
       "visualization      False                                    [cycler, plt, sns]   \n",
       "                   True      [begin_plot, get_colors_default, get_plot_inpu...   \n",
       "workflow           True                                        [read_metadata]   \n",
       "\n",
       "                             nunique  \n",
       "function type      internal           \n",
       "data               False           3  \n",
       "                   True           10  \n",
       "logging            False           4  \n",
       "parallel-pocessing False           1  \n",
       "stats              False           1  \n",
       "                   True            2  \n",
       "system             False           9  \n",
       "                   True           13  \n",
       "visualization      False           3  \n",
       "                   True            5  \n",
       "workflow           True            1  "
      ]
     },
     "execution_count": 4,
     "metadata": {},
     "output_type": "execute_result"
    }
   ],
   "source": [
    "## counts\n",
    "out=df1.log('function name').rd.assert_dense().groupby(['function type','internal'])['function name'].agg([list,'nunique'])\n",
    "out"
   ]
  },
  {
   "cell_type": "code",
   "execution_count": 6,
   "id": "da4e8bad-e541-4d73-a040-5d66618a360b",
   "metadata": {
    "jupyter": {
     "source_hidden": true
    },
    "tags": []
   },
   "outputs": [],
   "source": [
    "# for testing\n",
    "assert out['nunique'].sum()<60, out['nunique'].sum()"
   ]
  },
  {
   "cell_type": "markdown",
   "id": "c45a1b47-4cf0-4ff3-a2a9-7cc7acace6bb",
   "metadata": {
    "jp-MarkdownHeadingCollapsed": true,
    "tags": []
   },
   "source": [
    "### Removing *s post-development\n",
    "\n",
    "#### Requirements\n",
    "\n",
    "    pip install git+https://github.com/rraadd88/removestar.git@nb\n",
    "\n",
    "#### Usage\n",
    "\n",
    "    ## notebooks\n",
    "\n",
    "    $ roux removestar file.ipynb # Shows diff but does not edit file.ipynb\n",
    "\n",
    "    $ roux removestar -i file.ipynb # Edits file.ipynb in-place\n",
    "    \n",
    "#### Example (used for testing)\n",
    "\n",
    "    roux removestar roux_global_imports.ipynb -o tests/removestar.ipynb\n",
    "    \n",
    "It would replace `from roux.global_imports import *` in the example input file to\n",
    "\n",
    "    ## stats functions from roux\n",
    "    from roux.stat.io import perc_label\n",
    "    ## data functions from roux\n",
    "    import roux.lib.dfs as rd # attributes"
   ]
  },
  {
   "cell_type": "markdown",
   "id": "3adb09b0-25c2-4d7b-bf78-3cc8cff077d3",
   "metadata": {
    "tags": []
   },
   "source": [
    "### Documentation\n",
    "[`roux.global_imports`](https://github.com/rraadd88/roux#module-rouxglobal_imports)"
   ]
  }
 ],
 "metadata": {
  "kernelspec": {
   "display_name": "roux",
   "language": "python",
   "name": "roux"
  },
  "language_info": {
   "codemirror_mode": {
    "name": "ipython",
    "version": 3
   },
   "file_extension": ".py",
   "mimetype": "text/x-python",
   "name": "python",
   "nbconvert_exporter": "python",
   "pygments_lexer": "ipython3",
   "version": "3.7.12"
  },
  "toc-showtags": true
 },
 "nbformat": 4,
 "nbformat_minor": 5
}
