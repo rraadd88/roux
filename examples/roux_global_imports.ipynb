{
 "cells": [
  {
   "cell_type": "markdown",
   "id": "85660d82-f7b8-4c4f-a4e3-56f1f49208c6",
   "metadata": {},
   "source": [
    "---\n",
    "\n",
    "<!-- <a href=\"https://github.com/rraadd88/roux/blob/master/examples/roux_global_imports.ipynb\"><img align=\"right\" style=\"float:right;\" src=\"https://img.shields.io/badge/-source-cccccc?style=flat-square\"></a>\n",
    " -->\n",
    "## 🧰 Importing commonly used functions.\n",
    "\n",
    "Usage: in interactive sessions (e.g. in jupyter notebooks) to facilitate faster code development."
   ]
  },
  {
   "cell_type": "markdown",
   "id": "36508627-795e-4294-a728-85a9401eab51",
   "metadata": {},
   "source": [
    "### Usage"
   ]
  },
  {
   "cell_type": "code",
   "execution_count": 1,
   "id": "77e028a7-5851-42da-9756-1b054ffc81ca",
   "metadata": {},
   "outputs": [
    {
     "name": "stderr",
     "output_type": "stream",
     "text": [
      "WARNING:root:ImportError: IProgress not found. Please update jupyter and ipywidgets. See https://ipywidgets.readthedocs.io/en/stable/user_install.html\n",
      "Exception ignored in: <function tqdm.__del__ at 0x12b385240>\n",
      "Traceback (most recent call last):\n",
      "  File \"/Users/rohandandage/micromamba/envs/docs/lib/python3.10/site-packages/tqdm/std.py\", line 1148, in __del__\n",
      "    self.close()\n",
      "  File \"/Users/rohandandage/micromamba/envs/docs/lib/python3.10/site-packages/tqdm/notebook.py\", line 282, in close\n",
      "    self.disp(bar_style='success', check_delay=False)\n",
      "AttributeError: 'tqdm_notebook' object has no attribute 'disp'\n",
      "WARNING:root:IProgress not found. Please update jupyter and ipywidgets. See https://ipywidgets.readthedocs.io/en/stable/user_install.html: IProgress not found. Please update jupyter and ipywidgets. See https://ipywidgets.readthedocs.io/en/stable/user_install.html\n",
      "Exception ignored in: <function tqdm.__del__ at 0x12b385240>\n",
      "Traceback (most recent call last):\n",
      "  File \"/Users/rohandandage/micromamba/envs/docs/lib/python3.10/site-packages/tqdm/std.py\", line 1148, in __del__\n",
      "    self.close()\n",
      "  File \"/Users/rohandandage/micromamba/envs/docs/lib/python3.10/site-packages/tqdm/notebook.py\", line 282, in close\n",
      "    self.disp(bar_style='success', check_delay=False)\n",
      "AttributeError: 'tqdm_notebook' object has no attribute 'disp'\n"
     ]
    }
   ],
   "source": [
    "# import helper functions\n",
    "from roux.global_imports import * #noqa\n",
    "from IPython.display import Markdown as info_nb"
   ]
  },
  {
   "cell_type": "markdown",
   "id": "76054d7f-cd5a-42be-b063-6dea3734fcce",
   "metadata": {},
   "source": [
    "### Example"
   ]
  },
  {
   "cell_type": "code",
   "execution_count": 2,
   "id": "8806aa46-31f3-4b1f-9712-17764fae0386",
   "metadata": {},
   "outputs": [
    {
     "data": {
      "text/markdown": [
       "Convenient functions such as <kbd>function</kbd>[`perc_label`](https://github.com/rraadd88/roux#function-perc_label) are imported: perc_label([True,False,True])=66.7% (2/3)"
      ],
      "text/plain": [
       "<IPython.core.display.Markdown object>"
      ]
     },
     "execution_count": 2,
     "metadata": {},
     "output_type": "execute_result"
    }
   ],
   "source": [
    "function_name='perc_label'\n",
    "info_nb(f\"Convenient functions such as <kbd>function</kbd>[`{function_name}`](https://github.com/rraadd88/roux#function-{function_name}) are imported: perc_label([True,False,True])={perc_label([True,False,True])}\")"
   ]
  },
  {
   "cell_type": "markdown",
   "id": "65f6ddca-dd52-4983-a057-e109c748652b",
   "metadata": {},
   "source": [
    "### Which functions are imported?"
   ]
  },
  {
   "cell_type": "code",
   "execution_count": 3,
   "id": "817356ae-b109-4ee4-8bba-6770786794a6",
   "metadata": {},
   "outputs": [
    {
     "data": {
      "text/html": [
       "<div>\n",
       "<style scoped>\n",
       "    .dataframe tbody tr th:only-of-type {\n",
       "        vertical-align: middle;\n",
       "    }\n",
       "\n",
       "    .dataframe tbody tr th {\n",
       "        vertical-align: top;\n",
       "    }\n",
       "\n",
       "    .dataframe thead th {\n",
       "        text-align: right;\n",
       "    }\n",
       "</style>\n",
       "<table border=\"1\" class=\"dataframe\">\n",
       "  <thead>\n",
       "    <tr style=\"text-align: right;\">\n",
       "      <th></th>\n",
       "      <th>rank</th>\n",
       "      <th>function comment</th>\n",
       "      <th>import statement</th>\n",
       "      <th>internal</th>\n",
       "      <th>function type</th>\n",
       "      <th>attribute</th>\n",
       "      <th>function name</th>\n",
       "    </tr>\n",
       "  </thead>\n",
       "  <tbody>\n",
       "    <tr>\n",
       "      <th>1</th>\n",
       "      <td>2</td>\n",
       "      <td>logging functions</td>\n",
       "      <td>import logging #noqa</td>\n",
       "      <td>False</td>\n",
       "      <td>logging</td>\n",
       "      <td>False</td>\n",
       "      <td>logging</td>\n",
       "    </tr>\n",
       "  </tbody>\n",
       "</table>\n",
       "</div>"
      ],
      "text/plain": [
       "   rank   function comment      import statement  internal function type  \\\n",
       "1     2  logging functions  import logging #noqa     False       logging   \n",
       "\n",
       "   attribute function name  \n",
       "1      False       logging  "
      ]
     },
     "execution_count": 3,
     "metadata": {},
     "output_type": "execute_result"
    }
   ],
   "source": [
    "## function to obtain the metadata\n",
    "from roux.workflow.function import get_global_imports\n",
    "df1=get_global_imports()\n",
    "df1.head(1)"
   ]
  },
  {
   "cell_type": "code",
   "execution_count": 4,
   "id": "82e4ccbf-209b-41f3-9245-70c97eb12119",
   "metadata": {},
   "outputs": [
    {
     "data": {
      "text/html": [
       "<div>\n",
       "<style scoped>\n",
       "    .dataframe tbody tr th:only-of-type {\n",
       "        vertical-align: middle;\n",
       "    }\n",
       "\n",
       "    .dataframe tbody tr th {\n",
       "        vertical-align: top;\n",
       "    }\n",
       "\n",
       "    .dataframe thead th {\n",
       "        text-align: right;\n",
       "    }\n",
       "</style>\n",
       "<table border=\"1\" class=\"dataframe\">\n",
       "  <thead>\n",
       "    <tr style=\"text-align: right;\">\n",
       "      <th></th>\n",
       "      <th></th>\n",
       "      <th>list</th>\n",
       "      <th>nunique</th>\n",
       "    </tr>\n",
       "    <tr>\n",
       "      <th>function type</th>\n",
       "      <th>internal</th>\n",
       "      <th></th>\n",
       "      <th></th>\n",
       "    </tr>\n",
       "  </thead>\n",
       "  <tbody>\n",
       "    <tr>\n",
       "      <th rowspan=\"2\" valign=\"top\">data</th>\n",
       "      <th>False</th>\n",
       "      <td>[np, pd]</td>\n",
       "      <td>2</td>\n",
       "    </tr>\n",
       "    <tr>\n",
       "      <th>True</th>\n",
       "      <td>[assert_overlaps_with, check_non_overlaps_with...</td>\n",
       "      <td>10</td>\n",
       "    </tr>\n",
       "    <tr>\n",
       "      <th>dataframe</th>\n",
       "      <th>True</th>\n",
       "      <td>[rd]</td>\n",
       "      <td>1</td>\n",
       "    </tr>\n",
       "    <tr>\n",
       "      <th>logging</th>\n",
       "      <th>False</th>\n",
       "      <td>[logging, tqdm]</td>\n",
       "      <td>2</td>\n",
       "    </tr>\n",
       "    <tr>\n",
       "      <th>stats</th>\n",
       "      <th>True</th>\n",
       "      <td>[perc, perc_label]</td>\n",
       "      <td>2</td>\n",
       "    </tr>\n",
       "    <tr>\n",
       "      <th rowspan=\"2\" valign=\"top\">system</th>\n",
       "      <th>False</th>\n",
       "      <td>[Path, abspath, basename, dirname, exists, isd...</td>\n",
       "      <td>8</td>\n",
       "    </tr>\n",
       "    <tr>\n",
       "      <th>True</th>\n",
       "      <td>[backup, basenamenoext, get_datetime, is_inter...</td>\n",
       "      <td>13</td>\n",
       "    </tr>\n",
       "    <tr>\n",
       "      <th rowspan=\"2\" valign=\"top\">visualization</th>\n",
       "      <th>False</th>\n",
       "      <td>[plt, sns]</td>\n",
       "      <td>2</td>\n",
       "    </tr>\n",
       "    <tr>\n",
       "      <th>True</th>\n",
       "      <td>[begin_plot, diagram_nb, format_ax, get_colors...</td>\n",
       "      <td>7</td>\n",
       "    </tr>\n",
       "    <tr>\n",
       "      <th>workflow</th>\n",
       "      <th>True</th>\n",
       "      <td>[infer_parameters, print_parameters, read_meta...</td>\n",
       "      <td>4</td>\n",
       "    </tr>\n",
       "  </tbody>\n",
       "</table>\n",
       "</div>"
      ],
      "text/plain": [
       "                                                                     list  \\\n",
       "function type internal                                                      \n",
       "data          False                                              [np, pd]   \n",
       "              True      [assert_overlaps_with, check_non_overlaps_with...   \n",
       "dataframe     True                                                   [rd]   \n",
       "logging       False                                       [logging, tqdm]   \n",
       "stats         True                                     [perc, perc_label]   \n",
       "system        False     [Path, abspath, basename, dirname, exists, isd...   \n",
       "              True      [backup, basenamenoext, get_datetime, is_inter...   \n",
       "visualization False                                            [plt, sns]   \n",
       "              True      [begin_plot, diagram_nb, format_ax, get_colors...   \n",
       "workflow      True      [infer_parameters, print_parameters, read_meta...   \n",
       "\n",
       "                        nunique  \n",
       "function type internal           \n",
       "data          False           2  \n",
       "              True           10  \n",
       "dataframe     True            1  \n",
       "logging       False           2  \n",
       "stats         True            2  \n",
       "system        False           8  \n",
       "              True           13  \n",
       "visualization False           2  \n",
       "              True            7  \n",
       "workflow      True            4  "
      ]
     },
     "execution_count": 4,
     "metadata": {},
     "output_type": "execute_result"
    }
   ],
   "source": [
    "## counts\n",
    "out=df1.log('function name').rd.assert_dense().groupby(['function type','internal'])['function name'].agg([list,'nunique'])\n",
    "out"
   ]
  },
  {
   "cell_type": "code",
   "execution_count": 5,
   "id": "da4e8bad-e541-4d73-a040-5d66618a360b",
   "metadata": {
    "jupyter": {
     "source_hidden": true
    },
    "tags": []
   },
   "outputs": [],
   "source": [
    "# for testing\n",
    "assert out['nunique'].sum()<60, out['nunique'].sum()"
   ]
  },
  {
   "cell_type": "markdown",
   "id": "1fe15957-a3a7-43a5-9160-70e8d74cb999",
   "metadata": {},
   "source": [
    "### Removing *s post-development"
   ]
  },
  {
   "cell_type": "code",
   "execution_count": 6,
   "id": "d2fdef81-e6c0-48e4-9e8a-589b1c3191b0",
   "metadata": {},
   "outputs": [],
   "source": [
    "p='tests/output/plot/plot_saved/plot.py'\n",
    "from pathlib import Path\n",
    "if not Path(p).exists():\n",
    "    import sys\n",
    "    sys.exit(1)"
   ]
  },
  {
   "cell_type": "code",
   "execution_count": 7,
   "id": "c62653af-8919-4062-bbe7-f5d75e02699c",
   "metadata": {},
   "outputs": [
    {
     "name": "stdout",
     "output_type": "stream",
     "text": [
      "All checks passed!\n",
      "1 file reformatted\n",
      "\n"
     ]
    },
    {
     "data": {
      "text/plain": [
       "'tests/output/replacestar_using_ruff.py'"
      ]
     },
     "execution_count": 7,
     "metadata": {},
     "output_type": "execute_result"
    }
   ],
   "source": [
    "from roux.workflow.io import replacestar_ruff\n",
    "replacestar_ruff(\n",
    "    p,\n",
    "    outp='tests/output/replacestar_using_ruff.py',\n",
    ")"
   ]
  },
  {
   "cell_type": "markdown",
   "id": "c45a1b47-4cf0-4ff3-a2a9-7cc7acace6bb",
   "metadata": {
    "jp-MarkdownHeadingCollapsed": true,
    "tags": []
   },
   "source": [
    "#### Requirements\n",
    "\n",
    "    pip install git+https://github.com/rraadd88/removestar.git@nb\n",
    "\n",
    "#### Usage\n",
    "\n",
    "    ## notebooks\n",
    "\n",
    "    $ roux removestar file.ipynb # Shows diff but does not edit file.ipynb\n",
    "\n",
    "    $ roux removestar -i file.ipynb # Edits file.ipynb in-place\n",
    "    \n",
    "#### Example (used for testing)\n",
    "\n",
    "    roux removestar roux_global_imports.ipynb -o tests/removestar.ipynb\n",
    "    \n",
    "It would replace `from roux.global_imports import *` in the example input file to\n",
    "\n",
    "    ## stats functions from roux\n",
    "    from roux.stat.io import perc_label\n",
    "    ## data functions from roux\n",
    "    import roux.lib.dfs as rd # attributes"
   ]
  },
  {
   "cell_type": "markdown",
   "id": "3adb09b0-25c2-4d7b-bf78-3cc8cff077d3",
   "metadata": {
    "tags": []
   },
   "source": [
    "### Documentation\n",
    "[`roux.global_imports`](https://github.com/rraadd88/roux#module-rouxglobal_imports)"
   ]
  }
 ],
 "metadata": {
  "kernelspec": {
   "display_name": "docs",
   "language": "python",
   "name": "docs"
  },
  "language_info": {
   "codemirror_mode": {
    "name": "ipython",
    "version": 3
   },
   "file_extension": ".py",
   "mimetype": "text/x-python",
   "name": "python",
   "nbconvert_exporter": "python",
   "pygments_lexer": "ipython3",
   "version": "3.10.14"
  },
  "toc-showtags": true
 },
 "nbformat": 4,
 "nbformat_minor": 5
}
