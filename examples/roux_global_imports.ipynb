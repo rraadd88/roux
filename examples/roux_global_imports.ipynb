{
 "cells": [
  {
   "cell_type": "markdown",
   "id": "85660d82-f7b8-4c4f-a4e3-56f1f49208c6",
   "metadata": {},
   "source": [
    "---\n",
    "\n",
    "<!-- <a href=\"https://github.com/rraadd88/roux/blob/master/examples/roux_global_imports.ipynb\"><img align=\"right\" style=\"float:right;\" src=\"https://img.shields.io/badge/-source-cccccc?style=flat-square\"></a>\n",
    " -->\n",
    "## Importing commonly used helper functions.\n",
    "\n",
    "For use in jupyter notebooks, for example."
   ]
  },
  {
   "cell_type": "markdown",
   "id": "36508627-795e-4294-a728-85a9401eab51",
   "metadata": {},
   "source": [
    "### Usage"
   ]
  },
  {
   "cell_type": "code",
   "execution_count": 1,
   "id": "77e028a7-5851-42da-9756-1b054ffc81ca",
   "metadata": {},
   "outputs": [
    {
     "name": "stdout",
     "output_type": "stream",
     "text": [
      "The history saving thread hit an unexpected error (DatabaseError('database disk image is malformed')).History will not be written to the database.\n"
     ]
    },
    {
     "data": {
      "application/vnd.jupyter.widget-view+json": {
       "model_id": "43f505563e3c4a3e94582c008e6ffc8f",
       "version_major": 2,
       "version_minor": 0
      },
      "text/plain": [
       "0it [00:00, ?it/s]"
      ]
     },
     "metadata": {},
     "output_type": "display_data"
    },
    {
     "name": "stderr",
     "output_type": "stream",
     "text": [
      "INFO:root:Python implementation: CPython\n",
      "Python version       : 3.7.13\n",
      "IPython version      : 7.34.0\n",
      "scipy     : 1.7.3\n",
      "seaborn   : 0.12.1\n",
      "numpy     : 1.21.6\n",
      "tqdm      : 4.64.1\n",
      "matplotlib: 3.5.3\n",
      "sys       : 3.7.13 (default, Mar 29 2022, 02:18:16) \n",
      "[GCC 7.5.0]\n",
      "logging   : 0.5.1.2\n",
      "pandas    : 1.3.5\n",
      "re        : 2.2.1\n",
      "\n"
     ]
    },
    {
     "name": "stdout",
     "output_type": "stream",
     "text": [
      "INFO: Pandarallel will run on 6 workers.\n",
      "INFO: Pandarallel will use standard multiprocessing data transfer (pipe) to transfer data between the main process and workers.\n"
     ]
    }
   ],
   "source": [
    "# import helper functions\n",
    "from roux.global_imports import *"
   ]
  },
  {
   "cell_type": "markdown",
   "id": "3adb09b0-25c2-4d7b-bf78-3cc8cff077d3",
   "metadata": {
    "tags": []
   },
   "source": [
    "### Documentation\n",
    "[`roux.global_imports`](https://github.com/rraadd88/roux#module-roux.global_imports)"
   ]
  },
  {
   "cell_type": "markdown",
   "id": "e9bf5f7b-bbcb-4ffe-ae03-3e9a9703af1a",
   "metadata": {},
   "source": [
    "For details on `roux.global_imports` such as which helper functions are imported, see [`detailed_roux_global_imports.ipynb`](https://github.com/rraadd88/roux/blob/master/examples/detailed_roux_global_imports.ipynb)."
   ]
  }
 ],
 "metadata": {
  "kernelspec": {
   "display_name": "test",
   "language": "python",
   "name": "test"
  },
  "language_info": {
   "codemirror_mode": {
    "name": "ipython",
    "version": 3
   },
   "file_extension": ".py",
   "mimetype": "text/x-python",
   "name": "python",
   "nbconvert_exporter": "python",
   "pygments_lexer": "ipython3",
   "version": "3.7.13"
  },
  "toc-showtags": true
 },
 "nbformat": 4,
 "nbformat_minor": 5
}
