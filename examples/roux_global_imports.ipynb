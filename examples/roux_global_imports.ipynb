{
 "cells": [
  {
   "cell_type": "markdown",
   "id": "85660d82-f7b8-4c4f-a4e3-56f1f49208c6",
   "metadata": {},
   "source": [
    "---\n",
    "\n",
    "<!-- <a href=\"https://github.com/rraadd88/roux/blob/master/examples/roux_global_imports.ipynb\"><img align=\"right\" style=\"float:right;\" src=\"https://img.shields.io/badge/-source-cccccc?style=flat-square\"></a>\n",
    " -->\n",
    "## 🧰 Importing commonly used functions.\n",
    "\n",
    "Usage: in interactive sessions (e.g. in jupyter notebooks) to facilitate faster code development."
   ]
  },
  {
   "cell_type": "markdown",
   "id": "36508627-795e-4294-a728-85a9401eab51",
   "metadata": {},
   "source": [
    "### Usage"
   ]
  },
  {
   "cell_type": "code",
   "execution_count": 1,
   "id": "77e028a7-5851-42da-9756-1b054ffc81ca",
   "metadata": {},
   "outputs": [
    {
     "data": {
      "application/vnd.jupyter.widget-view+json": {
       "model_id": "549a494c72654117bbd86a42c176d61b",
       "version_major": 2,
       "version_minor": 0
      },
      "text/plain": [
       "0it [00:00, ?it/s]"
      ]
     },
     "metadata": {},
     "output_type": "display_data"
    },
    {
     "name": "stderr",
     "output_type": "stream",
     "text": [
      "INFO:root:Python implementation: CPython\n",
      "Python version       : 3.7.12\n",
      "IPython version      : 6.5.0\n",
      "matplotlib: 3.5.3\n",
      "seaborn   : 0.12.2\n",
      "tqdm      : 4.65.0\n",
      "pandas    : 1.3.5\n",
      "roux      : 0.0.8\n",
      "scipy     : 1.7.3\n",
      "sys       : 3.7.12 | packaged by conda-forge | (default, Oct 26 2021, 06:08:53) \n",
      "[GCC 9.4.0]\n",
      "logging   : 0.5.1.2\n",
      "\n"
     ]
    },
    {
     "name": "stdout",
     "output_type": "stream",
     "text": [
      "INFO: Pandarallel will run on 6 workers.\n",
      "INFO: Pandarallel will use standard multiprocessing data transfer (pipe) to transfer data between the main process and workers.\n"
     ]
    }
   ],
   "source": [
    "# import helper functions\n",
    "from roux.global_imports import *"
   ]
  },
  {
   "cell_type": "markdown",
   "id": "76054d7f-cd5a-42be-b063-6dea3734fcce",
   "metadata": {},
   "source": [
    "### Example"
   ]
  },
  {
   "cell_type": "code",
   "execution_count": 2,
   "id": "8806aa46-31f3-4b1f-9712-17764fae0386",
   "metadata": {},
   "outputs": [
    {
     "data": {
      "text/markdown": [
       "Convenient functions such as <kbd>function</kbd>[`perc_label`](https://github.com/rraadd88/roux#function-perc_label) are imported: perc_label([True,False,True])=66.7% (2/3)"
      ],
      "text/plain": [
       "<IPython.core.display.Markdown object>"
      ]
     },
     "execution_count": 2,
     "metadata": {},
     "output_type": "execute_result"
    }
   ],
   "source": [
    "function_name='perc_label'\n",
    "info_nb(f\"Convenient functions such as <kbd>function</kbd>[`{function_name}`](https://github.com/rraadd88/roux#function-{function_name}) are imported: perc_label([True,False,True])={perc_label([True,False,True])}\")"
   ]
  },
  {
   "cell_type": "markdown",
   "id": "65f6ddca-dd52-4983-a057-e109c748652b",
   "metadata": {},
   "source": [
    "### Which functions are imported?"
   ]
  },
  {
   "cell_type": "code",
   "execution_count": 3,
   "id": "817356ae-b109-4ee4-8bba-6770786794a6",
   "metadata": {},
   "outputs": [],
   "source": [
    "## function to obtain the metadata\n",
    "from roux.workflow.function import get_global_imports\n",
    "df1=get_global_imports()"
   ]
  },
  {
   "cell_type": "code",
   "execution_count": 4,
   "id": "82e4ccbf-209b-41f3-9245-70c97eb12119",
   "metadata": {},
   "outputs": [
    {
     "name": "stderr",
     "output_type": "stream",
     "text": [
      "INFO:root:shape = (44, 7) nunique: function name = 44\n"
     ]
    },
    {
     "data": {
      "text/html": [
       "<div>\n",
       "<style scoped>\n",
       "    .dataframe tbody tr th:only-of-type {\n",
       "        vertical-align: middle;\n",
       "    }\n",
       "\n",
       "    .dataframe tbody tr th {\n",
       "        vertical-align: top;\n",
       "    }\n",
       "\n",
       "    .dataframe thead th {\n",
       "        text-align: right;\n",
       "    }\n",
       "</style>\n",
       "<table border=\"1\" class=\"dataframe\">\n",
       "  <thead>\n",
       "    <tr style=\"text-align: right;\">\n",
       "      <th></th>\n",
       "      <th></th>\n",
       "      <th>list</th>\n",
       "      <th>nunique</th>\n",
       "    </tr>\n",
       "    <tr>\n",
       "      <th>function type</th>\n",
       "      <th>internal</th>\n",
       "      <th></th>\n",
       "      <th></th>\n",
       "    </tr>\n",
       "  </thead>\n",
       "  <tbody>\n",
       "    <tr>\n",
       "      <th rowspan=\"2\" valign=\"top\">data</th>\n",
       "      <th>False</th>\n",
       "      <td>[pd]</td>\n",
       "      <td>1</td>\n",
       "    </tr>\n",
       "    <tr>\n",
       "      <th>True</th>\n",
       "      <td>[dropna, flatten, get_bracket, get_prefix, get...</td>\n",
       "      <td>7</td>\n",
       "    </tr>\n",
       "    <tr>\n",
       "      <th>logging</th>\n",
       "      <th>False</th>\n",
       "      <td>[info, logging, tqdm, watermark]</td>\n",
       "      <td>4</td>\n",
       "    </tr>\n",
       "    <tr>\n",
       "      <th>parallel-pocessing</th>\n",
       "      <th>False</th>\n",
       "      <td>[pandarallel]</td>\n",
       "      <td>1</td>\n",
       "    </tr>\n",
       "    <tr>\n",
       "      <th>stats</th>\n",
       "      <th>False</th>\n",
       "      <td>[perc, perc_label, sc]</td>\n",
       "      <td>3</td>\n",
       "    </tr>\n",
       "    <tr>\n",
       "      <th rowspan=\"2\" valign=\"top\">system</th>\n",
       "      <th>False</th>\n",
       "      <td>[abspath, basename, dirname, exists, glob, isd...</td>\n",
       "      <td>8</td>\n",
       "    </tr>\n",
       "    <tr>\n",
       "      <th>True</th>\n",
       "      <td>[basenamenoext, get_datetime, info_nb, is_inte...</td>\n",
       "      <td>12</td>\n",
       "    </tr>\n",
       "    <tr>\n",
       "      <th rowspan=\"2\" valign=\"top\">visualization</th>\n",
       "      <th>False</th>\n",
       "      <td>[cycler, plt, sns]</td>\n",
       "      <td>3</td>\n",
       "    </tr>\n",
       "    <tr>\n",
       "      <th>True</th>\n",
       "      <td>[begin_plot, get_colors_default, read_plot, to...</td>\n",
       "      <td>4</td>\n",
       "    </tr>\n",
       "    <tr>\n",
       "      <th>workflow</th>\n",
       "      <th>True</th>\n",
       "      <td>[read_metadata]</td>\n",
       "      <td>1</td>\n",
       "    </tr>\n",
       "  </tbody>\n",
       "</table>\n",
       "</div>"
      ],
      "text/plain": [
       "                                                                          list  \\\n",
       "function type      internal                                                      \n",
       "data               False                                                  [pd]   \n",
       "                   True      [dropna, flatten, get_bracket, get_prefix, get...   \n",
       "logging            False                      [info, logging, tqdm, watermark]   \n",
       "parallel-pocessing False                                         [pandarallel]   \n",
       "stats              False                                [perc, perc_label, sc]   \n",
       "system             False     [abspath, basename, dirname, exists, glob, isd...   \n",
       "                   True      [basenamenoext, get_datetime, info_nb, is_inte...   \n",
       "visualization      False                                    [cycler, plt, sns]   \n",
       "                   True      [begin_plot, get_colors_default, read_plot, to...   \n",
       "workflow           True                                        [read_metadata]   \n",
       "\n",
       "                             nunique  \n",
       "function type      internal           \n",
       "data               False           1  \n",
       "                   True            7  \n",
       "logging            False           4  \n",
       "parallel-pocessing False           1  \n",
       "stats              False           3  \n",
       "system             False           8  \n",
       "                   True           12  \n",
       "visualization      False           3  \n",
       "                   True            4  \n",
       "workflow           True            1  "
      ]
     },
     "execution_count": 4,
     "metadata": {},
     "output_type": "execute_result"
    }
   ],
   "source": [
    "## counts\n",
    "df1.log('function name').rd.assert_dense().groupby(['function type','internal'])['function name'].agg([list,'nunique'])"
   ]
  },
  {
   "cell_type": "markdown",
   "id": "c45a1b47-4cf0-4ff3-a2a9-7cc7acace6bb",
   "metadata": {
    "jp-MarkdownHeadingCollapsed": true,
    "tags": []
   },
   "source": [
    "### Removing *s post-development\n",
    "\n",
    "#### Requirements\n",
    "\n",
    "    pip install git+https://github.com/rraadd88/removestar.git@nb\n",
    "\n",
    "#### Usage\n",
    "\n",
    "    ## notebooks\n",
    "\n",
    "    $ roux removestar file.ipynb # Shows diff but does not edit file.ipynb\n",
    "\n",
    "    $ roux removestar -i file.ipynb # Edits file.ipynb in-place\n",
    "    \n",
    "#### Example (used for testing)\n",
    "\n",
    "    roux removestar roux_global_imports.ipynb -o tests/removestar.ipynb\n",
    "    \n",
    "It would replace `from roux.global_imports import *` in the example input file to\n",
    "\n",
    "    ## stats functions from roux\n",
    "    from roux.stat.io import perc_label\n",
    "    ## data functions from roux\n",
    "    import roux.lib.dfs as rd # attributes"
   ]
  },
  {
   "cell_type": "markdown",
   "id": "3adb09b0-25c2-4d7b-bf78-3cc8cff077d3",
   "metadata": {
    "tags": []
   },
   "source": [
    "### Documentation\n",
    "[`roux.global_imports`](https://github.com/rraadd88/roux#module-rouxglobal_imports)"
   ]
  }
 ],
 "metadata": {
  "kernelspec": {
   "display_name": "roux",
   "language": "python",
   "name": "roux"
  },
  "language_info": {
   "codemirror_mode": {
    "name": "ipython",
    "version": 3
   },
   "file_extension": ".py",
   "mimetype": "text/x-python",
   "name": "python",
   "nbconvert_exporter": "python",
   "pygments_lexer": "ipython3",
   "version": "3.7.12"
  },
  "toc-showtags": true
 },
 "nbformat": 4,
 "nbformat_minor": 5
}
