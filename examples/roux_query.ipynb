{
 "cells": [
  {
   "cell_type": "markdown",
   "id": "31cce9a5-d2ef-43f2-b518-97d1d5e04103",
   "metadata": {},
   "source": [
    "## Requirements"
   ]
  },
  {
   "cell_type": "code",
   "execution_count": 3,
   "id": "3396e1fa-64d9-4417-bf16-f44205ccd472",
   "metadata": {},
   "outputs": [],
   "source": [
    "# installing the required roux subpackage\n",
    "!pip install roux[query]"
   ]
  },
  {
   "cell_type": "markdown",
   "id": "9053e202-ff08-47ac-9d89-9dadd0481a15",
   "metadata": {},
   "source": [
    "## Example: fetching data from Biomart \n",
    "\n",
    "Potentially time-saving (or not) wrapper around `pybiomart`."
   ]
  },
  {
   "cell_type": "code",
   "execution_count": 4,
   "id": "bae7152d-8abc-4475-bf34-29457308c591",
   "metadata": {},
   "outputs": [],
   "source": [
    "from roux.query.biomart import query\n",
    "df01=query(\n",
    "      species='homo sapiens',\n",
    "      release=100,\n",
    "      attributes=['ensembl_gene_id','percentage_gene_gc_content','hgnc_symbol','transcript_count','transcript_length'],\n",
    "      filters={'biotype':['protein_coding'],},\n",
    ")"
   ]
  },
  {
   "cell_type": "code",
   "execution_count": null,
   "id": "45489597-aa1b-4ff0-862f-d3afbf7cf434",
   "metadata": {},
   "outputs": [],
   "source": [
    "df01.head(1)"
   ]
  },
  {
   "cell_type": "code",
   "execution_count": null,
   "id": "8aaf6d44-65fc-4065-b85c-9de6d3a4436b",
   "metadata": {
    "tags": [
     "to_table"
    ]
   },
   "outputs": [],
   "source": [
    "from roux.lib.io import to_table\n",
    "to_table(df01,'tests/output/data/biomart/00_raw.tsv')"
   ]
  },
  {
   "cell_type": "markdown",
   "id": "7ff84451-31c2-4285-a35a-b2d4d9af14ec",
   "metadata": {},
   "source": [
    "## Documentation\n",
    "[`roux.query.biomart`](https://github.com/rraadd88/roux/wiki/roux.query#rouxquerybiomart-module)"
   ]
  }
 ],
 "metadata": {
  "kernelspec": {
   "display_name": "gint",
   "language": "python",
   "name": "gint"
  },
  "language_info": {
   "codemirror_mode": {
    "name": "ipython",
    "version": 3
   },
   "file_extension": ".py",
   "mimetype": "text/x-python",
   "name": "python",
   "nbconvert_exporter": "python",
   "pygments_lexer": "ipython3",
   "version": "3.7.9"
  }
 },
 "nbformat": 4,
 "nbformat_minor": 5
}
