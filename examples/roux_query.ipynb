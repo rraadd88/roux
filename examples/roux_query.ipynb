{
 "cells": [
  {
   "cell_type": "markdown",
   "id": "31cce9a5-d2ef-43f2-b518-97d1d5e04103",
   "metadata": {},
   "source": [
    "## Requirements"
   ]
  },
  {
   "cell_type": "code",
   "execution_count": null,
   "id": "3396e1fa-64d9-4417-bf16-f44205ccd472",
   "metadata": {},
   "outputs": [],
   "source": [
    "# installing the required roux subpackage\n",
    "!pip install roux[query]"
   ]
  },
  {
   "cell_type": "markdown",
   "id": "9053e202-ff08-47ac-9d89-9dadd0481a15",
   "metadata": {},
   "source": [
    "## Example: fetching data from Biomart \n",
    "\n",
    "Potentially time-saving (or not) wrapper around `pybiomart`."
   ]
  },
  {
   "cell_type": "code",
   "execution_count": 10,
   "id": "bae7152d-8abc-4475-bf34-29457308c591",
   "metadata": {},
   "outputs": [
    {
     "name": "stderr",
     "output_type": "stream",
     "text": [
      "INFO:root:hsapiens_gene_ensembl version: 100 is used\n"
     ]
    }
   ],
   "source": [
    "from roux.query.biomart import query\n",
    "df01=query(\n",
    "      species='homo sapiens',\n",
    "      release=100,\n",
    "      attributes=['ensembl_gene_id','percentage_gene_gc_content','hgnc_symbol','transcript_count','transcript_length'],\n",
    "      filters={'biotype':['protein_coding'],},\n",
    ")"
   ]
  },
  {
   "cell_type": "code",
   "execution_count": 11,
   "id": "45489597-aa1b-4ff0-862f-d3afbf7cf434",
   "metadata": {},
   "outputs": [
    {
     "data": {
      "text/html": [
       "<div>\n",
       "<style scoped>\n",
       "    .dataframe tbody tr th:only-of-type {\n",
       "        vertical-align: middle;\n",
       "    }\n",
       "\n",
       "    .dataframe tbody tr th {\n",
       "        vertical-align: top;\n",
       "    }\n",
       "\n",
       "    .dataframe thead th {\n",
       "        text-align: right;\n",
       "    }\n",
       "</style>\n",
       "<table border=\"1\" class=\"dataframe\">\n",
       "  <thead>\n",
       "    <tr style=\"text-align: right;\">\n",
       "      <th></th>\n",
       "      <th>Gene stable ID</th>\n",
       "      <th>HGNC symbol</th>\n",
       "      <th>Gene % GC content</th>\n",
       "      <th>Transcript count</th>\n",
       "      <th>Transcript length (including UTRs and CDS)</th>\n",
       "    </tr>\n",
       "  </thead>\n",
       "  <tbody>\n",
       "    <tr>\n",
       "      <th>0</th>\n",
       "      <td>ENSG00000198888</td>\n",
       "      <td>MT-ND1</td>\n",
       "      <td>47.7</td>\n",
       "      <td>1</td>\n",
       "      <td>956</td>\n",
       "    </tr>\n",
       "  </tbody>\n",
       "</table>\n",
       "</div>"
      ],
      "text/plain": [
       "    Gene stable ID HGNC symbol  Gene % GC content  Transcript count  \\\n",
       "0  ENSG00000198888      MT-ND1               47.7                 1   \n",
       "\n",
       "   Transcript length (including UTRs and CDS)  \n",
       "0                                         956  "
      ]
     },
     "execution_count": 11,
     "metadata": {},
     "output_type": "execute_result"
    }
   ],
   "source": [
    "df01.head(1)"
   ]
  },
  {
   "cell_type": "code",
   "execution_count": 14,
   "id": "8aaf6d44-65fc-4065-b85c-9de6d3a4436b",
   "metadata": {},
   "outputs": [
    {
     "data": {
      "text/plain": [
       "'data/biomart/00_raw.tsv'"
      ]
     },
     "execution_count": 14,
     "metadata": {},
     "output_type": "execute_result"
    }
   ],
   "source": [
    "from roux.lib.io import to_table\n",
    "to_table(df01,'data/biomart/00_raw.tsv')"
   ]
  },
  {
   "cell_type": "markdown",
   "id": "7ff84451-31c2-4285-a35a-b2d4d9af14ec",
   "metadata": {},
   "source": [
    "## Documentation\n",
    "[`roux.query.biomart`](https://github.com/rraadd88/roux/wiki/roux.query#rouxquerybiomart-module)"
   ]
  }
 ],
 "metadata": {
  "kernelspec": {
   "display_name": "test",
   "language": "python",
   "name": "test"
  },
  "language_info": {
   "codemirror_mode": {
    "name": "ipython",
    "version": 3
   },
   "file_extension": ".py",
   "mimetype": "text/x-python",
   "name": "python",
   "nbconvert_exporter": "python",
   "pygments_lexer": "ipython3",
   "version": "3.7.10"
  }
 },
 "nbformat": 4,
 "nbformat_minor": 5
}
