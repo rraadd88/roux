{
 "cells": [
  {
   "cell_type": "markdown",
   "id": "68803c02-8d28-4e0c-a1bd-4a228a64f618",
   "metadata": {},
   "source": [
    "---\n",
    "\n",
    "<!-- <a href=\"https://github.com/rraadd88/roux/blob/master/examples/roux_stat_norm.ipynb\"><img align=\"right\" style=\"float:right;\" src=\"https://img.shields.io/badge/-source-cccccc?style=flat-square\"></a>\n",
    " -->\n",
    " \n",
    "## 📊 Data normalization."
   ]
  },
  {
   "cell_type": "code",
   "execution_count": 1,
   "id": "df3054e2-adc5-4a66-bb17-92706b67d386",
   "metadata": {},
   "outputs": [],
   "source": [
    "# install extra requirements\n",
    "# !pip install roux[stat]\n",
    "# loading non-roux requirements\n",
    "import numpy as np"
   ]
  },
  {
   "cell_type": "code",
   "execution_count": 2,
   "id": "4f9bba68-640b-49e5-bc25-baedb5fd9a09",
   "metadata": {},
   "outputs": [],
   "source": [
    "## random state\n",
    "np.random.seed(1)"
   ]
  },
  {
   "cell_type": "markdown",
   "id": "fcc3debc-f2ec-434d-acbd-56d5b5fd935a",
   "metadata": {},
   "source": [
    "**Functions for the demo**"
   ]
  },
  {
   "cell_type": "code",
   "execution_count": 3,
   "id": "1123842d-fc01-4f7b-9f9d-12aa7704c05f",
   "metadata": {},
   "outputs": [],
   "source": [
    "def plot_(\n",
    "    x,\n",
    "    xt,\n",
    "    ):\n",
    "    import matplotlib.pyplot as plt\n",
    "    fig,axs=plt.subplots(1,2,figsize=[5,2])\n",
    "    ax=axs[0]\n",
    "    for label,a in zip(\n",
    "            ['before','after'],\n",
    "            [x,xt],\n",
    "        ):\n",
    "        ax.hist(\n",
    "            a,\n",
    "            bins=50, \n",
    "            alpha=0.75,\n",
    "            label=label,\n",
    "        )\n",
    "    ax.legend()\n",
    "\n",
    "    ax=axs[1]\n",
    "    ax.scatter(\n",
    "        x=x,\n",
    "        y=xt,\n",
    "    )"
   ]
  },
  {
   "cell_type": "code",
   "execution_count": 4,
   "id": "8cb8acc5-aea7-411f-ad8f-31b21f65ecce",
   "metadata": {},
   "outputs": [],
   "source": [
    "from roux.stat.norm import to_norm"
   ]
  },
  {
   "cell_type": "code",
   "execution_count": 5,
   "id": "3297b39e-bcfb-47cb-97ea-b4d51ee8d8a0",
   "metadata": {},
   "outputs": [
    {
     "data": {
      "image/png": "[encoded data removed]",
      "text/plain": [
       "<Figure size 500x200 with 2 Axes>"
      ]
     },
     "metadata": {},
     "output_type": "display_data"
    }
   ],
   "source": [
    "for x in [\n",
    "    np.hstack(([0],np.random.uniform(0, 1,1000),[1])),\n",
    "    ]:\n",
    "    xt=to_norm(\n",
    "        x=x,\n",
    "    )\n",
    "    plot_(x,xt)"
   ]
  },
  {
   "cell_type": "markdown",
   "id": "b50332c7-89b0-4be5-a8e4-f3d12a169aba",
   "metadata": {
    "tags": []
   },
   "source": [
    "## Documentation\n",
    "[`roux.stat.sets`](https://github.com/rraadd88/roux#module-rouxstatnorm)"
   ]
  }
 ],
 "metadata": {
  "kernelspec": {
   "display_name": "datasets",
   "language": "python",
   "name": "datasets"
  },
  "language_info": {
   "codemirror_mode": {
    "name": "ipython",
    "version": 3
   },
   "file_extension": ".py",
   "mimetype": "text/x-python",
   "name": "python",
   "nbconvert_exporter": "python",
   "pygments_lexer": "ipython3",
   "version": "3.10.8"
  }
 },
 "nbformat": 4,
 "nbformat_minor": 5
}
