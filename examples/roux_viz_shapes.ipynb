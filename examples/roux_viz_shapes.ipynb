{
 "cells": [
  {
   "cell_type": "markdown",
   "id": "ec2c46be-0cab-43ef-a76a-8be7847259e4",
   "metadata": {
    "editable": true,
    "slideshow": {
     "slide_type": ""
    },
    "tags": []
   },
   "source": [
    "---\n",
    "\n",
    "<!-- <a href=\"https://github.com/rraadd88/roux/blob/master/examples/roux_viz_shapes.ipynb\"><img align=\"right\" style=\"float:right;\" src=\"https://img.shields.io/badge/-source-cccccc?style=flat-square\"></a>\n",
    " -->\n",
    " \n",
    "## 📈 Shapes."
   ]
  },
  {
   "cell_type": "code",
   "execution_count": 1,
   "id": "b266c366-7fbd-4e6e-aeb0-67ff691d7f3f",
   "metadata": {},
   "outputs": [],
   "source": [
    "# | default_exp shapes"
   ]
  },
  {
   "cell_type": "code",
   "execution_count": 2,
   "id": "aaf868be-89d4-4814-9302-9153286aface",
   "metadata": {},
   "outputs": [],
   "source": [
    "# | export\n",
    "\"\"\"shapes of plotting functions.\"\"\"\n",
    "\n",
    "import matplotlib.pyplot as plt\n",
    "import numpy as np\n",
    "def get_patch_centroids(\n",
    "    patch_collection\n",
    "    ):\n",
    "    \"\"\"\n",
    "    Calculates the centroids for each patch in a PatchCollection.\n",
    "\n",
    "    Args:\n",
    "        patch_collection: A matplotlib.collections.PatchCollection object.\n",
    "\n",
    "    Returns:\n",
    "        A numpy array of shape (N, 2) where N is the number of patches,\n",
    "        containing the (x, y) coordinates of each patch's centroid.\n",
    "    \"\"\"\n",
    "    centroids = []\n",
    "\n",
    "    # Get the offsets, which are the base coordinates for each patch\n",
    "    offsets = patch_collection.get_offsets()\n",
    "\n",
    "    # Get the paths. Note that get_paths() returns the Path objects\n",
    "    # for the collection, not the individual patches. These are typically\n",
    "    # a set of base paths (e.g., a unit circle) that are then transformed\n",
    "    # and offset for each patch.\n",
    "    paths = patch_collection.get_paths()\n",
    "    if not offsets.any() and paths:\n",
    "        # If there are no offsets, patches are defined by their path vertices directly\n",
    "        for path in paths:\n",
    "            vertices = path.vertices\n",
    "            centroid = np.mean(vertices, axis=0)\n",
    "            centroids.append(centroid)\n",
    "    elif offsets.any() and paths:\n",
    "        # This is the common case where a base path (e.g., a unit circle)\n",
    "        # is offset for each patch\n",
    "        base_path_vertices = paths[0].vertices  # Assume one base path\n",
    "        base_centroid = np.mean(base_path_vertices, axis=0)\n",
    "        \n",
    "        # The centroid of each patch is the base centroid + its offset\n",
    "        centroids = offsets + base_centroid\n",
    "    else:\n",
    "        # Fallback for simpler patches that have a get_center() method\n",
    "        for patch in patch_collection.patches:\n",
    "            if hasattr(patch, 'get_center'):\n",
    "                centroids.append(patch.get_center())\n",
    "            else:\n",
    "                # For more complex patches, we can use the bounding box center\n",
    "                bbox = patch.get_path().get_extents(patch.get_transform())\n",
    "                centroids.append(bbox.get_points().mean(axis=0))\n",
    "\n",
    "    return np.array(centroids).mean(axis=0)"
   ]
  },
  {
   "cell_type": "markdown",
   "id": "60b125fe-69b3-46f5-b62d-f6c1714a9d67",
   "metadata": {},
   "source": [
    "## Outputs"
   ]
  },
  {
   "cell_type": "code",
   "execution_count": 3,
   "id": "86e17ea5-fe1e-4269-8cd8-908d360c3cb8",
   "metadata": {},
   "outputs": [],
   "source": [
    "import nbdev\n",
    "nbdev.export.nb_export(\n",
    "    'roux_viz_shapes.ipynb',\n",
    "    lib_path='../roux/viz/'\n",
    ")"
   ]
  },
  {
   "cell_type": "markdown",
   "id": "7ff84451-31c2-4285-a35a-b2d4d9af14ec",
   "metadata": {},
   "source": [
    "### Documentation\n",
    "[`roux.viz.shapes`](https://github.com/rraadd88/roux#module-rouxvizline)"
   ]
  }
 ],
 "metadata": {
  "kernelspec": {
   "display_name": "roux",
   "language": "python",
   "name": "roux"
  },
  "language_info": {
   "codemirror_mode": {
    "name": "ipython",
    "version": 3
   },
   "file_extension": ".py",
   "mimetype": "text/x-python",
   "name": "python",
   "nbconvert_exporter": "python",
   "pygments_lexer": "ipython3",
   "version": "3.10.17"
  }
 },
 "nbformat": 4,
 "nbformat_minor": 5
}
