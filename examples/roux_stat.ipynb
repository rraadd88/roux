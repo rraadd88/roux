{
 "cells": [
  {
   "cell_type": "markdown",
   "id": "b5466753-c3c7-4a32-bec1-32f148d99171",
   "metadata": {},
   "source": [
    "## Requirements"
   ]
  },
  {
   "cell_type": "code",
   "execution_count": null,
   "id": "83852242-61b0-4975-87b7-e70cf54a9cf6",
   "metadata": {},
   "outputs": [],
   "source": [
    "# installing the required roux subpackage\n",
    "!pip install roux[stat]"
   ]
  },
  {
   "cell_type": "markdown",
   "id": "9c68a930-e347-4784-97d3-367008bc8656",
   "metadata": {},
   "source": [
    "## Example: Demo data"
   ]
  },
  {
   "cell_type": "code",
   "execution_count": 8,
   "id": "1bc8c62b-5b7a-4b96-9c93-61dfaed368a0",
   "metadata": {},
   "outputs": [
    {
     "name": "stderr",
     "output_type": "stream",
     "text": [
      "WARNING:root:dropped columns: Unnamed: 0\n",
      "INFO:root:shape = (167181, 5)\n"
     ]
    }
   ],
   "source": [
    "from roux.lib.io import read_table,to_table\n",
    "## reading a table generated using the roux_query.ipynb notebook\n",
    "df01=read_table('tests/output/data/biomart/00_raw.tsv')"
   ]
  },
  {
   "cell_type": "code",
   "execution_count": 9,
   "id": "88f6606e-9f89-4342-9deb-474908f6ac0f",
   "metadata": {},
   "outputs": [],
   "source": [
    "from roux.lib.io import *"
   ]
  },
  {
   "cell_type": "code",
   "execution_count": 12,
   "id": "67310d75-c02a-4a45-9302-31d93e128d92",
   "metadata": {},
   "outputs": [
    {
     "name": "stderr",
     "output_type": "stream",
     "text": [
      "INFO:root:drop_duplicates: shape changed: (167181, 5)->(22802, 5), width constant\n"
     ]
    }
   ],
   "source": [
    "df1=df01.log.drop_duplicates(subset=['Gene stable ID','Gene % GC content'])"
   ]
  },
  {
   "cell_type": "code",
   "execution_count": 13,
   "id": "0199901f-2ccf-4513-aca3-a101d9ddbb34",
   "metadata": {},
   "outputs": [
    {
     "data": {
      "text/html": [
       "<div>\n",
       "<style scoped>\n",
       "    .dataframe tbody tr th:only-of-type {\n",
       "        vertical-align: middle;\n",
       "    }\n",
       "\n",
       "    .dataframe tbody tr th {\n",
       "        vertical-align: top;\n",
       "    }\n",
       "\n",
       "    .dataframe thead th {\n",
       "        text-align: right;\n",
       "    }\n",
       "</style>\n",
       "<table border=\"1\" class=\"dataframe\">\n",
       "  <thead>\n",
       "    <tr style=\"text-align: right;\">\n",
       "      <th></th>\n",
       "      <th>Gene stable ID</th>\n",
       "      <th>HGNC symbol</th>\n",
       "      <th>Gene % GC content</th>\n",
       "      <th>Transcript count</th>\n",
       "      <th>Transcript length (including UTRs and CDS)</th>\n",
       "    </tr>\n",
       "  </thead>\n",
       "  <tbody>\n",
       "    <tr>\n",
       "      <th>0</th>\n",
       "      <td>ENSG00000198888</td>\n",
       "      <td>MT-ND1</td>\n",
       "      <td>47.7</td>\n",
       "      <td>1</td>\n",
       "      <td>956</td>\n",
       "    </tr>\n",
       "  </tbody>\n",
       "</table>\n",
       "</div>"
      ],
      "text/plain": [
       "    Gene stable ID HGNC symbol  Gene % GC content  Transcript count  \\\n",
       "0  ENSG00000198888      MT-ND1               47.7                 1   \n",
       "\n",
       "   Transcript length (including UTRs and CDS)  \n",
       "0                                         956  "
      ]
     },
     "execution_count": 13,
     "metadata": {},
     "output_type": "execute_result"
    }
   ],
   "source": [
    "df1.head(1)"
   ]
  },
  {
   "cell_type": "code",
   "execution_count": 14,
   "id": "e7d555fe-287b-40df-b6a4-ac82733c93a0",
   "metadata": {
    "tags": [
     "to_table"
    ]
   },
   "outputs": [
    {
     "data": {
      "text/plain": [
       "'data/biomart/01_dedup.tsv'"
      ]
     },
     "execution_count": 14,
     "metadata": {},
     "output_type": "execute_result"
    }
   ],
   "source": [
    "to_table(df1,'tests/output/data/biomart/01_dedup.tsv')"
   ]
  },
  {
   "cell_type": "markdown",
   "id": "45984a7b-2092-429e-a90b-ddd366b15116",
   "metadata": {
    "tags": []
   },
   "source": [
    "## Documentation\n",
    "[`roux.lib.io`](https://github.com/rraadd88/roux/wiki/roux.lib#rouxlibio-module)"
   ]
  },
  {
   "cell_type": "markdown",
   "id": "714e0cf3-6c1f-4104-a259-111084201bb8",
   "metadata": {},
   "source": [
    "## Example: fitting a Gaussian-Mixture Model"
   ]
  },
  {
   "cell_type": "code",
   "execution_count": 25,
   "id": "308d1ce2-5cb3-4ba0-a215-08736956fb4e",
   "metadata": {},
   "outputs": [
    {
     "name": "stderr",
     "output_type": "stream",
     "text": [
      "WARNING:root:dropped columns: Unnamed: 0\n",
      "INFO:root:shape = (22802, 5)\n"
     ]
    }
   ],
   "source": [
    "from roux.lib.io import read_table\n",
    "df1=read_table('tests/output/data/biomart/01_dedup.tsv')"
   ]
  },
  {
   "cell_type": "code",
   "execution_count": 31,
   "id": "6e34846c-9c9f-4464-8fb9-2e5ef74be678",
   "metadata": {},
   "outputs": [
    {
     "name": "stderr",
     "output_type": "stream",
     "text": [
      "INFO:root:intersections [46.95]\n",
      "WARNING:root:overwritting: plot/hist_gmm.png\n"
     ]
    },
    {
     "data": {
      "image/png": "[encoded data removed]",
      "text/plain": [
       "<Figure size 180x180 with 1 Axes>"
      ]
     },
     "metadata": {},
     "output_type": "display_data"
    }
   ],
   "source": [
    "from roux.stat.cluster import cluster_1d\n",
    "from roux.viz.io import to_plot\n",
    "d1=cluster_1d(\n",
    "    ds=df1['Gene % GC content'].copy(),\n",
    "    n_clusters=2,\n",
    "    clf_type='gmm',\n",
    "    random_state=88,\n",
    "    returns=['coff','mix_pdf','two_pdfs','weights'],\n",
    "    ax=None,\n",
    "    bins=60,\n",
    "    test=True,\n",
    ")\n",
    "ax=plt.gca()\n",
    "ax.set(xlabel='Gene % GC content',ylabel='density')\n",
    "to_plot('plot/hist_gmm.png')\n",
    "assert exists('tests/output/plot/hist_gmm.png')"
   ]
  },
  {
   "cell_type": "markdown",
   "id": "68e03ce2-27f2-4cc0-93f0-a455b2790eac",
   "metadata": {
    "tags": []
   },
   "source": [
    "## Documentation\n",
    "[`roux.stat.cluster`](https://github.com/rraadd88/roux/wiki/roux.stat#rouxstatcluster-module)"
   ]
  }
 ],
 "metadata": {
  "kernelspec": {
   "display_name": "base",
   "language": "python",
   "name": "base"
  },
  "language_info": {
   "codemirror_mode": {
    "name": "ipython",
    "version": 3
   },
   "file_extension": ".py",
   "mimetype": "text/x-python",
   "name": "python",
   "nbconvert_exporter": "python",
   "pygments_lexer": "ipython3",
   "version": "3.8.8"
  }
 },
 "nbformat": 4,
 "nbformat_minor": 5
}
