{
 "cells": [
  {
   "cell_type": "markdown",
   "id": "ec2c46be-0cab-43ef-a76a-8be7847259e4",
   "metadata": {
    "editable": true,
    "slideshow": {
     "slide_type": ""
    },
    "tags": []
   },
   "source": [
    "---\n",
    "\n",
    "<!-- <a href=\"https://github.com/rraadd88/roux/blob/master/examples/roux_viz_blends.ipynb\"><img align=\"right\" style=\"float:right;\" src=\"https://img.shields.io/badge/-source-cccccc?style=flat-square\"></a>\n",
    " -->\n",
    " \n",
    "## 📈 Blends of plots."
   ]
  },
  {
   "cell_type": "code",
   "execution_count": 1,
   "id": "b266c366-7fbd-4e6e-aeb0-67ff691d7f3f",
   "metadata": {},
   "outputs": [],
   "source": [
    "# | default_exp blends"
   ]
  },
  {
   "cell_type": "code",
   "execution_count": 2,
   "id": "aaf868be-89d4-4814-9302-9153286aface",
   "metadata": {},
   "outputs": [],
   "source": [
    "# | export\n",
    "\"\"\"Blends of plotting functions.\"\"\"\n",
    "\n",
    "import matplotlib.pyplot as plt\n",
    "import pandas as pd\n",
    "import roux.lib.df as rd #noqa\n",
    "\n",
    "def plot_ranks(\n",
    "    data: pd.DataFrame,\n",
    "    kws_plot: dict,\n",
    "    col: str,\n",
    "    colid: str,\n",
    "    col_label: str = None,\n",
    "    xlim_min: float = -20,\n",
    "    ax=None,\n",
    "):\n",
    "    if col_label is None:\n",
    "        col_label = colid\n",
    "    if ax is None:\n",
    "        ax = plt.gca()\n",
    "    from roux.viz.scatter import plot_ranks\n",
    "\n",
    "    ax, data1 = plot_ranks(\n",
    "        data,\n",
    "        col=col,\n",
    "        colid=colid,\n",
    "        ranks_on=\"x\",\n",
    "        ascending=False,\n",
    "        line=True,\n",
    "        show_topn=kws_plot[\"topn\"],\n",
    "        ax=ax,\n",
    "    )\n",
    "    from roux.viz.annot import annot_side_curved\n",
    "\n",
    "    ax = annot_side_curved(\n",
    "        data1.sort_values(\"rank\").head(kws_plot[\"topn\"]),\n",
    "        colx=\"rank\",\n",
    "        coly=col,\n",
    "        x=ax.get_xlim()[1],  # *0.3,\n",
    "        ylim=[\n",
    "            ax.get_ylim()[0]\n",
    "            + ((ax.get_ylim()[1] - ax.get_ylim()[0]) * kws_plot[\"ylim_fr\"][0]),\n",
    "            ax.get_ylim()[0]\n",
    "            + ((ax.get_ylim()[1] - ax.get_ylim()[0]) * kws_plot[\"ylim_fr\"][1]),\n",
    "        ],\n",
    "        col_label=col_label,\n",
    "        ax=ax,\n",
    "        ha=\"right\",\n",
    "        **kws_plot[\"annot_side_curved\"],\n",
    "    )\n",
    "    ax.set(\n",
    "        xlim=[\n",
    "            xlim_min,\n",
    "            ax.get_xlim()[1],\n",
    "        ]\n",
    "    )\n",
    "    ax.set(xticks=[1, ax.get_xticks()[ax.get_xticks() < ax.get_xlim()[1]].max()])\n",
    "    from roux.viz.ax_ import format_ax\n",
    "\n",
    "    format_ax()\n",
    "    return ax\n",
    "\n",
    "from roux.viz.figure import get_ax\n",
    "def plot_dists_by_bins(\n",
    "    data,\n",
    "    x,\n",
    "    y, # bin\n",
    "    bins,\n",
    "    show_corr=False, ## also taked kws\n",
    "    corr_offs=[0,0],\n",
    "    ax=None,\n",
    "    **kws_plot_dists,\n",
    "    ):\n",
    "    ## binning\n",
    "    data=(\n",
    "        data\n",
    "        .rd.get_bins(\n",
    "            col=y,\n",
    "            bins=bins,\n",
    "            dtype='float',\n",
    "        )\n",
    "        .sort_values(f\"{y} bin\",ascending=False)\n",
    "        .astype(\n",
    "            {f\"{y} bin\":str}\n",
    "        )\n",
    "    )\n",
    "    # if kws_plot_dists.get('order',None) is None:\n",
    "    #     kws_plot_dists['order']\n",
    "\n",
    "    from roux.viz.dist import plot_dists\n",
    "    ax=plot_dists(\n",
    "        data,\n",
    "        x=x,\n",
    "        y=f\"{y} bin\",\n",
    "        showfliers=False,\n",
    "        \n",
    "        ax=get_ax(ax),\n",
    "        **kws_plot_dists,\n",
    "    )\n",
    "    if show_corr!=False:\n",
    "        if show_corr==True:\n",
    "            kws_show_corr={}\n",
    "        assert isinstance(kws_show_corr,dict)\n",
    "        from roux.viz.annot import show_scatter_stats\n",
    "        show_scatter_stats(\n",
    "            ax=ax,\n",
    "            data=data,\n",
    "            x=x,\n",
    "            y=y,\n",
    "            **{\n",
    "                **dict(\n",
    "                    z=None,\n",
    "                    method='spearman',\n",
    "                    \n",
    "                    show_n=False,\n",
    "                    show_p=False,\n",
    "                    resample=True,\n",
    "                    \n",
    "                    kws_set_label=dict(\n",
    "                        x=-0.25+corr_offs[0],\n",
    "                        y=-0.125+corr_offs[1],\n",
    "                        ha='center',\n",
    "                        va='center',\n",
    "                        linespacing=0.75,\n",
    "                    ),\n",
    "                ),\n",
    "                **kws_show_corr,\n",
    "            },\n",
    "        )\n",
    "    ax.set(\n",
    "        ylabel=y,\n",
    "    )\n",
    "    return ax"
   ]
  },
  {
   "cell_type": "code",
   "execution_count": null,
   "id": "0cb411f0-b297-4f26-8279-00f246ef5504",
   "metadata": {
    "editable": true,
    "slideshow": {
     "slide_type": ""
    },
    "tags": []
   },
   "outputs": [],
   "source": []
  },
  {
   "cell_type": "code",
   "execution_count": 3,
   "id": "d9752c3a-64c1-4ec9-8635-b31149a8c803",
   "metadata": {},
   "outputs": [
    {
     "data": {
      "text/html": [
       "<div>\n",
       "<style scoped>\n",
       "    .dataframe tbody tr th:only-of-type {\n",
       "        vertical-align: middle;\n",
       "    }\n",
       "\n",
       "    .dataframe tbody tr th {\n",
       "        vertical-align: top;\n",
       "    }\n",
       "\n",
       "    .dataframe thead th {\n",
       "        text-align: right;\n",
       "    }\n",
       "</style>\n",
       "<table border=\"1\" class=\"dataframe\">\n",
       "  <thead>\n",
       "    <tr style=\"text-align: right;\">\n",
       "      <th></th>\n",
       "      <th>sepal_length</th>\n",
       "      <th>sepal_width</th>\n",
       "      <th>petal_length</th>\n",
       "      <th>petal_width</th>\n",
       "      <th>species</th>\n",
       "      <th>id</th>\n",
       "    </tr>\n",
       "  </thead>\n",
       "  <tbody>\n",
       "    <tr>\n",
       "      <th>0</th>\n",
       "      <td>5.1</td>\n",
       "      <td>3.5</td>\n",
       "      <td>1.4</td>\n",
       "      <td>0.2</td>\n",
       "      <td>setosa</td>\n",
       "      <td>0</td>\n",
       "    </tr>\n",
       "  </tbody>\n",
       "</table>\n",
       "</div>"
      ],
      "text/plain": [
       "   sepal_length  sepal_width  petal_length  petal_width species  id\n",
       "0           5.1          3.5           1.4          0.2  setosa   0"
      ]
     },
     "execution_count": 3,
     "metadata": {},
     "output_type": "execute_result"
    }
   ],
   "source": [
    "import seaborn as sns\n",
    "data=sns.load_dataset('iris')\n",
    "# df1=df1.loc[df1['species'].isin(['setosa','virginica']),:]\n",
    "data['id']=range(len(data))\n",
    "data.head(1)"
   ]
  },
  {
   "cell_type": "code",
   "execution_count": 4,
   "id": "1a495e91-b9f0-40cf-82c2-d509a71acb16",
   "metadata": {},
   "outputs": [
    {
     "data": {
      "text/plain": [
       "count    150.000000\n",
       "mean       3.758000\n",
       "std        1.765298\n",
       "min        1.000000\n",
       "25%        1.600000\n",
       "50%        4.350000\n",
       "75%        5.100000\n",
       "max        6.900000\n",
       "Name: petal_length, dtype: float64"
      ]
     },
     "execution_count": 4,
     "metadata": {},
     "output_type": "execute_result"
    }
   ],
   "source": [
    "data['petal_length'].describe()"
   ]
  },
  {
   "cell_type": "code",
   "execution_count": 5,
   "id": "187d440a-0729-4230-ad28-9494f4fca708",
   "metadata": {},
   "outputs": [
    {
     "name": "stderr",
     "output_type": "stream",
     "text": [
      "/home/rdandage/Documents/work/roux/roux/viz/ax_.py:337: UserWarning: set_ticklabels() should only be used with a fixed number of ticks, i.e. after set_ticks() or using a FixedLocator.\n",
      "  _ = getattr(ax, f\"set_{k}\")(\n"
     ]
    },
    {
     "data": {
      "text/plain": [
       "<Axes: xlabel='sepal_length', ylabel='petal_length'>"
      ]
     },
     "execution_count": 5,
     "metadata": {},
     "output_type": "execute_result"
    },
    {
     "data": {
      "image/png": "[encoded data removed]",
      "text/plain": [
       "<Figure size 640x480 with 1 Axes>"
      ]
     },
     "metadata": {},
     "output_type": "display_data"
    }
   ],
   "source": [
    "# from roux.viz.blends import plot_dists_by_bins\n",
    "plot_dists_by_bins(\n",
    "    data,\n",
    "    x='sepal_length',\n",
    "    y='petal_length',\n",
    "    colindex='id',\n",
    "    bins=[0,5,10],\n",
    "    show_corr=True, ## also takes kws\n",
    "    )"
   ]
  },
  {
   "cell_type": "code",
   "execution_count": 6,
   "id": "86e17ea5-fe1e-4269-8cd8-908d360c3cb8",
   "metadata": {},
   "outputs": [],
   "source": [
    "import nbdev\n",
    "nbdev.export.nb_export(\n",
    "    'roux_viz_blends.ipynb',\n",
    "    lib_path='../roux/viz/'\n",
    ")"
   ]
  },
  {
   "cell_type": "markdown",
   "id": "7ff84451-31c2-4285-a35a-b2d4d9af14ec",
   "metadata": {},
   "source": [
    "### Documentation\n",
    "[`roux.viz.blends`](https://github.com/rraadd88/roux#module-rouxvizline)"
   ]
  }
 ],
 "metadata": {
  "kernelspec": {
   "display_name": "roux",
   "language": "python",
   "name": "roux"
  },
  "language_info": {
   "codemirror_mode": {
    "name": "ipython",
    "version": 3
   },
   "file_extension": ".py",
   "mimetype": "text/x-python",
   "name": "python",
   "nbconvert_exporter": "python",
   "pygments_lexer": "ipython3",
   "version": "3.10.17"
  }
 },
 "nbformat": 4,
 "nbformat_minor": 5
}
