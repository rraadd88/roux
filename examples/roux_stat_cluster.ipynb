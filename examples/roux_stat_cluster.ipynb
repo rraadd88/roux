{
 "cells": [
  {
   "cell_type": "markdown",
   "id": "9c68a930-e347-4784-97d3-367008bc8656",
   "metadata": {},
   "source": [
    "---\n",
    "\n",
    "<!-- <a href=\"https://github.com/rraadd88/roux/blob/master/examples/roux_stat_cluster.ipynb\"><img align=\"right\" style=\"float:right;\" src=\"https://img.shields.io/badge/-source-cccccc?style=flat-square\"></a> -->\n",
    "\n",
    "## ✨ Clustering."
   ]
  },
  {
   "cell_type": "markdown",
   "id": "b5466753-c3c7-4a32-bec1-32f148d99171",
   "metadata": {},
   "source": [
    "## Requirements"
   ]
  },
  {
   "cell_type": "code",
   "execution_count": 1,
   "id": "83852242-61b0-4975-87b7-e70cf54a9cf6",
   "metadata": {},
   "outputs": [],
   "source": [
    "# install extra requirements\n",
    "# !pip install roux[stat]"
   ]
  },
  {
   "cell_type": "code",
   "execution_count": 2,
   "id": "afeda871-7c31-44d8-80e1-afc8a1d845fd",
   "metadata": {},
   "outputs": [],
   "source": [
    "## common imports\n",
    "import numpy as np\n",
    "import pandas as pd\n",
    "import matplotlib.pyplot as plt"
   ]
  },
  {
   "cell_type": "markdown",
   "id": "714e0cf3-6c1f-4104-a259-111084201bb8",
   "metadata": {},
   "source": [
    "## Gaussian-Mixture Model"
   ]
  },
  {
   "cell_type": "markdown",
   "id": "4f221819-3fee-4124-b266-c1be23b29815",
   "metadata": {},
   "source": [
    "### Demo data"
   ]
  },
  {
   "cell_type": "code",
   "execution_count": 3,
   "id": "2f42abff-1c56-48b7-aba2-dc0f825674d3",
   "metadata": {},
   "outputs": [],
   "source": [
    "def get_gmm_data(n = 1000,norm_params=[[5, 1],[9, 1.3]]):\n",
    "    \"\"\"Generate gaussian mixture data. Reference: https://stackoverflow.com/a/49110597/18032765\"\"\"\n",
    "    import scipy.stats as sc\n",
    "    # Set-up.\n",
    "    np.random.seed(0)\n",
    "    # Parameters of the mixture components\n",
    "    norm_params = np.array(norm_params)\n",
    "    n_components = norm_params.shape[0]\n",
    "    # Weight of each component, in this case all of them are 1/n_components\n",
    "    weights = np.ones(n_components, dtype=np.float64) / n_components\n",
    "    # A stream of indices from which to choose the component\n",
    "    mixture_idx = np.random.choice(len(weights), size=n, replace=True, p=weights)\n",
    "    # y is the mixture sample\n",
    "    y = np.fromiter((sc.norm.rvs(*(norm_params[i])) for i in mixture_idx),\n",
    "                       dtype=np.float64)\n",
    "    return pd.Series(y)\n",
    "data=get_gmm_data()"
   ]
  },
  {
   "cell_type": "markdown",
   "id": "9f36f2cf-529a-4f05-b4c7-adcb38eb1bc1",
   "metadata": {},
   "source": [
    "### 1D clustering"
   ]
  },
  {
   "cell_type": "code",
   "execution_count": 4,
   "id": "6e34846c-9c9f-4464-8fb9-2e5ef74be678",
   "metadata": {},
   "outputs": [
    {
     "data": {
      "application/json": {
       "ascii": false,
       "bar_format": null,
       "colour": null,
       "elapsed": 0.014732599258422852,
       "initial": 0,
       "n": 0,
       "ncols": null,
       "nrows": 51,
       "postfix": null,
       "prefix": "",
       "rate": null,
       "total": null,
       "unit": "it",
       "unit_divisor": 1000,
       "unit_scale": false
      },
      "application/vnd.jupyter.widget-view+json": {
       "model_id": "981b5893eeba4de0b66b6c037d154f18",
       "version_major": 2,
       "version_minor": 0
      },
      "text/plain": [
       "0it [00:00, ?it/s]"
      ]
     },
     "metadata": {},
     "output_type": "display_data"
    },
    {
     "name": "stderr",
     "output_type": "stream",
     "text": [
      "INFO:root:Python implementation: CPython\n",
      "Python version       : 3.9.12\n",
      "IPython version      : 8.2.0\n",
      "scipy     : 1.7.3\n",
      "pandas    : 1.4.2\n",
      "numpy     : 1.21.5\n",
      "json      : 2.0.9\n",
      "sys       : 3.9.12 (main, Apr  5 2022, 06:56:58) \n",
      "[GCC 7.5.0]\n",
      "seaborn   : 0.11.2\n",
      "matplotlib: 3.5.1\n",
      "re        : 2.2.1\n",
      "tqdm      : 4.64.0\n",
      "logging   : 0.5.1.2\n",
      "yaml      : 6.0\n",
      "\n"
     ]
    },
    {
     "name": "stdout",
     "output_type": "stream",
     "text": [
      "INFO: Pandarallel will run on 6 workers.\n",
      "INFO: Pandarallel will use Memory file system to transfer data between the main process and workers.\n"
     ]
    },
    {
     "data": {
      "image/png": "[encoded data removed]",
      "text/plain": [
       "<Figure size 180x180 with 1 Axes>"
      ]
     },
     "metadata": {},
     "output_type": "display_data"
    }
   ],
   "source": [
    "from roux.stat.cluster import cluster_1d\n",
    "d1=cluster_1d(\n",
    "    ds=data,\n",
    "    n_clusters=2,\n",
    "    clf_type='gmm',\n",
    "    random_state=0,\n",
    "    returns=['coff','mix_pdf','two_pdfs','weights'],\n",
    "    ax=None,\n",
    "    bins=60,\n",
    "    test=True,\n",
    ")\n",
    "ax=plt.gca()\n",
    "_=ax.set(xlabel='Gene % GC content',ylabel='density')"
   ]
  },
  {
   "cell_type": "code",
   "execution_count": 5,
   "id": "e7fac54e-dea1-43ba-b7b4-f998b02ce6c8",
   "metadata": {},
   "outputs": [],
   "source": [
    "# for testing\n",
    "assert d1['coff']==6.894832022233195, d1['coff']"
   ]
  },
  {
   "cell_type": "markdown",
   "id": "68e03ce2-27f2-4cc0-93f0-a455b2790eac",
   "metadata": {
    "tags": []
   },
   "source": [
    "## Documentation\n",
    "[`roux.stat.cluster`](https://github.com/rraadd88/roux#module-rouxstatcluster)"
   ]
  }
 ],
 "metadata": {
  "kernelspec": {
   "display_name": "base",
   "language": "python",
   "name": "base"
  },
  "language_info": {
   "codemirror_mode": {
    "name": "ipython",
    "version": 3
   },
   "file_extension": ".py",
   "mimetype": "text/x-python",
   "name": "python",
   "nbconvert_exporter": "python",
   "pygments_lexer": "ipython3",
   "version": "3.9.12"
  }
 },
 "nbformat": 4,
 "nbformat_minor": 5
}
