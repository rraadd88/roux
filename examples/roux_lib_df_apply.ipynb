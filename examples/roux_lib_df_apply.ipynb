{
 "cells": [
  {
   "cell_type": "markdown",
   "id": "7e9248c4-351f-4f36-a4ae-5bc5a7439af4",
   "metadata": {},
   "source": [
    "---\n",
    "\n",
    "<a href=\"https://github.com/rraadd88/roux/blob/master/examples/roux_lib_df_apply.ipynb\"><img align=\"right\" style=\"float:right;\" src=\"https://img.shields.io/badge/-source-cccccc?style=flat-square\"></a>\n",
    "\n",
    "## ⌗ Apply on dataframes."
   ]
  },
  {
   "cell_type": "code",
   "execution_count": 1,
   "id": "a0bf2146-8e18-400a-b425-41bc84db99ec",
   "metadata": {
    "tags": []
   },
   "outputs": [],
   "source": [
    "# to show logging messages\n",
    "import logging\n",
    "logging.getLogger().setLevel(logging.INFO)"
   ]
  },
  {
   "cell_type": "markdown",
   "id": "1eea9136-b74a-4696-bbf0-a6f7cbc31fe5",
   "metadata": {},
   "source": [
    "**Optional requirements**"
   ]
  },
  {
   "cell_type": "code",
   "execution_count": 2,
   "id": "5544058c-7ecd-4398-8978-cc1892179c28",
   "metadata": {},
   "outputs": [],
   "source": [
    "# None"
   ]
  },
  {
   "cell_type": "markdown",
   "id": "39f939aa-e4c8-4b15-bdff-0698602b0f3c",
   "metadata": {},
   "source": [
    "**Demo data**"
   ]
  },
  {
   "cell_type": "code",
   "execution_count": 3,
   "id": "a0571a76-131e-4c1d-9680-05f4ce5558ea",
   "metadata": {},
   "outputs": [
    {
     "data": {
      "text/html": [
       "<div>\n",
       "<style scoped>\n",
       "    .dataframe tbody tr th:only-of-type {\n",
       "        vertical-align: middle;\n",
       "    }\n",
       "\n",
       "    .dataframe tbody tr th {\n",
       "        vertical-align: top;\n",
       "    }\n",
       "\n",
       "    .dataframe thead th {\n",
       "        text-align: right;\n",
       "    }\n",
       "</style>\n",
       "<table border=\"1\" class=\"dataframe\">\n",
       "  <thead>\n",
       "    <tr style=\"text-align: right;\">\n",
       "      <th></th>\n",
       "      <th>a</th>\n",
       "      <th>b</th>\n",
       "    </tr>\n",
       "  </thead>\n",
       "  <tbody>\n",
       "    <tr>\n",
       "      <th>0</th>\n",
       "      <td>1</td>\n",
       "      <td>1</td>\n",
       "    </tr>\n",
       "    <tr>\n",
       "      <th>1</th>\n",
       "      <td>2</td>\n",
       "      <td>2</td>\n",
       "    </tr>\n",
       "    <tr>\n",
       "      <th>2</th>\n",
       "      <td>3</td>\n",
       "      <td>3</td>\n",
       "    </tr>\n",
       "  </tbody>\n",
       "</table>\n",
       "</div>"
      ],
      "text/plain": [
       "   a  b\n",
       "0  1  1\n",
       "1  2  2\n",
       "2  3  3"
      ]
     },
     "execution_count": 3,
     "metadata": {},
     "output_type": "execute_result"
    }
   ],
   "source": [
    "import pandas as pd\n",
    "data=pd.DataFrame(\n",
    "    dict(\n",
    "        a=[1,2,3],\n",
    "        b=[1,2,3],\n",
    "    )\n",
    ")\n",
    "data"
   ]
  },
  {
   "cell_type": "markdown",
   "id": "724df139-64e7-4089-b796-2faa9d8893d1",
   "metadata": {},
   "source": [
    "## Import `r`oux-`d`ataframe attributes"
   ]
  },
  {
   "cell_type": "code",
   "execution_count": 4,
   "id": "101b49f9-ff08-4f1b-8411-3d79d8996ba3",
   "metadata": {
    "tags": []
   },
   "outputs": [],
   "source": [
    "import roux.lib.df_apply as rd #noqa"
   ]
  },
  {
   "cell_type": "markdown",
   "id": "6d7ce6de-963e-4301-810d-a4099908060d",
   "metadata": {},
   "source": [
    "## Asynchronously for faster processing"
   ]
  },
  {
   "cell_type": "markdown",
   "id": "28f94483-9244-48cb-a0ab-b718d7e6a604",
   "metadata": {},
   "source": [
    "### No chunking"
   ]
  },
  {
   "cell_type": "code",
   "execution_count": 5,
   "id": "ad3ebbe1-4aba-4d71-bcd1-3344bc624459",
   "metadata": {},
   "outputs": [
    {
     "name": "stderr",
     "output_type": "stream",
     "text": [
      "INFO:root:using 2/2 cpus/threads ..\n"
     ]
    },
    {
     "data": {
      "text/plain": [
       "0    2\n",
       "1    4\n",
       "2    6\n",
       "dtype: int64"
      ]
     },
     "execution_count": 5,
     "metadata": {},
     "output_type": "execute_result"
    }
   ],
   "source": [
    "res=data.rd.apply(\n",
    "    lambda x: x['a']+x['b'],\n",
    "    cpus=2,\n",
    "    axis=1,\n",
    ")\n",
    "res"
   ]
  },
  {
   "cell_type": "code",
   "execution_count": 6,
   "id": "15c7b92e-61af-49ac-a87d-c4bfe5b0553d",
   "metadata": {},
   "outputs": [],
   "source": [
    "## test\n",
    "assert res.compare(\n",
    "    data.apply(\n",
    "        lambda x: x['a']+x['b'],\n",
    "        axis=1,\n",
    "    )\n",
    ").shape[0]==0, res"
   ]
  },
  {
   "cell_type": "markdown",
   "id": "f8f680b8-44f2-43d3-aae6-a898f8c2101c",
   "metadata": {},
   "source": [
    "#### `groupby`"
   ]
  },
  {
   "cell_type": "code",
   "execution_count": 7,
   "id": "99c8e37f-7304-411c-9834-46710a34a6d4",
   "metadata": {},
   "outputs": [
    {
     "name": "stderr",
     "output_type": "stream",
     "text": [
      "INFO:root:using 2/2 cpus/threads ..\n"
     ]
    },
    {
     "data": {
      "text/plain": [
       "a   \n",
       "3  a    3\n",
       "   b    3\n",
       "2  a    2\n",
       "   b    2\n",
       "1  a    1\n",
       "   b    1\n",
       "dtype: int64"
      ]
     },
     "execution_count": 7,
     "metadata": {},
     "output_type": "execute_result"
    }
   ],
   "source": [
    "data.rd.apply(\n",
    "    lambda df: df.sum(),\n",
    "    by='a',\n",
    "    cpus=2,\n",
    ")"
   ]
  },
  {
   "cell_type": "code",
   "execution_count": 8,
   "id": "9260da4a-7321-440d-9688-9265d6ac5a8b",
   "metadata": {},
   "outputs": [
    {
     "name": "stderr",
     "output_type": "stream",
     "text": [
      "INFO:root:using 2/2 cpus/threads ..\n"
     ]
    },
    {
     "data": {
      "text/html": [
       "<div>\n",
       "<style scoped>\n",
       "    .dataframe tbody tr th:only-of-type {\n",
       "        vertical-align: middle;\n",
       "    }\n",
       "\n",
       "    .dataframe tbody tr th {\n",
       "        vertical-align: top;\n",
       "    }\n",
       "\n",
       "    .dataframe thead th {\n",
       "        text-align: right;\n",
       "    }\n",
       "</style>\n",
       "<table border=\"1\" class=\"dataframe\">\n",
       "  <thead>\n",
       "    <tr style=\"text-align: right;\">\n",
       "      <th></th>\n",
       "      <th></th>\n",
       "      <th>a</th>\n",
       "      <th>b</th>\n",
       "    </tr>\n",
       "    <tr>\n",
       "      <th>a</th>\n",
       "      <th></th>\n",
       "      <th></th>\n",
       "      <th></th>\n",
       "    </tr>\n",
       "  </thead>\n",
       "  <tbody>\n",
       "    <tr>\n",
       "      <th>3</th>\n",
       "      <th>0</th>\n",
       "      <td>3</td>\n",
       "      <td>3</td>\n",
       "    </tr>\n",
       "    <tr>\n",
       "      <th>2</th>\n",
       "      <th>0</th>\n",
       "      <td>2</td>\n",
       "      <td>2</td>\n",
       "    </tr>\n",
       "    <tr>\n",
       "      <th>1</th>\n",
       "      <th>0</th>\n",
       "      <td>1</td>\n",
       "      <td>1</td>\n",
       "    </tr>\n",
       "  </tbody>\n",
       "</table>\n",
       "</div>"
      ],
      "text/plain": [
       "     a  b\n",
       "a        \n",
       "3 0  3  3\n",
       "2 0  2  2\n",
       "1 0  1  1"
      ]
     },
     "execution_count": 8,
     "metadata": {},
     "output_type": "execute_result"
    }
   ],
   "source": [
    "data.rd.apply(\n",
    "    lambda df: df.sum().to_frame().T,\n",
    "    by='a',\n",
    "    cpus=2,\n",
    ")"
   ]
  },
  {
   "cell_type": "markdown",
   "id": "dff162b3-bb6f-48be-be90-beead8dce751",
   "metadata": {},
   "source": [
    "### Chunking"
   ]
  },
  {
   "cell_type": "code",
   "execution_count": 9,
   "id": "476d1f36-da90-4435-a1d3-a28438b5f803",
   "metadata": {},
   "outputs": [
    {
     "data": {
      "text/plain": [
       "True"
      ]
     },
     "execution_count": 9,
     "metadata": {},
     "output_type": "execute_result"
    }
   ],
   "source": [
    "data.index.tolist()==list(range(len(data)))"
   ]
  },
  {
   "cell_type": "code",
   "execution_count": 10,
   "id": "a988485c-f468-43ff-b009-5ccf0f3550e3",
   "metadata": {},
   "outputs": [
    {
     "name": "stderr",
     "output_type": "stream",
     "text": [
      "INFO:root:using 2/2 cpus/threads ..\n",
      "INFO:root:chunking ..\n",
      "INFO:root:shape = (3, 4) nunique: chunk = 3 \n",
      "INFO:root:temp. dir path: /tmp/tmp00w7pbv8\n",
      "  0%|          | 0/3 [00:00<?, ?it/s]INFO:root:processsing /tmp/tmp00w7pbv8/00.pqt ..\n",
      "/workspaces/roux/.venv/lib/python3.12/site-packages/pandas/io/parquet.py:190: UserWarning: The DataFrame has column names of mixed type. They will be converted to strings and not roundtrip correctly.\n",
      "  table = self.api.Table.from_pandas(df, **from_pandas_kwargs)\n",
      "INFO:root:processsing /tmp/tmp00w7pbv8/01.pqt ..\n",
      "/workspaces/roux/.venv/lib/python3.12/site-packages/pandas/io/parquet.py:190: UserWarning: The DataFrame has column names of mixed type. They will be converted to strings and not roundtrip correctly.\n",
      "  table = self.api.Table.from_pandas(df, **from_pandas_kwargs)\n",
      "INFO:root:processsing /tmp/tmp00w7pbv8/02.pqt ..\n",
      "/workspaces/roux/.venv/lib/python3.12/site-packages/pandas/io/parquet.py:190: UserWarning: The DataFrame has column names of mixed type. They will be converted to strings and not roundtrip correctly.\n",
      "  table = self.api.Table.from_pandas(df, **from_pandas_kwargs)\n",
      "100%|██████████| 3/3 [00:00<00:00, 83.62it/s]\n",
      "INFO:root:collecting processed chunks ..\n",
      "INFO:root:0\n"
     ]
    },
    {
     "data": {
      "text/plain": [
       "0    2\n",
       "1    4\n",
       "2    6\n",
       "Name: 0, dtype: int64"
      ]
     },
     "execution_count": 10,
     "metadata": {},
     "output_type": "execute_result"
    }
   ],
   "source": [
    "# %run ../roux/lib/df_apply.py\n",
    "res=(\n",
    "    data\n",
    "    .reset_index(drop=True)\n",
    "    .rd.apply(\n",
    "        lambda x: x['a']+x['b'],\n",
    "        cpus=2,\n",
    "        verbose=True,\n",
    "        \n",
    "        kws_chunks=dict(\n",
    "            chunk_size=1,\n",
    "        ),\n",
    "    )\n",
    ")\n",
    "res"
   ]
  },
  {
   "cell_type": "code",
   "execution_count": 11,
   "id": "4cce18c7-6ec2-40cd-9259-61ffb9786234",
   "metadata": {},
   "outputs": [],
   "source": [
    "## test\n",
    "assert res.compare(\n",
    "    data.apply(\n",
    "        lambda x: x['a']+x['b'],\n",
    "        axis=1,\n",
    "    )\n",
    ").shape[0]==0, res"
   ]
  },
  {
   "cell_type": "markdown",
   "id": "7050d0ad-3ad5-4ae1-8045-d995711b4ae3",
   "metadata": {},
   "source": [
    "### Out. `df`"
   ]
  },
  {
   "cell_type": "code",
   "execution_count": 12,
   "id": "4ef8a239-c0d9-465a-a46f-2239dd85f4aa",
   "metadata": {},
   "outputs": [
    {
     "name": "stderr",
     "output_type": "stream",
     "text": [
      "INFO:root:using 2/2 cpus/threads ..\n",
      "INFO:root:chunking ..\n",
      "INFO:root:shape = (3, 4) nunique: chunk = 3 \n",
      "INFO:root:temp. dir path: /tmp/tmphzuaurm7\n",
      "  0%|          | 0/3 [00:00<?, ?it/s]INFO:root:processsing /tmp/tmphzuaurm7/00.pqt ..\n",
      "/workspaces/roux/.venv/lib/python3.12/site-packages/pandas/io/parquet.py:190: UserWarning: The DataFrame has column names of mixed type. They will be converted to strings and not roundtrip correctly.\n",
      "  table = self.api.Table.from_pandas(df, **from_pandas_kwargs)\n",
      "INFO:root:processsing /tmp/tmphzuaurm7/01.pqt ..\n",
      "/workspaces/roux/.venv/lib/python3.12/site-packages/pandas/io/parquet.py:190: UserWarning: The DataFrame has column names of mixed type. They will be converted to strings and not roundtrip correctly.\n",
      "  table = self.api.Table.from_pandas(df, **from_pandas_kwargs)\n",
      "INFO:root:processsing /tmp/tmphzuaurm7/02.pqt ..\n",
      "/workspaces/roux/.venv/lib/python3.12/site-packages/pandas/io/parquet.py:190: UserWarning: The DataFrame has column names of mixed type. They will be converted to strings and not roundtrip correctly.\n",
      "  table = self.api.Table.from_pandas(df, **from_pandas_kwargs)\n",
      "100%|██████████| 3/3 [00:00<00:00, 231.44it/s]\n",
      "INFO:root:collecting processed chunks ..\n",
      "INFO:root:0\n",
      "INFO:root:merge: shape changed: (3, 5)->(3, 6), length constant\n"
     ]
    },
    {
     "data": {
      "text/html": [
       "<div>\n",
       "<style scoped>\n",
       "    .dataframe tbody tr th:only-of-type {\n",
       "        vertical-align: middle;\n",
       "    }\n",
       "\n",
       "    .dataframe tbody tr th {\n",
       "        vertical-align: top;\n",
       "    }\n",
       "\n",
       "    .dataframe thead th {\n",
       "        text-align: right;\n",
       "    }\n",
       "</style>\n",
       "<table border=\"1\" class=\"dataframe\">\n",
       "  <thead>\n",
       "    <tr style=\"text-align: right;\">\n",
       "      <th></th>\n",
       "      <th>a</th>\n",
       "      <th>b</th>\n",
       "      <th>_chunk_path</th>\n",
       "      <th>0</th>\n",
       "    </tr>\n",
       "  </thead>\n",
       "  <tbody>\n",
       "    <tr>\n",
       "      <th>0</th>\n",
       "      <td>1</td>\n",
       "      <td>1</td>\n",
       "      <td>/tmp/tmphzuaurm7/00.pqt</td>\n",
       "      <td>2</td>\n",
       "    </tr>\n",
       "    <tr>\n",
       "      <th>1</th>\n",
       "      <td>2</td>\n",
       "      <td>2</td>\n",
       "      <td>/tmp/tmphzuaurm7/01.pqt</td>\n",
       "      <td>4</td>\n",
       "    </tr>\n",
       "    <tr>\n",
       "      <th>2</th>\n",
       "      <td>3</td>\n",
       "      <td>3</td>\n",
       "      <td>/tmp/tmphzuaurm7/02.pqt</td>\n",
       "      <td>6</td>\n",
       "    </tr>\n",
       "  </tbody>\n",
       "</table>\n",
       "</div>"
      ],
      "text/plain": [
       "   a  b              _chunk_path  0\n",
       "0  1  1  /tmp/tmphzuaurm7/00.pqt  2\n",
       "1  2  2  /tmp/tmphzuaurm7/01.pqt  4\n",
       "2  3  3  /tmp/tmphzuaurm7/02.pqt  6"
      ]
     },
     "execution_count": 12,
     "metadata": {},
     "output_type": "execute_result"
    }
   ],
   "source": [
    "# %run ../roux/lib/df_apply.py\n",
    "(\n",
    "    data\n",
    "    .reset_index(drop=True)\n",
    "    .rd.apply(\n",
    "        lambda x: x['a']+x['b'],\n",
    "        cpus=2,\n",
    "        verbose=True,\n",
    "        \n",
    "        kws_chunks=dict(\n",
    "            chunk_size=1,\n",
    "            out_df=True,\n",
    "        ),\n",
    "    )\n",
    ")"
   ]
  },
  {
   "cell_type": "markdown",
   "id": "d36c595a-ab8c-413e-b6d7-e6fc08ccd0f9",
   "metadata": {},
   "source": [
    "## Documentation\n",
    "[`roux.lib.df_apply`](https://github.com/rraadd88/roux#module-rouxlibdfapply)"
   ]
  }
 ],
 "metadata": {
  "kernelspec": {
   "display_name": "roux",
   "language": "python",
   "name": "python3"
  },
  "language_info": {
   "codemirror_mode": {
    "name": "ipython",
    "version": 3
   },
   "file_extension": ".py",
   "mimetype": "text/x-python",
   "name": "python",
   "nbconvert_exporter": "python",
   "pygments_lexer": "ipython3",
   "version": "3.12.11"
  }
 },
 "nbformat": 4,
 "nbformat_minor": 5
}
