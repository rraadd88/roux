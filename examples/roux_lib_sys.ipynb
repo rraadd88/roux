{
 "cells": [
  {
   "cell_type": "markdown",
   "id": "7e9248c4-351f-4f36-a4ae-5bc5a7439af4",
   "metadata": {},
   "source": [
    "---\n",
    "\n",
    "<!-- <a href=\"https://github.com/rraadd88/roux/blob/master/examples/roux_lib_sys.ipynb\"><img align=\"right\" style=\"float:right;\" src=\"https://img.shields.io/badge/-source-cccccc?style=flat-square\"></a> -->\n",
    "\n",
    "## 🗃 File paths Input/Output."
   ]
  },
  {
   "cell_type": "markdown",
   "id": "57443ad9-a909-4644-95d5-daa9880bff1d",
   "metadata": {},
   "source": [
    "## Resolving paths"
   ]
  },
  {
   "cell_type": "code",
   "execution_count": 1,
   "id": "6d0ee5fc-5e37-4ebe-a6e7-25e2fd82222a",
   "metadata": {},
   "outputs": [],
   "source": [
    "from roux.lib.sys import resolve_paths"
   ]
  },
  {
   "cell_type": "code",
   "execution_count": 2,
   "id": "cb033ff0-1e67-4959-8d9f-258d800ef1f8",
   "metadata": {},
   "outputs": [
    {
     "data": {
      "text/plain": [
       "{'../roux/viz/io.py': 'viz',\n",
       " '../roux/stat/io.py': 'stat',\n",
       " '../roux/workflow/io.py': 'workflow',\n",
       " '../roux/lib/io.py': 'lib'}"
      ]
     },
     "execution_count": 2,
     "metadata": {},
     "output_type": "execute_result"
    }
   ],
   "source": [
    "resolve_paths(\n",
    "    key_path='../roux/KEY/io.py', \n",
    "    keys='KEY', \n",
    "    )"
   ]
  },
  {
   "cell_type": "code",
   "execution_count": 4,
   "id": "ca0e5119-fd83-4dfc-b46d-6117218262b2",
   "metadata": {},
   "outputs": [
    {
     "data": {
      "text/plain": [
       "{'../roux/viz/io.py': ['roux', 'viz'],\n",
       " '../roux/stat/io.py': ['roux', 'stat'],\n",
       " '../roux/workflow/io.py': ['roux', 'workflow'],\n",
       " '../roux/lib/io.py': ['roux', 'lib']}"
      ]
     },
     "execution_count": 4,
     "metadata": {},
     "output_type": "execute_result"
    }
   ],
   "source": [
    "resolve_paths(\n",
    "    key_path='../KEY1/KEY2/io.py', \n",
    "    keys=['KEY1','KEY2'], \n",
    "    )"
   ]
  },
  {
   "cell_type": "markdown",
   "id": "6d7ce6de-963e-4301-810d-a4099908060d",
   "metadata": {
    "tags": []
   },
   "source": [
    "### Encoding and decoding data"
   ]
  },
  {
   "cell_type": "code",
   "execution_count": 1,
   "id": "3efad590-8ea2-4420-af51-fbbab2f05de2",
   "metadata": {},
   "outputs": [],
   "source": [
    "# example data\n",
    "parameters=dict(\n",
    "    colindex='drug id',\n",
    "    colsample='sample id',\n",
    "    coly='auc',\n",
    "    formulas={\n",
    "            f\"auc ~ C(sample_subset, Treatment(reference='ref')) + primary_or_metastasis\": 'mixedlm',\n",
    "        },\n",
    "    kws_get_stats_regression=dict(\n",
    "            groups='screen_id',\n",
    "        ),\n",
    "    colsubset='sample subset',\n",
    "    variable=\"C(sample_subset, Treatment(reference='ref'))[T.test]\",\n",
    ")"
   ]
  },
  {
   "cell_type": "code",
   "execution_count": 2,
   "id": "04cb34ea-d58c-4511-bb94-97fa8c7f3d73",
   "metadata": {
    "tags": []
   },
   "outputs": [],
   "source": [
    "## simulate modifications in dictionaries by subsetting for example\n",
    "from random import sample\n",
    "inputs=[]\n",
    "for n in range(2,len(parameters),1):\n",
    "    inputs.append({k:parameters[k] for k in list(parameters.keys())[:n]})"
   ]
  },
  {
   "cell_type": "code",
   "execution_count": 3,
   "id": "6a0ff13b-735e-4a90-81fc-a591237c6932",
   "metadata": {},
   "outputs": [
    {
     "data": {
      "text/plain": [
       "{'tests/output/1/output.tsv': 'tests/input/1/output.tsv',\n",
       " 'tests/output/2/output.tsv': 'tests/input/2/output.tsv',\n",
       " 'tests/output/032180568f7e29dd4a3042301f150f0988f968c2d093fa8a79a669ceee8359b6/output.tsv': {'colindex': 'drug id',\n",
       "  'colsample': 'sample id'},\n",
       " 'tests/output/eae9949969282a98c356fe9f0e6d6aa9025eccc46d914226e3b36280d340e4fb/output.tsv': {'colindex': 'drug id',\n",
       "  'colsample': 'sample id',\n",
       "  'coly': 'auc'},\n",
       " 'tests/output/f501f7c1674e142f9632f46cc921179f62f38a94c8cc59e0e5c15a2944689eb7/output.tsv': {'colindex': 'drug id',\n",
       "  'colsample': 'sample id',\n",
       "  'coly': 'auc',\n",
       "  'formulas': {\"auc ~ C(sample_subset, Treatment(reference='ref')) + primary_or_metastasis\": 'mixedlm'}},\n",
       " 'tests/output/28d279121c3b1e82d60de99397e4d0f90f4f096127d06fed0c1d0422034a8967/output.tsv': {'colindex': 'drug id',\n",
       "  'colsample': 'sample id',\n",
       "  'coly': 'auc',\n",
       "  'formulas': {\"auc ~ C(sample_subset, Treatment(reference='ref')) + primary_or_metastasis\": 'mixedlm'},\n",
       "  'kws_get_stats_regression': {'groups': 'screen_id'}},\n",
       " 'tests/output/3b765e060a1cc9b06ec9e3010a797a7f6c77479488e1bdde90565bfa912fa3ea/output.tsv': {'colindex': 'drug id',\n",
       "  'colsample': 'sample id',\n",
       "  'coly': 'auc',\n",
       "  'formulas': {\"auc ~ C(sample_subset, Treatment(reference='ref')) + primary_or_metastasis\": 'mixedlm'},\n",
       "  'kws_get_stats_regression': {'groups': 'screen_id'},\n",
       "  'colsubset': 'sample subset'}}"
      ]
     },
     "execution_count": 3,
     "metadata": {},
     "output_type": "execute_result"
    }
   ],
   "source": [
    "# import helper functions\n",
    "from roux.lib.sys import to_output_paths\n",
    "output_paths=to_output_paths(\n",
    "    input_paths=['tests/input/1/output.tsv','tests/input/2/output.tsv'],\n",
    "    replaces_output_path={'input':'output'},\n",
    "    inputs=inputs,\n",
    "    output_path_base='tests/output/{KEY}/output.tsv',\n",
    "    )\n",
    "output_paths"
   ]
  },
  {
   "cell_type": "code",
   "execution_count": 4,
   "id": "0e6667bc-0883-4c87-93df-d6720f1b65b8",
   "metadata": {
    "tags": [
     "to_output_paths"
    ]
   },
   "outputs": [],
   "source": [
    "## for testing\n",
    "assert len(output_paths)==7, len(output_paths)"
   ]
  },
  {
   "cell_type": "markdown",
   "id": "d36c595a-ab8c-413e-b6d7-e6fc08ccd0f9",
   "metadata": {},
   "source": [
    "#### Documentation\n",
    "[`roux.lib.sys`](https://github.com/rraadd88/roux#module-rouxlibsys)"
   ]
  }
 ],
 "metadata": {
  "kernelspec": {
   "display_name": "parcan",
   "language": "python",
   "name": "parcan"
  },
  "language_info": {
   "codemirror_mode": {
    "name": "ipython",
    "version": 3
   },
   "file_extension": ".py",
   "mimetype": "text/x-python",
   "name": "python",
   "nbconvert_exporter": "python",
   "pygments_lexer": "ipython3",
   "version": "3.10.14"
  }
 },
 "nbformat": 4,
 "nbformat_minor": 5
}
