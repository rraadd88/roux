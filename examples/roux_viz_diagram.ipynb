{
 "cells": [
  {
   "cell_type": "markdown",
   "id": "ec2c46be-0cab-43ef-a76a-8be7847259e4",
   "metadata": {},
   "source": [
    "---\n",
    "\n",
    "<!-- <a href=\"https://github.com/rraadd88/roux/blob/master/examples/roux_viz_diagram.ipynb\"><img align=\"right\" style=\"float:right;\" src=\"https://img.shields.io/badge/-source-cccccc?style=flat-square\"></a>\n",
    " -->\n",
    " \n",
    "## 📈 Diagrams."
   ]
  },
  {
   "cell_type": "markdown",
   "id": "71258fcf-fc91-468a-bfae-c98f0b31be4d",
   "metadata": {},
   "source": [
    "### Workflow (mermaid) with stats"
   ]
  },
  {
   "cell_type": "markdown",
   "id": "9053e202-ff08-47ac-9d89-9dadd0481a15",
   "metadata": {
    "tags": []
   },
   "source": [
    "**Demo data**"
   ]
  },
  {
   "cell_type": "code",
   "execution_count": 1,
   "id": "067ef455-d268-430f-9f21-2ea621a0b947",
   "metadata": {},
   "outputs": [
    {
     "data": {
      "text/plain": [
       "{'step1': {'key': 'gene', 'value': 9},\n",
       " 'step2': {'gene': 23},\n",
       " 'step3': [{'gene': 94}],\n",
       " 'step4': {'gene': 11, 'cell': 34},\n",
       " 'step5': [{'gene': 54, 'cell': 67}],\n",
       " 'step6': [{'key': 'gene', 'value': 46}, {'key': 'cell', 'value': 49}],\n",
       " 'step7': [{'key': 'gene', 'value': 28}, {'key': 'cell', 'value': 12}],\n",
       " 'step_substep': {'item': 193},\n",
       " 'substep7': {'item': 183}}"
      ]
     },
     "execution_count": 1,
     "metadata": {},
     "output_type": "execute_result"
    }
   ],
   "source": [
    "import numpy as np\n",
    "import pandas as pd\n",
    "n=7\n",
    "data=pd.concat(\n",
    "    [pd.DataFrame({\n",
    "        'step':[f\"step{i}\" for i in range(1,n+1)],\n",
    "        'key':np.repeat(['gene'],n),\n",
    "        'value':np.random.randint(0,100,n),\n",
    "    }),\n",
    "    pd.DataFrame({\n",
    "        'step':[f\"step{i}\" for i in range(1,n+1)],\n",
    "        'key':np.repeat(['cell'],n),\n",
    "        'value':np.random.randint(0,100,n),\n",
    "    })],\n",
    "    axis=0,\n",
    ")\n",
    "counts=data.groupby('step').apply(lambda df: df.loc[:,['key','value']].to_dict(orient='records')).to_dict()\n",
    "counts['step1']=counts['step1'][0]\n",
    "counts['step2']={counts['step2'][0]['key']:counts['step2'][0]['value']}\n",
    "counts['step3']=[{counts['step3'][0]['key']:counts['step3'][0]['value']}]\n",
    "counts['step4']={\n",
    "    counts['step4'][0]['key']:counts['step4'][0]['value'],\n",
    "    counts['step4'][1]['key']:counts['step4'][1]['value'],\n",
    "}\n",
    "counts['step5']=[{\n",
    "    counts['step5'][0]['key']:counts['step5'][0]['value'],\n",
    "    counts['step5'][1]['key']:counts['step5'][1]['value'],\n",
    "}]\n",
    "counts['step_substep']={'item':193}\n",
    "counts['substep7']={'item':183}\n",
    "counts"
   ]
  },
  {
   "cell_type": "markdown",
   "id": "bbd61ab5-4e06-4c83-a8d7-9eced7f54165",
   "metadata": {},
   "source": [
    "#### Plot"
   ]
  },
  {
   "cell_type": "code",
   "execution_count": 2,
   "id": "84e47d99-75c6-4ca6-91fa-4c6d31a7663a",
   "metadata": {
    "tags": []
   },
   "outputs": [
    {
     "data": {
      "text/plain": [
       "'graph TD;step1[\"Step1\"] --> step2[\"Step2\"] --> step3[\"Step3\"] --> step4[\"Step4\"] --> step5[\"Step5\"] --> step6[\"Step6\"] --> step7[\"Step7\"] --> step_substep[\"Step_substep\"] --> substep7[\"Substep7\"]'"
      ]
     },
     "execution_count": 2,
     "metadata": {},
     "output_type": "execute_result"
    }
   ],
   "source": [
    "diagram=(\n",
    "    \"graph TD;\"+(' --> '.join([f'{k}[\"{k.capitalize()}\"]' for k in counts]))\n",
    ")\n",
    "diagram"
   ]
  },
  {
   "cell_type": "code",
   "execution_count": 3,
   "id": "d20a50cd-ad98-4a96-98b1-e21046e325a9",
   "metadata": {},
   "outputs": [
    {
     "data": {
      "text/html": [
       "<img src=\"https://mermaid.ink/img/Z3JhcGggVEQ7c3RlcDFbIlN0ZXAxCig5IGdlbmVzKSJdIC0tPiBzdGVwMlsiU3RlcDIKKDIzIGdlbmVzKSJdIC0tPiBzdGVwM1siU3RlcDMKKDk0IGdlbmVzKSJdIC0tPiBzdGVwNFsiU3RlcDQKKDExIGdlbmVzLAozNCBjZWxscykiXSAtLT4gc3RlcDVbIlN0ZXA1Cig1NCBnZW5lcywKNjcgY2VsbHMpIl0gLS0+IHN0ZXA2WyJTdGVwNgooNDYgZ2VuZXMsCjQ5IGNlbGxzKSJdIC0tPiBzdGVwN1siU3RlcDcKKDI4IGdlbmVzLAoxMiBjZWxscykiXSAtLT4gc3RlcF9zdWJzdGVwWyJTdGVwX3N1YnN0ZXAKKDE5MyBpdGVtcykiXSAtLT4gc3Vic3RlcDdbIlN1YnN0ZXA3CigxODMgaXRlbXMpIl0=\"/>"
      ],
      "text/plain": [
       "<IPython.core.display.Image object>"
      ]
     },
     "metadata": {},
     "output_type": "display_data"
    }
   ],
   "source": [
    "from roux.viz.diagram import diagram_nb\n",
    "diagram_nb(\n",
    "    diagram,\n",
    "    counts=counts,\n",
    ")"
   ]
  },
  {
   "cell_type": "code",
   "execution_count": 4,
   "id": "afd4c5eb-c637-49cc-bb03-33b67cccf1ea",
   "metadata": {
    "collapsed": true,
    "jupyter": {
     "outputs_hidden": true
    }
   },
   "outputs": [
    {
     "data": {
      "text/html": [
       "<img src=\"https://mermaid.ink/img/Z3JhcGggVEQ7c3RlcDFbIlN0ZXAxCig5IGdlbmVzKSJdIC0tPiBzdGVwMlsiU3RlcDIKKDIzIGdlbmVzKSJdIC0tPiBzdGVwM1siU3RlcDMKKDk0IGdlbmVzKSJdIC0tPiBzdGVwNFsiU3RlcDQKKDExIGdlbmVzLAozNCBjZWxscykiXSAtLT4gc3RlcDVbIlN0ZXA1Cig1NCBnZW5lcywKNjcgY2VsbHMpIl0gLS0+IHN0ZXA2WyJTdGVwNgooNDYgZ2VuZXMsCjQ5IGNlbGxzKSJdIC0tPiBzdGVwN1siU3RlcDcKKDI4IGdlbmVzLAoxMiBjZWxscykiXSAtLT4gc3RlcF9zdWJzdGVwWyJTdGVwX3N1YnN0ZXAKKDE5MyBpdGVtcykiXSAtLT4gc3Vic3RlcDdbIlN1YnN0ZXA3CigxODMgaXRlbXMpIl0=\"/>"
      ],
      "text/plain": [
       "<IPython.core.display.Image object>"
      ]
     },
     "metadata": {},
     "output_type": "display_data"
    },
    {
     "data": {
      "text/plain": [
       "'outputs/roux_viz_diagram/out.mmd'"
      ]
     },
     "execution_count": 4,
     "metadata": {},
     "output_type": "execute_result"
    }
   ],
   "source": [
    "from roux.viz.diagram import diagram_nb\n",
    "diagram_nb(\n",
    "    diagram,\n",
    "    counts=counts,\n",
    "    out='outputs/roux_viz_diagram/out.mmd'\n",
    ")"
   ]
  },
  {
   "cell_type": "markdown",
   "id": "7ff84451-31c2-4285-a35a-b2d4d9af14ec",
   "metadata": {},
   "source": [
    "### Documentation\n",
    "[`roux.viz.diagram`](https://github.com/rraadd88/roux#module-rouxvizdiagram)"
   ]
  }
 ],
 "metadata": {
  "kernelspec": {
   "display_name": "Python 3 (ipykernel)",
   "language": "python",
   "name": "python3"
  },
  "language_info": {
   "codemirror_mode": {
    "name": "ipython",
    "version": 3
   },
   "file_extension": ".py",
   "mimetype": "text/x-python",
   "name": "python",
   "nbconvert_exporter": "python",
   "pygments_lexer": "ipython3",
   "version": "3.12.4"
  }
 },
 "nbformat": 4,
 "nbformat_minor": 5
}
