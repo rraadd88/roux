{
 "cells": [
  {
   "cell_type": "markdown",
   "id": "ec2c46be-0cab-43ef-a76a-8be7847259e4",
   "metadata": {},
   "source": [
    "---\n",
    "\n",
    "<!-- <a href=\"https://github.com/rraadd88/roux/blob/master/examples/roux_viz_diagram.ipynb\"><img align=\"right\" style=\"float:right;\" src=\"https://img.shields.io/badge/-source-cccccc?style=flat-square\"></a>\n",
    " -->\n",
    " \n",
    "## 📈 Diagrams."
   ]
  },
  {
   "cell_type": "markdown",
   "id": "71258fcf-fc91-468a-bfae-c98f0b31be4d",
   "metadata": {},
   "source": [
    "### Workflow (mermaid) with stats"
   ]
  },
  {
   "cell_type": "markdown",
   "id": "9053e202-ff08-47ac-9d89-9dadd0481a15",
   "metadata": {
    "tags": []
   },
   "source": [
    "**Demo data**"
   ]
  },
  {
   "cell_type": "code",
   "execution_count": 1,
   "id": "067ef455-d268-430f-9f21-2ea621a0b947",
   "metadata": {},
   "outputs": [
    {
     "data": {
      "text/plain": [
       "{'step1': [{'key': 'gene', 'value': 71}, {'key': 'cell', 'value': 68}],\n",
       " 'step2': [{'key': 'gene', 'value': 66}, {'key': 'cell', 'value': 67}],\n",
       " 'step3': [{'key': 'gene', 'value': 71}, {'key': 'cell', 'value': 67}],\n",
       " 'step4': [{'key': 'gene', 'value': 63}, {'key': 'cell', 'value': 6}],\n",
       " 'step5': [{'key': 'gene', 'value': 66}, {'key': 'cell', 'value': 34}],\n",
       " 'step6': [{'key': 'gene', 'value': 86}, {'key': 'cell', 'value': 12}],\n",
       " 'step7': [{'key': 'gene', 'value': 75}, {'key': 'cell', 'value': 47}]}"
      ]
     },
     "execution_count": 1,
     "metadata": {},
     "output_type": "execute_result"
    }
   ],
   "source": [
    "import numpy as np\n",
    "import pandas as pd\n",
    "n=7\n",
    "data=pd.concat(\n",
    "    [pd.DataFrame({\n",
    "        'step':[f\"step{i}\" for i in range(1,n+1)],\n",
    "        'key':np.repeat(['gene'],n),\n",
    "        'value':np.random.randint(0,100,n),\n",
    "    }),\n",
    "    pd.DataFrame({\n",
    "        'step':[f\"step{i}\" for i in range(1,n+1)],\n",
    "        'key':np.repeat(['cell'],n),\n",
    "        'value':np.random.randint(0,100,n),\n",
    "    })],\n",
    "    axis=0,\n",
    ")\n",
    "counts=data.groupby('step').apply(lambda df: df.loc[:,['key','value']].to_dict(orient='records')).to_dict()\n",
    "counts"
   ]
  },
  {
   "cell_type": "markdown",
   "id": "bbd61ab5-4e06-4c83-a8d7-9eced7f54165",
   "metadata": {},
   "source": [
    "#### Plot"
   ]
  },
  {
   "cell_type": "code",
   "execution_count": 2,
   "id": "84e47d99-75c6-4ca6-91fa-4c6d31a7663a",
   "metadata": {
    "tags": []
   },
   "outputs": [
    {
     "data": {
      "text/plain": [
       "'graph TD;step1[\"Step1\"] --> step2[\"Step2\"] --> step3[\"Step3\"] --> step4[\"Step4\"] --> step5[\"Step5\"] --> step6[\"Step6\"] --> step7[\"Step7\"]'"
      ]
     },
     "execution_count": 2,
     "metadata": {},
     "output_type": "execute_result"
    }
   ],
   "source": [
    "diagram=\"graph TD;\"+(' --> '.join([f'{k}[\"{k.capitalize()}\"]' for k in counts]))\n",
    "diagram"
   ]
  },
  {
   "cell_type": "code",
   "execution_count": 3,
   "id": "d20a50cd-ad98-4a96-98b1-e21046e325a9",
   "metadata": {},
   "outputs": [
    {
     "data": {
      "text/html": [
       "<img src=\"https://mermaid.ink/img/Z3JhcGggVEQ7c3RlcDFbIlN0ZXAxCig3MSBnZW5lcywKNjggY2VsbHMpIl0gLS0+IHN0ZXAyWyJTdGVwMgooNjYgZ2VuZXMsCjY3IGNlbGxzKSJdIC0tPiBzdGVwM1siU3RlcDMKKDcxIGdlbmVzLAo2NyBjZWxscykiXSAtLT4gc3RlcDRbIlN0ZXA0Cig2MyBnZW5lcywKNiBjZWxscykiXSAtLT4gc3RlcDVbIlN0ZXA1Cig2NiBnZW5lcywKMzQgY2VsbHMpIl0gLS0+IHN0ZXA2WyJTdGVwNgooODYgZ2VuZXMsCjEyIGNlbGxzKSJdIC0tPiBzdGVwN1siU3RlcDcKKDc1IGdlbmVzLAo0NyBjZWxscykiXQ==\"/>"
      ],
      "text/plain": [
       "<IPython.core.display.Image object>"
      ]
     },
     "metadata": {},
     "output_type": "display_data"
    }
   ],
   "source": [
    "from roux.viz.diagram import diagram_nb\n",
    "diagram_nb(\n",
    "    diagram,\n",
    "    counts=counts,\n",
    ")"
   ]
  },
  {
   "cell_type": "markdown",
   "id": "7ff84451-31c2-4285-a35a-b2d4d9af14ec",
   "metadata": {},
   "source": [
    "### Documentation\n",
    "[`roux.viz.diagram`](https://github.com/rraadd88/roux#module-rouxvizdiagram)"
   ]
  }
 ],
 "metadata": {
  "kernelspec": {
   "display_name": "yeast",
   "language": "python",
   "name": "yeast"
  },
  "language_info": {
   "codemirror_mode": {
    "name": "ipython",
    "version": 3
   },
   "file_extension": ".py",
   "mimetype": "text/x-python",
   "name": "python",
   "nbconvert_exporter": "python",
   "pygments_lexer": "ipython3",
   "version": "3.7.13"
  }
 },
 "nbformat": 4,
 "nbformat_minor": 5
}
